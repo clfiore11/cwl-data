{
 "cells": [
  {
   "cell_type": "code",
   "execution_count": 1,
   "metadata": {},
   "outputs": [
    {
     "data": {
      "text/html": [
       "\n",
       "                <script type=\"application/javascript\" id=\"jupyter_black\">\n",
       "                (function() {\n",
       "                    if (window.IPython === undefined) {\n",
       "                        return\n",
       "                    }\n",
       "                    var msg = \"WARNING: it looks like you might have loaded \" +\n",
       "                        \"jupyter_black in a non-lab notebook with \" +\n",
       "                        \"`is_lab=True`. Please double check, and if \" +\n",
       "                        \"loading with `%load_ext` please review the README!\"\n",
       "                    console.log(msg)\n",
       "                    alert(msg)\n",
       "                })()\n",
       "                </script>\n",
       "                "
      ],
      "text/plain": [
       "<IPython.core.display.HTML object>"
      ]
     },
     "metadata": {},
     "output_type": "display_data"
    }
   ],
   "source": [
    "# Initialize notbook formatter\n",
    "%load_ext jupyter_black"
   ]
  },
  {
   "cell_type": "code",
   "execution_count": 2,
   "metadata": {},
   "outputs": [],
   "source": [
    "import pandas as pd\n",
    "import numpy as np\n",
    "import seaborn as sns\n",
    "import plotly.express as px\n",
    "import sweetviz as sv\n",
    "import os\n",
    "import warnings\n",
    "import csv\n",
    "import re\n",
    "\n",
    "pd.set_option(\"display.max_rows\", 100)\n",
    "pd.set_option(\"display.max_columns\", 100)\n",
    "pd.set_option(\"display.float_format\", \"{:.2f}\".format)"
   ]
  },
  {
   "cell_type": "code",
   "execution_count": 5,
   "metadata": {},
   "outputs": [],
   "source": [
    "# Define the path for the data source\n",
    "os.chdir(r\"/Users/christopherfiore/Documents/GitHub/cwl-data/data\")\n",
    "# os.chdir(r\"/Users/sylvesterikpa/Desktop/CWL-DATA/cwl-data/data\")\n",
    "\n",
    "# Files and directories\n",
    "files = os.listdir(os.curdir)"
   ]
  },
  {
   "cell_type": "markdown",
   "metadata": {},
   "source": [
    "### Step 1: Import and Clean Data"
   ]
  },
  {
   "cell_type": "code",
   "execution_count": 7,
   "metadata": {},
   "outputs": [],
   "source": [
    "def load_csv(filename):\n",
    "    \"\"\"Helper to load the tournament data from csv.\"\"\"\n",
    "    rows = []\n",
    "    with open(filename) as f:\n",
    "        reader = csv.DictReader(f)\n",
    "        rows.extend(iter(reader))\n",
    "    return rows"
   ]
  },
  {
   "cell_type": "code",
   "execution_count": 40,
   "metadata": {},
   "outputs": [],
   "source": [
    "data_files = [item for item in files if item.startswith(\"data\")]\n",
    "\n",
    "# Initialize two empty list\n",
    "cwl_2018 = []\n",
    "cwl_2019 = []\n",
    "\n",
    "for data in sorted(data_files)[1:]:\n",
    "    # If file is 2018 add the cwl 2018\n",
    "    if re.search(\"2018\", data) or re.search(\"2017\", data):\n",
    "        df = pd.DataFrame(load_csv(data))\n",
    "        df[\"tournament\"] = data.split(\"-\")[-1].replace(\".csv\", \"\")\n",
    "        cwl_2018.append(df)\n",
    "    # If file is 2019 add the cwl 2019\n",
    "    if re.search(\"2019\", data):\n",
    "        df = pd.DataFrame(load_csv(data))\n",
    "        df[\"tournament\"] = data.split(\"-\")[-1].replace(\".csv\", \"\")\n",
    "        cwl_2019.append(df)\n",
    "\n",
    "# Creating the stacked df\n",
    "cwl_2018_season = pd.concat(cwl_2018)\n",
    "cwl_2019_season = pd.concat(cwl_2019)\n",
    "\n",
    "# add year label\n",
    "cwl_2018_season[\"year\"] = 2018\n",
    "cwl_2019_season[\"year\"] = 2019\n",
    "\n",
    "# Cleaning up the System\n",
    "del cwl_2018, cwl_2019"
   ]
  },
  {
   "cell_type": "code",
   "execution_count": 41,
   "metadata": {},
   "outputs": [],
   "source": [
    "hp = [\n",
    "    \"year\",\n",
    "    \"tournament\",\n",
    "    \"match id\",\n",
    "    \"series id\",\n",
    "    \"end time\",\n",
    "    \"duration (s)\",\n",
    "    \"mode\",\n",
    "    \"map\",\n",
    "    \"team\",\n",
    "    \"player\",\n",
    "    \"win?\",\n",
    "    \"score\",\n",
    "    \"kills\",\n",
    "    \"deaths\",\n",
    "    \"+/-\",\n",
    "    \"k/d\",\n",
    "    \"kills per 10min\",\n",
    "    \"deaths per 10min\",\n",
    "    \"assists\",\n",
    "    \"headshots\",\n",
    "    \"suicides\",\n",
    "    \"team kills\",\n",
    "    \"team deaths\",\n",
    "    \"kills (stayed alive)\",\n",
    "    \"hits\",\n",
    "    \"shots\",\n",
    "    \"accuracy (%)\",\n",
    "    \"num lives\",\n",
    "    \"time alive (s)\",\n",
    "    \"avg time per life (s)\",\n",
    "    \"hill time (s)\",\n",
    "    \"hill captures\",\n",
    "    \"hill defends\",\n",
    "    \"2-piece\",\n",
    "    \"3-piece\",\n",
    "    \"4-piece\",\n",
    "    \"4-streak\",\n",
    "    \"5-streak\",\n",
    "    \"6-streak\",\n",
    "    \"7-streak\",\n",
    "    \"8+-streak\",\n",
    "]"
   ]
  },
  {
   "cell_type": "code",
   "execution_count": 42,
   "metadata": {},
   "outputs": [],
   "source": [
    "snd = [\n",
    "    \"year\",\n",
    "    \"tournament\",\n",
    "    \"match id\",\n",
    "    \"series id\",\n",
    "    \"end time\",\n",
    "    \"duration (s)\",\n",
    "    \"mode\",\n",
    "    \"map\",\n",
    "    \"team\",\n",
    "    \"player\",\n",
    "    \"win?\",\n",
    "    \"score\",\n",
    "    \"kills\",\n",
    "    \"deaths\",\n",
    "    \"+/-\",\n",
    "    \"k/d\",\n",
    "    \"kills per 10min\",\n",
    "    \"deaths per 10min\",\n",
    "    \"assists\",\n",
    "    \"headshots\",\n",
    "    \"suicides\",\n",
    "    \"team kills\",\n",
    "    \"team deaths\",\n",
    "    \"kills (stayed alive)\",\n",
    "    \"hits\",\n",
    "    \"shots\",\n",
    "    \"accuracy (%)\",\n",
    "    \"num lives\",\n",
    "    \"time alive (s)\",\n",
    "    \"avg time per life (s)\",\n",
    "    \"snd rounds\",\n",
    "    \"snd firstbloods\",\n",
    "    \"snd firstdeaths\",\n",
    "    \"snd survives\",\n",
    "    \"bomb pickups\",\n",
    "    \"bomb plants\",\n",
    "    \"bomb defuses\",\n",
    "    \"bomb sneak defuses\",\n",
    "    \"snd 1-kill round\",\n",
    "    \"snd 2-kill round\",\n",
    "    \"snd 3-kill round\",\n",
    "    \"snd 4-kill round\",\n",
    "    \"2-piece\",\n",
    "    \"3-piece\",\n",
    "    \"4-piece\",\n",
    "    \"4-streak\",\n",
    "    \"5-streak\",\n",
    "    \"6-streak\",\n",
    "    \"7-streak\",\n",
    "    \"8+-streak\",\n",
    "]"
   ]
  },
  {
   "cell_type": "code",
   "execution_count": 45,
   "metadata": {},
   "outputs": [],
   "source": [
    "# CWL 2018 HP Data & CWL 2018 SND Data\n",
    "cwl_2018_hp = cwl_2018_season[cwl_2018_season[\"mode\"] == \"Hardpoint\"][hp]\n",
    "cwl_2018_snd = cwl_2018_season[cwl_2018_season[\"mode\"] == \"Search & Destroy\"][snd]\n",
    "\n",
    "# CWL 2018 HP Data & CWL 2018 SND Data\n",
    "cwl_2019_hp = cwl_2019_season[cwl_2019_season[\"mode\"] == \"Hardpoint\"][hp]\n",
    "cwl_2019_snd = cwl_2019_season[cwl_2019_season[\"mode\"] == \"Search & Destroy\"][snd]"
   ]
  },
  {
   "cell_type": "code",
   "execution_count": 46,
   "metadata": {},
   "outputs": [],
   "source": [
    "cwl_2018_2019_hp = pd.concat([cwl_2018_hp, cwl_2019_hp])\n",
    "cwl_2018_2019_snd = pd.concat([cwl_2018_snd])"
   ]
  },
  {
   "cell_type": "code",
   "execution_count": 47,
   "metadata": {},
   "outputs": [
    {
     "name": "stderr",
     "output_type": "stream",
     "text": [
      "/var/folders/zm/xn8kj8792x12gxb9yzjclh0m0000gp/T/ipykernel_15459/3340896175.py:4: FutureWarning: In a future version, `df.iloc[:, i] = newvals` will attempt to set the values inplace instead of always setting a new array. To retain the old behavior, use either `df[df.columns[i]] = newvals` or, if columns are non-unique, `df.isetitem(i, newvals)`\n",
      "  cwl_2018_2019_hp.iloc[:, range(10, 40)] = cwl_2018_2019_hp.iloc[:, range(10, 40)].apply(\n"
     ]
    }
   ],
   "source": [
    "cwl_2018_2019_hp[\"accuracy (%)\"] = cwl_2018_2019_hp[\"accuracy (%)\"].str.replace(\"%\", \"\")\n",
    "cwl_2018_2019_hp[\"duration (s)\"] = cwl_2018_2019_hp[\"duration (s)\"].astype(float)\n",
    "\n",
    "cwl_2018_2019_hp.iloc[:, range(10, 40)] = cwl_2018_2019_hp.iloc[:, range(10, 40)].apply(\n",
    "    pd.to_numeric, errors=\"coerce\"\n",
    ")"
   ]
  },
  {
   "cell_type": "code",
   "execution_count": 48,
   "metadata": {},
   "outputs": [
    {
     "name": "stderr",
     "output_type": "stream",
     "text": [
      "/var/folders/zm/xn8kj8792x12gxb9yzjclh0m0000gp/T/ipykernel_15459/828109954.py:6: FutureWarning: In a future version, `df.iloc[:, i] = newvals` will attempt to set the values inplace instead of always setting a new array. To retain the old behavior, use either `df[df.columns[i]] = newvals` or, if columns are non-unique, `df.isetitem(i, newvals)`\n",
      "  cwl_2018_2019_snd.iloc[:, range(10, 40)] = cwl_2018_2019_snd.iloc[\n"
     ]
    }
   ],
   "source": [
    "cwl_2018_2019_snd[\"accuracy (%)\"] = cwl_2018_2019_snd[\"accuracy (%)\"].str.replace(\n",
    "    \"%\", \"\"\n",
    ")\n",
    "cwl_2018_2019_snd[\"duration (s)\"] = cwl_2018_2019_snd[\"duration (s)\"].astype(float)\n",
    "\n",
    "cwl_2018_2019_snd.iloc[:, range(10, 40)] = cwl_2018_2019_snd.iloc[\n",
    "    :, range(10, 40)\n",
    "].apply(pd.to_numeric, errors=\"coerce\")"
   ]
  },
  {
   "cell_type": "code",
   "execution_count": 62,
   "metadata": {},
   "outputs": [],
   "source": [
    "# write out clean data\n",
    "\n",
    "cwl_2018_2019_snd.to_csv(\"cwl_2018_2019_snd.csv\")\n",
    "cwl_2018_2019_hp.to_csv(\"cwl_2018_2019_hp.csv\")"
   ]
  },
  {
   "cell_type": "code",
   "execution_count": null,
   "metadata": {},
   "outputs": [],
   "source": []
  }
 ],
 "metadata": {
  "kernelspec": {
   "display_name": "Python 3.10.5 ('venv': venv)",
   "language": "python",
   "name": "python3"
  },
  "language_info": {
   "codemirror_mode": {
    "name": "ipython",
    "version": 3
   },
   "file_extension": ".py",
   "mimetype": "text/x-python",
   "name": "python",
   "nbconvert_exporter": "python",
   "pygments_lexer": "ipython3",
   "version": "3.10.6"
  },
  "orig_nbformat": 4,
  "vscode": {
   "interpreter": {
    "hash": "c12387aa24f90bf310101447ab877ac7d3e718ae140b21fc3fd1490fc39dd8ae"
   }
  }
 },
 "nbformat": 4,
 "nbformat_minor": 2
}
