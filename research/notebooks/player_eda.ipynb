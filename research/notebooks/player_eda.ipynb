{
 "cells": [
  {
   "cell_type": "code",
   "execution_count": 1,
   "metadata": {},
   "outputs": [],
   "source": [
    "import pandas as pd\n",
    "import numpy as np\n",
    "import seaborn as sns\n",
    "import plotly.express as px\n",
    "import sweetviz as sv\n",
    "import os\n",
    "import warnings\n",
    "warnings.filterwarnings('ignore')"
   ]
  },
  {
   "cell_type": "code",
   "execution_count": 2,
   "metadata": {},
   "outputs": [],
   "source": [
    "pd.set_option(\"display.max_rows\", 100)\n",
    "pd.set_option(\"display.max_columns\", 100)\n",
    "pd.set_option('display.float_format', '{:.2f}'.format)"
   ]
  },
  {
   "cell_type": "code",
   "execution_count": 3,
   "metadata": {},
   "outputs": [],
   "source": [
    "import csv\n",
    "def load_csv(filename):\n",
    "    \"\"\"Helper to load the tournament data from csv.\"\"\"\n",
    "    rows = []\n",
    "    with open(filename) as f:\n",
    "        reader = csv.DictReader(f)\n",
    "        rows.extend(iter(reader))\n",
    "    return rows"
   ]
  },
  {
   "cell_type": "code",
   "execution_count": 4,
   "metadata": {},
   "outputs": [],
   "source": [
    "# load data from championship games\n",
    "fp_2017 = '/Users/christopherfiore/Documents/GitHub/cwl-data/data/data-2017-08-13-champs.csv'\n",
    "fp_2018 = '/Users/christopherfiore/Documents/GitHub/cwl-data/data/data-2018-08-19-champs.csv'\n",
    "fp_2019 = '/Users/christopherfiore/Documents/GitHub/cwl-data/data/data-2019-08-18-champs.csv'\n",
    "\n",
    "champs_2017 = pd.DataFrame(load_csv(fp_2017))\n",
    "champs_2018 = pd.DataFrame(load_csv(fp_2018))\n",
    "champs_2019 = pd.DataFrame(load_csv(fp_2019))\n",
    "\n",
    "#add year label\n",
    "champs_2017['year'] = 2017\n",
    "champs_2018['year'] = 2018\n",
    "champs_2019['year'] = 2019\n"
   ]
  },
  {
   "cell_type": "code",
   "execution_count": 5,
   "metadata": {},
   "outputs": [],
   "source": [
    "# get list of metrics that appear year-over-year\n",
    "common_metrics = list(set(champs_2017.columns) & set(champs_2018.columns) & set(champs_2019.columns))\n",
    "\n",
    "#concat yearly dfs\n",
    "champs_df = pd.concat([champs_2017[common_metrics], champs_2018[common_metrics], champs_2019[common_metrics]])"
   ]
  },
  {
   "cell_type": "code",
   "execution_count": 6,
   "metadata": {},
   "outputs": [
    {
     "data": {
      "text/html": [
       "<div>\n",
       "<style scoped>\n",
       "    .dataframe tbody tr th:only-of-type {\n",
       "        vertical-align: middle;\n",
       "    }\n",
       "\n",
       "    .dataframe tbody tr th {\n",
       "        vertical-align: top;\n",
       "    }\n",
       "\n",
       "    .dataframe thead th {\n",
       "        text-align: right;\n",
       "    }\n",
       "</style>\n",
       "<table border=\"1\" class=\"dataframe\">\n",
       "  <thead>\n",
       "    <tr style=\"text-align: right;\">\n",
       "      <th></th>\n",
       "      <th>year</th>\n",
       "      <th>player</th>\n",
       "      <th>match_count</th>\n",
       "    </tr>\n",
       "  </thead>\n",
       "  <tbody>\n",
       "    <tr>\n",
       "      <th>0</th>\n",
       "      <td>2017</td>\n",
       "      <td>Aqua</td>\n",
       "      <td>35</td>\n",
       "    </tr>\n",
       "    <tr>\n",
       "      <th>1</th>\n",
       "      <td>2017</td>\n",
       "      <td>Crimsix</td>\n",
       "      <td>35</td>\n",
       "    </tr>\n",
       "    <tr>\n",
       "      <th>2</th>\n",
       "      <td>2017</td>\n",
       "      <td>Faccento</td>\n",
       "      <td>35</td>\n",
       "    </tr>\n",
       "    <tr>\n",
       "      <th>3</th>\n",
       "      <td>2017</td>\n",
       "      <td>Felony</td>\n",
       "      <td>35</td>\n",
       "    </tr>\n",
       "    <tr>\n",
       "      <th>4</th>\n",
       "      <td>2017</td>\n",
       "      <td>Formal</td>\n",
       "      <td>35</td>\n",
       "    </tr>\n",
       "    <tr>\n",
       "      <th>...</th>\n",
       "      <td>...</td>\n",
       "      <td>...</td>\n",
       "      <td>...</td>\n",
       "    </tr>\n",
       "    <tr>\n",
       "      <th>413</th>\n",
       "      <td>2019</td>\n",
       "      <td>Reaper</td>\n",
       "      <td>9</td>\n",
       "    </tr>\n",
       "    <tr>\n",
       "      <th>414</th>\n",
       "      <td>2019</td>\n",
       "      <td>Seany</td>\n",
       "      <td>9</td>\n",
       "    </tr>\n",
       "    <tr>\n",
       "      <th>415</th>\n",
       "      <td>2019</td>\n",
       "      <td>Willett</td>\n",
       "      <td>9</td>\n",
       "    </tr>\n",
       "    <tr>\n",
       "      <th>416</th>\n",
       "      <td>2019</td>\n",
       "      <td>BBCONor</td>\n",
       "      <td>3</td>\n",
       "    </tr>\n",
       "    <tr>\n",
       "      <th>417</th>\n",
       "      <td>2019</td>\n",
       "      <td>Gunshiii</td>\n",
       "      <td>2</td>\n",
       "    </tr>\n",
       "  </tbody>\n",
       "</table>\n",
       "<p>418 rows × 3 columns</p>\n",
       "</div>"
      ],
      "text/plain": [
       "     year    player  match_count\n",
       "0    2017      Aqua           35\n",
       "1    2017   Crimsix           35\n",
       "2    2017  Faccento           35\n",
       "3    2017    Felony           35\n",
       "4    2017    Formal           35\n",
       "..    ...       ...          ...\n",
       "413  2019    Reaper            9\n",
       "414  2019     Seany            9\n",
       "415  2019   Willett            9\n",
       "416  2019   BBCONor            3\n",
       "417  2019  Gunshiii            2\n",
       "\n",
       "[418 rows x 3 columns]"
      ]
     },
     "execution_count": 6,
     "metadata": {},
     "output_type": "execute_result"
    }
   ],
   "source": [
    "# yearly match count by player \n",
    "champs_df.groupby(['year', 'player'])['match id'].nunique().to_frame('match_count').sort_values(by=['year', 'match_count'], ascending=[True, False]).reset_index()"
   ]
  },
  {
   "cell_type": "code",
   "execution_count": 7,
   "metadata": {},
   "outputs": [
    {
     "data": {
      "text/html": [
       "<div>\n",
       "<style scoped>\n",
       "    .dataframe tbody tr th:only-of-type {\n",
       "        vertical-align: middle;\n",
       "    }\n",
       "\n",
       "    .dataframe tbody tr th {\n",
       "        vertical-align: top;\n",
       "    }\n",
       "\n",
       "    .dataframe thead th {\n",
       "        text-align: right;\n",
       "    }\n",
       "</style>\n",
       "<table border=\"1\" class=\"dataframe\">\n",
       "  <thead>\n",
       "    <tr style=\"text-align: right;\">\n",
       "      <th></th>\n",
       "      <th>win?</th>\n",
       "      <th>3-piece</th>\n",
       "      <th>duration (s)</th>\n",
       "      <th>team</th>\n",
       "      <th>fave scorestreaks</th>\n",
       "      <th>+/-</th>\n",
       "      <th>bomb plants</th>\n",
       "      <th>mode</th>\n",
       "      <th>hill time (s)</th>\n",
       "      <th>accuracy (%)</th>\n",
       "      <th>hill defends</th>\n",
       "      <th>snd rounds</th>\n",
       "      <th>k/d</th>\n",
       "      <th>map</th>\n",
       "      <th>snd firstbloods</th>\n",
       "      <th>5-streak</th>\n",
       "      <th>4-piece</th>\n",
       "      <th>suicides</th>\n",
       "      <th>shots</th>\n",
       "      <th>bomb sneak defuses</th>\n",
       "      <th>deaths per 10min</th>\n",
       "      <th>4-streak</th>\n",
       "      <th>headshots</th>\n",
       "      <th>6-streak</th>\n",
       "      <th>deaths</th>\n",
       "      <th>series id</th>\n",
       "      <th>bomb pickups</th>\n",
       "      <th>7-streak</th>\n",
       "      <th>kills per 10min</th>\n",
       "      <th>year</th>\n",
       "      <th>hill captures</th>\n",
       "      <th>kills</th>\n",
       "      <th>team kills</th>\n",
       "      <th>bomb defuses</th>\n",
       "      <th>2-piece</th>\n",
       "      <th>hits</th>\n",
       "      <th>match id</th>\n",
       "      <th>player</th>\n",
       "      <th>assists</th>\n",
       "      <th>fave weapon</th>\n",
       "      <th>8+-streak</th>\n",
       "      <th>end time</th>\n",
       "      <th>score</th>\n",
       "    </tr>\n",
       "  </thead>\n",
       "  <tbody>\n",
       "    <tr>\n",
       "      <th>0</th>\n",
       "      <td>L</td>\n",
       "      <td>0</td>\n",
       "      <td>480.0</td>\n",
       "      <td>Echo Fox</td>\n",
       "      <td>Scarab, Trinity Rocket, Bombardment</td>\n",
       "      <td>-7</td>\n",
       "      <td>0</td>\n",
       "      <td>Hardpoint</td>\n",
       "      <td>8</td>\n",
       "      <td>17.5%</td>\n",
       "      <td>0</td>\n",
       "      <td>0</td>\n",
       "      <td>0.63</td>\n",
       "      <td>Retaliation</td>\n",
       "      <td>0</td>\n",
       "      <td>0</td>\n",
       "      <td>0</td>\n",
       "      <td>0</td>\n",
       "      <td>422</td>\n",
       "      <td>0</td>\n",
       "      <td>23.8</td>\n",
       "      <td>0</td>\n",
       "      <td>1</td>\n",
       "      <td>0</td>\n",
       "      <td>19</td>\n",
       "      <td>champs-pool-A-3</td>\n",
       "      <td>0</td>\n",
       "      <td>0</td>\n",
       "      <td>15.0</td>\n",
       "      <td>2017</td>\n",
       "      <td>2</td>\n",
       "      <td>12</td>\n",
       "      <td>0</td>\n",
       "      <td>0</td>\n",
       "      <td>2</td>\n",
       "      <td>74</td>\n",
       "      <td>3A6D1AC2-1118-11D3-A6EB-0CFE456F15BE</td>\n",
       "      <td>Methodz</td>\n",
       "      <td>5</td>\n",
       "      <td>NV4</td>\n",
       "      <td>0</td>\n",
       "      <td>2017-08-09 14:11:50 UTC</td>\n",
       "      <td>106</td>\n",
       "    </tr>\n",
       "    <tr>\n",
       "      <th>1</th>\n",
       "      <td>L</td>\n",
       "      <td>0</td>\n",
       "      <td>480.0</td>\n",
       "      <td>Echo Fox</td>\n",
       "      <td>Scarab, Trinity Rocket, Bombardment</td>\n",
       "      <td>-1</td>\n",
       "      <td>0</td>\n",
       "      <td>Hardpoint</td>\n",
       "      <td>34</td>\n",
       "      <td>21.2%</td>\n",
       "      <td>0</td>\n",
       "      <td>0</td>\n",
       "      <td>0.95</td>\n",
       "      <td>Retaliation</td>\n",
       "      <td>0</td>\n",
       "      <td>0</td>\n",
       "      <td>0</td>\n",
       "      <td>0</td>\n",
       "      <td>458</td>\n",
       "      <td>0</td>\n",
       "      <td>25.0</td>\n",
       "      <td>1</td>\n",
       "      <td>0</td>\n",
       "      <td>0</td>\n",
       "      <td>20</td>\n",
       "      <td>champs-pool-A-3</td>\n",
       "      <td>0</td>\n",
       "      <td>0</td>\n",
       "      <td>23.8</td>\n",
       "      <td>2017</td>\n",
       "      <td>2</td>\n",
       "      <td>19</td>\n",
       "      <td>0</td>\n",
       "      <td>0</td>\n",
       "      <td>2</td>\n",
       "      <td>97</td>\n",
       "      <td>3A6D1AC2-1118-11D3-A6EB-0CFE456F15BE</td>\n",
       "      <td>mosh</td>\n",
       "      <td>5</td>\n",
       "      <td>NV4</td>\n",
       "      <td>0</td>\n",
       "      <td>2017-08-09 14:11:50 UTC</td>\n",
       "      <td>106</td>\n",
       "    </tr>\n",
       "    <tr>\n",
       "      <th>2</th>\n",
       "      <td>L</td>\n",
       "      <td>0</td>\n",
       "      <td>480.0</td>\n",
       "      <td>Echo Fox</td>\n",
       "      <td>Scarab, Trinity Rocket, Bombardment</td>\n",
       "      <td>-11</td>\n",
       "      <td>0</td>\n",
       "      <td>Hardpoint</td>\n",
       "      <td>43</td>\n",
       "      <td>14.0%</td>\n",
       "      <td>3</td>\n",
       "      <td>0</td>\n",
       "      <td>0.52</td>\n",
       "      <td>Retaliation</td>\n",
       "      <td>0</td>\n",
       "      <td>0</td>\n",
       "      <td>0</td>\n",
       "      <td>0</td>\n",
       "      <td>508</td>\n",
       "      <td>0</td>\n",
       "      <td>28.8</td>\n",
       "      <td>0</td>\n",
       "      <td>2</td>\n",
       "      <td>0</td>\n",
       "      <td>23</td>\n",
       "      <td>champs-pool-A-3</td>\n",
       "      <td>0</td>\n",
       "      <td>0</td>\n",
       "      <td>15.0</td>\n",
       "      <td>2017</td>\n",
       "      <td>6</td>\n",
       "      <td>12</td>\n",
       "      <td>0</td>\n",
       "      <td>0</td>\n",
       "      <td>0</td>\n",
       "      <td>71</td>\n",
       "      <td>3A6D1AC2-1118-11D3-A6EB-0CFE456F15BE</td>\n",
       "      <td>MRuiz</td>\n",
       "      <td>6</td>\n",
       "      <td>KBAR-32</td>\n",
       "      <td>0</td>\n",
       "      <td>2017-08-09 14:11:50 UTC</td>\n",
       "      <td>106</td>\n",
       "    </tr>\n",
       "    <tr>\n",
       "      <th>3</th>\n",
       "      <td>L</td>\n",
       "      <td>0</td>\n",
       "      <td>480.0</td>\n",
       "      <td>Echo Fox</td>\n",
       "      <td>Scarab, Trinity Rocket, Bombardment</td>\n",
       "      <td>-2</td>\n",
       "      <td>0</td>\n",
       "      <td>Hardpoint</td>\n",
       "      <td>35</td>\n",
       "      <td>18.7%</td>\n",
       "      <td>4</td>\n",
       "      <td>0</td>\n",
       "      <td>0.88</td>\n",
       "      <td>Retaliation</td>\n",
       "      <td>0</td>\n",
       "      <td>0</td>\n",
       "      <td>0</td>\n",
       "      <td>0</td>\n",
       "      <td>406</td>\n",
       "      <td>0</td>\n",
       "      <td>21.2</td>\n",
       "      <td>0</td>\n",
       "      <td>2</td>\n",
       "      <td>0</td>\n",
       "      <td>17</td>\n",
       "      <td>champs-pool-A-3</td>\n",
       "      <td>0</td>\n",
       "      <td>0</td>\n",
       "      <td>18.8</td>\n",
       "      <td>2017</td>\n",
       "      <td>6</td>\n",
       "      <td>15</td>\n",
       "      <td>0</td>\n",
       "      <td>0</td>\n",
       "      <td>1</td>\n",
       "      <td>76</td>\n",
       "      <td>3A6D1AC2-1118-11D3-A6EB-0CFE456F15BE</td>\n",
       "      <td>Replays</td>\n",
       "      <td>6</td>\n",
       "      <td>KBAR-32</td>\n",
       "      <td>0</td>\n",
       "      <td>2017-08-09 14:11:50 UTC</td>\n",
       "      <td>106</td>\n",
       "    </tr>\n",
       "    <tr>\n",
       "      <th>4</th>\n",
       "      <td>W</td>\n",
       "      <td>0</td>\n",
       "      <td>480.0</td>\n",
       "      <td>Epsilon</td>\n",
       "      <td>Scarab, Trinity Rocket, Bombardment</td>\n",
       "      <td>+3</td>\n",
       "      <td>0</td>\n",
       "      <td>Hardpoint</td>\n",
       "      <td>33</td>\n",
       "      <td>17.0%</td>\n",
       "      <td>2</td>\n",
       "      <td>0</td>\n",
       "      <td>1.20</td>\n",
       "      <td>Retaliation</td>\n",
       "      <td>0</td>\n",
       "      <td>0</td>\n",
       "      <td>0</td>\n",
       "      <td>1</td>\n",
       "      <td>476</td>\n",
       "      <td>0</td>\n",
       "      <td>18.8</td>\n",
       "      <td>1</td>\n",
       "      <td>0</td>\n",
       "      <td>0</td>\n",
       "      <td>15</td>\n",
       "      <td>champs-pool-A-3</td>\n",
       "      <td>0</td>\n",
       "      <td>0</td>\n",
       "      <td>22.5</td>\n",
       "      <td>2017</td>\n",
       "      <td>1</td>\n",
       "      <td>18</td>\n",
       "      <td>1</td>\n",
       "      <td>0</td>\n",
       "      <td>1</td>\n",
       "      <td>81</td>\n",
       "      <td>3A6D1AC2-1118-11D3-A6EB-0CFE456F15BE</td>\n",
       "      <td>Dqvee</td>\n",
       "      <td>9</td>\n",
       "      <td>NV4</td>\n",
       "      <td>0</td>\n",
       "      <td>2017-08-09 14:11:50 UTC</td>\n",
       "      <td>250</td>\n",
       "    </tr>\n",
       "  </tbody>\n",
       "</table>\n",
       "</div>"
      ],
      "text/plain": [
       "  win? 3-piece duration (s)      team                    fave scorestreaks  \\\n",
       "0    L       0        480.0  Echo Fox  Scarab, Trinity Rocket, Bombardment   \n",
       "1    L       0        480.0  Echo Fox  Scarab, Trinity Rocket, Bombardment   \n",
       "2    L       0        480.0  Echo Fox  Scarab, Trinity Rocket, Bombardment   \n",
       "3    L       0        480.0  Echo Fox  Scarab, Trinity Rocket, Bombardment   \n",
       "4    W       0        480.0   Epsilon  Scarab, Trinity Rocket, Bombardment   \n",
       "\n",
       "   +/- bomb plants       mode hill time (s) accuracy (%) hill defends  \\\n",
       "0   -7           0  Hardpoint             8        17.5%            0   \n",
       "1   -1           0  Hardpoint            34        21.2%            0   \n",
       "2  -11           0  Hardpoint            43        14.0%            3   \n",
       "3   -2           0  Hardpoint            35        18.7%            4   \n",
       "4   +3           0  Hardpoint            33        17.0%            2   \n",
       "\n",
       "  snd rounds   k/d          map snd firstbloods 5-streak 4-piece suicides  \\\n",
       "0          0  0.63  Retaliation               0        0       0        0   \n",
       "1          0  0.95  Retaliation               0        0       0        0   \n",
       "2          0  0.52  Retaliation               0        0       0        0   \n",
       "3          0  0.88  Retaliation               0        0       0        0   \n",
       "4          0  1.20  Retaliation               0        0       0        1   \n",
       "\n",
       "  shots bomb sneak defuses deaths per 10min 4-streak headshots 6-streak  \\\n",
       "0   422                  0             23.8        0         1        0   \n",
       "1   458                  0             25.0        1         0        0   \n",
       "2   508                  0             28.8        0         2        0   \n",
       "3   406                  0             21.2        0         2        0   \n",
       "4   476                  0             18.8        1         0        0   \n",
       "\n",
       "  deaths        series id bomb pickups 7-streak kills per 10min  year  \\\n",
       "0     19  champs-pool-A-3            0        0            15.0  2017   \n",
       "1     20  champs-pool-A-3            0        0            23.8  2017   \n",
       "2     23  champs-pool-A-3            0        0            15.0  2017   \n",
       "3     17  champs-pool-A-3            0        0            18.8  2017   \n",
       "4     15  champs-pool-A-3            0        0            22.5  2017   \n",
       "\n",
       "  hill captures kills team kills bomb defuses 2-piece hits  \\\n",
       "0             2    12          0            0       2   74   \n",
       "1             2    19          0            0       2   97   \n",
       "2             6    12          0            0       0   71   \n",
       "3             6    15          0            0       1   76   \n",
       "4             1    18          1            0       1   81   \n",
       "\n",
       "                               match id   player assists fave weapon  \\\n",
       "0  3A6D1AC2-1118-11D3-A6EB-0CFE456F15BE  Methodz       5         NV4   \n",
       "1  3A6D1AC2-1118-11D3-A6EB-0CFE456F15BE     mosh       5         NV4   \n",
       "2  3A6D1AC2-1118-11D3-A6EB-0CFE456F15BE    MRuiz       6     KBAR-32   \n",
       "3  3A6D1AC2-1118-11D3-A6EB-0CFE456F15BE  Replays       6     KBAR-32   \n",
       "4  3A6D1AC2-1118-11D3-A6EB-0CFE456F15BE    Dqvee       9         NV4   \n",
       "\n",
       "  8+-streak                 end time score  \n",
       "0         0  2017-08-09 14:11:50 UTC   106  \n",
       "1         0  2017-08-09 14:11:50 UTC   106  \n",
       "2         0  2017-08-09 14:11:50 UTC   106  \n",
       "3         0  2017-08-09 14:11:50 UTC   106  \n",
       "4         0  2017-08-09 14:11:50 UTC   250  "
      ]
     },
     "execution_count": 7,
     "metadata": {},
     "output_type": "execute_result"
    }
   ],
   "source": [
    "#score distributions by player\n",
    "hardpoint_df = champs_df.loc[champs_df['mode'] == 'Hardpoint']\n",
    "hardpoint_df.head()"
   ]
  },
  {
   "cell_type": "code",
   "execution_count": 8,
   "metadata": {},
   "outputs": [],
   "source": [
    "#convert to float\n",
    "hardpoint_df['hill time (s)'] = hardpoint_df['hill time (s)'].astype(float)\n",
    "hardpoint_df['hill defends'] = hardpoint_df['hill defends'].astype(float)\n",
    "hardpoint_df['k/d'] = hardpoint_df['k/d'].astype(float)"
   ]
  },
  {
   "cell_type": "code",
   "execution_count": 9,
   "metadata": {},
   "outputs": [
    {
     "data": {
      "text/html": [
       "<div>\n",
       "<style scoped>\n",
       "    .dataframe tbody tr th:only-of-type {\n",
       "        vertical-align: middle;\n",
       "    }\n",
       "\n",
       "    .dataframe tbody tr th {\n",
       "        vertical-align: top;\n",
       "    }\n",
       "\n",
       "    .dataframe thead th {\n",
       "        text-align: right;\n",
       "    }\n",
       "</style>\n",
       "<table border=\"1\" class=\"dataframe\">\n",
       "  <thead>\n",
       "    <tr style=\"text-align: right;\">\n",
       "      <th></th>\n",
       "      <th>hill time (s)</th>\n",
       "      <th>hill defends</th>\n",
       "      <th>k/d</th>\n",
       "      <th>year</th>\n",
       "    </tr>\n",
       "  </thead>\n",
       "  <tbody>\n",
       "    <tr>\n",
       "      <th>hill time (s)</th>\n",
       "      <td>1.00</td>\n",
       "      <td>0.17</td>\n",
       "      <td>0.39</td>\n",
       "      <td>-0.03</td>\n",
       "    </tr>\n",
       "    <tr>\n",
       "      <th>hill defends</th>\n",
       "      <td>0.17</td>\n",
       "      <td>1.00</td>\n",
       "      <td>0.14</td>\n",
       "      <td>0.45</td>\n",
       "    </tr>\n",
       "    <tr>\n",
       "      <th>k/d</th>\n",
       "      <td>0.39</td>\n",
       "      <td>0.14</td>\n",
       "      <td>1.00</td>\n",
       "      <td>0.01</td>\n",
       "    </tr>\n",
       "    <tr>\n",
       "      <th>year</th>\n",
       "      <td>-0.03</td>\n",
       "      <td>0.45</td>\n",
       "      <td>0.01</td>\n",
       "      <td>1.00</td>\n",
       "    </tr>\n",
       "  </tbody>\n",
       "</table>\n",
       "</div>"
      ],
      "text/plain": [
       "               hill time (s)  hill defends  k/d  year\n",
       "hill time (s)           1.00          0.17 0.39 -0.03\n",
       "hill defends            0.17          1.00 0.14  0.45\n",
       "k/d                     0.39          0.14 1.00  0.01\n",
       "year                   -0.03          0.45 0.01  1.00"
      ]
     },
     "execution_count": 9,
     "metadata": {},
     "output_type": "execute_result"
    }
   ],
   "source": [
    "hardpoint_df.corr()"
   ]
  },
  {
   "cell_type": "code",
   "execution_count": 10,
   "metadata": {},
   "outputs": [
    {
     "data": {
      "application/vnd.plotly.v1+json": {
       "config": {
        "plotlyServerURL": "https://plot.ly"
       },
       "data": [
        {
         "hovertemplate": "player=Methodz<br>year=2017<br>hill time (s)=%{x}<br>hill defends=%{y}<extra></extra>",
         "legendgroup": "Methodz",
         "marker": {
          "color": "#636efa",
          "symbol": "circle"
         },
         "mode": "markers",
         "name": "Methodz",
         "showlegend": true,
         "type": "scattergl",
         "x": [
          8,
          95,
          71,
          34,
          52
         ],
         "xaxis": "x",
         "y": [
          0,
          3,
          2,
          5,
          3
         ],
         "yaxis": "y"
        },
        {
         "hovertemplate": "player=Methodz<br>year=2018<br>hill time (s)=%{x}<br>hill defends=%{y}<extra></extra>",
         "legendgroup": "Methodz",
         "marker": {
          "color": "#636efa",
          "symbol": "circle"
         },
         "mode": "markers",
         "name": "Methodz",
         "showlegend": false,
         "type": "scattergl",
         "x": [
          55,
          85,
          134,
          29
         ],
         "xaxis": "x2",
         "y": [
          0,
          2,
          1,
          0
         ],
         "yaxis": "y2"
        },
        {
         "hovertemplate": "player=Methodz<br>year=2019<br>hill time (s)=%{x}<br>hill defends=%{y}<extra></extra>",
         "legendgroup": "Methodz",
         "marker": {
          "color": "#636efa",
          "symbol": "circle"
         },
         "mode": "markers",
         "name": "Methodz",
         "showlegend": false,
         "type": "scattergl",
         "x": [
          55,
          48,
          75,
          53,
          91
         ],
         "xaxis": "x3",
         "y": [
          4,
          2,
          6,
          8,
          4
         ],
         "yaxis": "y3"
        },
        {
         "hovertemplate": "player=mosh<br>year=2017<br>hill time (s)=%{x}<br>hill defends=%{y}<extra></extra>",
         "legendgroup": "mosh",
         "marker": {
          "color": "#EF553B",
          "symbol": "circle"
         },
         "mode": "markers",
         "name": "mosh",
         "showlegend": true,
         "type": "scattergl",
         "x": [
          34,
          78,
          15,
          26,
          72
         ],
         "xaxis": "x",
         "y": [
          0,
          6,
          0,
          3,
          4
         ],
         "yaxis": "y"
        },
        {
         "hovertemplate": "player=mosh<br>year=2019<br>hill time (s)=%{x}<br>hill defends=%{y}<extra></extra>",
         "legendgroup": "mosh",
         "marker": {
          "color": "#EF553B",
          "symbol": "circle"
         },
         "mode": "markers",
         "name": "mosh",
         "showlegend": false,
         "type": "scattergl",
         "x": [
          106,
          58,
          21,
          20,
          30,
          54
         ],
         "xaxis": "x3",
         "y": [
          2,
          6,
          9,
          3,
          9,
          9
         ],
         "yaxis": "y3"
        },
        {
         "hovertemplate": "player=MRuiz<br>year=2017<br>hill time (s)=%{x}<br>hill defends=%{y}<extra></extra>",
         "legendgroup": "MRuiz",
         "marker": {
          "color": "#00cc96",
          "symbol": "circle"
         },
         "mode": "markers",
         "name": "MRuiz",
         "showlegend": true,
         "type": "scattergl",
         "x": [
          43,
          94,
          86,
          34,
          59
         ],
         "xaxis": "x",
         "y": [
          3,
          3,
          5,
          0,
          2
         ],
         "yaxis": "y"
        },
        {
         "hovertemplate": "player=MRuiz<br>year=2018<br>hill time (s)=%{x}<br>hill defends=%{y}<extra></extra>",
         "legendgroup": "MRuiz",
         "marker": {
          "color": "#00cc96",
          "symbol": "circle"
         },
         "mode": "markers",
         "name": "MRuiz",
         "showlegend": false,
         "type": "scattergl",
         "x": [
          33,
          13,
          14
         ],
         "xaxis": "x2",
         "y": [
          0,
          1,
          0
         ],
         "yaxis": "y2"
        },
        {
         "hovertemplate": "player=MRuiz<br>year=2019<br>hill time (s)=%{x}<br>hill defends=%{y}<extra></extra>",
         "legendgroup": "MRuiz",
         "marker": {
          "color": "#00cc96",
          "symbol": "circle"
         },
         "mode": "markers",
         "name": "MRuiz",
         "showlegend": false,
         "type": "scattergl",
         "x": [
          58,
          76,
          44,
          79,
          49,
          53,
          40,
          71,
          83,
          62
         ],
         "xaxis": "x3",
         "y": [
          13,
          3,
          3,
          8,
          8,
          9,
          7,
          7,
          3,
          4
         ],
         "yaxis": "y3"
        },
        {
         "hovertemplate": "player=Replays<br>year=2017<br>hill time (s)=%{x}<br>hill defends=%{y}<extra></extra>",
         "legendgroup": "Replays",
         "marker": {
          "color": "#ab63fa",
          "symbol": "circle"
         },
         "mode": "markers",
         "name": "Replays",
         "showlegend": true,
         "type": "scattergl",
         "x": [
          35,
          36,
          71,
          7,
          20
         ],
         "xaxis": "x",
         "y": [
          4,
          2,
          4,
          2,
          1
         ],
         "yaxis": "y"
        },
        {
         "hovertemplate": "player=Replays<br>year=2018<br>hill time (s)=%{x}<br>hill defends=%{y}<extra></extra>",
         "legendgroup": "Replays",
         "marker": {
          "color": "#ab63fa",
          "symbol": "circle"
         },
         "mode": "markers",
         "name": "Replays",
         "showlegend": false,
         "type": "scattergl",
         "x": [
          58,
          123,
          58,
          69,
          30,
          75,
          119,
          74,
          61,
          48,
          144,
          86,
          102,
          79,
          83,
          109,
          87
         ],
         "xaxis": "x2",
         "y": [
          1,
          1,
          0,
          0,
          0,
          2,
          2,
          0,
          1,
          0,
          2,
          2,
          0,
          1,
          2,
          1,
          1
         ],
         "yaxis": "y2"
        },
        {
         "hovertemplate": "player=Dqvee<br>year=2017<br>hill time (s)=%{x}<br>hill defends=%{y}<extra></extra>",
         "legendgroup": "Dqvee",
         "marker": {
          "color": "#FFA15A",
          "symbol": "circle"
         },
         "mode": "markers",
         "name": "Dqvee",
         "showlegend": true,
         "type": "scattergl",
         "x": [
          33,
          9,
          104,
          38,
          34,
          69,
          93,
          123
         ],
         "xaxis": "x",
         "y": [
          2,
          0,
          6,
          1,
          1,
          9,
          2,
          4
         ],
         "yaxis": "y"
        },
        {
         "hovertemplate": "player=Dqvee<br>year=2018<br>hill time (s)=%{x}<br>hill defends=%{y}<extra></extra>",
         "legendgroup": "Dqvee",
         "marker": {
          "color": "#FFA15A",
          "symbol": "circle"
         },
         "mode": "markers",
         "name": "Dqvee",
         "showlegend": false,
         "type": "scattergl",
         "x": [
          77,
          21,
          52,
          51,
          24
         ],
         "xaxis": "x2",
         "y": [
          3,
          1,
          1,
          0,
          0
         ],
         "yaxis": "y2"
        },
        {
         "hovertemplate": "player=Dqvee<br>year=2019<br>hill time (s)=%{x}<br>hill defends=%{y}<extra></extra>",
         "legendgroup": "Dqvee",
         "marker": {
          "color": "#FFA15A",
          "symbol": "circle"
         },
         "mode": "markers",
         "name": "Dqvee",
         "showlegend": false,
         "type": "scattergl",
         "x": [
          82,
          41,
          50,
          31,
          17,
          97,
          64,
          82,
          91
         ],
         "xaxis": "x3",
         "y": [
          9,
          1,
          6,
          1,
          3,
          3,
          6,
          5,
          8
         ],
         "yaxis": "y3"
        },
        {
         "hovertemplate": "player=Hawqeh<br>year=2017<br>hill time (s)=%{x}<br>hill defends=%{y}<extra></extra>",
         "legendgroup": "Hawqeh",
         "marker": {
          "color": "#19d3f3",
          "symbol": "circle"
         },
         "mode": "markers",
         "name": "Hawqeh",
         "showlegend": true,
         "type": "scattergl",
         "x": [
          140,
          15,
          75,
          99,
          38,
          76,
          24,
          70
         ],
         "xaxis": "x",
         "y": [
          8,
          2,
          4,
          1,
          2,
          2,
          0,
          4
         ],
         "yaxis": "y"
        },
        {
         "hovertemplate": "player=Hawqeh<br>year=2018<br>hill time (s)=%{x}<br>hill defends=%{y}<extra></extra>",
         "legendgroup": "Hawqeh",
         "marker": {
          "color": "#19d3f3",
          "symbol": "circle"
         },
         "mode": "markers",
         "name": "Hawqeh",
         "showlegend": false,
         "type": "scattergl",
         "x": [
          64,
          10,
          60,
          36,
          36
         ],
         "xaxis": "x2",
         "y": [
          4,
          1,
          0,
          1,
          1
         ],
         "yaxis": "y2"
        },
        {
         "hovertemplate": "player=Hawqeh<br>year=2019<br>hill time (s)=%{x}<br>hill defends=%{y}<extra></extra>",
         "legendgroup": "Hawqeh",
         "marker": {
          "color": "#19d3f3",
          "symbol": "circle"
         },
         "mode": "markers",
         "name": "Hawqeh",
         "showlegend": false,
         "type": "scattergl",
         "x": [
          64,
          52,
          81,
          25,
          54
         ],
         "xaxis": "x3",
         "y": [
          8,
          3,
          3,
          3,
          4
         ],
         "yaxis": "y3"
        },
        {
         "hovertemplate": "player=Joshh<br>year=2017<br>hill time (s)=%{x}<br>hill defends=%{y}<extra></extra>",
         "legendgroup": "Joshh",
         "marker": {
          "color": "#FF6692",
          "symbol": "circle"
         },
         "mode": "markers",
         "name": "Joshh",
         "showlegend": true,
         "type": "scattergl",
         "x": [
          79,
          24,
          46,
          98,
          50,
          67,
          26,
          18
         ],
         "xaxis": "x",
         "y": [
          0,
          1,
          6,
          3,
          1,
          1,
          0,
          1
         ],
         "yaxis": "y"
        },
        {
         "hovertemplate": "player=Joshh<br>year=2018<br>hill time (s)=%{x}<br>hill defends=%{y}<extra></extra>",
         "legendgroup": "Joshh",
         "marker": {
          "color": "#FF6692",
          "symbol": "circle"
         },
         "mode": "markers",
         "name": "Joshh",
         "showlegend": false,
         "type": "scattergl",
         "x": [
          48,
          110,
          32,
          43,
          43
         ],
         "xaxis": "x2",
         "y": [
          2,
          0,
          1,
          0,
          1
         ],
         "yaxis": "y2"
        },
        {
         "hovertemplate": "player=Joshh<br>year=2019<br>hill time (s)=%{x}<br>hill defends=%{y}<extra></extra>",
         "legendgroup": "Joshh",
         "marker": {
          "color": "#FF6692",
          "symbol": "circle"
         },
         "mode": "markers",
         "name": "Joshh",
         "showlegend": false,
         "type": "scattergl",
         "x": [
          25,
          103,
          115,
          28,
          9,
          71,
          15,
          51,
          36
         ],
         "xaxis": "x3",
         "y": [
          4,
          4,
          9,
          4,
          7,
          5,
          5,
          8,
          6
         ],
         "yaxis": "y3"
        },
        {
         "hovertemplate": "player=Vortex<br>year=2017<br>hill time (s)=%{x}<br>hill defends=%{y}<extra></extra>",
         "legendgroup": "Vortex",
         "marker": {
          "color": "#B6E880",
          "symbol": "circle"
         },
         "mode": "markers",
         "name": "Vortex",
         "showlegend": true,
         "type": "scattergl",
         "x": [
          37,
          69,
          139,
          57,
          26,
          129,
          39,
          77
         ],
         "xaxis": "x",
         "y": [
          1,
          0,
          7,
          2,
          0,
          3,
          1,
          6
         ],
         "yaxis": "y"
        },
        {
         "hovertemplate": "player=Vortex<br>year=2018<br>hill time (s)=%{x}<br>hill defends=%{y}<extra></extra>",
         "legendgroup": "Vortex",
         "marker": {
          "color": "#B6E880",
          "symbol": "circle"
         },
         "mode": "markers",
         "name": "Vortex",
         "showlegend": false,
         "type": "scattergl",
         "x": [
          48,
          26,
          13,
          60,
          40
         ],
         "xaxis": "x2",
         "y": [
          0,
          1,
          1,
          1,
          0
         ],
         "yaxis": "y2"
        },
        {
         "hovertemplate": "player=Vortex<br>year=2019<br>hill time (s)=%{x}<br>hill defends=%{y}<extra></extra>",
         "legendgroup": "Vortex",
         "marker": {
          "color": "#B6E880",
          "symbol": "circle"
         },
         "mode": "markers",
         "name": "Vortex",
         "showlegend": false,
         "type": "scattergl",
         "x": [
          56,
          109,
          68,
          60,
          55,
          45,
          79,
          112,
          50
         ],
         "xaxis": "x3",
         "y": [
          8,
          2,
          5,
          9,
          3,
          13,
          3,
          9,
          5
         ],
         "yaxis": "y3"
        },
        {
         "hovertemplate": "player=Colechan<br>year=2017<br>hill time (s)=%{x}<br>hill defends=%{y}<extra></extra>",
         "legendgroup": "Colechan",
         "marker": {
          "color": "#FF97FF",
          "symbol": "circle"
         },
         "mode": "markers",
         "name": "Colechan",
         "showlegend": true,
         "type": "scattergl",
         "x": [
          16,
          65,
          54,
          34
         ],
         "xaxis": "x",
         "y": [
          1,
          4,
          6,
          2
         ],
         "yaxis": "y"
        },
        {
         "hovertemplate": "player=DraMa<br>year=2017<br>hill time (s)=%{x}<br>hill defends=%{y}<extra></extra>",
         "legendgroup": "DraMa",
         "marker": {
          "color": "#FECB52",
          "symbol": "circle"
         },
         "mode": "markers",
         "name": "DraMa",
         "showlegend": true,
         "type": "scattergl",
         "x": [
          37,
          22,
          43,
          76
         ],
         "xaxis": "x",
         "y": [
          2,
          1,
          0,
          2
         ],
         "yaxis": "y"
        },
        {
         "hovertemplate": "player=DraMa<br>year=2019<br>hill time (s)=%{x}<br>hill defends=%{y}<extra></extra>",
         "legendgroup": "DraMa",
         "marker": {
          "color": "#FECB52",
          "symbol": "circle"
         },
         "mode": "markers",
         "name": "DraMa",
         "showlegend": false,
         "type": "scattergl",
         "x": [
          37,
          7,
          40,
          16,
          46
         ],
         "xaxis": "x3",
         "y": [
          7,
          2,
          3,
          12,
          8
         ],
         "yaxis": "y3"
        },
        {
         "hovertemplate": "player=Mochila<br>year=2017<br>hill time (s)=%{x}<br>hill defends=%{y}<extra></extra>",
         "legendgroup": "Mochila",
         "marker": {
          "color": "#636efa",
          "symbol": "circle"
         },
         "mode": "markers",
         "name": "Mochila",
         "showlegend": true,
         "type": "scattergl",
         "x": [
          16,
          45,
          45,
          86
         ],
         "xaxis": "x",
         "y": [
          1,
          0,
          0,
          7
         ],
         "yaxis": "y"
        },
        {
         "hovertemplate": "player=Swarley<br>year=2017<br>hill time (s)=%{x}<br>hill defends=%{y}<extra></extra>",
         "legendgroup": "Swarley",
         "marker": {
          "color": "#EF553B",
          "symbol": "circle"
         },
         "mode": "markers",
         "name": "Swarley",
         "showlegend": true,
         "type": "scattergl",
         "x": [
          32,
          27,
          103,
          66
         ],
         "xaxis": "x",
         "y": [
          3,
          2,
          5,
          1
         ],
         "yaxis": "y"
        },
        {
         "hovertemplate": "player=Crimsix<br>year=2017<br>hill time (s)=%{x}<br>hill defends=%{y}<extra></extra>",
         "legendgroup": "Crimsix",
         "marker": {
          "color": "#00cc96",
          "symbol": "circle"
         },
         "mode": "markers",
         "name": "Crimsix",
         "showlegend": true,
         "type": "scattergl",
         "x": [
          38,
          75,
          48,
          89,
          32,
          61,
          73,
          127,
          56,
          58,
          89,
          79,
          69,
          51
         ],
         "xaxis": "x",
         "y": [
          1,
          3,
          3,
          5,
          1,
          1,
          1,
          3,
          2,
          3,
          2,
          2,
          1,
          2
         ],
         "yaxis": "y"
        },
        {
         "hovertemplate": "player=Crimsix<br>year=2018<br>hill time (s)=%{x}<br>hill defends=%{y}<extra></extra>",
         "legendgroup": "Crimsix",
         "marker": {
          "color": "#00cc96",
          "symbol": "circle"
         },
         "mode": "markers",
         "name": "Crimsix",
         "showlegend": false,
         "type": "scattergl",
         "x": [
          48,
          47,
          31,
          89
         ],
         "xaxis": "x2",
         "y": [
          1,
          0,
          0,
          0
         ],
         "yaxis": "y2"
        },
        {
         "hovertemplate": "player=Crimsix<br>year=2019<br>hill time (s)=%{x}<br>hill defends=%{y}<extra></extra>",
         "legendgroup": "Crimsix",
         "marker": {
          "color": "#00cc96",
          "symbol": "circle"
         },
         "mode": "markers",
         "name": "Crimsix",
         "showlegend": false,
         "type": "scattergl",
         "x": [
          45,
          62,
          59,
          65,
          107,
          115,
          85,
          99,
          183,
          110,
          129,
          99,
          89,
          12,
          71
         ],
         "xaxis": "x3",
         "y": [
          7,
          8,
          10,
          11,
          14,
          5,
          4,
          4,
          6,
          6,
          11,
          6,
          5,
          2,
          9
         ],
         "yaxis": "y3"
        },
        {
         "hovertemplate": "player=Formal<br>year=2017<br>hill time (s)=%{x}<br>hill defends=%{y}<extra></extra>",
         "legendgroup": "Formal",
         "marker": {
          "color": "#ab63fa",
          "symbol": "circle"
         },
         "mode": "markers",
         "name": "Formal",
         "showlegend": true,
         "type": "scattergl",
         "x": [
          127,
          66,
          93,
          63,
          151,
          92,
          94,
          95,
          38,
          58,
          124,
          100,
          116,
          54
         ],
         "xaxis": "x",
         "y": [
          5,
          2,
          2,
          0,
          7,
          6,
          2,
          2,
          2,
          0,
          7,
          3,
          3,
          3
         ],
         "yaxis": "y"
        },
        {
         "hovertemplate": "player=Formal<br>year=2018<br>hill time (s)=%{x}<br>hill defends=%{y}<extra></extra>",
         "legendgroup": "Formal",
         "marker": {
          "color": "#ab63fa",
          "symbol": "circle"
         },
         "mode": "markers",
         "name": "Formal",
         "showlegend": false,
         "type": "scattergl",
         "x": [
          106,
          115,
          84,
          55,
          68,
          105,
          104,
          77,
          121,
          146,
          87
         ],
         "xaxis": "x2",
         "y": [
          2,
          1,
          1,
          0,
          1,
          1,
          3,
          1,
          3,
          2,
          0
         ],
         "yaxis": "y2"
        },
        {
         "hovertemplate": "player=Formal<br>year=2019<br>hill time (s)=%{x}<br>hill defends=%{y}<extra></extra>",
         "legendgroup": "Formal",
         "marker": {
          "color": "#ab63fa",
          "symbol": "circle"
         },
         "mode": "markers",
         "name": "Formal",
         "showlegend": false,
         "type": "scattergl",
         "x": [
          56,
          51,
          73,
          53,
          104,
          54,
          106,
          29,
          66,
          61,
          73,
          35
         ],
         "xaxis": "x3",
         "y": [
          4,
          0,
          7,
          3,
          6,
          11,
          2,
          4,
          9,
          9,
          7,
          4
         ],
         "yaxis": "y3"
        },
        {
         "hovertemplate": "player=Karma<br>year=2017<br>hill time (s)=%{x}<br>hill defends=%{y}<extra></extra>",
         "legendgroup": "Karma",
         "marker": {
          "color": "#FFA15A",
          "symbol": "circle"
         },
         "mode": "markers",
         "name": "Karma",
         "showlegend": true,
         "type": "scattergl",
         "x": [
          24,
          84,
          74,
          96,
          34,
          94,
          58,
          65,
          91,
          49,
          43,
          44,
          78,
          104
         ],
         "xaxis": "x",
         "y": [
          1,
          2,
          5,
          8,
          0,
          3,
          4,
          3,
          1,
          2,
          2,
          1,
          1,
          3
         ],
         "yaxis": "y"
        },
        {
         "hovertemplate": "player=Karma<br>year=2019<br>hill time (s)=%{x}<br>hill defends=%{y}<extra></extra>",
         "legendgroup": "Karma",
         "marker": {
          "color": "#FFA15A",
          "symbol": "circle"
         },
         "mode": "markers",
         "name": "Karma",
         "showlegend": false,
         "type": "scattergl",
         "x": [
          67,
          127,
          68,
          130,
          79,
          77,
          111,
          63,
          25,
          80,
          72,
          79,
          72,
          11,
          83
         ],
         "xaxis": "x3",
         "y": [
          13,
          7,
          4,
          5,
          11,
          9,
          7,
          4,
          6,
          3,
          8,
          5,
          9,
          4,
          10
         ],
         "yaxis": "y3"
        },
        {
         "hovertemplate": "player=Scump<br>year=2017<br>hill time (s)=%{x}<br>hill defends=%{y}<extra></extra>",
         "legendgroup": "Scump",
         "marker": {
          "color": "#19d3f3",
          "symbol": "circle"
         },
         "mode": "markers",
         "name": "Scump",
         "showlegend": true,
         "type": "scattergl",
         "x": [
          79,
          76,
          109,
          21,
          61,
          66,
          93,
          48,
          99,
          24,
          58,
          61,
          44,
          63
         ],
         "xaxis": "x",
         "y": [
          2,
          2,
          5,
          1,
          3,
          6,
          6,
          6,
          3,
          1,
          4,
          3,
          2,
          5
         ],
         "yaxis": "y"
        },
        {
         "hovertemplate": "player=Scump<br>year=2018<br>hill time (s)=%{x}<br>hill defends=%{y}<extra></extra>",
         "legendgroup": "Scump",
         "marker": {
          "color": "#19d3f3",
          "symbol": "circle"
         },
         "mode": "markers",
         "name": "Scump",
         "showlegend": false,
         "type": "scattergl",
         "x": [
          61,
          55,
          110,
          23
         ],
         "xaxis": "x2",
         "y": [
          0,
          1,
          1,
          0
         ],
         "yaxis": "y2"
        },
        {
         "hovertemplate": "player=Scump<br>year=2019<br>hill time (s)=%{x}<br>hill defends=%{y}<extra></extra>",
         "legendgroup": "Scump",
         "marker": {
          "color": "#19d3f3",
          "symbol": "circle"
         },
         "mode": "markers",
         "name": "Scump",
         "showlegend": false,
         "type": "scattergl",
         "x": [
          61,
          38,
          54,
          47,
          64,
          74,
          80,
          71,
          45,
          40,
          51,
          38,
          94,
          30,
          79
         ],
         "xaxis": "x3",
         "y": [
          8,
          3,
          7,
          6,
          9,
          5,
          10,
          6,
          5,
          7,
          12,
          7,
          9,
          4,
          11
         ],
         "yaxis": "y3"
        },
        {
         "hovertemplate": "player=Hopey<br>year=2017<br>hill time (s)=%{x}<br>hill defends=%{y}<extra></extra>",
         "legendgroup": "Hopey",
         "marker": {
          "color": "#FF6692",
          "symbol": "circle"
         },
         "mode": "markers",
         "name": "Hopey",
         "showlegend": true,
         "type": "scattergl",
         "x": [
          24,
          14,
          55,
          80,
          48,
          9,
          5,
          70
         ],
         "xaxis": "x",
         "y": [
          4,
          1,
          2,
          3,
          4,
          1,
          0,
          2
         ],
         "yaxis": "y"
        },
        {
         "hovertemplate": "player=Setzyy<br>year=2017<br>hill time (s)=%{x}<br>hill defends=%{y}<extra></extra>",
         "legendgroup": "Setzyy",
         "marker": {
          "color": "#B6E880",
          "symbol": "circle"
         },
         "mode": "markers",
         "name": "Setzyy",
         "showlegend": true,
         "type": "scattergl",
         "x": [
          66,
          34,
          78,
          46,
          78,
          4,
          3,
          58
         ],
         "xaxis": "x",
         "y": [
          5,
          0,
          0,
          3,
          3,
          0,
          1,
          6
         ],
         "yaxis": "y"
        },
        {
         "hovertemplate": "player=Swiftazor<br>year=2017<br>hill time (s)=%{x}<br>hill defends=%{y}<extra></extra>",
         "legendgroup": "Swiftazor",
         "marker": {
          "color": "#FF97FF",
          "symbol": "circle"
         },
         "mode": "markers",
         "name": "Swiftazor",
         "showlegend": true,
         "type": "scattergl",
         "x": [
          63,
          97,
          81,
          47,
          113,
          149,
          64,
          108
         ],
         "xaxis": "x",
         "y": [
          6,
          5,
          4,
          4,
          4,
          2,
          3,
          3
         ],
         "yaxis": "y"
        },
        {
         "hovertemplate": "player=Swiftazor<br>year=2018<br>hill time (s)=%{x}<br>hill defends=%{y}<extra></extra>",
         "legendgroup": "Swiftazor",
         "marker": {
          "color": "#FF97FF",
          "symbol": "circle"
         },
         "mode": "markers",
         "name": "Swiftazor",
         "showlegend": false,
         "type": "scattergl",
         "x": [
          52,
          95,
          89,
          49,
          54,
          89
         ],
         "xaxis": "x2",
         "y": [
          0,
          3,
          3,
          0,
          0,
          1
         ],
         "yaxis": "y2"
        },
        {
         "hovertemplate": "player=Zepa<br>year=2017<br>hill time (s)=%{x}<br>hill defends=%{y}<extra></extra>",
         "legendgroup": "Zepa",
         "marker": {
          "color": "#FECB52",
          "symbol": "circle"
         },
         "mode": "markers",
         "name": "Zepa",
         "showlegend": true,
         "type": "scattergl",
         "x": [
          101,
          38,
          112,
          102,
          117,
          76,
          84,
          51
         ],
         "xaxis": "x",
         "y": [
          8,
          2,
          4,
          2,
          7,
          2,
          4,
          2
         ],
         "yaxis": "y"
        },
        {
         "hovertemplate": "player=Apathy<br>year=2017<br>hill time (s)=%{x}<br>hill defends=%{y}<extra></extra>",
         "legendgroup": "Apathy",
         "marker": {
          "color": "#636efa",
          "symbol": "circle"
         },
         "mode": "markers",
         "name": "Apathy",
         "showlegend": true,
         "type": "scattergl",
         "x": [
          71,
          83,
          54,
          39,
          27,
          74,
          86,
          24,
          153,
          58,
          47,
          48,
          14,
          79
         ],
         "xaxis": "x",
         "y": [
          2,
          8,
          3,
          3,
          0,
          8,
          3,
          4,
          4,
          2,
          1,
          0,
          0,
          4
         ],
         "yaxis": "y"
        },
        {
         "hovertemplate": "player=Apathy<br>year=2018<br>hill time (s)=%{x}<br>hill defends=%{y}<extra></extra>",
         "legendgroup": "Apathy",
         "marker": {
          "color": "#636efa",
          "symbol": "circle"
         },
         "mode": "markers",
         "name": "Apathy",
         "showlegend": false,
         "type": "scattergl",
         "x": [
          21,
          50,
          62,
          35,
          138,
          38,
          96,
          61,
          49,
          115,
          49,
          145,
          60,
          68
         ],
         "xaxis": "x2",
         "y": [
          1,
          1,
          0,
          1,
          1,
          1,
          2,
          0,
          0,
          1,
          0,
          3,
          1,
          0
         ],
         "yaxis": "y2"
        },
        {
         "hovertemplate": "player=Apathy<br>year=2019<br>hill time (s)=%{x}<br>hill defends=%{y}<extra></extra>",
         "legendgroup": "Apathy",
         "marker": {
          "color": "#636efa",
          "symbol": "circle"
         },
         "mode": "markers",
         "name": "Apathy",
         "showlegend": false,
         "type": "scattergl",
         "x": [
          84,
          46,
          34,
          87,
          51,
          43,
          66,
          89,
          77,
          52,
          34
         ],
         "xaxis": "x3",
         "y": [
          6,
          8,
          7,
          11,
          2,
          7,
          7,
          8,
          4,
          2,
          8
         ],
         "yaxis": "y3"
        },
        {
         "hovertemplate": "player=JKap<br>year=2017<br>hill time (s)=%{x}<br>hill defends=%{y}<extra></extra>",
         "legendgroup": "JKap",
         "marker": {
          "color": "#EF553B",
          "symbol": "circle"
         },
         "mode": "markers",
         "name": "JKap",
         "showlegend": true,
         "type": "scattergl",
         "x": [
          91,
          104,
          43,
          75,
          114,
          146,
          81,
          41,
          26,
          55,
          101,
          65,
          65,
          75
         ],
         "xaxis": "x",
         "y": [
          3,
          6,
          1,
          5,
          3,
          2,
          1,
          0,
          0,
          4,
          5,
          2,
          5,
          2
         ],
         "yaxis": "y"
        },
        {
         "hovertemplate": "player=JKap<br>year=2018<br>hill time (s)=%{x}<br>hill defends=%{y}<extra></extra>",
         "legendgroup": "JKap",
         "marker": {
          "color": "#EF553B",
          "symbol": "circle"
         },
         "mode": "markers",
         "name": "JKap",
         "showlegend": false,
         "type": "scattergl",
         "x": [
          107,
          55,
          62,
          63,
          7,
          72,
          43,
          101,
          65,
          31,
          63
         ],
         "xaxis": "x2",
         "y": [
          0,
          2,
          2,
          0,
          0,
          2,
          1,
          0,
          1,
          0,
          1
         ],
         "yaxis": "y2"
        },
        {
         "hovertemplate": "player=JKap<br>year=2019<br>hill time (s)=%{x}<br>hill defends=%{y}<extra></extra>",
         "legendgroup": "JKap",
         "marker": {
          "color": "#EF553B",
          "symbol": "circle"
         },
         "mode": "markers",
         "name": "JKap",
         "showlegend": false,
         "type": "scattergl",
         "x": [
          45,
          57,
          63,
          79,
          38,
          92,
          42,
          26,
          31,
          37,
          38
         ],
         "xaxis": "x3",
         "y": [
          3,
          6,
          5,
          7,
          3,
          4,
          9,
          7,
          5,
          5,
          4
         ],
         "yaxis": "y3"
        },
        {
         "hovertemplate": "player=John<br>year=2017<br>hill time (s)=%{x}<br>hill defends=%{y}<extra></extra>",
         "legendgroup": "John",
         "marker": {
          "color": "#00cc96",
          "symbol": "circle"
         },
         "mode": "markers",
         "name": "John",
         "showlegend": true,
         "type": "scattergl",
         "x": [
          41,
          66,
          54,
          84,
          16,
          33,
          101,
          21,
          48,
          43,
          85,
          20,
          41,
          25
         ],
         "xaxis": "x",
         "y": [
          2,
          3,
          5,
          7,
          1,
          4,
          4,
          1,
          1,
          2,
          2,
          1,
          5,
          2
         ],
         "yaxis": "y"
        },
        {
         "hovertemplate": "player=John<br>year=2018<br>hill time (s)=%{x}<br>hill defends=%{y}<extra></extra>",
         "legendgroup": "John",
         "marker": {
          "color": "#00cc96",
          "symbol": "circle"
         },
         "mode": "markers",
         "name": "John",
         "showlegend": false,
         "type": "scattergl",
         "x": [
          27,
          39,
          107,
          53,
          23,
          57,
          21,
          59,
          57,
          57,
          22
         ],
         "xaxis": "x2",
         "y": [
          1,
          2,
          0,
          0,
          0,
          0,
          1,
          1,
          0,
          1,
          1
         ],
         "yaxis": "y2"
        },
        {
         "hovertemplate": "player=John<br>year=2019<br>hill time (s)=%{x}<br>hill defends=%{y}<extra></extra>",
         "legendgroup": "John",
         "marker": {
          "color": "#00cc96",
          "symbol": "circle"
         },
         "mode": "markers",
         "name": "John",
         "showlegend": false,
         "type": "scattergl",
         "x": [
          13,
          46,
          48,
          52,
          41,
          69,
          33,
          38,
          55,
          19,
          85,
          8
         ],
         "xaxis": "x3",
         "y": [
          5,
          4,
          4,
          3,
          3,
          17,
          6,
          5,
          8,
          6,
          5,
          2
         ],
         "yaxis": "y3"
        },
        {
         "hovertemplate": "player=Slasher<br>year=2017<br>hill time (s)=%{x}<br>hill defends=%{y}<extra></extra>",
         "legendgroup": "Slasher",
         "marker": {
          "color": "#ab63fa",
          "symbol": "circle"
         },
         "mode": "markers",
         "name": "Slasher",
         "showlegend": true,
         "type": "scattergl",
         "x": [
          75,
          75,
          146,
          99,
          69,
          34,
          83,
          32,
          48,
          66,
          107,
          14,
          131,
          31
         ],
         "xaxis": "x",
         "y": [
          3,
          7,
          3,
          11,
          4,
          1,
          3,
          0,
          0,
          4,
          6,
          0,
          3,
          1
         ],
         "yaxis": "y"
        },
        {
         "hovertemplate": "player=Slasher<br>year=2018<br>hill time (s)=%{x}<br>hill defends=%{y}<extra></extra>",
         "legendgroup": "Slasher",
         "marker": {
          "color": "#ab63fa",
          "symbol": "circle"
         },
         "mode": "markers",
         "name": "Slasher",
         "showlegend": false,
         "type": "scattergl",
         "x": [
          92,
          60,
          98,
          48,
          41,
          93,
          23,
          47,
          59
         ],
         "xaxis": "x2",
         "y": [
          5,
          0,
          0,
          0,
          0,
          0,
          1,
          0,
          0
         ],
         "yaxis": "y2"
        },
        {
         "hovertemplate": "player=Slasher<br>year=2019<br>hill time (s)=%{x}<br>hill defends=%{y}<extra></extra>",
         "legendgroup": "Slasher",
         "marker": {
          "color": "#ab63fa",
          "symbol": "circle"
         },
         "mode": "markers",
         "name": "Slasher",
         "showlegend": false,
         "type": "scattergl",
         "x": [
          68,
          51,
          80,
          46,
          119,
          43,
          52,
          66,
          75,
          65,
          94,
          69,
          48,
          140,
          67,
          65,
          43,
          23
         ],
         "xaxis": "x3",
         "y": [
          3,
          4,
          7,
          3,
          8,
          7,
          9,
          6,
          11,
          7,
          3,
          9,
          3,
          5,
          9,
          1,
          5,
          8
         ],
         "yaxis": "y3"
        },
        {
         "hovertemplate": "player=Desire<br>year=2017<br>hill time (s)=%{x}<br>hill defends=%{y}<extra></extra>",
         "legendgroup": "Desire",
         "marker": {
          "color": "#FFA15A",
          "symbol": "circle"
         },
         "mode": "markers",
         "name": "Desire",
         "showlegend": true,
         "type": "scattergl",
         "x": [
          51,
          127,
          37,
          89,
          6
         ],
         "xaxis": "x",
         "y": [
          5,
          4,
          2,
          1,
          0
         ],
         "yaxis": "y"
        },
        {
         "hovertemplate": "player=Reedy<br>year=2017<br>hill time (s)=%{x}<br>hill defends=%{y}<extra></extra>",
         "legendgroup": "Reedy",
         "marker": {
          "color": "#19d3f3",
          "symbol": "circle"
         },
         "mode": "markers",
         "name": "Reedy",
         "showlegend": true,
         "type": "scattergl",
         "x": [
          89,
          76,
          13,
          85,
          26
         ],
         "xaxis": "x",
         "y": [
          6,
          1,
          2,
          5,
          1
         ],
         "yaxis": "y"
        },
        {
         "hovertemplate": "player=Reedy<br>year=2018<br>hill time (s)=%{x}<br>hill defends=%{y}<extra></extra>",
         "legendgroup": "Reedy",
         "marker": {
          "color": "#19d3f3",
          "symbol": "circle"
         },
         "mode": "markers",
         "name": "Reedy",
         "showlegend": false,
         "type": "scattergl",
         "x": [
          59,
          19,
          65,
          8,
          40
         ],
         "xaxis": "x2",
         "y": [
          0,
          2,
          2,
          0,
          1
         ],
         "yaxis": "y2"
        },
        {
         "hovertemplate": "player=Watson<br>year=2017<br>hill time (s)=%{x}<br>hill defends=%{y}<extra></extra>",
         "legendgroup": "Watson",
         "marker": {
          "color": "#FF6692",
          "symbol": "circle"
         },
         "mode": "markers",
         "name": "Watson",
         "showlegend": true,
         "type": "scattergl",
         "x": [
          19,
          70,
          10,
          44,
          35
         ],
         "xaxis": "x",
         "y": [
          2,
          0,
          0,
          3,
          3
         ],
         "yaxis": "y"
        },
        {
         "hovertemplate": "player=Zed<br>year=2017<br>hill time (s)=%{x}<br>hill defends=%{y}<extra></extra>",
         "legendgroup": "Zed",
         "marker": {
          "color": "#B6E880",
          "symbol": "circle"
         },
         "mode": "markers",
         "name": "Zed",
         "showlegend": true,
         "type": "scattergl",
         "x": [
          138,
          52,
          57,
          71,
          0
         ],
         "xaxis": "x",
         "y": [
          6,
          8,
          2,
          4,
          0
         ],
         "yaxis": "y"
        },
        {
         "hovertemplate": "player=Zed<br>year=2018<br>hill time (s)=%{x}<br>hill defends=%{y}<extra></extra>",
         "legendgroup": "Zed",
         "marker": {
          "color": "#B6E880",
          "symbol": "circle"
         },
         "mode": "markers",
         "name": "Zed",
         "showlegend": false,
         "type": "scattergl",
         "x": [
          46,
          109,
          68,
          104,
          70,
          73,
          12
         ],
         "xaxis": "x2",
         "y": [
          0,
          2,
          1,
          3,
          3,
          2,
          0
         ],
         "yaxis": "y2"
        },
        {
         "hovertemplate": "player=Zed<br>year=2019<br>hill time (s)=%{x}<br>hill defends=%{y}<extra></extra>",
         "legendgroup": "Zed",
         "marker": {
          "color": "#B6E880",
          "symbol": "circle"
         },
         "mode": "markers",
         "name": "Zed",
         "showlegend": false,
         "type": "scattergl",
         "x": [
          73,
          102,
          65,
          108,
          65,
          96,
          53,
          113,
          50,
          57,
          73,
          23
         ],
         "xaxis": "x3",
         "y": [
          8,
          11,
          6,
          9,
          6,
          7,
          2,
          3,
          1,
          9,
          2,
          2
         ],
         "yaxis": "y3"
        },
        {
         "hovertemplate": "player=Fastballa<br>year=2017<br>hill time (s)=%{x}<br>hill defends=%{y}<extra></extra>",
         "legendgroup": "Fastballa",
         "marker": {
          "color": "#FF97FF",
          "symbol": "circle"
         },
         "mode": "markers",
         "name": "Fastballa",
         "showlegend": true,
         "type": "scattergl",
         "x": [
          21,
          68,
          46,
          63,
          47
         ],
         "xaxis": "x",
         "y": [
          2,
          5,
          2,
          4,
          3
         ],
         "yaxis": "y"
        },
        {
         "hovertemplate": "player=Fastballa<br>year=2018<br>hill time (s)=%{x}<br>hill defends=%{y}<extra></extra>",
         "legendgroup": "Fastballa",
         "marker": {
          "color": "#FF97FF",
          "symbol": "circle"
         },
         "mode": "markers",
         "name": "Fastballa",
         "showlegend": false,
         "type": "scattergl",
         "x": [
          60,
          64,
          42
         ],
         "xaxis": "x2",
         "y": [
          2,
          2,
          1
         ],
         "yaxis": "y2"
        },
        {
         "hovertemplate": "player=Fastballa<br>year=2019<br>hill time (s)=%{x}<br>hill defends=%{y}<extra></extra>",
         "legendgroup": "Fastballa",
         "marker": {
          "color": "#FF97FF",
          "symbol": "circle"
         },
         "mode": "markers",
         "name": "Fastballa",
         "showlegend": false,
         "type": "scattergl",
         "x": [
          37,
          45,
          41,
          42
         ],
         "xaxis": "x3",
         "y": [
          4,
          13,
          4,
          12
         ],
         "yaxis": "y3"
        },
        {
         "hovertemplate": "player=Glory<br>year=2017<br>hill time (s)=%{x}<br>hill defends=%{y}<extra></extra>",
         "legendgroup": "Glory",
         "marker": {
          "color": "#FECB52",
          "symbol": "circle"
         },
         "mode": "markers",
         "name": "Glory",
         "showlegend": true,
         "type": "scattergl",
         "x": [
          71,
          73,
          60,
          37,
          48
         ],
         "xaxis": "x",
         "y": [
          3,
          4,
          6,
          4,
          4
         ],
         "yaxis": "y"
        },
        {
         "hovertemplate": "player=Glory<br>year=2019<br>hill time (s)=%{x}<br>hill defends=%{y}<extra></extra>",
         "legendgroup": "Glory",
         "marker": {
          "color": "#FECB52",
          "symbol": "circle"
         },
         "mode": "markers",
         "name": "Glory",
         "showlegend": false,
         "type": "scattergl",
         "x": [
          9,
          29,
          53,
          82,
          24,
          73
         ],
         "xaxis": "x3",
         "y": [
          6,
          8,
          2,
          13,
          5,
          2
         ],
         "yaxis": "y3"
        },
        {
         "hovertemplate": "player=Profeezy<br>year=2017<br>hill time (s)=%{x}<br>hill defends=%{y}<extra></extra>",
         "legendgroup": "Profeezy",
         "marker": {
          "color": "#636efa",
          "symbol": "circle"
         },
         "mode": "markers",
         "name": "Profeezy",
         "showlegend": true,
         "type": "scattergl",
         "x": [
          63,
          98,
          82,
          48,
          46
         ],
         "xaxis": "x",
         "y": [
          2,
          2,
          2,
          3,
          3
         ],
         "yaxis": "y"
        },
        {
         "hovertemplate": "player=Profeezy<br>year=2019<br>hill time (s)=%{x}<br>hill defends=%{y}<extra></extra>",
         "legendgroup": "Profeezy",
         "marker": {
          "color": "#636efa",
          "symbol": "circle"
         },
         "mode": "markers",
         "name": "Profeezy",
         "showlegend": false,
         "type": "scattergl",
         "x": [
          56,
          70,
          105,
          79,
          110,
          47,
          59,
          107,
          30,
          127
         ],
         "xaxis": "x3",
         "y": [
          19,
          5,
          6,
          9,
          8,
          8,
          7,
          6,
          2,
          2
         ],
         "yaxis": "y3"
        },
        {
         "hovertemplate": "player=Prophet<br>year=2017<br>hill time (s)=%{x}<br>hill defends=%{y}<extra></extra>",
         "legendgroup": "Prophet",
         "marker": {
          "color": "#EF553B",
          "symbol": "circle"
         },
         "mode": "markers",
         "name": "Prophet",
         "showlegend": true,
         "type": "scattergl",
         "x": [
          88,
          108,
          55,
          40,
          51
         ],
         "xaxis": "x",
         "y": [
          4,
          2,
          2,
          1,
          5
         ],
         "yaxis": "y"
        },
        {
         "hovertemplate": "player=Classic<br>year=2017<br>hill time (s)=%{x}<br>hill defends=%{y}<extra></extra>",
         "legendgroup": "Classic",
         "marker": {
          "color": "#00cc96",
          "symbol": "circle"
         },
         "mode": "markers",
         "name": "Classic",
         "showlegend": true,
         "type": "scattergl",
         "x": [
          64,
          21,
          22,
          72,
          81,
          67,
          48,
          30,
          19,
          94,
          44,
          86,
          50,
          50
         ],
         "xaxis": "x",
         "y": [
          4,
          0,
          1,
          3,
          5,
          1,
          3,
          2,
          2,
          3,
          3,
          3,
          2,
          4
         ],
         "yaxis": "y"
        },
        {
         "hovertemplate": "player=Classic<br>year=2018<br>hill time (s)=%{x}<br>hill defends=%{y}<extra></extra>",
         "legendgroup": "Classic",
         "marker": {
          "color": "#00cc96",
          "symbol": "circle"
         },
         "mode": "markers",
         "name": "Classic",
         "showlegend": false,
         "type": "scattergl",
         "x": [
          79,
          41,
          14,
          17,
          50,
          64,
          17,
          39,
          25,
          22,
          81
         ],
         "xaxis": "x2",
         "y": [
          1,
          2,
          1,
          0,
          0,
          1,
          1,
          0,
          1,
          1,
          0
         ],
         "yaxis": "y2"
        },
        {
         "hovertemplate": "player=Classic<br>year=2019<br>hill time (s)=%{x}<br>hill defends=%{y}<extra></extra>",
         "legendgroup": "Classic",
         "marker": {
          "color": "#00cc96",
          "symbol": "circle"
         },
         "mode": "markers",
         "name": "Classic",
         "showlegend": false,
         "type": "scattergl",
         "x": [
          50,
          13,
          123,
          60,
          87
         ],
         "xaxis": "x3",
         "y": [
          4,
          8,
          7,
          7,
          8
         ],
         "yaxis": "y3"
        },
        {
         "hovertemplate": "player=Octane<br>year=2017<br>hill time (s)=%{x}<br>hill defends=%{y}<extra></extra>",
         "legendgroup": "Octane",
         "marker": {
          "color": "#ab63fa",
          "symbol": "circle"
         },
         "mode": "markers",
         "name": "Octane",
         "showlegend": true,
         "type": "scattergl",
         "x": [
          122,
          113,
          46,
          82,
          74,
          27,
          129,
          46,
          99,
          58,
          110,
          53,
          129,
          37
         ],
         "xaxis": "x",
         "y": [
          4,
          5,
          4,
          5,
          6,
          1,
          3,
          1,
          5,
          3,
          6,
          3,
          6,
          1
         ],
         "yaxis": "y"
        },
        {
         "hovertemplate": "player=Octane<br>year=2018<br>hill time (s)=%{x}<br>hill defends=%{y}<extra></extra>",
         "legendgroup": "Octane",
         "marker": {
          "color": "#ab63fa",
          "symbol": "circle"
         },
         "mode": "markers",
         "name": "Octane",
         "showlegend": false,
         "type": "scattergl",
         "x": [
          104,
          126,
          107,
          78
         ],
         "xaxis": "x2",
         "y": [
          0,
          4,
          3,
          0
         ],
         "yaxis": "y2"
        },
        {
         "hovertemplate": "player=Octane<br>year=2019<br>hill time (s)=%{x}<br>hill defends=%{y}<extra></extra>",
         "legendgroup": "Octane",
         "marker": {
          "color": "#ab63fa",
          "symbol": "circle"
         },
         "mode": "markers",
         "name": "Octane",
         "showlegend": false,
         "type": "scattergl",
         "x": [
          76,
          94,
          112,
          181,
          138,
          85,
          124,
          62,
          108,
          77,
          76,
          91,
          132,
          116,
          82,
          137,
          55,
          99
         ],
         "xaxis": "x3",
         "y": [
          10,
          1,
          5,
          4,
          10,
          6,
          8,
          11,
          14,
          7,
          8,
          4,
          4,
          3,
          10,
          5,
          15,
          7
         ],
         "yaxis": "y3"
        },
        {
         "hovertemplate": "player=Saints<br>year=2017<br>hill time (s)=%{x}<br>hill defends=%{y}<extra></extra>",
         "legendgroup": "Saints",
         "marker": {
          "color": "#FFA15A",
          "symbol": "circle"
         },
         "mode": "markers",
         "name": "Saints",
         "showlegend": true,
         "type": "scattergl",
         "x": [
          87,
          95,
          119,
          94,
          85,
          52,
          31,
          88,
          75,
          118,
          79,
          54,
          88,
          32
         ],
         "xaxis": "x",
         "y": [
          7,
          3,
          2,
          4,
          6,
          5,
          3,
          4,
          4,
          3,
          10,
          5,
          4,
          0
         ],
         "yaxis": "y"
        },
        {
         "hovertemplate": "player=Saints<br>year=2018<br>hill time (s)=%{x}<br>hill defends=%{y}<extra></extra>",
         "legendgroup": "Saints",
         "marker": {
          "color": "#FFA15A",
          "symbol": "circle"
         },
         "mode": "markers",
         "name": "Saints",
         "showlegend": false,
         "type": "scattergl",
         "x": [
          54,
          124,
          22,
          0
         ],
         "xaxis": "x2",
         "y": [
          1,
          6,
          0,
          0
         ],
         "yaxis": "y2"
        },
        {
         "hovertemplate": "player=Saints<br>year=2019<br>hill time (s)=%{x}<br>hill defends=%{y}<extra></extra>",
         "legendgroup": "Saints",
         "marker": {
          "color": "#FFA15A",
          "symbol": "circle"
         },
         "mode": "markers",
         "name": "Saints",
         "showlegend": false,
         "type": "scattergl",
         "x": [
          86,
          43,
          44,
          42,
          74
         ],
         "xaxis": "x3",
         "y": [
          1,
          3,
          3,
          3,
          12
         ],
         "yaxis": "y3"
        },
        {
         "hovertemplate": "player=Slacked<br>year=2017<br>hill time (s)=%{x}<br>hill defends=%{y}<extra></extra>",
         "legendgroup": "Slacked",
         "marker": {
          "color": "#19d3f3",
          "symbol": "circle"
         },
         "mode": "markers",
         "name": "Slacked",
         "showlegend": true,
         "type": "scattergl",
         "x": [
          86,
          88,
          105,
          90,
          57,
          38,
          105,
          115,
          103,
          75,
          49,
          85,
          79,
          23
         ],
         "xaxis": "x",
         "y": [
          4,
          0,
          1,
          6,
          2,
          2,
          4,
          1,
          6,
          1,
          1,
          2,
          0,
          0
         ],
         "yaxis": "y"
        },
        {
         "hovertemplate": "player=Slacked<br>year=2018<br>hill time (s)=%{x}<br>hill defends=%{y}<extra></extra>",
         "legendgroup": "Slacked",
         "marker": {
          "color": "#19d3f3",
          "symbol": "circle"
         },
         "mode": "markers",
         "name": "Slacked",
         "showlegend": false,
         "type": "scattergl",
         "x": [
          39,
          95,
          32,
          72,
          4,
          43,
          74,
          77,
          72,
          54,
          40
         ],
         "xaxis": "x2",
         "y": [
          1,
          1,
          2,
          0,
          1,
          1,
          0,
          5,
          1,
          0,
          0
         ],
         "yaxis": "y2"
        },
        {
         "hovertemplate": "player=Slacked<br>year=2019<br>hill time (s)=%{x}<br>hill defends=%{y}<extra></extra>",
         "legendgroup": "Slacked",
         "marker": {
          "color": "#19d3f3",
          "symbol": "circle"
         },
         "mode": "markers",
         "name": "Slacked",
         "showlegend": false,
         "type": "scattergl",
         "x": [
          39,
          85,
          71,
          52,
          61,
          79,
          52,
          59,
          46,
          86,
          87,
          51
         ],
         "xaxis": "x3",
         "y": [
          4,
          1,
          6,
          7,
          6,
          14,
          6,
          5,
          7,
          7,
          3,
          3
         ],
         "yaxis": "y3"
        },
        {
         "hovertemplate": "player=Eazy<br>year=2017<br>hill time (s)=%{x}<br>hill defends=%{y}<extra></extra>",
         "legendgroup": "Eazy",
         "marker": {
          "color": "#FF6692",
          "symbol": "circle"
         },
         "mode": "markers",
         "name": "Eazy",
         "showlegend": true,
         "type": "scattergl",
         "x": [
          25,
          46,
          16,
          47
         ],
         "xaxis": "x",
         "y": [
          2,
          4,
          1,
          3
         ],
         "yaxis": "y"
        },
        {
         "hovertemplate": "player=Eazy<br>year=2018<br>hill time (s)=%{x}<br>hill defends=%{y}<extra></extra>",
         "legendgroup": "Eazy",
         "marker": {
          "color": "#FF6692",
          "symbol": "circle"
         },
         "mode": "markers",
         "name": "Eazy",
         "showlegend": false,
         "type": "scattergl",
         "x": [
          31,
          56,
          44,
          51
         ],
         "xaxis": "x2",
         "y": [
          0,
          1,
          0,
          0
         ],
         "yaxis": "y2"
        },
        {
         "hovertemplate": "player=Malls<br>year=2017<br>hill time (s)=%{x}<br>hill defends=%{y}<extra></extra>",
         "legendgroup": "Malls",
         "marker": {
          "color": "#B6E880",
          "symbol": "circle"
         },
         "mode": "markers",
         "name": "Malls",
         "showlegend": true,
         "type": "scattergl",
         "x": [
          24,
          107,
          3,
          17
         ],
         "xaxis": "x",
         "y": [
          1,
          3,
          0,
          2
         ],
         "yaxis": "y"
        },
        {
         "hovertemplate": "player=Malls<br>year=2018<br>hill time (s)=%{x}<br>hill defends=%{y}<extra></extra>",
         "legendgroup": "Malls",
         "marker": {
          "color": "#B6E880",
          "symbol": "circle"
         },
         "mode": "markers",
         "name": "Malls",
         "showlegend": false,
         "type": "scattergl",
         "x": [
          34,
          13,
          31,
          40
         ],
         "xaxis": "x2",
         "y": [
          0,
          1,
          1,
          1
         ],
         "yaxis": "y2"
        },
        {
         "hovertemplate": "player=SyVortex<br>year=2017<br>hill time (s)=%{x}<br>hill defends=%{y}<extra></extra>",
         "legendgroup": "SyVortex",
         "marker": {
          "color": "#FF97FF",
          "symbol": "circle"
         },
         "mode": "markers",
         "name": "SyVortex",
         "showlegend": true,
         "type": "scattergl",
         "x": [
          37,
          98,
          94,
          95
         ],
         "xaxis": "x",
         "y": [
          2,
          6,
          1,
          7
         ],
         "yaxis": "y"
        },
        {
         "hovertemplate": "player=TonyJs<br>year=2017<br>hill time (s)=%{x}<br>hill defends=%{y}<extra></extra>",
         "legendgroup": "TonyJs",
         "marker": {
          "color": "#FECB52",
          "symbol": "circle"
         },
         "mode": "markers",
         "name": "TonyJs",
         "showlegend": true,
         "type": "scattergl",
         "x": [
          50,
          90,
          44,
          6
         ],
         "xaxis": "x",
         "y": [
          2,
          3,
          0,
          0
         ],
         "yaxis": "y"
        },
        {
         "hovertemplate": "player=TonyJs<br>year=2018<br>hill time (s)=%{x}<br>hill defends=%{y}<extra></extra>",
         "legendgroup": "TonyJs",
         "marker": {
          "color": "#FECB52",
          "symbol": "circle"
         },
         "mode": "markers",
         "name": "TonyJs",
         "showlegend": false,
         "type": "scattergl",
         "x": [
          49,
          99,
          67,
          41
         ],
         "xaxis": "x2",
         "y": [
          0,
          0,
          1,
          3
         ],
         "yaxis": "y2"
        },
        {
         "hovertemplate": "player=Arcitys<br>year=2017<br>hill time (s)=%{x}<br>hill defends=%{y}<extra></extra>",
         "legendgroup": "Arcitys",
         "marker": {
          "color": "#636efa",
          "symbol": "circle"
         },
         "mode": "markers",
         "name": "Arcitys",
         "showlegend": true,
         "type": "scattergl",
         "x": [
          103,
          67,
          95,
          85,
          60,
          172,
          46,
          73,
          36,
          53
         ],
         "xaxis": "x",
         "y": [
          6,
          3,
          3,
          4,
          4,
          7,
          3,
          1,
          3,
          1
         ],
         "yaxis": "y"
        },
        {
         "hovertemplate": "player=Arcitys<br>year=2018<br>hill time (s)=%{x}<br>hill defends=%{y}<extra></extra>",
         "legendgroup": "Arcitys",
         "marker": {
          "color": "#636efa",
          "symbol": "circle"
         },
         "mode": "markers",
         "name": "Arcitys",
         "showlegend": false,
         "type": "scattergl",
         "x": [
          66,
          63,
          52,
          66,
          88,
          67,
          55,
          13,
          116,
          97,
          93,
          98
         ],
         "xaxis": "x2",
         "y": [
          0,
          0,
          0,
          1,
          1,
          3,
          0,
          0,
          1,
          2,
          1,
          2
         ],
         "yaxis": "y2"
        },
        {
         "hovertemplate": "player=Arcitys<br>year=2019<br>hill time (s)=%{x}<br>hill defends=%{y}<extra></extra>",
         "legendgroup": "Arcitys",
         "marker": {
          "color": "#636efa",
          "symbol": "circle"
         },
         "mode": "markers",
         "name": "Arcitys",
         "showlegend": false,
         "type": "scattergl",
         "x": [
          38,
          87,
          76,
          80,
          46,
          64,
          59,
          107,
          130,
          90,
          21,
          158,
          92,
          177
         ],
         "xaxis": "x3",
         "y": [
          3,
          4,
          6,
          4,
          7,
          3,
          2,
          7,
          7,
          7,
          6,
          2,
          6,
          7
         ],
         "yaxis": "y3"
        },
        {
         "hovertemplate": "player=Clayster<br>year=2017<br>hill time (s)=%{x}<br>hill defends=%{y}<extra></extra>",
         "legendgroup": "Clayster",
         "marker": {
          "color": "#EF553B",
          "symbol": "circle"
         },
         "mode": "markers",
         "name": "Clayster",
         "showlegend": true,
         "type": "scattergl",
         "x": [
          46,
          40,
          57,
          53,
          16,
          28,
          76,
          56,
          13,
          38
         ],
         "xaxis": "x",
         "y": [
          1,
          3,
          4,
          2,
          2,
          2,
          3,
          1,
          0,
          1
         ],
         "yaxis": "y"
        },
        {
         "hovertemplate": "player=Clayster<br>year=2018<br>hill time (s)=%{x}<br>hill defends=%{y}<extra></extra>",
         "legendgroup": "Clayster",
         "marker": {
          "color": "#EF553B",
          "symbol": "circle"
         },
         "mode": "markers",
         "name": "Clayster",
         "showlegend": false,
         "type": "scattergl",
         "x": [
          99,
          70,
          73,
          79,
          40,
          81,
          72,
          53,
          90,
          45,
          96,
          42
         ],
         "xaxis": "x2",
         "y": [
          3,
          0,
          0,
          0,
          1,
          1,
          1,
          0,
          2,
          0,
          1,
          0
         ],
         "yaxis": "y2"
        },
        {
         "hovertemplate": "player=Clayster<br>year=2019<br>hill time (s)=%{x}<br>hill defends=%{y}<extra></extra>",
         "legendgroup": "Clayster",
         "marker": {
          "color": "#EF553B",
          "symbol": "circle"
         },
         "mode": "markers",
         "name": "Clayster",
         "showlegend": false,
         "type": "scattergl",
         "x": [
          57,
          48,
          54,
          30,
          42,
          71,
          67,
          31,
          44,
          45,
          40,
          40,
          65,
          28
         ],
         "xaxis": "x3",
         "y": [
          3,
          5,
          7,
          12,
          6,
          4,
          6,
          5,
          5,
          0,
          5,
          1,
          7,
          8
         ],
         "yaxis": "y3"
        },
        {
         "hovertemplate": "player=Prestinni<br>year=2017<br>hill time (s)=%{x}<br>hill defends=%{y}<extra></extra>",
         "legendgroup": "Prestinni",
         "marker": {
          "color": "#00cc96",
          "symbol": "circle"
         },
         "mode": "markers",
         "name": "Prestinni",
         "showlegend": true,
         "type": "scattergl",
         "x": [
          59,
          104,
          77,
          69,
          103,
          66,
          113,
          91,
          66,
          93
         ],
         "xaxis": "x",
         "y": [
          4,
          5,
          1,
          2,
          4,
          1,
          1,
          4,
          2,
          5
         ],
         "yaxis": "y"
        },
        {
         "hovertemplate": "player=Prestinni<br>year=2018<br>hill time (s)=%{x}<br>hill defends=%{y}<extra></extra>",
         "legendgroup": "Prestinni",
         "marker": {
          "color": "#00cc96",
          "symbol": "circle"
         },
         "mode": "markers",
         "name": "Prestinni",
         "showlegend": false,
         "type": "scattergl",
         "x": [
          45,
          33,
          41,
          77,
          79,
          69,
          74,
          72,
          44,
          61,
          50,
          53
         ],
         "xaxis": "x2",
         "y": [
          0,
          1,
          2,
          1,
          1,
          2,
          1,
          0,
          3,
          3,
          1,
          0
         ],
         "yaxis": "y2"
        },
        {
         "hovertemplate": "player=Prestinni<br>year=2019<br>hill time (s)=%{x}<br>hill defends=%{y}<extra></extra>",
         "legendgroup": "Prestinni",
         "marker": {
          "color": "#00cc96",
          "symbol": "circle"
         },
         "mode": "markers",
         "name": "Prestinni",
         "showlegend": false,
         "type": "scattergl",
         "x": [
          106,
          89,
          80,
          55,
          108,
          87,
          61,
          54,
          34,
          78,
          33,
          60,
          104,
          51
         ],
         "xaxis": "x3",
         "y": [
          1,
          2,
          7,
          13,
          7,
          4,
          5,
          7,
          10,
          4,
          7,
          6,
          5,
          4
         ],
         "yaxis": "y3"
        },
        {
         "hovertemplate": "player=Silly<br>year=2017<br>hill time (s)=%{x}<br>hill defends=%{y}<extra></extra>",
         "legendgroup": "Silly",
         "marker": {
          "color": "#ab63fa",
          "symbol": "circle"
         },
         "mode": "markers",
         "name": "Silly",
         "showlegend": true,
         "type": "scattergl",
         "x": [
          125,
          79,
          92,
          53,
          103,
          96,
          108,
          100,
          149,
          65
         ],
         "xaxis": "x",
         "y": [
          5,
          3,
          3,
          2,
          3,
          1,
          5,
          4,
          7,
          4
         ],
         "yaxis": "y"
        },
        {
         "hovertemplate": "player=Silly<br>year=2018<br>hill time (s)=%{x}<br>hill defends=%{y}<extra></extra>",
         "legendgroup": "Silly",
         "marker": {
          "color": "#ab63fa",
          "symbol": "circle"
         },
         "mode": "markers",
         "name": "Silly",
         "showlegend": false,
         "type": "scattergl",
         "x": [
          68,
          116,
          107,
          138,
          82,
          71,
          70,
          55,
          98,
          92,
          153,
          96,
          85,
          62
         ],
         "xaxis": "x2",
         "y": [
          1,
          0,
          3,
          1,
          1,
          1,
          4,
          0,
          2,
          1,
          2,
          1,
          0,
          1
         ],
         "yaxis": "y2"
        },
        {
         "hovertemplate": "player=Silly<br>year=2019<br>hill time (s)=%{x}<br>hill defends=%{y}<extra></extra>",
         "legendgroup": "Silly",
         "marker": {
          "color": "#ab63fa",
          "symbol": "circle"
         },
         "mode": "markers",
         "name": "Silly",
         "showlegend": false,
         "type": "scattergl",
         "x": [
          43,
          77,
          25,
          58,
          109,
          27,
          112,
          30,
          34,
          51
         ],
         "xaxis": "x3",
         "y": [
          7,
          4,
          12,
          8,
          8,
          6,
          10,
          8,
          5,
          6
         ],
         "yaxis": "y3"
        },
        {
         "hovertemplate": "player=Buzzo<br>year=2017<br>hill time (s)=%{x}<br>hill defends=%{y}<extra></extra>",
         "legendgroup": "Buzzo",
         "marker": {
          "color": "#FFA15A",
          "symbol": "circle"
         },
         "mode": "markers",
         "name": "Buzzo",
         "showlegend": true,
         "type": "scattergl",
         "x": [
          32,
          37,
          66,
          88,
          48
         ],
         "xaxis": "x",
         "y": [
          1,
          2,
          4,
          5,
          2
         ],
         "yaxis": "y"
        },
        {
         "hovertemplate": "player=Buzzo<br>year=2018<br>hill time (s)=%{x}<br>hill defends=%{y}<extra></extra>",
         "legendgroup": "Buzzo",
         "marker": {
          "color": "#FFA15A",
          "symbol": "circle"
         },
         "mode": "markers",
         "name": "Buzzo",
         "showlegend": false,
         "type": "scattergl",
         "x": [
          89,
          14,
          37,
          110,
          60
         ],
         "xaxis": "x2",
         "y": [
          1,
          0,
          1,
          0,
          0
         ],
         "yaxis": "y2"
        },
        {
         "hovertemplate": "player=Denz<br>year=2017<br>hill time (s)=%{x}<br>hill defends=%{y}<extra></extra>",
         "legendgroup": "Denz",
         "marker": {
          "color": "#19d3f3",
          "symbol": "circle"
         },
         "mode": "markers",
         "name": "Denz",
         "showlegend": true,
         "type": "scattergl",
         "x": [
          29,
          76,
          78,
          42,
          47
         ],
         "xaxis": "x",
         "y": [
          0,
          1,
          2,
          0,
          4
         ],
         "yaxis": "y"
        },
        {
         "hovertemplate": "player=Denz<br>year=2018<br>hill time (s)=%{x}<br>hill defends=%{y}<extra></extra>",
         "legendgroup": "Denz",
         "marker": {
          "color": "#19d3f3",
          "symbol": "circle"
         },
         "mode": "markers",
         "name": "Denz",
         "showlegend": false,
         "type": "scattergl",
         "x": [
          85,
          30,
          39,
          47,
          50
         ],
         "xaxis": "x2",
         "y": [
          1,
          0,
          0,
          0,
          0
         ],
         "yaxis": "y2"
        },
        {
         "hovertemplate": "player=Denz<br>year=2019<br>hill time (s)=%{x}<br>hill defends=%{y}<extra></extra>",
         "legendgroup": "Denz",
         "marker": {
          "color": "#19d3f3",
          "symbol": "circle"
         },
         "mode": "markers",
         "name": "Denz",
         "showlegend": false,
         "type": "scattergl",
         "x": [
          125,
          51,
          64,
          56,
          30,
          54,
          44,
          37,
          46,
          22,
          31,
          73
         ],
         "xaxis": "x3",
         "y": [
          4,
          3,
          3,
          5,
          2,
          2,
          6,
          3,
          6,
          11,
          5,
          4
         ],
         "yaxis": "y3"
        },
        {
         "hovertemplate": "player=Fighta<br>year=2017<br>hill time (s)=%{x}<br>hill defends=%{y}<extra></extra>",
         "legendgroup": "Fighta",
         "marker": {
          "color": "#FF6692",
          "symbol": "circle"
         },
         "mode": "markers",
         "name": "Fighta",
         "showlegend": true,
         "type": "scattergl",
         "x": [
          43,
          70,
          69,
          74,
          69
         ],
         "xaxis": "x",
         "y": [
          2,
          3,
          4,
          3,
          3
         ],
         "yaxis": "y"
        },
        {
         "hovertemplate": "player=Fighta<br>year=2018<br>hill time (s)=%{x}<br>hill defends=%{y}<extra></extra>",
         "legendgroup": "Fighta",
         "marker": {
          "color": "#FF6692",
          "symbol": "circle"
         },
         "mode": "markers",
         "name": "Fighta",
         "showlegend": false,
         "type": "scattergl",
         "x": [
          72,
          41,
          140,
          88,
          132
         ],
         "xaxis": "x2",
         "y": [
          1,
          0,
          3,
          4,
          4
         ],
         "yaxis": "y2"
        },
        {
         "hovertemplate": "player=Shockz<br>year=2017<br>hill time (s)=%{x}<br>hill defends=%{y}<extra></extra>",
         "legendgroup": "Shockz",
         "marker": {
          "color": "#B6E880",
          "symbol": "circle"
         },
         "mode": "markers",
         "name": "Shockz",
         "showlegend": true,
         "type": "scattergl",
         "x": [
          50,
          97,
          109,
          83,
          98
         ],
         "xaxis": "x",
         "y": [
          1,
          3,
          1,
          5,
          7
         ],
         "yaxis": "y"
        },
        {
         "hovertemplate": "player=Shockz<br>year=2018<br>hill time (s)=%{x}<br>hill defends=%{y}<extra></extra>",
         "legendgroup": "Shockz",
         "marker": {
          "color": "#B6E880",
          "symbol": "circle"
         },
         "mode": "markers",
         "name": "Shockz",
         "showlegend": false,
         "type": "scattergl",
         "x": [
          11,
          12,
          32,
          53,
          35
         ],
         "xaxis": "x2",
         "y": [
          0,
          2,
          4,
          0,
          1
         ],
         "yaxis": "y2"
        },
        {
         "hovertemplate": "player=Hate<br>year=2017<br>hill time (s)=%{x}<br>hill defends=%{y}<extra></extra>",
         "legendgroup": "Hate",
         "marker": {
          "color": "#FF97FF",
          "symbol": "circle"
         },
         "mode": "markers",
         "name": "Hate",
         "showlegend": true,
         "type": "scattergl",
         "x": [
          76,
          106,
          18,
          157,
          94
         ],
         "xaxis": "x",
         "y": [
          4,
          4,
          1,
          8,
          5
         ],
         "yaxis": "y"
        },
        {
         "hovertemplate": "player=Hate<br>year=2018<br>hill time (s)=%{x}<br>hill defends=%{y}<extra></extra>",
         "legendgroup": "Hate",
         "marker": {
          "color": "#FF97FF",
          "symbol": "circle"
         },
         "mode": "markers",
         "name": "Hate",
         "showlegend": false,
         "type": "scattergl",
         "x": [
          59,
          86,
          63,
          33
         ],
         "xaxis": "x2",
         "y": [
          0,
          0,
          0,
          1
         ],
         "yaxis": "y2"
        },
        {
         "hovertemplate": "player=HumanJesus<br>year=2017<br>hill time (s)=%{x}<br>hill defends=%{y}<extra></extra>",
         "legendgroup": "HumanJesus",
         "marker": {
          "color": "#FECB52",
          "symbol": "circle"
         },
         "mode": "markers",
         "name": "HumanJesus",
         "showlegend": true,
         "type": "scattergl",
         "x": [
          94,
          41,
          10,
          57,
          24
         ],
         "xaxis": "x",
         "y": [
          1,
          2,
          1,
          2,
          0
         ],
         "yaxis": "y"
        },
        {
         "hovertemplate": "player=HumanJesus<br>year=2019<br>hill time (s)=%{x}<br>hill defends=%{y}<extra></extra>",
         "legendgroup": "HumanJesus",
         "marker": {
          "color": "#FECB52",
          "symbol": "circle"
         },
         "mode": "markers",
         "name": "HumanJesus",
         "showlegend": false,
         "type": "scattergl",
         "x": [
          35,
          46,
          92,
          50,
          42,
          94
         ],
         "xaxis": "x3",
         "y": [
          3,
          4,
          4,
          10,
          6,
          2
         ],
         "yaxis": "y3"
        },
        {
         "hovertemplate": "player=Juju<br>year=2017<br>hill time (s)=%{x}<br>hill defends=%{y}<extra></extra>",
         "legendgroup": "Juju",
         "marker": {
          "color": "#636efa",
          "symbol": "circle"
         },
         "mode": "markers",
         "name": "Juju",
         "showlegend": true,
         "type": "scattergl",
         "x": [
          95,
          51,
          39,
          100,
          93
         ],
         "xaxis": "x",
         "y": [
          5,
          2,
          1,
          5,
          4
         ],
         "yaxis": "y"
        },
        {
         "hovertemplate": "player=KlinK<br>year=2017<br>hill time (s)=%{x}<br>hill defends=%{y}<extra></extra>",
         "legendgroup": "KlinK",
         "marker": {
          "color": "#EF553B",
          "symbol": "circle"
         },
         "mode": "markers",
         "name": "KlinK",
         "showlegend": true,
         "type": "scattergl",
         "x": [
          82,
          38,
          41,
          44,
          103
         ],
         "xaxis": "x",
         "y": [
          4,
          0,
          1,
          2,
          5
         ],
         "yaxis": "y"
        },
        {
         "hovertemplate": "player=KlinK<br>year=2019<br>hill time (s)=%{x}<br>hill defends=%{y}<extra></extra>",
         "legendgroup": "KlinK",
         "marker": {
          "color": "#EF553B",
          "symbol": "circle"
         },
         "mode": "markers",
         "name": "KlinK",
         "showlegend": false,
         "type": "scattergl",
         "x": [
          9,
          15,
          58,
          57,
          13,
          81
         ],
         "xaxis": "x3",
         "y": [
          2,
          4,
          9,
          10,
          4,
          8
         ],
         "yaxis": "y3"
        },
        {
         "hovertemplate": "player=Alexx<br>year=2017<br>hill time (s)=%{x}<br>hill defends=%{y}<extra></extra>",
         "legendgroup": "Alexx",
         "marker": {
          "color": "#00cc96",
          "symbol": "circle"
         },
         "mode": "markers",
         "name": "Alexx",
         "showlegend": true,
         "type": "scattergl",
         "x": [
          25,
          47,
          67,
          48,
          37,
          121,
          56,
          70,
          65,
          17
         ],
         "xaxis": "x",
         "y": [
          2,
          5,
          1,
          1,
          1,
          4,
          3,
          1,
          2,
          0
         ],
         "yaxis": "y"
        },
        {
         "hovertemplate": "player=Niall<br>year=2017<br>hill time (s)=%{x}<br>hill defends=%{y}<extra></extra>",
         "legendgroup": "Niall",
         "marker": {
          "color": "#ab63fa",
          "symbol": "circle"
         },
         "mode": "markers",
         "name": "Niall",
         "showlegend": true,
         "type": "scattergl",
         "x": [
          59,
          81,
          44,
          34,
          106,
          16,
          67,
          76,
          100,
          17
         ],
         "xaxis": "x",
         "y": [
          1,
          1,
          1,
          1,
          3,
          0,
          3,
          2,
          4,
          2
         ],
         "yaxis": "y"
        },
        {
         "hovertemplate": "player=Nolson<br>year=2017<br>hill time (s)=%{x}<br>hill defends=%{y}<extra></extra>",
         "legendgroup": "Nolson",
         "marker": {
          "color": "#FFA15A",
          "symbol": "circle"
         },
         "mode": "markers",
         "name": "Nolson",
         "showlegend": true,
         "type": "scattergl",
         "x": [
          107,
          37,
          52,
          14,
          46,
          30,
          69,
          19,
          23,
          32
         ],
         "xaxis": "x",
         "y": [
          2,
          1,
          2,
          1,
          4,
          1,
          1,
          2,
          3,
          2
         ],
         "yaxis": "y"
        },
        {
         "hovertemplate": "player=Nolson<br>year=2019<br>hill time (s)=%{x}<br>hill defends=%{y}<extra></extra>",
         "legendgroup": "Nolson",
         "marker": {
          "color": "#FFA15A",
          "symbol": "circle"
         },
         "mode": "markers",
         "name": "Nolson",
         "showlegend": false,
         "type": "scattergl",
         "x": [
          80,
          74,
          69,
          64,
          76,
          84,
          34,
          44,
          30,
          60
         ],
         "xaxis": "x3",
         "y": [
          4,
          0,
          1,
          5,
          5,
          4,
          5,
          10,
          13,
          13
         ],
         "yaxis": "y3"
        },
        {
         "hovertemplate": "player=Zerg<br>year=2017<br>hill time (s)=%{x}<br>hill defends=%{y}<extra></extra>",
         "legendgroup": "Zerg",
         "marker": {
          "color": "#19d3f3",
          "symbol": "circle"
         },
         "mode": "markers",
         "name": "Zerg",
         "showlegend": true,
         "type": "scattergl",
         "x": [
          74,
          120,
          62,
          59,
          32,
          35,
          97,
          114,
          39,
          37
         ],
         "xaxis": "x",
         "y": [
          3,
          4,
          1,
          0,
          3,
          1,
          4,
          6,
          3,
          2
         ],
         "yaxis": "y"
        },
        {
         "hovertemplate": "player=Aqua<br>year=2017<br>hill time (s)=%{x}<br>hill defends=%{y}<extra></extra>",
         "legendgroup": "Aqua",
         "marker": {
          "color": "#FF6692",
          "symbol": "circle"
         },
         "mode": "markers",
         "name": "Aqua",
         "showlegend": true,
         "type": "scattergl",
         "x": [
          70,
          102,
          90,
          93,
          23,
          29,
          36,
          120,
          50,
          70,
          34,
          70,
          26,
          43,
          33,
          95
         ],
         "xaxis": "x",
         "y": [
          6,
          8,
          4,
          3,
          2,
          2,
          3,
          4,
          4,
          5,
          0,
          4,
          1,
          3,
          0,
          7
         ],
         "yaxis": "y"
        },
        {
         "hovertemplate": "player=Aqua<br>year=2018<br>hill time (s)=%{x}<br>hill defends=%{y}<extra></extra>",
         "legendgroup": "Aqua",
         "marker": {
          "color": "#FF6692",
          "symbol": "circle"
         },
         "mode": "markers",
         "name": "Aqua",
         "showlegend": false,
         "type": "scattergl",
         "x": [
          31,
          83,
          91,
          0
         ],
         "xaxis": "x2",
         "y": [
          2,
          4,
          1,
          0
         ],
         "yaxis": "y2"
        },
        {
         "hovertemplate": "player=Aqua<br>year=2019<br>hill time (s)=%{x}<br>hill defends=%{y}<extra></extra>",
         "legendgroup": "Aqua",
         "marker": {
          "color": "#FF6692",
          "symbol": "circle"
         },
         "mode": "markers",
         "name": "Aqua",
         "showlegend": false,
         "type": "scattergl",
         "x": [
          78,
          57,
          32,
          91,
          50,
          80,
          59,
          137
         ],
         "xaxis": "x3",
         "y": [
          11,
          1,
          7,
          10,
          9,
          6,
          5,
          1
         ],
         "yaxis": "y3"
        },
        {
         "hovertemplate": "player=Faccento<br>year=2017<br>hill time (s)=%{x}<br>hill defends=%{y}<extra></extra>",
         "legendgroup": "Faccento",
         "marker": {
          "color": "#B6E880",
          "symbol": "circle"
         },
         "mode": "markers",
         "name": "Faccento",
         "showlegend": true,
         "type": "scattergl",
         "x": [
          61,
          54,
          88,
          137,
          109,
          127,
          105,
          76,
          33,
          142,
          63,
          109,
          51,
          40,
          64,
          49
         ],
         "xaxis": "x",
         "y": [
          3,
          2,
          4,
          4,
          6,
          4,
          6,
          2,
          5,
          4,
          1,
          2,
          1,
          2,
          4,
          1
         ],
         "yaxis": "y"
        },
        {
         "hovertemplate": "player=Faccento<br>year=2018<br>hill time (s)=%{x}<br>hill defends=%{y}<extra></extra>",
         "legendgroup": "Faccento",
         "marker": {
          "color": "#B6E880",
          "symbol": "circle"
         },
         "mode": "markers",
         "name": "Faccento",
         "showlegend": false,
         "type": "scattergl",
         "x": [
          34,
          54,
          56,
          0
         ],
         "xaxis": "x2",
         "y": [
          1,
          2,
          1,
          0
         ],
         "yaxis": "y2"
        },
        {
         "hovertemplate": "player=Felony<br>year=2017<br>hill time (s)=%{x}<br>hill defends=%{y}<extra></extra>",
         "legendgroup": "Felony",
         "marker": {
          "color": "#FF97FF",
          "symbol": "circle"
         },
         "mode": "markers",
         "name": "Felony",
         "showlegend": true,
         "type": "scattergl",
         "x": [
          118,
          56,
          76,
          24,
          52,
          84,
          67,
          70,
          7,
          30,
          60,
          66,
          8,
          21,
          57,
          56
         ],
         "xaxis": "x",
         "y": [
          9,
          1,
          7,
          1,
          2,
          5,
          7,
          5,
          0,
          1,
          2,
          4,
          1,
          1,
          3,
          4
         ],
         "yaxis": "y"
        },
        {
         "hovertemplate": "player=Felony<br>year=2018<br>hill time (s)=%{x}<br>hill defends=%{y}<extra></extra>",
         "legendgroup": "Felony",
         "marker": {
          "color": "#FF97FF",
          "symbol": "circle"
         },
         "mode": "markers",
         "name": "Felony",
         "showlegend": false,
         "type": "scattergl",
         "x": [
          68,
          40,
          50,
          70,
          109,
          73,
          97,
          47,
          37,
          87,
          53,
          33
         ],
         "xaxis": "x2",
         "y": [
          1,
          2,
          0,
          1,
          1,
          2,
          3,
          3,
          2,
          2,
          1,
          0
         ],
         "yaxis": "y2"
        },
        {
         "hovertemplate": "player=Loony<br>year=2017<br>hill time (s)=%{x}<br>hill defends=%{y}<extra></extra>",
         "legendgroup": "Loony",
         "marker": {
          "color": "#FECB52",
          "symbol": "circle"
         },
         "mode": "markers",
         "name": "Loony",
         "showlegend": true,
         "type": "scattergl",
         "x": [
          71,
          45,
          47,
          21,
          94,
          41,
          137,
          27,
          62,
          61,
          33,
          50,
          55,
          18,
          73,
          50
         ],
         "xaxis": "x",
         "y": [
          2,
          2,
          5,
          1,
          3,
          1,
          4,
          3,
          2,
          2,
          3,
          2,
          4,
          3,
          3,
          3
         ],
         "yaxis": "y"
        },
        {
         "hovertemplate": "player=Loony<br>year=2018<br>hill time (s)=%{x}<br>hill defends=%{y}<extra></extra>",
         "legendgroup": "Loony",
         "marker": {
          "color": "#FECB52",
          "symbol": "circle"
         },
         "mode": "markers",
         "name": "Loony",
         "showlegend": false,
         "type": "scattergl",
         "x": [
          100,
          66,
          61,
          98,
          21,
          61,
          48,
          84,
          63
         ],
         "xaxis": "x2",
         "y": [
          1,
          2,
          2,
          1,
          0,
          2,
          0,
          1,
          1
         ],
         "yaxis": "y2"
        },
        {
         "hovertemplate": "player=Loony<br>year=2019<br>hill time (s)=%{x}<br>hill defends=%{y}<extra></extra>",
         "legendgroup": "Loony",
         "marker": {
          "color": "#FECB52",
          "symbol": "circle"
         },
         "mode": "markers",
         "name": "Loony",
         "showlegend": false,
         "type": "scattergl",
         "x": [
          29,
          100,
          80,
          47,
          54,
          40,
          59,
          56
         ],
         "xaxis": "x3",
         "y": [
          15,
          3,
          8,
          12,
          8,
          8,
          1,
          3
         ],
         "yaxis": "y3"
        },
        {
         "hovertemplate": "player=Braaain<br>year=2017<br>hill time (s)=%{x}<br>hill defends=%{y}<extra></extra>",
         "legendgroup": "Braaain",
         "marker": {
          "color": "#636efa",
          "symbol": "circle"
         },
         "mode": "markers",
         "name": "Braaain",
         "showlegend": true,
         "type": "scattergl",
         "x": [
          18,
          51,
          21,
          28,
          49,
          62
         ],
         "xaxis": "x",
         "y": [
          0,
          0,
          0,
          2,
          3,
          1
         ],
         "yaxis": "y"
        },
        {
         "hovertemplate": "player=Shane<br>year=2017<br>hill time (s)=%{x}<br>hill defends=%{y}<extra></extra>",
         "legendgroup": "Shane",
         "marker": {
          "color": "#EF553B",
          "symbol": "circle"
         },
         "mode": "markers",
         "name": "Shane",
         "showlegend": true,
         "type": "scattergl",
         "x": [
          14,
          26,
          46,
          36,
          55,
          34
         ],
         "xaxis": "x",
         "y": [
          2,
          2,
          1,
          4,
          3,
          5
         ],
         "yaxis": "y"
        },
        {
         "hovertemplate": "player=Wallers<br>year=2017<br>hill time (s)=%{x}<br>hill defends=%{y}<extra></extra>",
         "legendgroup": "Wallers",
         "marker": {
          "color": "#00cc96",
          "symbol": "circle"
         },
         "mode": "markers",
         "name": "Wallers",
         "showlegend": true,
         "type": "scattergl",
         "x": [
          95,
          52,
          43,
          65,
          96,
          106
         ],
         "xaxis": "x",
         "y": [
          4,
          3,
          2,
          4,
          0,
          3
         ],
         "yaxis": "y"
        },
        {
         "hovertemplate": "player=Weeman<br>year=2017<br>hill time (s)=%{x}<br>hill defends=%{y}<extra></extra>",
         "legendgroup": "Weeman",
         "marker": {
          "color": "#ab63fa",
          "symbol": "circle"
         },
         "mode": "markers",
         "name": "Weeman",
         "showlegend": true,
         "type": "scattergl",
         "x": [
          141,
          46,
          60,
          161,
          45,
          103
         ],
         "xaxis": "x",
         "y": [
          5,
          3,
          2,
          11,
          3,
          4
         ],
         "yaxis": "y"
        },
        {
         "hovertemplate": "player=Weeman<br>year=2018<br>hill time (s)=%{x}<br>hill defends=%{y}<extra></extra>",
         "legendgroup": "Weeman",
         "marker": {
          "color": "#ab63fa",
          "symbol": "circle"
         },
         "mode": "markers",
         "name": "Weeman",
         "showlegend": false,
         "type": "scattergl",
         "x": [
          36,
          122,
          92,
          84,
          142,
          62,
          92,
          60,
          27
         ],
         "xaxis": "x2",
         "y": [
          0,
          1,
          1,
          2,
          0,
          1,
          0,
          1,
          0
         ],
         "yaxis": "y2"
        },
        {
         "hovertemplate": "player=Weeman<br>year=2019<br>hill time (s)=%{x}<br>hill defends=%{y}<extra></extra>",
         "legendgroup": "Weeman",
         "marker": {
          "color": "#ab63fa",
          "symbol": "circle"
         },
         "mode": "markers",
         "name": "Weeman",
         "showlegend": false,
         "type": "scattergl",
         "x": [
          68,
          109,
          122,
          40,
          54,
          76,
          52,
          79,
          24,
          48
         ],
         "xaxis": "x3",
         "y": [
          8,
          7,
          4,
          6,
          10,
          5,
          4,
          11,
          13,
          11
         ],
         "yaxis": "y3"
        },
        {
         "hovertemplate": "player=Attach<br>year=2017<br>hill time (s)=%{x}<br>hill defends=%{y}<extra></extra>",
         "legendgroup": "Attach",
         "marker": {
          "color": "#FFA15A",
          "symbol": "circle"
         },
         "mode": "markers",
         "name": "Attach",
         "showlegend": true,
         "type": "scattergl",
         "x": [
          89,
          47,
          33,
          26,
          131,
          70,
          115,
          127,
          7,
          51,
          105
         ],
         "xaxis": "x",
         "y": [
          3,
          1,
          3,
          1,
          10,
          2,
          2,
          7,
          0,
          1,
          5
         ],
         "yaxis": "y"
        },
        {
         "hovertemplate": "player=Attach<br>year=2018<br>hill time (s)=%{x}<br>hill defends=%{y}<extra></extra>",
         "legendgroup": "Attach",
         "marker": {
          "color": "#FFA15A",
          "symbol": "circle"
         },
         "mode": "markers",
         "name": "Attach",
         "showlegend": false,
         "type": "scattergl",
         "x": [
          75,
          81,
          94,
          94,
          61,
          75,
          53,
          4,
          95,
          51,
          41,
          74,
          20,
          81,
          29,
          34,
          42
         ],
         "xaxis": "x2",
         "y": [
          1,
          0,
          1,
          1,
          2,
          0,
          1,
          0,
          1,
          0,
          0,
          1,
          1,
          1,
          1,
          0,
          0
         ],
         "yaxis": "y2"
        },
        {
         "hovertemplate": "player=Attach<br>year=2019<br>hill time (s)=%{x}<br>hill defends=%{y}<extra></extra>",
         "legendgroup": "Attach",
         "marker": {
          "color": "#FFA15A",
          "symbol": "circle"
         },
         "mode": "markers",
         "name": "Attach",
         "showlegend": false,
         "type": "scattergl",
         "x": [
          78,
          69,
          74,
          60,
          34,
          87,
          61,
          38,
          48,
          59,
          16
         ],
         "xaxis": "x3",
         "y": [
          3,
          6,
          9,
          11,
          7,
          4,
          6,
          12,
          5,
          3,
          12
         ],
         "yaxis": "y3"
        },
        {
         "hovertemplate": "player=Enable<br>year=2017<br>hill time (s)=%{x}<br>hill defends=%{y}<extra></extra>",
         "legendgroup": "Enable",
         "marker": {
          "color": "#19d3f3",
          "symbol": "circle"
         },
         "mode": "markers",
         "name": "Enable",
         "showlegend": true,
         "type": "scattergl",
         "x": [
          47,
          88,
          142,
          44,
          49,
          2,
          40,
          65,
          41,
          41,
          87
         ],
         "xaxis": "x",
         "y": [
          4,
          4,
          3,
          1,
          1,
          0,
          2,
          2,
          1,
          3,
          1
         ],
         "yaxis": "y"
        },
        {
         "hovertemplate": "player=Enable<br>year=2018<br>hill time (s)=%{x}<br>hill defends=%{y}<extra></extra>",
         "legendgroup": "Enable",
         "marker": {
          "color": "#19d3f3",
          "symbol": "circle"
         },
         "mode": "markers",
         "name": "Enable",
         "showlegend": false,
         "type": "scattergl",
         "x": [
          39,
          37,
          50,
          34,
          110,
          70,
          67,
          72,
          45,
          57,
          46,
          92,
          35,
          49,
          47,
          25,
          20,
          32
         ],
         "xaxis": "x2",
         "y": [
          0,
          0,
          0,
          0,
          1,
          0,
          2,
          1,
          0,
          0,
          0,
          0,
          0,
          0,
          0,
          0,
          0,
          0
         ],
         "yaxis": "y2"
        },
        {
         "hovertemplate": "player=Enable<br>year=2019<br>hill time (s)=%{x}<br>hill defends=%{y}<extra></extra>",
         "legendgroup": "Enable",
         "marker": {
          "color": "#19d3f3",
          "symbol": "circle"
         },
         "mode": "markers",
         "name": "Enable",
         "showlegend": false,
         "type": "scattergl",
         "x": [
          47,
          81,
          26,
          79,
          72,
          34,
          85,
          81,
          69,
          85,
          40,
          71,
          71,
          58,
          79,
          63,
          35,
          26
         ],
         "xaxis": "x3",
         "y": [
          5,
          1,
          0,
          6,
          8,
          7,
          7,
          9,
          6,
          6,
          5,
          1,
          1,
          2,
          9,
          4,
          4,
          3
         ],
         "yaxis": "y3"
        },
        {
         "hovertemplate": "player=Gunless<br>year=2017<br>hill time (s)=%{x}<br>hill defends=%{y}<extra></extra>",
         "legendgroup": "Gunless",
         "marker": {
          "color": "#FF6692",
          "symbol": "circle"
         },
         "mode": "markers",
         "name": "Gunless",
         "showlegend": true,
         "type": "scattergl",
         "x": [
          108,
          53,
          43,
          183,
          51,
          42,
          105,
          58,
          28,
          128,
          78
         ],
         "xaxis": "x",
         "y": [
          12,
          1,
          0,
          4,
          5,
          3,
          3,
          2,
          1,
          5,
          7
         ],
         "yaxis": "y"
        },
        {
         "hovertemplate": "player=Gunless<br>year=2018<br>hill time (s)=%{x}<br>hill defends=%{y}<extra></extra>",
         "legendgroup": "Gunless",
         "marker": {
          "color": "#FF6692",
          "symbol": "circle"
         },
         "mode": "markers",
         "name": "Gunless",
         "showlegend": false,
         "type": "scattergl",
         "x": [
          63,
          81,
          91,
          80,
          78,
          70,
          64,
          121,
          39
         ],
         "xaxis": "x2",
         "y": [
          3,
          2,
          1,
          0,
          1,
          1,
          0,
          0,
          0
         ],
         "yaxis": "y2"
        },
        {
         "hovertemplate": "player=Gunless<br>year=2019<br>hill time (s)=%{x}<br>hill defends=%{y}<extra></extra>",
         "legendgroup": "Gunless",
         "marker": {
          "color": "#FF6692",
          "symbol": "circle"
         },
         "mode": "markers",
         "name": "Gunless",
         "showlegend": false,
         "type": "scattergl",
         "x": [
          64,
          54,
          41,
          80,
          43,
          85,
          26,
          3,
          38,
          49
         ],
         "xaxis": "x3",
         "y": [
          6,
          4,
          10,
          8,
          6,
          7,
          5,
          3,
          7,
          6
         ],
         "yaxis": "y3"
        },
        {
         "hovertemplate": "player=Zooma<br>year=2017<br>hill time (s)=%{x}<br>hill defends=%{y}<extra></extra>",
         "legendgroup": "Zooma",
         "marker": {
          "color": "#B6E880",
          "symbol": "circle"
         },
         "mode": "markers",
         "name": "Zooma",
         "showlegend": true,
         "type": "scattergl",
         "x": [
          90,
          85,
          58,
          17,
          76,
          3,
          46,
          97,
          10,
          58,
          67
         ],
         "xaxis": "x",
         "y": [
          4,
          3,
          4,
          2,
          3,
          0,
          1,
          5,
          1,
          3,
          4
         ],
         "yaxis": "y"
        },
        {
         "hovertemplate": "player=Believe<br>year=2017<br>hill time (s)=%{x}<br>hill defends=%{y}<extra></extra>",
         "legendgroup": "Believe",
         "marker": {
          "color": "#FF97FF",
          "symbol": "circle"
         },
         "mode": "markers",
         "name": "Believe",
         "showlegend": true,
         "type": "scattergl",
         "x": [
          67,
          32,
          76,
          92,
          56,
          68,
          40,
          33,
          83,
          2,
          75,
          30
         ],
         "xaxis": "x",
         "y": [
          2,
          1,
          2,
          5,
          0,
          3,
          0,
          2,
          6,
          1,
          1,
          0
         ],
         "yaxis": "y"
        },
        {
         "hovertemplate": "player=Believe<br>year=2019<br>hill time (s)=%{x}<br>hill defends=%{y}<extra></extra>",
         "legendgroup": "Believe",
         "marker": {
          "color": "#FF97FF",
          "symbol": "circle"
         },
         "mode": "markers",
         "name": "Believe",
         "showlegend": false,
         "type": "scattergl",
         "x": [
          37,
          72,
          83,
          101,
          105,
          77,
          32,
          110,
          56,
          44
         ],
         "xaxis": "x3",
         "y": [
          4,
          3,
          8,
          9,
          2,
          7,
          8,
          6,
          6,
          1
         ],
         "yaxis": "y3"
        },
        {
         "hovertemplate": "player=Mayhem<br>year=2017<br>hill time (s)=%{x}<br>hill defends=%{y}<extra></extra>",
         "legendgroup": "Mayhem",
         "marker": {
          "color": "#FECB52",
          "symbol": "circle"
         },
         "mode": "markers",
         "name": "Mayhem",
         "showlegend": true,
         "type": "scattergl",
         "x": [
          26,
          35,
          30,
          58,
          97,
          49,
          37,
          107,
          64,
          14,
          92,
          105
         ],
         "xaxis": "x",
         "y": [
          1,
          3,
          0,
          2,
          3,
          0,
          5,
          3,
          3,
          2,
          3,
          2
         ],
         "yaxis": "y"
        },
        {
         "hovertemplate": "player=Mayhem<br>year=2018<br>hill time (s)=%{x}<br>hill defends=%{y}<extra></extra>",
         "legendgroup": "Mayhem",
         "marker": {
          "color": "#FECB52",
          "symbol": "circle"
         },
         "mode": "markers",
         "name": "Mayhem",
         "showlegend": false,
         "type": "scattergl",
         "x": [
          29,
          76,
          29,
          43,
          40
         ],
         "xaxis": "x2",
         "y": [
          0,
          0,
          1,
          1,
          0
         ],
         "yaxis": "y2"
        },
        {
         "hovertemplate": "player=Mayhem<br>year=2019<br>hill time (s)=%{x}<br>hill defends=%{y}<extra></extra>",
         "legendgroup": "Mayhem",
         "marker": {
          "color": "#FECB52",
          "symbol": "circle"
         },
         "mode": "markers",
         "name": "Mayhem",
         "showlegend": false,
         "type": "scattergl",
         "x": [
          58,
          40,
          42,
          56,
          57,
          42,
          37,
          106,
          31,
          22,
          89,
          57,
          69
         ],
         "xaxis": "x3",
         "y": [
          5,
          6,
          4,
          3,
          6,
          2,
          3,
          18,
          5,
          9,
          6,
          5,
          10
         ],
         "yaxis": "y3"
        },
        {
         "hovertemplate": "player=Nova<br>year=2017<br>hill time (s)=%{x}<br>hill defends=%{y}<extra></extra>",
         "legendgroup": "Nova",
         "marker": {
          "color": "#636efa",
          "symbol": "circle"
         },
         "mode": "markers",
         "name": "Nova",
         "showlegend": true,
         "type": "scattergl",
         "x": [
          72,
          25,
          78,
          71,
          78,
          42,
          76,
          33,
          80,
          29,
          17,
          39
         ],
         "xaxis": "x",
         "y": [
          4,
          1,
          4,
          4,
          3,
          3,
          2,
          1,
          6,
          0,
          0,
          0
         ],
         "yaxis": "y"
        },
        {
         "hovertemplate": "player=Nova<br>year=2018<br>hill time (s)=%{x}<br>hill defends=%{y}<extra></extra>",
         "legendgroup": "Nova",
         "marker": {
          "color": "#636efa",
          "symbol": "circle"
         },
         "mode": "markers",
         "name": "Nova",
         "showlegend": false,
         "type": "scattergl",
         "x": [
          13,
          44,
          66,
          49,
          26
         ],
         "xaxis": "x2",
         "y": [
          1,
          0,
          0,
          0,
          2
         ],
         "yaxis": "y2"
        },
        {
         "hovertemplate": "player=Spoof<br>year=2017<br>hill time (s)=%{x}<br>hill defends=%{y}<extra></extra>",
         "legendgroup": "Spoof",
         "marker": {
          "color": "#EF553B",
          "symbol": "circle"
         },
         "mode": "markers",
         "name": "Spoof",
         "showlegend": true,
         "type": "scattergl",
         "x": [
          25,
          69,
          90,
          85,
          69,
          109,
          128,
          100,
          78,
          17,
          105,
          9
         ],
         "xaxis": "x",
         "y": [
          0,
          1,
          2,
          2,
          4,
          2,
          4,
          5,
          4,
          1,
          6,
          0
         ],
         "yaxis": "y"
        },
        {
         "hovertemplate": "player=Spoof<br>year=2018<br>hill time (s)=%{x}<br>hill defends=%{y}<extra></extra>",
         "legendgroup": "Spoof",
         "marker": {
          "color": "#EF553B",
          "symbol": "circle"
         },
         "mode": "markers",
         "name": "Spoof",
         "showlegend": false,
         "type": "scattergl",
         "x": [
          18,
          91,
          36,
          38,
          29
         ],
         "xaxis": "x2",
         "y": [
          0,
          1,
          2,
          0,
          1
         ],
         "yaxis": "y2"
        },
        {
         "hovertemplate": "player=Spoof<br>year=2019<br>hill time (s)=%{x}<br>hill defends=%{y}<extra></extra>",
         "legendgroup": "Spoof",
         "marker": {
          "color": "#EF553B",
          "symbol": "circle"
         },
         "mode": "markers",
         "name": "Spoof",
         "showlegend": false,
         "type": "scattergl",
         "x": [
          19,
          54,
          53,
          81,
          30
         ],
         "xaxis": "x3",
         "y": [
          11,
          13,
          9,
          3,
          5
         ],
         "yaxis": "y3"
        },
        {
         "hovertemplate": "player=Havok<br>year=2017<br>hill time (s)=%{x}<br>hill defends=%{y}<extra></extra>",
         "legendgroup": "Havok",
         "marker": {
          "color": "#00cc96",
          "symbol": "circle"
         },
         "mode": "markers",
         "name": "Havok",
         "showlegend": true,
         "type": "scattergl",
         "x": [
          12,
          58,
          59,
          117
         ],
         "xaxis": "x",
         "y": [
          1,
          0,
          1,
          4
         ],
         "yaxis": "y"
        },
        {
         "hovertemplate": "player=Havok<br>year=2019<br>hill time (s)=%{x}<br>hill defends=%{y}<extra></extra>",
         "legendgroup": "Havok",
         "marker": {
          "color": "#00cc96",
          "symbol": "circle"
         },
         "mode": "markers",
         "name": "Havok",
         "showlegend": false,
         "type": "scattergl",
         "x": [
          63,
          68,
          37,
          48
         ],
         "xaxis": "x3",
         "y": [
          8,
          8,
          8,
          9
         ],
         "yaxis": "y3"
        },
        {
         "hovertemplate": "player=Nagafen<br>year=2017<br>hill time (s)=%{x}<br>hill defends=%{y}<extra></extra>",
         "legendgroup": "Nagafen",
         "marker": {
          "color": "#ab63fa",
          "symbol": "circle"
         },
         "mode": "markers",
         "name": "Nagafen",
         "showlegend": true,
         "type": "scattergl",
         "x": [
          48,
          35,
          97,
          15
         ],
         "xaxis": "x",
         "y": [
          1,
          1,
          5,
          0
         ],
         "yaxis": "y"
        },
        {
         "hovertemplate": "player=Nagafen<br>year=2019<br>hill time (s)=%{x}<br>hill defends=%{y}<extra></extra>",
         "legendgroup": "Nagafen",
         "marker": {
          "color": "#ab63fa",
          "symbol": "circle"
         },
         "mode": "markers",
         "name": "Nagafen",
         "showlegend": false,
         "type": "scattergl",
         "x": [
          69,
          61,
          9,
          136
         ],
         "xaxis": "x3",
         "y": [
          6,
          13,
          5,
          3
         ],
         "yaxis": "y3"
        },
        {
         "hovertemplate": "player=Nameless<br>year=2017<br>hill time (s)=%{x}<br>hill defends=%{y}<extra></extra>",
         "legendgroup": "Nameless",
         "marker": {
          "color": "#FFA15A",
          "symbol": "circle"
         },
         "mode": "markers",
         "name": "Nameless",
         "showlegend": true,
         "type": "scattergl",
         "x": [
          13,
          40,
          65,
          113
         ],
         "xaxis": "x",
         "y": [
          1,
          1,
          3,
          4
         ],
         "yaxis": "y"
        },
        {
         "hovertemplate": "player=Parasite<br>year=2017<br>hill time (s)=%{x}<br>hill defends=%{y}<extra></extra>",
         "legendgroup": "Parasite",
         "marker": {
          "color": "#19d3f3",
          "symbol": "circle"
         },
         "mode": "markers",
         "name": "Parasite",
         "showlegend": true,
         "type": "scattergl",
         "x": [
          78,
          72,
          86,
          28
         ],
         "xaxis": "x",
         "y": [
          3,
          3,
          5,
          2
         ],
         "yaxis": "y"
        },
        {
         "hovertemplate": "player=Parasite<br>year=2018<br>hill time (s)=%{x}<br>hill defends=%{y}<extra></extra>",
         "legendgroup": "Parasite",
         "marker": {
          "color": "#19d3f3",
          "symbol": "circle"
         },
         "mode": "markers",
         "name": "Parasite",
         "showlegend": false,
         "type": "scattergl",
         "x": [
          57,
          39,
          163,
          35,
          45,
          63,
          58,
          74,
          50,
          38
         ],
         "xaxis": "x2",
         "y": [
          0,
          0,
          2,
          0,
          0,
          1,
          3,
          0,
          1,
          0
         ],
         "yaxis": "y2"
        },
        {
         "hovertemplate": "player=Parasite<br>year=2019<br>hill time (s)=%{x}<br>hill defends=%{y}<extra></extra>",
         "legendgroup": "Parasite",
         "marker": {
          "color": "#19d3f3",
          "symbol": "circle"
         },
         "mode": "markers",
         "name": "Parasite",
         "showlegend": false,
         "type": "scattergl",
         "x": [
          152,
          89,
          50,
          69,
          52,
          44
         ],
         "xaxis": "x3",
         "y": [
          10,
          4,
          12,
          8,
          7,
          7
         ],
         "yaxis": "y3"
        },
        {
         "hovertemplate": "player=Dashy<br>year=2017<br>hill time (s)=%{x}<br>hill defends=%{y}<extra></extra>",
         "legendgroup": "Dashy",
         "marker": {
          "color": "#FF6692",
          "symbol": "circle"
         },
         "mode": "markers",
         "name": "Dashy",
         "showlegend": true,
         "type": "scattergl",
         "x": [
          57,
          32,
          90,
          109,
          46,
          50,
          44,
          59
         ],
         "xaxis": "x",
         "y": [
          4,
          1,
          8,
          8,
          0,
          3,
          4,
          4
         ],
         "yaxis": "y"
        },
        {
         "hovertemplate": "player=Dashy<br>year=2018<br>hill time (s)=%{x}<br>hill defends=%{y}<extra></extra>",
         "legendgroup": "Dashy",
         "marker": {
          "color": "#FF6692",
          "symbol": "circle"
         },
         "mode": "markers",
         "name": "Dashy",
         "showlegend": false,
         "type": "scattergl",
         "x": [
          45,
          39,
          73,
          120,
          117,
          66,
          40,
          47,
          67
         ],
         "xaxis": "x2",
         "y": [
          0,
          1,
          1,
          2,
          3,
          1,
          0,
          0,
          1
         ],
         "yaxis": "y2"
        },
        {
         "hovertemplate": "player=Dashy<br>year=2019<br>hill time (s)=%{x}<br>hill defends=%{y}<extra></extra>",
         "legendgroup": "Dashy",
         "marker": {
          "color": "#FF6692",
          "symbol": "circle"
         },
         "mode": "markers",
         "name": "Dashy",
         "showlegend": false,
         "type": "scattergl",
         "x": [
          68,
          75,
          101,
          51,
          60,
          99,
          95,
          111,
          37,
          83,
          86,
          103,
          95,
          15,
          28
         ],
         "xaxis": "x3",
         "y": [
          6,
          3,
          12,
          13,
          10,
          3,
          3,
          9,
          10,
          2,
          11,
          9,
          7,
          3,
          9
         ],
         "yaxis": "y3"
        },
        {
         "hovertemplate": "player=Ricky<br>year=2017<br>hill time (s)=%{x}<br>hill defends=%{y}<extra></extra>",
         "legendgroup": "Ricky",
         "marker": {
          "color": "#B6E880",
          "symbol": "circle"
         },
         "mode": "markers",
         "name": "Ricky",
         "showlegend": true,
         "type": "scattergl",
         "x": [
          47,
          89,
          123,
          53,
          129,
          59,
          88,
          45
         ],
         "xaxis": "x",
         "y": [
          4,
          5,
          3,
          2,
          2,
          2,
          6,
          1
         ],
         "yaxis": "y"
        },
        {
         "hovertemplate": "player=Ricky<br>year=2018<br>hill time (s)=%{x}<br>hill defends=%{y}<extra></extra>",
         "legendgroup": "Ricky",
         "marker": {
          "color": "#B6E880",
          "symbol": "circle"
         },
         "mode": "markers",
         "name": "Ricky",
         "showlegend": false,
         "type": "scattergl",
         "x": [
          78,
          69,
          106,
          59,
          81,
          111,
          48,
          78,
          120
         ],
         "xaxis": "x2",
         "y": [
          3,
          0,
          2,
          1,
          1,
          1,
          0,
          0,
          1
         ],
         "yaxis": "y2"
        },
        {
         "hovertemplate": "player=Study<br>year=2017<br>hill time (s)=%{x}<br>hill defends=%{y}<extra></extra>",
         "legendgroup": "Study",
         "marker": {
          "color": "#FF97FF",
          "symbol": "circle"
         },
         "mode": "markers",
         "name": "Study",
         "showlegend": true,
         "type": "scattergl",
         "x": [
          92,
          64,
          71,
          47,
          52,
          55,
          47,
          14
         ],
         "xaxis": "x",
         "y": [
          3,
          2,
          10,
          2,
          1,
          4,
          2,
          1
         ],
         "yaxis": "y"
        },
        {
         "hovertemplate": "player=Temp<br>year=2017<br>hill time (s)=%{x}<br>hill defends=%{y}<extra></extra>",
         "legendgroup": "Temp",
         "marker": {
          "color": "#FECB52",
          "symbol": "circle"
         },
         "mode": "markers",
         "name": "Temp",
         "showlegend": true,
         "type": "scattergl",
         "x": [
          91,
          115,
          36,
          45,
          68,
          37,
          124,
          48
         ],
         "xaxis": "x",
         "y": [
          4,
          3,
          3,
          0,
          5,
          3,
          8,
          0
         ],
         "yaxis": "y"
        },
        {
         "hovertemplate": "player=Temp<br>year=2018<br>hill time (s)=%{x}<br>hill defends=%{y}<extra></extra>",
         "legendgroup": "Temp",
         "marker": {
          "color": "#FECB52",
          "symbol": "circle"
         },
         "mode": "markers",
         "name": "Temp",
         "showlegend": false,
         "type": "scattergl",
         "x": [
          9,
          73,
          45,
          0
         ],
         "xaxis": "x2",
         "y": [
          0,
          1,
          0,
          0
         ],
         "yaxis": "y2"
        },
        {
         "hovertemplate": "player=Temp<br>year=2019<br>hill time (s)=%{x}<br>hill defends=%{y}<extra></extra>",
         "legendgroup": "Temp",
         "marker": {
          "color": "#FECB52",
          "symbol": "circle"
         },
         "mode": "markers",
         "name": "Temp",
         "showlegend": false,
         "type": "scattergl",
         "x": [
          72,
          68,
          85,
          111,
          40,
          55,
          5,
          41
         ],
         "xaxis": "x3",
         "y": [
          11,
          1,
          7,
          10,
          6,
          8,
          8,
          0
         ],
         "yaxis": "y3"
        },
        {
         "hovertemplate": "player=Carbines<br>year=2017<br>hill time (s)=%{x}<br>hill defends=%{y}<extra></extra>",
         "legendgroup": "Carbines",
         "marker": {
          "color": "#636efa",
          "symbol": "circle"
         },
         "mode": "markers",
         "name": "Carbines",
         "showlegend": true,
         "type": "scattergl",
         "x": [
          35,
          35,
          49,
          30
         ],
         "xaxis": "x",
         "y": [
          0,
          1,
          2,
          3
         ],
         "yaxis": "y"
        },
        {
         "hovertemplate": "player=DREEALL<br>year=2017<br>hill time (s)=%{x}<br>hill defends=%{y}<extra></extra>",
         "legendgroup": "DREEALL",
         "marker": {
          "color": "#EF553B",
          "symbol": "circle"
         },
         "mode": "markers",
         "name": "DREEALL",
         "showlegend": true,
         "type": "scattergl",
         "x": [
          30,
          44,
          26,
          23
         ],
         "xaxis": "x",
         "y": [
          0,
          3,
          1,
          1
         ],
         "yaxis": "y"
        },
        {
         "hovertemplate": "player=Verdict<br>year=2017<br>hill time (s)=%{x}<br>hill defends=%{y}<extra></extra>",
         "legendgroup": "Verdict",
         "marker": {
          "color": "#00cc96",
          "symbol": "circle"
         },
         "mode": "markers",
         "name": "Verdict",
         "showlegend": true,
         "type": "scattergl",
         "x": [
          89,
          20,
          68,
          26
         ],
         "xaxis": "x",
         "y": [
          7,
          0,
          2,
          1
         ],
         "yaxis": "y"
        },
        {
         "hovertemplate": "player=Zayrox<br>year=2017<br>hill time (s)=%{x}<br>hill defends=%{y}<extra></extra>",
         "legendgroup": "Zayrox",
         "marker": {
          "color": "#ab63fa",
          "symbol": "circle"
         },
         "mode": "markers",
         "name": "Zayrox",
         "showlegend": true,
         "type": "scattergl",
         "x": [
          78,
          10,
          21,
          65
         ],
         "xaxis": "x",
         "y": [
          5,
          2,
          1,
          5
         ],
         "yaxis": "y"
        },
        {
         "hovertemplate": "player=Zayrox<br>year=2018<br>hill time (s)=%{x}<br>hill defends=%{y}<extra></extra>",
         "legendgroup": "Zayrox",
         "marker": {
          "color": "#ab63fa",
          "symbol": "circle"
         },
         "mode": "markers",
         "name": "Zayrox",
         "showlegend": false,
         "type": "scattergl",
         "x": [
          20,
          116,
          48,
          35
         ],
         "xaxis": "x2",
         "y": [
          0,
          2,
          0,
          1
         ],
         "yaxis": "y2"
        },
        {
         "hovertemplate": "player=Joee<br>year=2017<br>hill time (s)=%{x}<br>hill defends=%{y}<extra></extra>",
         "legendgroup": "Joee",
         "marker": {
          "color": "#FFA15A",
          "symbol": "circle"
         },
         "mode": "markers",
         "name": "Joee",
         "showlegend": true,
         "type": "scattergl",
         "x": [
          73,
          18,
          61,
          46,
          57
         ],
         "xaxis": "x",
         "y": [
          2,
          1,
          1,
          2,
          3
         ],
         "yaxis": "y"
        },
        {
         "hovertemplate": "player=Joee<br>year=2018<br>hill time (s)=%{x}<br>hill defends=%{y}<extra></extra>",
         "legendgroup": "Joee",
         "marker": {
          "color": "#FFA15A",
          "symbol": "circle"
         },
         "mode": "markers",
         "name": "Joee",
         "showlegend": false,
         "type": "scattergl",
         "x": [
          65,
          69,
          93,
          71,
          72,
          88,
          51,
          29,
          56,
          63,
          48
         ],
         "xaxis": "x2",
         "y": [
          0,
          1,
          0,
          0,
          0,
          0,
          0,
          1,
          0,
          5,
          0
         ],
         "yaxis": "y2"
        },
        {
         "hovertemplate": "player=Joee<br>year=2019<br>hill time (s)=%{x}<br>hill defends=%{y}<extra></extra>",
         "legendgroup": "Joee",
         "marker": {
          "color": "#FFA15A",
          "symbol": "circle"
         },
         "mode": "markers",
         "name": "Joee",
         "showlegend": false,
         "type": "scattergl",
         "x": [
          27,
          55,
          46,
          58,
          72,
          57,
          149,
          93,
          31,
          52
         ],
         "xaxis": "x3",
         "y": [
          12,
          9,
          4,
          7,
          9,
          4,
          5,
          14,
          10,
          13
         ],
         "yaxis": "y3"
        },
        {
         "hovertemplate": "player=Rated<br>year=2017<br>hill time (s)=%{x}<br>hill defends=%{y}<extra></extra>",
         "legendgroup": "Rated",
         "marker": {
          "color": "#19d3f3",
          "symbol": "circle"
         },
         "mode": "markers",
         "name": "Rated",
         "showlegend": true,
         "type": "scattergl",
         "x": [
          55,
          41,
          52,
          72,
          26
         ],
         "xaxis": "x",
         "y": [
          2,
          2,
          1,
          3,
          1
         ],
         "yaxis": "y"
        },
        {
         "hovertemplate": "player=Rated<br>year=2018<br>hill time (s)=%{x}<br>hill defends=%{y}<extra></extra>",
         "legendgroup": "Rated",
         "marker": {
          "color": "#19d3f3",
          "symbol": "circle"
         },
         "mode": "markers",
         "name": "Rated",
         "showlegend": false,
         "type": "scattergl",
         "x": [
          71,
          69,
          79,
          106,
          77,
          104,
          39,
          87,
          126,
          120,
          114
         ],
         "xaxis": "x2",
         "y": [
          1,
          0,
          0,
          1,
          2,
          1,
          0,
          1,
          1,
          2,
          1
         ],
         "yaxis": "y2"
        },
        {
         "hovertemplate": "player=Rated<br>year=2019<br>hill time (s)=%{x}<br>hill defends=%{y}<extra></extra>",
         "legendgroup": "Rated",
         "marker": {
          "color": "#19d3f3",
          "symbol": "circle"
         },
         "mode": "markers",
         "name": "Rated",
         "showlegend": false,
         "type": "scattergl",
         "x": [
          103,
          48,
          99,
          44,
          64,
          69,
          37,
          92,
          17,
          20
         ],
         "xaxis": "x3",
         "y": [
          3,
          6,
          4,
          2,
          7,
          7,
          3,
          8,
          12,
          8
         ],
         "yaxis": "y3"
        },
        {
         "hovertemplate": "player=Seany<br>year=2017<br>hill time (s)=%{x}<br>hill defends=%{y}<extra></extra>",
         "legendgroup": "Seany",
         "marker": {
          "color": "#FF6692",
          "symbol": "circle"
         },
         "mode": "markers",
         "name": "Seany",
         "showlegend": true,
         "type": "scattergl",
         "x": [
          135,
          27,
          38,
          37,
          72
         ],
         "xaxis": "x",
         "y": [
          8,
          0,
          1,
          5,
          0
         ],
         "yaxis": "y"
        },
        {
         "hovertemplate": "player=Seany<br>year=2018<br>hill time (s)=%{x}<br>hill defends=%{y}<extra></extra>",
         "legendgroup": "Seany",
         "marker": {
          "color": "#FF6692",
          "symbol": "circle"
         },
         "mode": "markers",
         "name": "Seany",
         "showlegend": false,
         "type": "scattergl",
         "x": [
          92,
          41,
          43,
          43,
          53,
          104,
          56
         ],
         "xaxis": "x2",
         "y": [
          1,
          0,
          1,
          0,
          0,
          0,
          3
         ],
         "yaxis": "y2"
        },
        {
         "hovertemplate": "player=Seany<br>year=2019<br>hill time (s)=%{x}<br>hill defends=%{y}<extra></extra>",
         "legendgroup": "Seany",
         "marker": {
          "color": "#FF6692",
          "symbol": "circle"
         },
         "mode": "markers",
         "name": "Seany",
         "showlegend": false,
         "type": "scattergl",
         "x": [
          84,
          83,
          29,
          85,
          45
         ],
         "xaxis": "x3",
         "y": [
          8,
          10,
          9,
          6,
          4
         ],
         "yaxis": "y3"
        },
        {
         "hovertemplate": "player=Urban<br>year=2017<br>hill time (s)=%{x}<br>hill defends=%{y}<extra></extra>",
         "legendgroup": "Urban",
         "marker": {
          "color": "#B6E880",
          "symbol": "circle"
         },
         "mode": "markers",
         "name": "Urban",
         "showlegend": true,
         "type": "scattergl",
         "x": [
          83,
          102,
          32,
          67,
          36
         ],
         "xaxis": "x",
         "y": [
          5,
          3,
          3,
          3,
          2
         ],
         "yaxis": "y"
        },
        {
         "hovertemplate": "player=Skrapz<br>year=2017<br>hill time (s)=%{x}<br>hill defends=%{y}<extra></extra>",
         "legendgroup": "Skrapz",
         "marker": {
          "color": "#FF97FF",
          "symbol": "circle"
         },
         "mode": "markers",
         "name": "Skrapz",
         "showlegend": true,
         "type": "scattergl",
         "x": [
          84,
          47,
          82,
          98,
          60,
          61,
          45,
          40
         ],
         "xaxis": "x",
         "y": [
          1,
          2,
          9,
          6,
          2,
          1,
          2,
          2
         ],
         "yaxis": "y"
        },
        {
         "hovertemplate": "player=Skrapz<br>year=2018<br>hill time (s)=%{x}<br>hill defends=%{y}<extra></extra>",
         "legendgroup": "Skrapz",
         "marker": {
          "color": "#FF97FF",
          "symbol": "circle"
         },
         "mode": "markers",
         "name": "Skrapz",
         "showlegend": false,
         "type": "scattergl",
         "x": [
          87,
          90,
          58,
          40,
          103,
          73,
          5,
          61,
          107,
          39,
          71
         ],
         "xaxis": "x2",
         "y": [
          2,
          1,
          1,
          3,
          1,
          0,
          1,
          3,
          1,
          0,
          1
         ],
         "yaxis": "y2"
        },
        {
         "hovertemplate": "player=Skrapz<br>year=2019<br>hill time (s)=%{x}<br>hill defends=%{y}<extra></extra>",
         "legendgroup": "Skrapz",
         "marker": {
          "color": "#FF97FF",
          "symbol": "circle"
         },
         "mode": "markers",
         "name": "Skrapz",
         "showlegend": false,
         "type": "scattergl",
         "x": [
          130,
          102,
          100,
          96,
          170,
          98,
          30,
          118,
          130
         ],
         "xaxis": "x3",
         "y": [
          6,
          8,
          3,
          5,
          10,
          3,
          11,
          5,
          5
         ],
         "yaxis": "y3"
        },
        {
         "hovertemplate": "player=SunnyB<br>year=2017<br>hill time (s)=%{x}<br>hill defends=%{y}<extra></extra>",
         "legendgroup": "SunnyB",
         "marker": {
          "color": "#FECB52",
          "symbol": "circle"
         },
         "mode": "markers",
         "name": "SunnyB",
         "showlegend": true,
         "type": "scattergl",
         "x": [
          39,
          19,
          95,
          49,
          84,
          88,
          7,
          43
         ],
         "xaxis": "x",
         "y": [
          2,
          1,
          4,
          2,
          1,
          4,
          0,
          4
         ],
         "yaxis": "y"
        },
        {
         "hovertemplate": "player=Tommey<br>year=2017<br>hill time (s)=%{x}<br>hill defends=%{y}<extra></extra>",
         "legendgroup": "Tommey",
         "marker": {
          "color": "#636efa",
          "symbol": "circle"
         },
         "mode": "markers",
         "name": "Tommey",
         "showlegend": true,
         "type": "scattergl",
         "x": [
          67,
          91,
          71,
          54,
          48,
          95,
          22,
          81
         ],
         "xaxis": "x",
         "y": [
          5,
          4,
          0,
          4,
          5,
          5,
          2,
          3
         ],
         "yaxis": "y"
        },
        {
         "hovertemplate": "player=Tommey<br>year=2018<br>hill time (s)=%{x}<br>hill defends=%{y}<extra></extra>",
         "legendgroup": "Tommey",
         "marker": {
          "color": "#636efa",
          "symbol": "circle"
         },
         "mode": "markers",
         "name": "Tommey",
         "showlegend": false,
         "type": "scattergl",
         "x": [
          78,
          42,
          38,
          0,
          28,
          89,
          48,
          27
         ],
         "xaxis": "x2",
         "y": [
          1,
          1,
          1,
          0,
          0,
          1,
          2,
          1
         ],
         "yaxis": "y2"
        },
        {
         "hovertemplate": "player=Tommey<br>year=2019<br>hill time (s)=%{x}<br>hill defends=%{y}<extra></extra>",
         "legendgroup": "Tommey",
         "marker": {
          "color": "#636efa",
          "symbol": "circle"
         },
         "mode": "markers",
         "name": "Tommey",
         "showlegend": false,
         "type": "scattergl",
         "x": [
          32,
          77,
          59,
          81,
          109,
          106,
          7,
          48,
          39,
          26
         ],
         "xaxis": "x3",
         "y": [
          2,
          6,
          7,
          4,
          9,
          8,
          0,
          8,
          7,
          5
         ],
         "yaxis": "y3"
        },
        {
         "hovertemplate": "player=Wuskin<br>year=2017<br>hill time (s)=%{x}<br>hill defends=%{y}<extra></extra>",
         "legendgroup": "Wuskin",
         "marker": {
          "color": "#EF553B",
          "symbol": "circle"
         },
         "mode": "markers",
         "name": "Wuskin",
         "showlegend": true,
         "type": "scattergl",
         "x": [
          85,
          44,
          90,
          69,
          115,
          33,
          41,
          8
         ],
         "xaxis": "x",
         "y": [
          3,
          0,
          4,
          4,
          7,
          2,
          0,
          0
         ],
         "yaxis": "y"
        },
        {
         "hovertemplate": "player=Wuskin<br>year=2018<br>hill time (s)=%{x}<br>hill defends=%{y}<extra></extra>",
         "legendgroup": "Wuskin",
         "marker": {
          "color": "#EF553B",
          "symbol": "circle"
         },
         "mode": "markers",
         "name": "Wuskin",
         "showlegend": false,
         "type": "scattergl",
         "x": [
          105,
          80,
          71,
          101,
          90,
          26,
          31
         ],
         "xaxis": "x2",
         "y": [
          0,
          1,
          0,
          1,
          0,
          0,
          0
         ],
         "yaxis": "y2"
        },
        {
         "hovertemplate": "player=Wuskin<br>year=2019<br>hill time (s)=%{x}<br>hill defends=%{y}<extra></extra>",
         "legendgroup": "Wuskin",
         "marker": {
          "color": "#EF553B",
          "symbol": "circle"
         },
         "mode": "markers",
         "name": "Wuskin",
         "showlegend": false,
         "type": "scattergl",
         "x": [
          85,
          60,
          77,
          66,
          57,
          100,
          47,
          80,
          83,
          70,
          15,
          15
         ],
         "xaxis": "x3",
         "y": [
          8,
          12,
          5,
          6,
          8,
          6,
          2,
          3,
          7,
          8,
          4,
          2
         ],
         "yaxis": "y3"
        },
        {
         "hovertemplate": "player=Damage<br>year=2017<br>hill time (s)=%{x}<br>hill defends=%{y}<extra></extra>",
         "legendgroup": "Damage",
         "marker": {
          "color": "#00cc96",
          "symbol": "circle"
         },
         "mode": "markers",
         "name": "Damage",
         "showlegend": true,
         "type": "scattergl",
         "x": [
          91,
          83,
          79,
          24,
          77
         ],
         "xaxis": "x",
         "y": [
          0,
          2,
          2,
          0,
          1
         ],
         "yaxis": "y"
        },
        {
         "hovertemplate": "player=Damage<br>year=2018<br>hill time (s)=%{x}<br>hill defends=%{y}<extra></extra>",
         "legendgroup": "Damage",
         "marker": {
          "color": "#00cc96",
          "symbol": "circle"
         },
         "mode": "markers",
         "name": "Damage",
         "showlegend": false,
         "type": "scattergl",
         "x": [
          79,
          97,
          56,
          81,
          45,
          115
         ],
         "xaxis": "x2",
         "y": [
          1,
          0,
          0,
          0,
          2,
          0
         ],
         "yaxis": "y2"
        },
        {
         "hovertemplate": "player=Excite<br>year=2017<br>hill time (s)=%{x}<br>hill defends=%{y}<extra></extra>",
         "legendgroup": "Excite",
         "marker": {
          "color": "#ab63fa",
          "symbol": "circle"
         },
         "mode": "markers",
         "name": "Excite",
         "showlegend": true,
         "type": "scattergl",
         "x": [
          56,
          38,
          29,
          81,
          71
         ],
         "xaxis": "x",
         "y": [
          5,
          3,
          1,
          2,
          3
         ],
         "yaxis": "y"
        },
        {
         "hovertemplate": "player=Nimble<br>year=2017<br>hill time (s)=%{x}<br>hill defends=%{y}<extra></extra>",
         "legendgroup": "Nimble",
         "marker": {
          "color": "#FFA15A",
          "symbol": "circle"
         },
         "mode": "markers",
         "name": "Nimble",
         "showlegend": true,
         "type": "scattergl",
         "x": [
          19,
          89,
          59,
          71,
          28
         ],
         "xaxis": "x",
         "y": [
          0,
          3,
          0,
          7,
          2
         ],
         "yaxis": "y"
        },
        {
         "hovertemplate": "player=Nimble<br>year=2018<br>hill time (s)=%{x}<br>hill defends=%{y}<extra></extra>",
         "legendgroup": "Nimble",
         "marker": {
          "color": "#FFA15A",
          "symbol": "circle"
         },
         "mode": "markers",
         "name": "Nimble",
         "showlegend": false,
         "type": "scattergl",
         "x": [
          99,
          39,
          72,
          28,
          52,
          31
         ],
         "xaxis": "x2",
         "y": [
          1,
          3,
          0,
          1,
          1,
          1
         ],
         "yaxis": "y2"
        },
        {
         "hovertemplate": "player=Swifty<br>year=2017<br>hill time (s)=%{x}<br>hill defends=%{y}<extra></extra>",
         "legendgroup": "Swifty",
         "marker": {
          "color": "#19d3f3",
          "symbol": "circle"
         },
         "mode": "markers",
         "name": "Swifty",
         "showlegend": true,
         "type": "scattergl",
         "x": [
          67,
          70,
          48,
          47,
          86
         ],
         "xaxis": "x",
         "y": [
          2,
          1,
          2,
          3,
          3
         ],
         "yaxis": "y"
        },
        {
         "hovertemplate": "player=Swifty<br>year=2018<br>hill time (s)=%{x}<br>hill defends=%{y}<extra></extra>",
         "legendgroup": "Swifty",
         "marker": {
          "color": "#19d3f3",
          "symbol": "circle"
         },
         "mode": "markers",
         "name": "Swifty",
         "showlegend": false,
         "type": "scattergl",
         "x": [
          58,
          76,
          30,
          17,
          136,
          57
         ],
         "xaxis": "x2",
         "y": [
          0,
          0,
          0,
          0,
          2,
          2
         ],
         "yaxis": "y2"
        },
        {
         "hovertemplate": "player=Aches<br>year=2017<br>hill time (s)=%{x}<br>hill defends=%{y}<extra></extra>",
         "legendgroup": "Aches",
         "marker": {
          "color": "#FF6692",
          "symbol": "circle"
         },
         "mode": "markers",
         "name": "Aches",
         "showlegend": true,
         "type": "scattergl",
         "x": [
          92,
          57,
          123,
          5,
          19,
          27,
          89,
          53
         ],
         "xaxis": "x",
         "y": [
          3,
          5,
          6,
          0,
          1,
          2,
          2,
          1
         ],
         "yaxis": "y"
        },
        {
         "hovertemplate": "player=Aches<br>year=2018<br>hill time (s)=%{x}<br>hill defends=%{y}<extra></extra>",
         "legendgroup": "Aches",
         "marker": {
          "color": "#FF6692",
          "symbol": "circle"
         },
         "mode": "markers",
         "name": "Aches",
         "showlegend": false,
         "type": "scattergl",
         "x": [
          73,
          34,
          63,
          33,
          21,
          89,
          52,
          17,
          72,
          21,
          63,
          37,
          110,
          83
         ],
         "xaxis": "x2",
         "y": [
          0,
          0,
          1,
          1,
          1,
          2,
          0,
          1,
          1,
          0,
          0,
          1,
          1,
          1
         ],
         "yaxis": "y2"
        },
        {
         "hovertemplate": "player=Aches<br>year=2019<br>hill time (s)=%{x}<br>hill defends=%{y}<extra></extra>",
         "legendgroup": "Aches",
         "marker": {
          "color": "#FF6692",
          "symbol": "circle"
         },
         "mode": "markers",
         "name": "Aches",
         "showlegend": false,
         "type": "scattergl",
         "x": [
          118,
          36,
          30,
          55,
          53,
          35,
          54,
          5,
          67,
          13
         ],
         "xaxis": "x3",
         "y": [
          5,
          6,
          9,
          7,
          6,
          7,
          5,
          6,
          5,
          4
         ],
         "yaxis": "y3"
        },
        {
         "hovertemplate": "player=Assault<br>year=2017<br>hill time (s)=%{x}<br>hill defends=%{y}<extra></extra>",
         "legendgroup": "Assault",
         "marker": {
          "color": "#B6E880",
          "symbol": "circle"
         },
         "mode": "markers",
         "name": "Assault",
         "showlegend": true,
         "type": "scattergl",
         "x": [
          74,
          74,
          72,
          59,
          26,
          98,
          41,
          77
         ],
         "xaxis": "x",
         "y": [
          4,
          2,
          3,
          0,
          2,
          7,
          2,
          6
         ],
         "yaxis": "y"
        },
        {
         "hovertemplate": "player=Assault<br>year=2018<br>hill time (s)=%{x}<br>hill defends=%{y}<extra></extra>",
         "legendgroup": "Assault",
         "marker": {
          "color": "#B6E880",
          "symbol": "circle"
         },
         "mode": "markers",
         "name": "Assault",
         "showlegend": false,
         "type": "scattergl",
         "x": [
          85,
          84,
          86,
          31,
          28,
          91,
          92,
          116,
          52,
          51,
          9,
          23,
          34,
          90
         ],
         "xaxis": "x2",
         "y": [
          1,
          2,
          0,
          0,
          0,
          6,
          0,
          1,
          0,
          0,
          0,
          0,
          0,
          1
         ],
         "yaxis": "y2"
        },
        {
         "hovertemplate": "player=Assault<br>year=2019<br>hill time (s)=%{x}<br>hill defends=%{y}<extra></extra>",
         "legendgroup": "Assault",
         "marker": {
          "color": "#B6E880",
          "symbol": "circle"
         },
         "mode": "markers",
         "name": "Assault",
         "showlegend": false,
         "type": "scattergl",
         "x": [
          120,
          48,
          71,
          59,
          94,
          83,
          80,
          15,
          71,
          29
         ],
         "xaxis": "x3",
         "y": [
          1,
          14,
          8,
          4,
          9,
          5,
          9,
          9,
          7,
          6
         ],
         "yaxis": "y3"
        },
        {
         "hovertemplate": "player=Priestah<br>year=2017<br>hill time (s)=%{x}<br>hill defends=%{y}<extra></extra>",
         "legendgroup": "Priestah",
         "marker": {
          "color": "#FF97FF",
          "symbol": "circle"
         },
         "mode": "markers",
         "name": "Priestah",
         "showlegend": true,
         "type": "scattergl",
         "x": [
          67,
          71,
          29,
          27,
          34,
          64,
          50,
          62
         ],
         "xaxis": "x",
         "y": [
          4,
          6,
          0,
          2,
          1,
          9,
          5,
          2
         ],
         "yaxis": "y"
        },
        {
         "hovertemplate": "player=Priestah<br>year=2018<br>hill time (s)=%{x}<br>hill defends=%{y}<extra></extra>",
         "legendgroup": "Priestah",
         "marker": {
          "color": "#FF97FF",
          "symbol": "circle"
         },
         "mode": "markers",
         "name": "Priestah",
         "showlegend": false,
         "type": "scattergl",
         "x": [
          103,
          62,
          40,
          100,
          103,
          86,
          115,
          60,
          115,
          115,
          57,
          83,
          141,
          42,
          84,
          97,
          65
         ],
         "xaxis": "x2",
         "y": [
          1,
          3,
          2,
          1,
          0,
          0,
          1,
          0,
          2,
          2,
          1,
          1,
          0,
          0,
          0,
          1,
          0
         ],
         "yaxis": "y2"
        },
        {
         "hovertemplate": "player=Xotic<br>year=2017<br>hill time (s)=%{x}<br>hill defends=%{y}<extra></extra>",
         "legendgroup": "Xotic",
         "marker": {
          "color": "#FECB52",
          "symbol": "circle"
         },
         "mode": "markers",
         "name": "Xotic",
         "showlegend": true,
         "type": "scattergl",
         "x": [
          134,
          85,
          65,
          72,
          83,
          54,
          69,
          81
         ],
         "xaxis": "x",
         "y": [
          4,
          4,
          2,
          1,
          3,
          3,
          1,
          2
         ],
         "yaxis": "y"
        },
        {
         "hovertemplate": "player=Xotic<br>year=2018<br>hill time (s)=%{x}<br>hill defends=%{y}<extra></extra>",
         "legendgroup": "Xotic",
         "marker": {
          "color": "#FECB52",
          "symbol": "circle"
         },
         "mode": "markers",
         "name": "Xotic",
         "showlegend": false,
         "type": "scattergl",
         "x": [
          61,
          83,
          49,
          34,
          72,
          25,
          71,
          35
         ],
         "xaxis": "x2",
         "y": [
          0,
          1,
          0,
          1,
          1,
          0,
          0,
          0
         ],
         "yaxis": "y2"
        },
        {
         "hovertemplate": "player=Xotic<br>year=2019<br>hill time (s)=%{x}<br>hill defends=%{y}<extra></extra>",
         "legendgroup": "Xotic",
         "marker": {
          "color": "#FECB52",
          "symbol": "circle"
         },
         "mode": "markers",
         "name": "Xotic",
         "showlegend": false,
         "type": "scattergl",
         "x": [
          76,
          79,
          41,
          68,
          31,
          76,
          76,
          68,
          117,
          82,
          68
         ],
         "xaxis": "x3",
         "y": [
          3,
          5,
          5,
          5,
          8,
          4,
          6,
          5,
          5,
          3,
          10
         ],
         "yaxis": "y3"
        },
        {
         "hovertemplate": "player=GodRx<br>year=2017<br>hill time (s)=%{x}<br>hill defends=%{y}<extra></extra>",
         "legendgroup": "GodRx",
         "marker": {
          "color": "#636efa",
          "symbol": "circle"
         },
         "mode": "markers",
         "name": "GodRx",
         "showlegend": true,
         "type": "scattergl",
         "x": [
          58,
          27,
          54,
          40,
          68,
          59
         ],
         "xaxis": "x",
         "y": [
          6,
          2,
          2,
          4,
          3,
          2
         ],
         "yaxis": "y"
        },
        {
         "hovertemplate": "player=GodRx<br>year=2018<br>hill time (s)=%{x}<br>hill defends=%{y}<extra></extra>",
         "legendgroup": "GodRx",
         "marker": {
          "color": "#636efa",
          "symbol": "circle"
         },
         "mode": "markers",
         "name": "GodRx",
         "showlegend": false,
         "type": "scattergl",
         "x": [
          76,
          25,
          59,
          79,
          25,
          76,
          55,
          87,
          60,
          40
         ],
         "xaxis": "x2",
         "y": [
          2,
          1,
          0,
          2,
          0,
          3,
          1,
          2,
          0,
          0
         ],
         "yaxis": "y2"
        },
        {
         "hovertemplate": "player=GodRx<br>year=2019<br>hill time (s)=%{x}<br>hill defends=%{y}<extra></extra>",
         "legendgroup": "GodRx",
         "marker": {
          "color": "#636efa",
          "symbol": "circle"
         },
         "mode": "markers",
         "name": "GodRx",
         "showlegend": false,
         "type": "scattergl",
         "x": [
          68,
          74,
          98,
          59,
          87,
          27,
          45,
          59,
          96,
          21,
          56,
          51,
          66
         ],
         "xaxis": "x3",
         "y": [
          6,
          7,
          8,
          3,
          6,
          3,
          6,
          12,
          10,
          10,
          8,
          5,
          6
         ],
         "yaxis": "y3"
        },
        {
         "hovertemplate": "player=Johnny<br>year=2017<br>hill time (s)=%{x}<br>hill defends=%{y}<extra></extra>",
         "legendgroup": "Johnny",
         "marker": {
          "color": "#EF553B",
          "symbol": "circle"
         },
         "mode": "markers",
         "name": "Johnny",
         "showlegend": true,
         "type": "scattergl",
         "x": [
          81,
          58,
          140,
          76,
          25,
          70
         ],
         "xaxis": "x",
         "y": [
          1,
          1,
          4,
          0,
          0,
          4
         ],
         "yaxis": "y"
        },
        {
         "hovertemplate": "player=Pandur<br>year=2017<br>hill time (s)=%{x}<br>hill defends=%{y}<extra></extra>",
         "legendgroup": "Pandur",
         "marker": {
          "color": "#00cc96",
          "symbol": "circle"
         },
         "mode": "markers",
         "name": "Pandur",
         "showlegend": true,
         "type": "scattergl",
         "x": [
          66,
          85,
          29,
          46,
          78,
          63
         ],
         "xaxis": "x",
         "y": [
          3,
          5,
          2,
          3,
          4,
          3
         ],
         "yaxis": "y"
        },
        {
         "hovertemplate": "player=Pandur<br>year=2018<br>hill time (s)=%{x}<br>hill defends=%{y}<extra></extra>",
         "legendgroup": "Pandur",
         "marker": {
          "color": "#00cc96",
          "symbol": "circle"
         },
         "mode": "markers",
         "name": "Pandur",
         "showlegend": false,
         "type": "scattergl",
         "x": [
          113,
          58,
          41,
          124,
          82,
          84,
          125,
          26,
          48,
          25
         ],
         "xaxis": "x2",
         "y": [
          1,
          1,
          0,
          0,
          0,
          0,
          0,
          0,
          2,
          0
         ],
         "yaxis": "y2"
        },
        {
         "hovertemplate": "player=Pandur<br>year=2019<br>hill time (s)=%{x}<br>hill defends=%{y}<extra></extra>",
         "legendgroup": "Pandur",
         "marker": {
          "color": "#00cc96",
          "symbol": "circle"
         },
         "mode": "markers",
         "name": "Pandur",
         "showlegend": false,
         "type": "scattergl",
         "x": [
          74,
          119,
          75,
          67,
          80
         ],
         "xaxis": "x3",
         "y": [
          7,
          10,
          11,
          9,
          3
         ],
         "yaxis": "y3"
        },
        {
         "hovertemplate": "player=Stamino<br>year=2017<br>hill time (s)=%{x}<br>hill defends=%{y}<extra></extra>",
         "legendgroup": "Stamino",
         "marker": {
          "color": "#ab63fa",
          "symbol": "circle"
         },
         "mode": "markers",
         "name": "Stamino",
         "showlegend": true,
         "type": "scattergl",
         "x": [
          68,
          86,
          53,
          131,
          123,
          118
         ],
         "xaxis": "x",
         "y": [
          5,
          3,
          2,
          7,
          3,
          7
         ],
         "yaxis": "y"
        },
        {
         "hovertemplate": "player=Stamino<br>year=2019<br>hill time (s)=%{x}<br>hill defends=%{y}<extra></extra>",
         "legendgroup": "Stamino",
         "marker": {
          "color": "#ab63fa",
          "symbol": "circle"
         },
         "mode": "markers",
         "name": "Stamino",
         "showlegend": false,
         "type": "scattergl",
         "x": [
          15,
          50,
          50,
          100,
          97
         ],
         "xaxis": "x3",
         "y": [
          6,
          13,
          8,
          9,
          5
         ],
         "yaxis": "y3"
        },
        {
         "hovertemplate": "player=Bance<br>year=2017<br>hill time (s)=%{x}<br>hill defends=%{y}<extra></extra>",
         "legendgroup": "Bance",
         "marker": {
          "color": "#FFA15A",
          "symbol": "circle"
         },
         "mode": "markers",
         "name": "Bance",
         "showlegend": true,
         "type": "scattergl",
         "x": [
          75,
          53,
          138,
          65,
          57,
          125,
          46,
          50,
          83,
          35,
          95
         ],
         "xaxis": "x",
         "y": [
          2,
          2,
          2,
          3,
          2,
          2,
          2,
          6,
          7,
          0,
          7
         ],
         "yaxis": "y"
        },
        {
         "hovertemplate": "player=Bance<br>year=2018<br>hill time (s)=%{x}<br>hill defends=%{y}<extra></extra>",
         "legendgroup": "Bance",
         "marker": {
          "color": "#FFA15A",
          "symbol": "circle"
         },
         "mode": "markers",
         "name": "Bance",
         "showlegend": false,
         "type": "scattergl",
         "x": [
          114,
          18,
          92,
          59,
          50
         ],
         "xaxis": "x2",
         "y": [
          0,
          0,
          0,
          2,
          3
         ],
         "yaxis": "y2"
        },
        {
         "hovertemplate": "player=Bance<br>year=2019<br>hill time (s)=%{x}<br>hill defends=%{y}<extra></extra>",
         "legendgroup": "Bance",
         "marker": {
          "color": "#FFA15A",
          "symbol": "circle"
         },
         "mode": "markers",
         "name": "Bance",
         "showlegend": false,
         "type": "scattergl",
         "x": [
          91,
          87,
          20,
          66,
          20
         ],
         "xaxis": "x3",
         "y": [
          10,
          5,
          4,
          3,
          4
         ],
         "yaxis": "y3"
        },
        {
         "hovertemplate": "player=Jurd<br>year=2017<br>hill time (s)=%{x}<br>hill defends=%{y}<extra></extra>",
         "legendgroup": "Jurd",
         "marker": {
          "color": "#19d3f3",
          "symbol": "circle"
         },
         "mode": "markers",
         "name": "Jurd",
         "showlegend": true,
         "type": "scattergl",
         "x": [
          33,
          69,
          99,
          61,
          83,
          34,
          77,
          38,
          104,
          27,
          70
         ],
         "xaxis": "x",
         "y": [
          3,
          2,
          4,
          3,
          3,
          2,
          5,
          0,
          2,
          0,
          5
         ],
         "yaxis": "y"
        },
        {
         "hovertemplate": "player=Jurd<br>year=2018<br>hill time (s)=%{x}<br>hill defends=%{y}<extra></extra>",
         "legendgroup": "Jurd",
         "marker": {
          "color": "#19d3f3",
          "symbol": "circle"
         },
         "mode": "markers",
         "name": "Jurd",
         "showlegend": false,
         "type": "scattergl",
         "x": [
          31,
          51,
          91,
          16,
          31
         ],
         "xaxis": "x2",
         "y": [
          3,
          0,
          1,
          0,
          0
         ],
         "yaxis": "y2"
        },
        {
         "hovertemplate": "player=Jurd<br>year=2019<br>hill time (s)=%{x}<br>hill defends=%{y}<extra></extra>",
         "legendgroup": "Jurd",
         "marker": {
          "color": "#19d3f3",
          "symbol": "circle"
         },
         "mode": "markers",
         "name": "Jurd",
         "showlegend": false,
         "type": "scattergl",
         "x": [
          82,
          63,
          87,
          49,
          18,
          55,
          55,
          57
         ],
         "xaxis": "x3",
         "y": [
          15,
          3,
          6,
          9,
          2,
          8,
          3,
          7
         ],
         "yaxis": "y3"
        },
        {
         "hovertemplate": "player=MadCat<br>year=2017<br>hill time (s)=%{x}<br>hill defends=%{y}<extra></extra>",
         "legendgroup": "MadCat",
         "marker": {
          "color": "#FF6692",
          "symbol": "circle"
         },
         "mode": "markers",
         "name": "MadCat",
         "showlegend": true,
         "type": "scattergl",
         "x": [
          17,
          69,
          58,
          24,
          73,
          78,
          57,
          148,
          70,
          76,
          58
         ],
         "xaxis": "x",
         "y": [
          2,
          2,
          6,
          1,
          1,
          3,
          2,
          6,
          2,
          2,
          2
         ],
         "yaxis": "y"
        },
        {
         "hovertemplate": "player=MadCat<br>year=2018<br>hill time (s)=%{x}<br>hill defends=%{y}<extra></extra>",
         "legendgroup": "MadCat",
         "marker": {
          "color": "#FF6692",
          "symbol": "circle"
         },
         "mode": "markers",
         "name": "MadCat",
         "showlegend": false,
         "type": "scattergl",
         "x": [
          116,
          44,
          72,
          29,
          92
         ],
         "xaxis": "x2",
         "y": [
          0,
          1,
          1,
          1,
          1
         ],
         "yaxis": "y2"
        },
        {
         "hovertemplate": "player=MadCat<br>year=2019<br>hill time (s)=%{x}<br>hill defends=%{y}<extra></extra>",
         "legendgroup": "MadCat",
         "marker": {
          "color": "#FF6692",
          "symbol": "circle"
         },
         "mode": "markers",
         "name": "MadCat",
         "showlegend": false,
         "type": "scattergl",
         "x": [
          61,
          74,
          84,
          6,
          31
         ],
         "xaxis": "x3",
         "y": [
          9,
          9,
          3,
          3,
          1
         ],
         "yaxis": "y3"
        },
        {
         "hovertemplate": "player=Zero<br>year=2017<br>hill time (s)=%{x}<br>hill defends=%{y}<extra></extra>",
         "legendgroup": "Zero",
         "marker": {
          "color": "#B6E880",
          "symbol": "circle"
         },
         "mode": "markers",
         "name": "Zero",
         "showlegend": true,
         "type": "scattergl",
         "x": [
          55,
          45,
          47,
          58,
          24,
          41,
          52,
          87,
          40,
          48,
          85
         ],
         "xaxis": "x",
         "y": [
          2,
          2,
          2,
          1,
          0,
          4,
          3,
          6,
          2,
          1,
          2
         ],
         "yaxis": "y"
        },
        {
         "hovertemplate": "player=Accuracy<br>year=2017<br>hill time (s)=%{x}<br>hill defends=%{y}<extra></extra>",
         "legendgroup": "Accuracy",
         "marker": {
          "color": "#FF97FF",
          "symbol": "circle"
         },
         "mode": "markers",
         "name": "Accuracy",
         "showlegend": true,
         "type": "scattergl",
         "x": [
          77,
          125,
          95,
          89,
          78,
          26
         ],
         "xaxis": "x",
         "y": [
          6,
          3,
          3,
          3,
          5,
          1
         ],
         "yaxis": "y"
        },
        {
         "hovertemplate": "player=Accuracy<br>year=2018<br>hill time (s)=%{x}<br>hill defends=%{y}<extra></extra>",
         "legendgroup": "Accuracy",
         "marker": {
          "color": "#FF97FF",
          "symbol": "circle"
         },
         "mode": "markers",
         "name": "Accuracy",
         "showlegend": false,
         "type": "scattergl",
         "x": [
          101,
          81,
          82,
          118,
          149,
          86,
          95,
          42,
          106,
          30,
          94,
          70,
          91,
          50,
          146,
          121,
          154,
          125
         ],
         "xaxis": "x2",
         "y": [
          2,
          2,
          1,
          0,
          2,
          0,
          3,
          1,
          0,
          0,
          0,
          1,
          0,
          0,
          0,
          0,
          0,
          2
         ],
         "yaxis": "y2"
        },
        {
         "hovertemplate": "player=Accuracy<br>year=2019<br>hill time (s)=%{x}<br>hill defends=%{y}<extra></extra>",
         "legendgroup": "Accuracy",
         "marker": {
          "color": "#FF97FF",
          "symbol": "circle"
         },
         "mode": "markers",
         "name": "Accuracy",
         "showlegend": false,
         "type": "scattergl",
         "x": [
          104,
          91,
          158,
          64,
          89,
          92,
          140,
          61,
          79,
          110,
          72
         ],
         "xaxis": "x3",
         "y": [
          2,
          4,
          3,
          3,
          3,
          10,
          6,
          6,
          5,
          4,
          12
         ],
         "yaxis": "y3"
        },
        {
         "hovertemplate": "player=Goonjar<br>year=2017<br>hill time (s)=%{x}<br>hill defends=%{y}<extra></extra>",
         "legendgroup": "Goonjar",
         "marker": {
          "color": "#FECB52",
          "symbol": "circle"
         },
         "mode": "markers",
         "name": "Goonjar",
         "showlegend": true,
         "type": "scattergl",
         "x": [
          18,
          21,
          56,
          23,
          21,
          61
         ],
         "xaxis": "x",
         "y": [
          0,
          0,
          2,
          1,
          0,
          2
         ],
         "yaxis": "y"
        },
        {
         "hovertemplate": "player=Goonjar<br>year=2018<br>hill time (s)=%{x}<br>hill defends=%{y}<extra></extra>",
         "legendgroup": "Goonjar",
         "marker": {
          "color": "#FECB52",
          "symbol": "circle"
         },
         "mode": "markers",
         "name": "Goonjar",
         "showlegend": false,
         "type": "scattergl",
         "x": [
          83,
          49,
          115,
          70,
          113,
          70,
          35,
          67
         ],
         "xaxis": "x2",
         "y": [
          6,
          2,
          2,
          0,
          0,
          1,
          0,
          0
         ],
         "yaxis": "y2"
        },
        {
         "hovertemplate": "player=Happy<br>year=2017<br>hill time (s)=%{x}<br>hill defends=%{y}<extra></extra>",
         "legendgroup": "Happy",
         "marker": {
          "color": "#636efa",
          "symbol": "circle"
         },
         "mode": "markers",
         "name": "Happy",
         "showlegend": true,
         "type": "scattergl",
         "x": [
          39,
          70,
          100,
          76,
          67,
          61
         ],
         "xaxis": "x",
         "y": [
          3,
          3,
          3,
          2,
          4,
          3
         ],
         "yaxis": "y"
        },
        {
         "hovertemplate": "player=Theory<br>year=2017<br>hill time (s)=%{x}<br>hill defends=%{y}<extra></extra>",
         "legendgroup": "Theory",
         "marker": {
          "color": "#EF553B",
          "symbol": "circle"
         },
         "mode": "markers",
         "name": "Theory",
         "showlegend": true,
         "type": "scattergl",
         "x": [
          134,
          101,
          54,
          65,
          126,
          36
         ],
         "xaxis": "x",
         "y": [
          8,
          9,
          4,
          5,
          5,
          3
         ],
         "yaxis": "y"
        },
        {
         "hovertemplate": "player=Theory<br>year=2018<br>hill time (s)=%{x}<br>hill defends=%{y}<extra></extra>",
         "legendgroup": "Theory",
         "marker": {
          "color": "#EF553B",
          "symbol": "circle"
         },
         "mode": "markers",
         "name": "Theory",
         "showlegend": false,
         "type": "scattergl",
         "x": [
          62,
          44,
          44,
          13,
          53,
          36,
          54,
          64
         ],
         "xaxis": "x2",
         "y": [
          1,
          2,
          1,
          1,
          1,
          2,
          0,
          1
         ],
         "yaxis": "y2"
        },
        {
         "hovertemplate": "player=Lacefield<br>year=2017<br>hill time (s)=%{x}<br>hill defends=%{y}<extra></extra>",
         "legendgroup": "Lacefield",
         "marker": {
          "color": "#00cc96",
          "symbol": "circle"
         },
         "mode": "markers",
         "name": "Lacefield",
         "showlegend": true,
         "type": "scattergl",
         "x": [
          29,
          65,
          83,
          64,
          64,
          99,
          140,
          44,
          91,
          69,
          117,
          94,
          68
         ],
         "xaxis": "x",
         "y": [
          1,
          6,
          7,
          5,
          4,
          3,
          4,
          5,
          2,
          4,
          2,
          1,
          1
         ],
         "yaxis": "y"
        },
        {
         "hovertemplate": "player=Lacefield<br>year=2018<br>hill time (s)=%{x}<br>hill defends=%{y}<extra></extra>",
         "legendgroup": "Lacefield",
         "marker": {
          "color": "#00cc96",
          "symbol": "circle"
         },
         "mode": "markers",
         "name": "Lacefield",
         "showlegend": false,
         "type": "scattergl",
         "x": [
          60,
          12,
          32,
          88,
          103,
          57,
          45,
          97,
          38,
          8
         ],
         "xaxis": "x2",
         "y": [
          0,
          0,
          1,
          2,
          1,
          1,
          0,
          3,
          0,
          0
         ],
         "yaxis": "y2"
        },
        {
         "hovertemplate": "player=Lacefield<br>year=2019<br>hill time (s)=%{x}<br>hill defends=%{y}<extra></extra>",
         "legendgroup": "Lacefield",
         "marker": {
          "color": "#00cc96",
          "symbol": "circle"
         },
         "mode": "markers",
         "name": "Lacefield",
         "showlegend": false,
         "type": "scattergl",
         "x": [
          50,
          61,
          75,
          93,
          43,
          69,
          32,
          94,
          117,
          74
         ],
         "xaxis": "x3",
         "y": [
          9,
          5,
          8,
          10,
          9,
          6,
          15,
          5,
          6,
          0
         ],
         "yaxis": "y3"
        },
        {
         "hovertemplate": "player=LlamaGod<br>year=2017<br>hill time (s)=%{x}<br>hill defends=%{y}<extra></extra>",
         "legendgroup": "LlamaGod",
         "marker": {
          "color": "#ab63fa",
          "symbol": "circle"
         },
         "mode": "markers",
         "name": "LlamaGod",
         "showlegend": true,
         "type": "scattergl",
         "x": [
          31,
          87,
          56,
          81,
          97,
          79,
          50,
          71,
          73,
          42,
          99,
          125,
          77
         ],
         "xaxis": "x",
         "y": [
          3,
          5,
          5,
          6,
          6,
          2,
          2,
          6,
          5,
          9,
          5,
          3,
          3
         ],
         "yaxis": "y"
        },
        {
         "hovertemplate": "player=LlamaGod<br>year=2019<br>hill time (s)=%{x}<br>hill defends=%{y}<extra></extra>",
         "legendgroup": "LlamaGod",
         "marker": {
          "color": "#ab63fa",
          "symbol": "circle"
         },
         "mode": "markers",
         "name": "LlamaGod",
         "showlegend": false,
         "type": "scattergl",
         "x": [
          78,
          100,
          110,
          37,
          74,
          89
         ],
         "xaxis": "x3",
         "y": [
          3,
          6,
          12,
          7,
          2,
          7
         ],
         "yaxis": "y3"
        },
        {
         "hovertemplate": "player=Maux<br>year=2017<br>hill time (s)=%{x}<br>hill defends=%{y}<extra></extra>",
         "legendgroup": "Maux",
         "marker": {
          "color": "#FFA15A",
          "symbol": "circle"
         },
         "mode": "markers",
         "name": "Maux",
         "showlegend": true,
         "type": "scattergl",
         "x": [
          70,
          78,
          138,
          55,
          84,
          59,
          44,
          55,
          57,
          112,
          54,
          82,
          59
         ],
         "xaxis": "x",
         "y": [
          3,
          1,
          6,
          1,
          5,
          4,
          3,
          5,
          2,
          6,
          3,
          2,
          2
         ],
         "yaxis": "y"
        },
        {
         "hovertemplate": "player=Maux<br>year=2018<br>hill time (s)=%{x}<br>hill defends=%{y}<extra></extra>",
         "legendgroup": "Maux",
         "marker": {
          "color": "#FFA15A",
          "symbol": "circle"
         },
         "mode": "markers",
         "name": "Maux",
         "showlegend": false,
         "type": "scattergl",
         "x": [
          64,
          39,
          64,
          58,
          88,
          106,
          99,
          117,
          72
         ],
         "xaxis": "x2",
         "y": [
          0,
          1,
          3,
          1,
          1,
          1,
          1,
          1,
          1
         ],
         "yaxis": "y2"
        },
        {
         "hovertemplate": "player=Maux<br>year=2019<br>hill time (s)=%{x}<br>hill defends=%{y}<extra></extra>",
         "legendgroup": "Maux",
         "marker": {
          "color": "#FFA15A",
          "symbol": "circle"
         },
         "mode": "markers",
         "name": "Maux",
         "showlegend": false,
         "type": "scattergl",
         "x": [
          65,
          42,
          17,
          38
         ],
         "xaxis": "x3",
         "y": [
          7,
          10,
          5,
          3
         ],
         "yaxis": "y3"
        },
        {
         "hovertemplate": "player=SpaceLy<br>year=2017<br>hill time (s)=%{x}<br>hill defends=%{y}<extra></extra>",
         "legendgroup": "SpaceLy",
         "marker": {
          "color": "#19d3f3",
          "symbol": "circle"
         },
         "mode": "markers",
         "name": "SpaceLy",
         "showlegend": true,
         "type": "scattergl",
         "x": [
          77,
          50,
          61,
          98,
          38,
          57,
          44,
          94,
          94,
          54,
          34,
          45,
          82
         ],
         "xaxis": "x",
         "y": [
          4,
          2,
          4,
          3,
          0,
          3,
          3,
          5,
          1,
          3,
          2,
          2,
          1
         ],
         "yaxis": "y"
        },
        {
         "hovertemplate": "player=SpaceLy<br>year=2018<br>hill time (s)=%{x}<br>hill defends=%{y}<extra></extra>",
         "legendgroup": "SpaceLy",
         "marker": {
          "color": "#19d3f3",
          "symbol": "circle"
         },
         "mode": "markers",
         "name": "SpaceLy",
         "showlegend": false,
         "type": "scattergl",
         "x": [
          25,
          31,
          55,
          46,
          31,
          69,
          29,
          27,
          38
         ],
         "xaxis": "x2",
         "y": [
          0,
          1,
          2,
          1,
          1,
          1,
          0,
          0,
          0
         ],
         "yaxis": "y2"
        },
        {
         "hovertemplate": "player=SpaceLy<br>year=2019<br>hill time (s)=%{x}<br>hill defends=%{y}<extra></extra>",
         "legendgroup": "SpaceLy",
         "marker": {
          "color": "#19d3f3",
          "symbol": "circle"
         },
         "mode": "markers",
         "name": "SpaceLy",
         "showlegend": false,
         "type": "scattergl",
         "x": [
          79,
          28,
          20,
          3,
          25,
          112
         ],
         "xaxis": "x3",
         "y": [
          1,
          5,
          7,
          3,
          12,
          1
         ],
         "yaxis": "y3"
        },
        {
         "hovertemplate": "player=MarkyB<br>year=2017<br>hill time (s)=%{x}<br>hill defends=%{y}<extra></extra>",
         "legendgroup": "MarkyB",
         "marker": {
          "color": "#FF6692",
          "symbol": "circle"
         },
         "mode": "markers",
         "name": "MarkyB",
         "showlegend": true,
         "type": "scattergl",
         "x": [
          109,
          21,
          37,
          60,
          33
         ],
         "xaxis": "x",
         "y": [
          5,
          0,
          4,
          2,
          4
         ],
         "yaxis": "y"
        },
        {
         "hovertemplate": "player=Moose<br>year=2017<br>hill time (s)=%{x}<br>hill defends=%{y}<extra></extra>",
         "legendgroup": "Moose",
         "marker": {
          "color": "#B6E880",
          "symbol": "circle"
         },
         "mode": "markers",
         "name": "Moose",
         "showlegend": true,
         "type": "scattergl",
         "x": [
          35,
          136,
          101,
          85,
          130
         ],
         "xaxis": "x",
         "y": [
          1,
          6,
          4,
          8,
          8
         ],
         "yaxis": "y"
        },
        {
         "hovertemplate": "player=Moose<br>year=2018<br>hill time (s)=%{x}<br>hill defends=%{y}<extra></extra>",
         "legendgroup": "Moose",
         "marker": {
          "color": "#B6E880",
          "symbol": "circle"
         },
         "mode": "markers",
         "name": "Moose",
         "showlegend": false,
         "type": "scattergl",
         "x": [
          24,
          63,
          77,
          4,
          55,
          64,
          76,
          89,
          40
         ],
         "xaxis": "x2",
         "y": [
          0,
          1,
          1,
          0,
          1,
          0,
          1,
          1,
          0
         ],
         "yaxis": "y2"
        },
        {
         "hovertemplate": "player=Peatie<br>year=2017<br>hill time (s)=%{x}<br>hill defends=%{y}<extra></extra>",
         "legendgroup": "Peatie",
         "marker": {
          "color": "#FF97FF",
          "symbol": "circle"
         },
         "mode": "markers",
         "name": "Peatie",
         "showlegend": true,
         "type": "scattergl",
         "x": [
          73,
          95,
          54,
          102,
          56
         ],
         "xaxis": "x",
         "y": [
          2,
          2,
          1,
          7,
          4
         ],
         "yaxis": "y"
        },
        {
         "hovertemplate": "player=Peatie<br>year=2018<br>hill time (s)=%{x}<br>hill defends=%{y}<extra></extra>",
         "legendgroup": "Peatie",
         "marker": {
          "color": "#FF97FF",
          "symbol": "circle"
         },
         "mode": "markers",
         "name": "Peatie",
         "showlegend": false,
         "type": "scattergl",
         "x": [
          19,
          69,
          72,
          94,
          63,
          20,
          38,
          70,
          41
         ],
         "xaxis": "x2",
         "y": [
          0,
          2,
          1,
          5,
          0,
          0,
          1,
          2,
          0
         ],
         "yaxis": "y2"
        },
        {
         "hovertemplate": "player=Peatie<br>year=2019<br>hill time (s)=%{x}<br>hill defends=%{y}<extra></extra>",
         "legendgroup": "Peatie",
         "marker": {
          "color": "#FF97FF",
          "symbol": "circle"
         },
         "mode": "markers",
         "name": "Peatie",
         "showlegend": false,
         "type": "scattergl",
         "x": [
          76,
          50,
          84,
          37,
          15,
          43,
          37,
          62,
          57
         ],
         "xaxis": "x3",
         "y": [
          4,
          5,
          5,
          4,
          6,
          4,
          6,
          3,
          7
         ],
         "yaxis": "y3"
        },
        {
         "hovertemplate": "player=QwiKeR<br>year=2017<br>hill time (s)=%{x}<br>hill defends=%{y}<extra></extra>",
         "legendgroup": "QwiKeR",
         "marker": {
          "color": "#FECB52",
          "symbol": "circle"
         },
         "mode": "markers",
         "name": "QwiKeR",
         "showlegend": true,
         "type": "scattergl",
         "x": [
          73,
          73,
          53,
          92,
          76
         ],
         "xaxis": "x",
         "y": [
          4,
          1,
          0,
          6,
          4
         ],
         "yaxis": "y"
        },
        {
         "hovertemplate": "player=QwiKeR<br>year=2018<br>hill time (s)=%{x}<br>hill defends=%{y}<extra></extra>",
         "legendgroup": "QwiKeR",
         "marker": {
          "color": "#FECB52",
          "symbol": "circle"
         },
         "mode": "markers",
         "name": "QwiKeR",
         "showlegend": false,
         "type": "scattergl",
         "x": [
          6,
          60,
          42,
          105,
          37,
          18,
          50,
          60,
          55
         ],
         "xaxis": "x2",
         "y": [
          0,
          2,
          1,
          2,
          1,
          0,
          3,
          1,
          1
         ],
         "yaxis": "y2"
        },
        {
         "hovertemplate": "player=QwiKeR<br>year=2019<br>hill time (s)=%{x}<br>hill defends=%{y}<extra></extra>",
         "legendgroup": "QwiKeR",
         "marker": {
          "color": "#FECB52",
          "symbol": "circle"
         },
         "mode": "markers",
         "name": "QwiKeR",
         "showlegend": false,
         "type": "scattergl",
         "x": [
          90,
          24,
          33,
          28,
          17
         ],
         "xaxis": "x3",
         "y": [
          9,
          4,
          6,
          1,
          5
         ],
         "yaxis": "y3"
        },
        {
         "hovertemplate": "player=General<br>year=2017<br>hill time (s)=%{x}<br>hill defends=%{y}<extra></extra>",
         "legendgroup": "General",
         "marker": {
          "color": "#636efa",
          "symbol": "circle"
         },
         "mode": "markers",
         "name": "General",
         "showlegend": true,
         "type": "scattergl",
         "x": [
          62,
          48,
          61,
          56,
          15,
          31,
          113,
          27,
          28
         ],
         "xaxis": "x",
         "y": [
          0,
          1,
          0,
          1,
          0,
          2,
          9,
          4,
          1
         ],
         "yaxis": "y"
        },
        {
         "hovertemplate": "player=General<br>year=2018<br>hill time (s)=%{x}<br>hill defends=%{y}<extra></extra>",
         "legendgroup": "General",
         "marker": {
          "color": "#636efa",
          "symbol": "circle"
         },
         "mode": "markers",
         "name": "General",
         "showlegend": false,
         "type": "scattergl",
         "x": [
          78,
          55,
          64,
          34,
          73
         ],
         "xaxis": "x2",
         "y": [
          1,
          0,
          0,
          1,
          1
         ],
         "yaxis": "y2"
        },
        {
         "hovertemplate": "player=General<br>year=2019<br>hill time (s)=%{x}<br>hill defends=%{y}<extra></extra>",
         "legendgroup": "General",
         "marker": {
          "color": "#636efa",
          "symbol": "circle"
         },
         "mode": "markers",
         "name": "General",
         "showlegend": false,
         "type": "scattergl",
         "x": [
          87,
          65,
          79,
          98,
          80,
          27,
          41,
          122,
          62,
          32,
          46,
          152,
          67
         ],
         "xaxis": "x3",
         "y": [
          12,
          11,
          3,
          4,
          6,
          2,
          7,
          14,
          8,
          8,
          8,
          7,
          6
         ],
         "yaxis": "y3"
        },
        {
         "hovertemplate": "player=Kade<br>year=2017<br>hill time (s)=%{x}<br>hill defends=%{y}<extra></extra>",
         "legendgroup": "Kade",
         "marker": {
          "color": "#EF553B",
          "symbol": "circle"
         },
         "mode": "markers",
         "name": "Kade",
         "showlegend": true,
         "type": "scattergl",
         "x": [
          73,
          92,
          56,
          144,
          54,
          70,
          116,
          11,
          85
         ],
         "xaxis": "x",
         "y": [
          6,
          3,
          3,
          6,
          4,
          3,
          6,
          0,
          3
         ],
         "yaxis": "y"
        },
        {
         "hovertemplate": "player=Proto<br>year=2017<br>hill time (s)=%{x}<br>hill defends=%{y}<extra></extra>",
         "legendgroup": "Proto",
         "marker": {
          "color": "#00cc96",
          "symbol": "circle"
         },
         "mode": "markers",
         "name": "Proto",
         "showlegend": true,
         "type": "scattergl",
         "x": [
          96,
          35,
          90,
          44,
          99,
          93,
          55,
          65,
          70
         ],
         "xaxis": "x",
         "y": [
          3,
          4,
          1,
          3,
          1,
          5,
          4,
          1,
          2
         ],
         "yaxis": "y"
        },
        {
         "hovertemplate": "player=Proto<br>year=2018<br>hill time (s)=%{x}<br>hill defends=%{y}<extra></extra>",
         "legendgroup": "Proto",
         "marker": {
          "color": "#00cc96",
          "symbol": "circle"
         },
         "mode": "markers",
         "name": "Proto",
         "showlegend": false,
         "type": "scattergl",
         "x": [
          107,
          44,
          22,
          82,
          87,
          65,
          39,
          56,
          15
         ],
         "xaxis": "x2",
         "y": [
          1,
          0,
          0,
          1,
          0,
          3,
          0,
          1,
          1
         ],
         "yaxis": "y2"
        },
        {
         "hovertemplate": "player=Proto<br>year=2019<br>hill time (s)=%{x}<br>hill defends=%{y}<extra></extra>",
         "legendgroup": "Proto",
         "marker": {
          "color": "#00cc96",
          "symbol": "circle"
         },
         "mode": "markers",
         "name": "Proto",
         "showlegend": false,
         "type": "scattergl",
         "x": [
          38,
          48,
          64,
          46,
          80,
          76,
          42,
          50,
          25,
          3
         ],
         "xaxis": "x3",
         "y": [
          2,
          11,
          7,
          8,
          3,
          10,
          2,
          6,
          10,
          4
         ],
         "yaxis": "y3"
        },
        {
         "hovertemplate": "player=Royalty<br>year=2017<br>hill time (s)=%{x}<br>hill defends=%{y}<extra></extra>",
         "legendgroup": "Royalty",
         "marker": {
          "color": "#ab63fa",
          "symbol": "circle"
         },
         "mode": "markers",
         "name": "Royalty",
         "showlegend": true,
         "type": "scattergl",
         "x": [
          134,
          37,
          102,
          106,
          103,
          35,
          27,
          62,
          54
         ],
         "xaxis": "x",
         "y": [
          7,
          0,
          4,
          9,
          4,
          2,
          2,
          5,
          1
         ],
         "yaxis": "y"
        },
        {
         "hovertemplate": "player=Royalty<br>year=2018<br>hill time (s)=%{x}<br>hill defends=%{y}<extra></extra>",
         "legendgroup": "Royalty",
         "marker": {
          "color": "#ab63fa",
          "symbol": "circle"
         },
         "mode": "markers",
         "name": "Royalty",
         "showlegend": false,
         "type": "scattergl",
         "x": [
          71,
          76,
          93,
          62,
          74,
          131,
          76,
          26
         ],
         "xaxis": "x2",
         "y": [
          1,
          0,
          0,
          0,
          1,
          1,
          0,
          0
         ],
         "yaxis": "y2"
        },
        {
         "hovertemplate": "player=Royalty<br>year=2019<br>hill time (s)=%{x}<br>hill defends=%{y}<extra></extra>",
         "legendgroup": "Royalty",
         "marker": {
          "color": "#ab63fa",
          "symbol": "circle"
         },
         "mode": "markers",
         "name": "Royalty",
         "showlegend": false,
         "type": "scattergl",
         "x": [
          45,
          56,
          88,
          34,
          100,
          42
         ],
         "xaxis": "x3",
         "y": [
          4,
          3,
          15,
          11,
          4,
          10
         ],
         "yaxis": "y3"
        },
        {
         "hovertemplate": "player=Benji<br>year=2017<br>hill time (s)=%{x}<br>hill defends=%{y}<extra></extra>",
         "legendgroup": "Benji",
         "marker": {
          "color": "#FFA15A",
          "symbol": "circle"
         },
         "mode": "markers",
         "name": "Benji",
         "showlegend": true,
         "type": "scattergl",
         "x": [
          18,
          17,
          95,
          11
         ],
         "xaxis": "x",
         "y": [
          1,
          0,
          5,
          1
         ],
         "yaxis": "y"
        },
        {
         "hovertemplate": "player=Benji<br>year=2018<br>hill time (s)=%{x}<br>hill defends=%{y}<extra></extra>",
         "legendgroup": "Benji",
         "marker": {
          "color": "#FFA15A",
          "symbol": "circle"
         },
         "mode": "markers",
         "name": "Benji",
         "showlegend": false,
         "type": "scattergl",
         "x": [
          63,
          130,
          65,
          81,
          105
         ],
         "xaxis": "x2",
         "y": [
          1,
          6,
          1,
          1,
          3
         ],
         "yaxis": "y2"
        },
        {
         "hovertemplate": "player=GefKid<br>year=2017<br>hill time (s)=%{x}<br>hill defends=%{y}<extra></extra>",
         "legendgroup": "GefKid",
         "marker": {
          "color": "#19d3f3",
          "symbol": "circle"
         },
         "mode": "markers",
         "name": "GefKid",
         "showlegend": true,
         "type": "scattergl",
         "x": [
          25,
          7,
          106,
          37
         ],
         "xaxis": "x",
         "y": [
          0,
          0,
          4,
          0
         ],
         "yaxis": "y"
        },
        {
         "hovertemplate": "player=Subsist<br>year=2017<br>hill time (s)=%{x}<br>hill defends=%{y}<extra></extra>",
         "legendgroup": "Subsist",
         "marker": {
          "color": "#FF6692",
          "symbol": "circle"
         },
         "mode": "markers",
         "name": "Subsist",
         "showlegend": true,
         "type": "scattergl",
         "x": [
          27,
          23,
          53,
          52
         ],
         "xaxis": "x",
         "y": [
          0,
          0,
          1,
          1
         ],
         "yaxis": "y"
        },
        {
         "hovertemplate": "player=Yohanson<br>year=2017<br>hill time (s)=%{x}<br>hill defends=%{y}<extra></extra>",
         "legendgroup": "Yohanson",
         "marker": {
          "color": "#B6E880",
          "symbol": "circle"
         },
         "mode": "markers",
         "name": "Yohanson",
         "showlegend": true,
         "type": "scattergl",
         "x": [
          25,
          5,
          79,
          37
         ],
         "xaxis": "x",
         "y": [
          1,
          0,
          3,
          3
         ],
         "yaxis": "y"
        },
        {
         "hovertemplate": "player=JurNii<br>year=2018<br>hill time (s)=%{x}<br>hill defends=%{y}<extra></extra>",
         "legendgroup": "JurNii",
         "marker": {
          "color": "#FF97FF",
          "symbol": "circle"
         },
         "mode": "markers",
         "name": "JurNii",
         "showlegend": true,
         "type": "scattergl",
         "x": [
          43,
          36,
          11,
          62,
          60,
          57
         ],
         "xaxis": "x2",
         "y": [
          0,
          1,
          0,
          0,
          0,
          3
         ],
         "yaxis": "y2"
        },
        {
         "hovertemplate": "player=JurNii<br>year=2019<br>hill time (s)=%{x}<br>hill defends=%{y}<extra></extra>",
         "legendgroup": "JurNii",
         "marker": {
          "color": "#FF97FF",
          "symbol": "circle"
         },
         "mode": "markers",
         "name": "JurNii",
         "showlegend": false,
         "type": "scattergl",
         "x": [
          119,
          56,
          79,
          34,
          46,
          26,
          44
         ],
         "xaxis": "x3",
         "y": [
          2,
          6,
          1,
          7,
          5,
          9,
          4
         ],
         "yaxis": "y3"
        },
        {
         "hovertemplate": "player=Lucky<br>year=2018<br>hill time (s)=%{x}<br>hill defends=%{y}<extra></extra>",
         "legendgroup": "Lucky",
         "marker": {
          "color": "#FECB52",
          "symbol": "circle"
         },
         "mode": "markers",
         "name": "Lucky",
         "showlegend": true,
         "type": "scattergl",
         "x": [
          54,
          131,
          25,
          108,
          117,
          51
         ],
         "xaxis": "x2",
         "y": [
          1,
          1,
          0,
          0,
          3,
          1
         ],
         "yaxis": "y2"
        },
        {
         "hovertemplate": "player=Lucky<br>year=2019<br>hill time (s)=%{x}<br>hill defends=%{y}<extra></extra>",
         "legendgroup": "Lucky",
         "marker": {
          "color": "#FECB52",
          "symbol": "circle"
         },
         "mode": "markers",
         "name": "Lucky",
         "showlegend": false,
         "type": "scattergl",
         "x": [
          57,
          41,
          87,
          15,
          40,
          58,
          110
         ],
         "xaxis": "x3",
         "y": [
          8,
          6,
          5,
          4,
          1,
          3,
          5
         ],
         "yaxis": "y3"
        },
        {
         "hovertemplate": "player=MethodZsick<br>year=2018<br>hill time (s)=%{x}<br>hill defends=%{y}<extra></extra>",
         "legendgroup": "MethodZsick",
         "marker": {
          "color": "#636efa",
          "symbol": "circle"
         },
         "mode": "markers",
         "name": "MethodZsick",
         "showlegend": true,
         "type": "scattergl",
         "x": [
          124,
          49,
          24,
          48,
          145,
          50
         ],
         "xaxis": "x2",
         "y": [
          0,
          0,
          0,
          2,
          2,
          0
         ],
         "yaxis": "y2"
        },
        {
         "hovertemplate": "player=MethodZsick<br>year=2019<br>hill time (s)=%{x}<br>hill defends=%{y}<extra></extra>",
         "legendgroup": "MethodZsick",
         "marker": {
          "color": "#636efa",
          "symbol": "circle"
         },
         "mode": "markers",
         "name": "MethodZsick",
         "showlegend": false,
         "type": "scattergl",
         "x": [
          116,
          91,
          44,
          30,
          66,
          35,
          29
         ],
         "xaxis": "x3",
         "y": [
          7,
          6,
          3,
          7,
          5,
          4,
          7
         ],
         "yaxis": "y3"
        },
        {
         "hovertemplate": "player=Sukry<br>year=2018<br>hill time (s)=%{x}<br>hill defends=%{y}<extra></extra>",
         "legendgroup": "Sukry",
         "marker": {
          "color": "#EF553B",
          "symbol": "circle"
         },
         "mode": "markers",
         "name": "Sukry",
         "showlegend": true,
         "type": "scattergl",
         "x": [
          75,
          66,
          33,
          40,
          50,
          48
         ],
         "xaxis": "x2",
         "y": [
          0,
          0,
          0,
          0,
          1,
          0
         ],
         "yaxis": "y2"
        },
        {
         "hovertemplate": "player=Fero<br>year=2018<br>hill time (s)=%{x}<br>hill defends=%{y}<extra></extra>",
         "legendgroup": "Fero",
         "marker": {
          "color": "#00cc96",
          "symbol": "circle"
         },
         "mode": "markers",
         "name": "Fero",
         "showlegend": true,
         "type": "scattergl",
         "x": [
          112,
          77,
          124,
          99,
          36,
          92,
          91,
          93,
          61,
          145,
          80,
          37,
          72,
          55,
          38,
          54,
          42,
          53
         ],
         "xaxis": "x2",
         "y": [
          2,
          0,
          0,
          0,
          0,
          0,
          0,
          1,
          2,
          4,
          1,
          0,
          0,
          0,
          1,
          0,
          1,
          2
         ],
         "yaxis": "y2"
        },
        {
         "hovertemplate": "player=Kenny<br>year=2018<br>hill time (s)=%{x}<br>hill defends=%{y}<extra></extra>",
         "legendgroup": "Kenny",
         "marker": {
          "color": "#ab63fa",
          "symbol": "circle"
         },
         "mode": "markers",
         "name": "Kenny",
         "showlegend": true,
         "type": "scattergl",
         "x": [
          15,
          39,
          8,
          28,
          21,
          59,
          49,
          75,
          31,
          1,
          43,
          54,
          18,
          17,
          46,
          34,
          57,
          74
         ],
         "xaxis": "x2",
         "y": [
          2,
          0,
          0,
          2,
          1,
          1,
          2,
          0,
          0,
          0,
          1,
          0,
          1,
          0,
          6,
          0,
          1,
          1
         ],
         "yaxis": "y2"
        },
        {
         "hovertemplate": "player=Kenny<br>year=2019<br>hill time (s)=%{x}<br>hill defends=%{y}<extra></extra>",
         "legendgroup": "Kenny",
         "marker": {
          "color": "#ab63fa",
          "symbol": "circle"
         },
         "mode": "markers",
         "name": "Kenny",
         "showlegend": false,
         "type": "scattergl",
         "x": [
          78,
          58,
          67,
          15,
          69,
          17,
          57,
          82,
          49,
          40,
          40,
          80,
          17,
          36,
          71,
          65,
          20,
          82
         ],
         "xaxis": "x3",
         "y": [
          7,
          2,
          8,
          5,
          8,
          4,
          6,
          8,
          7,
          11,
          3,
          5,
          2,
          2,
          11,
          3,
          8,
          8
         ],
         "yaxis": "y3"
        },
        {
         "hovertemplate": "player=Ramby<br>year=2018<br>hill time (s)=%{x}<br>hill defends=%{y}<extra></extra>",
         "legendgroup": "Ramby",
         "marker": {
          "color": "#FFA15A",
          "symbol": "circle"
         },
         "mode": "markers",
         "name": "Ramby",
         "showlegend": true,
         "type": "scattergl",
         "x": [
          39,
          49,
          52,
          58,
          50,
          109,
          40,
          73,
          25
         ],
         "xaxis": "x2",
         "y": [
          0,
          0,
          1,
          0,
          1,
          0,
          1,
          0,
          1
         ],
         "yaxis": "y2"
        },
        {
         "hovertemplate": "player=Ramby<br>year=2019<br>hill time (s)=%{x}<br>hill defends=%{y}<extra></extra>",
         "legendgroup": "Ramby",
         "marker": {
          "color": "#FFA15A",
          "symbol": "circle"
         },
         "mode": "markers",
         "name": "Ramby",
         "showlegend": false,
         "type": "scattergl",
         "x": [
          49,
          13,
          40,
          26,
          30
         ],
         "xaxis": "x3",
         "y": [
          7,
          4,
          2,
          2,
          7
         ],
         "yaxis": "y3"
        },
        {
         "hovertemplate": "player=Super<br>year=2018<br>hill time (s)=%{x}<br>hill defends=%{y}<extra></extra>",
         "legendgroup": "Super",
         "marker": {
          "color": "#19d3f3",
          "symbol": "circle"
         },
         "mode": "markers",
         "name": "Super",
         "showlegend": true,
         "type": "scattergl",
         "x": [
          123,
          103,
          29,
          114,
          65,
          70,
          24,
          53,
          37
         ],
         "xaxis": "x2",
         "y": [
          0,
          3,
          1,
          1,
          0,
          1,
          0,
          1,
          0
         ],
         "yaxis": "y2"
        },
        {
         "hovertemplate": "player=Super<br>year=2019<br>hill time (s)=%{x}<br>hill defends=%{y}<extra></extra>",
         "legendgroup": "Super",
         "marker": {
          "color": "#19d3f3",
          "symbol": "circle"
         },
         "mode": "markers",
         "name": "Super",
         "showlegend": false,
         "type": "scattergl",
         "x": [
          89,
          70,
          83,
          35
         ],
         "xaxis": "x3",
         "y": [
          3,
          7,
          6,
          5
         ],
         "yaxis": "y3"
        },
        {
         "hovertemplate": "player=Teddyrecks<br>year=2018<br>hill time (s)=%{x}<br>hill defends=%{y}<extra></extra>",
         "legendgroup": "Teddyrecks",
         "marker": {
          "color": "#FF6692",
          "symbol": "circle"
         },
         "mode": "markers",
         "name": "Teddyrecks",
         "showlegend": true,
         "type": "scattergl",
         "x": [
          98,
          48,
          98,
          87,
          38,
          32,
          3,
          71,
          47
         ],
         "xaxis": "x2",
         "y": [
          3,
          0,
          1,
          1,
          0,
          2,
          0,
          3,
          1
         ],
         "yaxis": "y2"
        },
        {
         "hovertemplate": "player=Teddyrecks<br>year=2019<br>hill time (s)=%{x}<br>hill defends=%{y}<extra></extra>",
         "legendgroup": "Teddyrecks",
         "marker": {
          "color": "#FF6692",
          "symbol": "circle"
         },
         "mode": "markers",
         "name": "Teddyrecks",
         "showlegend": false,
         "type": "scattergl",
         "x": [
          36,
          66,
          56,
          9,
          14
         ],
         "xaxis": "x3",
         "y": [
          6,
          3,
          3,
          8,
          7
         ],
         "yaxis": "y3"
        },
        {
         "hovertemplate": "player=Zaptius<br>year=2018<br>hill time (s)=%{x}<br>hill defends=%{y}<extra></extra>",
         "legendgroup": "Zaptius",
         "marker": {
          "color": "#B6E880",
          "symbol": "circle"
         },
         "mode": "markers",
         "name": "Zaptius",
         "showlegend": true,
         "type": "scattergl",
         "x": [
          85,
          30,
          39,
          22,
          53,
          98,
          48,
          106,
          80
         ],
         "xaxis": "x2",
         "y": [
          1,
          2,
          1,
          1,
          1,
          2,
          0,
          3,
          1
         ],
         "yaxis": "y2"
        },
        {
         "hovertemplate": "player=Zaptius<br>year=2019<br>hill time (s)=%{x}<br>hill defends=%{y}<extra></extra>",
         "legendgroup": "Zaptius",
         "marker": {
          "color": "#B6E880",
          "symbol": "circle"
         },
         "mode": "markers",
         "name": "Zaptius",
         "showlegend": false,
         "type": "scattergl",
         "x": [
          47,
          48,
          49,
          102,
          22,
          43
         ],
         "xaxis": "x3",
         "y": [
          11,
          2,
          10,
          5,
          4,
          9
         ],
         "yaxis": "y3"
        },
        {
         "hovertemplate": "player=dReal<br>year=2018<br>hill time (s)=%{x}<br>hill defends=%{y}<extra></extra>",
         "legendgroup": "dReal",
         "marker": {
          "color": "#FF97FF",
          "symbol": "circle"
         },
         "mode": "markers",
         "name": "dReal",
         "showlegend": true,
         "type": "scattergl",
         "x": [
          99,
          92,
          58,
          52,
          66
         ],
         "xaxis": "x2",
         "y": [
          1,
          1,
          0,
          0,
          0
         ],
         "yaxis": "y2"
        },
        {
         "hovertemplate": "player=Nevo<br>year=2018<br>hill time (s)=%{x}<br>hill defends=%{y}<extra></extra>",
         "legendgroup": "Nevo",
         "marker": {
          "color": "#FECB52",
          "symbol": "circle"
         },
         "mode": "markers",
         "name": "Nevo",
         "showlegend": true,
         "type": "scattergl",
         "x": [
          84,
          40,
          28,
          55,
          41
         ],
         "xaxis": "x2",
         "y": [
          1,
          3,
          0,
          0,
          3
         ],
         "yaxis": "y2"
        },
        {
         "hovertemplate": "player=TDylan<br>year=2018<br>hill time (s)=%{x}<br>hill defends=%{y}<extra></extra>",
         "legendgroup": "TDylan",
         "marker": {
          "color": "#636efa",
          "symbol": "circle"
         },
         "mode": "markers",
         "name": "TDylan",
         "showlegend": true,
         "type": "scattergl",
         "x": [
          32,
          36,
          79,
          43,
          91
         ],
         "xaxis": "x2",
         "y": [
          1,
          0,
          0,
          0,
          0
         ],
         "yaxis": "y2"
        },
        {
         "hovertemplate": "player=TJHaly<br>year=2018<br>hill time (s)=%{x}<br>hill defends=%{y}<extra></extra>",
         "legendgroup": "TJHaly",
         "marker": {
          "color": "#EF553B",
          "symbol": "circle"
         },
         "mode": "markers",
         "name": "TJHaly",
         "showlegend": true,
         "type": "scattergl",
         "x": [
          87,
          97,
          74,
          63,
          122,
          62,
          10,
          63,
          35
         ],
         "xaxis": "x2",
         "y": [
          1,
          1,
          1,
          1,
          1,
          4,
          0,
          0,
          1
         ],
         "yaxis": "y2"
        },
        {
         "hovertemplate": "player=TJHaly<br>year=2019<br>hill time (s)=%{x}<br>hill defends=%{y}<extra></extra>",
         "legendgroup": "TJHaly",
         "marker": {
          "color": "#EF553B",
          "symbol": "circle"
         },
         "mode": "markers",
         "name": "TJHaly",
         "showlegend": false,
         "type": "scattergl",
         "x": [
          83,
          42,
          41,
          83,
          51,
          81,
          57,
          36,
          70,
          86,
          73,
          61,
          69,
          12,
          41
         ],
         "xaxis": "x3",
         "y": [
          10,
          6,
          8,
          7,
          6,
          3,
          8,
          2,
          3,
          1,
          8,
          6,
          8,
          3,
          6
         ],
         "yaxis": "y3"
        },
        {
         "hovertemplate": "player=Apox<br>year=2018<br>hill time (s)=%{x}<br>hill defends=%{y}<extra></extra>",
         "legendgroup": "Apox",
         "marker": {
          "color": "#00cc96",
          "symbol": "circle"
         },
         "mode": "markers",
         "name": "Apox",
         "showlegend": true,
         "type": "scattergl",
         "x": [
          20,
          43,
          51
         ],
         "xaxis": "x2",
         "y": [
          0,
          1,
          0
         ],
         "yaxis": "y2"
        },
        {
         "hovertemplate": "player=Apox<br>year=2019<br>hill time (s)=%{x}<br>hill defends=%{y}<extra></extra>",
         "legendgroup": "Apox",
         "marker": {
          "color": "#00cc96",
          "symbol": "circle"
         },
         "mode": "markers",
         "name": "Apox",
         "showlegend": false,
         "type": "scattergl",
         "x": [
          122,
          58,
          42,
          42,
          94,
          55
         ],
         "xaxis": "x3",
         "y": [
          7,
          2,
          8,
          3,
          5,
          4
         ],
         "yaxis": "y3"
        },
        {
         "hovertemplate": "player=Atura<br>year=2018<br>hill time (s)=%{x}<br>hill defends=%{y}<extra></extra>",
         "legendgroup": "Atura",
         "marker": {
          "color": "#ab63fa",
          "symbol": "circle"
         },
         "mode": "markers",
         "name": "Atura",
         "showlegend": true,
         "type": "scattergl",
         "x": [
          33,
          39,
          76
         ],
         "xaxis": "x2",
         "y": [
          0,
          0,
          1
         ],
         "yaxis": "y2"
        },
        {
         "hovertemplate": "player=Parzelion<br>year=2018<br>hill time (s)=%{x}<br>hill defends=%{y}<extra></extra>",
         "legendgroup": "Parzelion",
         "marker": {
          "color": "#FFA15A",
          "symbol": "circle"
         },
         "mode": "markers",
         "name": "Parzelion",
         "showlegend": true,
         "type": "scattergl",
         "x": [
          22,
          81,
          58
         ],
         "xaxis": "x2",
         "y": [
          0,
          2,
          3
         ],
         "yaxis": "y2"
        },
        {
         "hovertemplate": "player=Parzelion<br>year=2019<br>hill time (s)=%{x}<br>hill defends=%{y}<extra></extra>",
         "legendgroup": "Parzelion",
         "marker": {
          "color": "#FFA15A",
          "symbol": "circle"
         },
         "mode": "markers",
         "name": "Parzelion",
         "showlegend": false,
         "type": "scattergl",
         "x": [
          40,
          16,
          18,
          33,
          69,
          61
         ],
         "xaxis": "x3",
         "y": [
          3,
          1,
          8,
          5,
          13,
          4
         ],
         "yaxis": "y3"
        },
        {
         "hovertemplate": "player=RobbieB3319<br>year=2018<br>hill time (s)=%{x}<br>hill defends=%{y}<extra></extra>",
         "legendgroup": "RobbieB3319",
         "marker": {
          "color": "#19d3f3",
          "symbol": "circle"
         },
         "mode": "markers",
         "name": "RobbieB3319",
         "showlegend": true,
         "type": "scattergl",
         "x": [
          6,
          57,
          24
         ],
         "xaxis": "x2",
         "y": [
          0,
          0,
          0
         ],
         "yaxis": "y2"
        },
        {
         "hovertemplate": "player=RobbieB3319<br>year=2019<br>hill time (s)=%{x}<br>hill defends=%{y}<extra></extra>",
         "legendgroup": "RobbieB3319",
         "marker": {
          "color": "#19d3f3",
          "symbol": "circle"
         },
         "mode": "markers",
         "name": "RobbieB3319",
         "showlegend": false,
         "type": "scattergl",
         "x": [
          80,
          65,
          99,
          33
         ],
         "xaxis": "x3",
         "y": [
          11,
          8,
          6,
          9
         ],
         "yaxis": "y3"
        },
        {
         "hovertemplate": "player=Zer0<br>year=2018<br>hill time (s)=%{x}<br>hill defends=%{y}<extra></extra>",
         "legendgroup": "Zer0",
         "marker": {
          "color": "#FF6692",
          "symbol": "circle"
         },
         "mode": "markers",
         "name": "Zer0",
         "showlegend": true,
         "type": "scattergl",
         "x": [
          109,
          48,
          47,
          72,
          30,
          29,
          5,
          102,
          30,
          62,
          42
         ],
         "xaxis": "x2",
         "y": [
          0,
          1,
          0,
          1,
          0,
          0,
          1,
          3,
          1,
          1,
          1
         ],
         "yaxis": "y2"
        },
        {
         "hovertemplate": "player=Zer0<br>year=2019<br>hill time (s)=%{x}<br>hill defends=%{y}<extra></extra>",
         "legendgroup": "Zer0",
         "marker": {
          "color": "#FF6692",
          "symbol": "circle"
         },
         "mode": "markers",
         "name": "Zer0",
         "showlegend": false,
         "type": "scattergl",
         "x": [
          40,
          52,
          40,
          85,
          4,
          48,
          39,
          54,
          45
         ],
         "xaxis": "x3",
         "y": [
          5,
          1,
          7,
          8,
          5,
          7,
          6,
          14,
          6
         ],
         "yaxis": "y3"
        },
        {
         "hovertemplate": "player=Bidz<br>year=2018<br>hill time (s)=%{x}<br>hill defends=%{y}<extra></extra>",
         "legendgroup": "Bidz",
         "marker": {
          "color": "#B6E880",
          "symbol": "circle"
         },
         "mode": "markers",
         "name": "Bidz",
         "showlegend": true,
         "type": "scattergl",
         "x": [
          54,
          92,
          43,
          97
         ],
         "xaxis": "x2",
         "y": [
          0,
          0,
          1,
          0
         ],
         "yaxis": "y2"
        },
        {
         "hovertemplate": "player=Bidz<br>year=2019<br>hill time (s)=%{x}<br>hill defends=%{y}<extra></extra>",
         "legendgroup": "Bidz",
         "marker": {
          "color": "#B6E880",
          "symbol": "circle"
         },
         "mode": "markers",
         "name": "Bidz",
         "showlegend": false,
         "type": "scattergl",
         "x": [
          123,
          58,
          53,
          18,
          36,
          72,
          70,
          27,
          65,
          12
         ],
         "xaxis": "x3",
         "y": [
          4,
          7,
          3,
          2,
          5,
          4,
          5,
          6,
          7,
          2
         ],
         "yaxis": "y3"
        },
        {
         "hovertemplate": "player=Cammy<br>year=2018<br>hill time (s)=%{x}<br>hill defends=%{y}<extra></extra>",
         "legendgroup": "Cammy",
         "marker": {
          "color": "#FF97FF",
          "symbol": "circle"
         },
         "mode": "markers",
         "name": "Cammy",
         "showlegend": true,
         "type": "scattergl",
         "x": [
          52,
          61,
          26,
          50
         ],
         "xaxis": "x2",
         "y": [
          1,
          3,
          0,
          3
         ],
         "yaxis": "y2"
        },
        {
         "hovertemplate": "player=Cammy<br>year=2019<br>hill time (s)=%{x}<br>hill defends=%{y}<extra></extra>",
         "legendgroup": "Cammy",
         "marker": {
          "color": "#FF97FF",
          "symbol": "circle"
         },
         "mode": "markers",
         "name": "Cammy",
         "showlegend": false,
         "type": "scattergl",
         "x": [
          51,
          68,
          67,
          58,
          62,
          94,
          53,
          78,
          63,
          55
         ],
         "xaxis": "x3",
         "y": [
          7,
          6,
          5,
          2,
          8,
          5,
          4,
          7,
          7,
          15
         ],
         "yaxis": "y3"
        },
        {
         "hovertemplate": "player=Defrag<br>year=2018<br>hill time (s)=%{x}<br>hill defends=%{y}<extra></extra>",
         "legendgroup": "Defrag",
         "marker": {
          "color": "#FECB52",
          "symbol": "circle"
         },
         "mode": "markers",
         "name": "Defrag",
         "showlegend": true,
         "type": "scattergl",
         "x": [
          13,
          64,
          72,
          30
         ],
         "xaxis": "x2",
         "y": [
          0,
          0,
          0,
          3
         ],
         "yaxis": "y2"
        },
        {
         "hovertemplate": "player=Defrag<br>year=2019<br>hill time (s)=%{x}<br>hill defends=%{y}<extra></extra>",
         "legendgroup": "Defrag",
         "marker": {
          "color": "#FECB52",
          "symbol": "circle"
         },
         "mode": "markers",
         "name": "Defrag",
         "showlegend": false,
         "type": "scattergl",
         "x": [
          10,
          59,
          97,
          18,
          39,
          104,
          30,
          68,
          38
         ],
         "xaxis": "x3",
         "y": [
          10,
          1,
          3,
          1,
          4,
          5,
          5,
          6,
          7
         ],
         "yaxis": "y3"
        },
        {
         "hovertemplate": "player=Enduraaa<br>year=2018<br>hill time (s)=%{x}<br>hill defends=%{y}<extra></extra>",
         "legendgroup": "Enduraaa",
         "marker": {
          "color": "#636efa",
          "symbol": "circle"
         },
         "mode": "markers",
         "name": "Enduraaa",
         "showlegend": true,
         "type": "scattergl",
         "x": [
          82,
          19,
          37,
          29
         ],
         "xaxis": "x2",
         "y": [
          1,
          0,
          2,
          1
         ],
         "yaxis": "y2"
        },
        {
         "hovertemplate": "player=Demise<br>year=2018<br>hill time (s)=%{x}<br>hill defends=%{y}<extra></extra>",
         "legendgroup": "Demise",
         "marker": {
          "color": "#EF553B",
          "symbol": "circle"
         },
         "mode": "markers",
         "name": "Demise",
         "showlegend": true,
         "type": "scattergl",
         "x": [
          23,
          24,
          59,
          30
         ],
         "xaxis": "x2",
         "y": [
          1,
          0,
          1,
          0
         ],
         "yaxis": "y2"
        },
        {
         "hovertemplate": "player=Demise<br>year=2019<br>hill time (s)=%{x}<br>hill defends=%{y}<extra></extra>",
         "legendgroup": "Demise",
         "marker": {
          "color": "#EF553B",
          "symbol": "circle"
         },
         "mode": "markers",
         "name": "Demise",
         "showlegend": false,
         "type": "scattergl",
         "x": [
          37,
          57,
          4,
          57,
          13
         ],
         "xaxis": "x3",
         "y": [
          5,
          0,
          0,
          7,
          5
         ],
         "yaxis": "y3"
        },
        {
         "hovertemplate": "player=GRVTY<br>year=2018<br>hill time (s)=%{x}<br>hill defends=%{y}<extra></extra>",
         "legendgroup": "GRVTY",
         "marker": {
          "color": "#00cc96",
          "symbol": "circle"
         },
         "mode": "markers",
         "name": "GRVTY",
         "showlegend": true,
         "type": "scattergl",
         "x": [
          36,
          38,
          79,
          54
         ],
         "xaxis": "x2",
         "y": [
          0,
          2,
          1,
          0
         ],
         "yaxis": "y2"
        },
        {
         "hovertemplate": "player=GRVTY<br>year=2019<br>hill time (s)=%{x}<br>hill defends=%{y}<extra></extra>",
         "legendgroup": "GRVTY",
         "marker": {
          "color": "#00cc96",
          "symbol": "circle"
         },
         "mode": "markers",
         "name": "GRVTY",
         "showlegend": false,
         "type": "scattergl",
         "x": [
          54,
          80,
          72,
          37
         ],
         "xaxis": "x3",
         "y": [
          8,
          9,
          11,
          9
         ],
         "yaxis": "y3"
        },
        {
         "hovertemplate": "player=Tisch<br>year=2018<br>hill time (s)=%{x}<br>hill defends=%{y}<extra></extra>",
         "legendgroup": "Tisch",
         "marker": {
          "color": "#ab63fa",
          "symbol": "circle"
         },
         "mode": "markers",
         "name": "Tisch",
         "showlegend": true,
         "type": "scattergl",
         "x": [
          39,
          123,
          107,
          43
         ],
         "xaxis": "x2",
         "y": [
          1,
          6,
          3,
          1
         ],
         "yaxis": "y2"
        },
        {
         "hovertemplate": "player=Chino<br>year=2018<br>hill time (s)=%{x}<br>hill defends=%{y}<extra></extra>",
         "legendgroup": "Chino",
         "marker": {
          "color": "#FFA15A",
          "symbol": "circle"
         },
         "mode": "markers",
         "name": "Chino",
         "showlegend": true,
         "type": "scattergl",
         "x": [
          103,
          17,
          160,
          97,
          103,
          37,
          52,
          57,
          77,
          125,
          48
         ],
         "xaxis": "x2",
         "y": [
          2,
          0,
          0,
          1,
          0,
          0,
          1,
          1,
          1,
          1,
          1
         ],
         "yaxis": "y2"
        },
        {
         "hovertemplate": "player=Chino<br>year=2019<br>hill time (s)=%{x}<br>hill defends=%{y}<extra></extra>",
         "legendgroup": "Chino",
         "marker": {
          "color": "#FFA15A",
          "symbol": "circle"
         },
         "mode": "markers",
         "name": "Chino",
         "showlegend": false,
         "type": "scattergl",
         "x": [
          111,
          81,
          109,
          97,
          93,
          73,
          60,
          149,
          54,
          4
         ],
         "xaxis": "x3",
         "y": [
          10,
          7,
          7,
          4,
          6,
          10,
          7,
          9,
          10,
          4
         ],
         "yaxis": "y3"
        },
        {
         "hovertemplate": "player=Decemate<br>year=2018<br>hill time (s)=%{x}<br>hill defends=%{y}<extra></extra>",
         "legendgroup": "Decemate",
         "marker": {
          "color": "#19d3f3",
          "symbol": "circle"
         },
         "mode": "markers",
         "name": "Decemate",
         "showlegend": true,
         "type": "scattergl",
         "x": [
          88,
          31,
          48,
          5,
          48,
          110,
          179,
          121,
          42,
          98,
          108
         ],
         "xaxis": "x2",
         "y": [
          1,
          0,
          1,
          1,
          0,
          0,
          2,
          2,
          0,
          0,
          3
         ],
         "yaxis": "y2"
        },
        {
         "hovertemplate": "player=Decemate<br>year=2019<br>hill time (s)=%{x}<br>hill defends=%{y}<extra></extra>",
         "legendgroup": "Decemate",
         "marker": {
          "color": "#19d3f3",
          "symbol": "circle"
         },
         "mode": "markers",
         "name": "Decemate",
         "showlegend": false,
         "type": "scattergl",
         "x": [
          23,
          29,
          13,
          95,
          47,
          21,
          75,
          20,
          20,
          32
         ],
         "xaxis": "x3",
         "y": [
          7,
          3,
          6,
          8,
          2,
          8,
          10,
          7,
          4,
          6
         ],
         "yaxis": "y3"
        },
        {
         "hovertemplate": "player=Huke<br>year=2018<br>hill time (s)=%{x}<br>hill defends=%{y}<extra></extra>",
         "legendgroup": "Huke",
         "marker": {
          "color": "#FF6692",
          "symbol": "circle"
         },
         "mode": "markers",
         "name": "Huke",
         "showlegend": true,
         "type": "scattergl",
         "x": [
          35,
          27,
          84,
          54,
          75,
          30,
          52,
          94,
          48,
          39,
          28
         ],
         "xaxis": "x2",
         "y": [
          2,
          1,
          4,
          0,
          0,
          1,
          1,
          0,
          0,
          2,
          3
         ],
         "yaxis": "y2"
        },
        {
         "hovertemplate": "player=Huke<br>year=2019<br>hill time (s)=%{x}<br>hill defends=%{y}<extra></extra>",
         "legendgroup": "Huke",
         "marker": {
          "color": "#FF6692",
          "symbol": "circle"
         },
         "mode": "markers",
         "name": "Huke",
         "showlegend": false,
         "type": "scattergl",
         "x": [
          73,
          76,
          104,
          66,
          63,
          98,
          126,
          56
         ],
         "xaxis": "x3",
         "y": [
          4,
          4,
          8,
          7,
          6,
          14,
          3,
          4
         ],
         "yaxis": "y3"
        },
        {
         "hovertemplate": "player=Wailers<br>year=2018<br>hill time (s)=%{x}<br>hill defends=%{y}<extra></extra>",
         "legendgroup": "Wailers",
         "marker": {
          "color": "#B6E880",
          "symbol": "circle"
         },
         "mode": "markers",
         "name": "Wailers",
         "showlegend": true,
         "type": "scattergl",
         "x": [
          41,
          46,
          74,
          25
         ],
         "xaxis": "x2",
         "y": [
          2,
          0,
          1,
          0
         ],
         "yaxis": "y2"
        },
        {
         "hovertemplate": "player=Wailers<br>year=2019<br>hill time (s)=%{x}<br>hill defends=%{y}<extra></extra>",
         "legendgroup": "Wailers",
         "marker": {
          "color": "#B6E880",
          "symbol": "circle"
         },
         "mode": "markers",
         "name": "Wailers",
         "showlegend": false,
         "type": "scattergl",
         "x": [
          19,
          50,
          85,
          60,
          45,
          29,
          68,
          66,
          52,
          51
         ],
         "xaxis": "x3",
         "y": [
          11,
          7,
          3,
          15,
          5,
          5,
          7,
          7,
          5,
          3
         ],
         "yaxis": "y3"
        },
        {
         "hovertemplate": "player=Alex<br>year=2018<br>hill time (s)=%{x}<br>hill defends=%{y}<extra></extra>",
         "legendgroup": "Alex",
         "marker": {
          "color": "#FF97FF",
          "symbol": "circle"
         },
         "mode": "markers",
         "name": "Alex",
         "showlegend": true,
         "type": "scattergl",
         "x": [
          45,
          58,
          91,
          18,
          75,
          26,
          56
         ],
         "xaxis": "x2",
         "y": [
          2,
          1,
          1,
          0,
          0,
          0,
          0
         ],
         "yaxis": "y2"
        },
        {
         "hovertemplate": "player=Alex<br>year=2019<br>hill time (s)=%{x}<br>hill defends=%{y}<extra></extra>",
         "legendgroup": "Alex",
         "marker": {
          "color": "#FF97FF",
          "symbol": "circle"
         },
         "mode": "markers",
         "name": "Alex",
         "showlegend": false,
         "type": "scattergl",
         "x": [
          44,
          65,
          59,
          82,
          50,
          54,
          35,
          33,
          48,
          66,
          38,
          24
         ],
         "xaxis": "x3",
         "y": [
          9,
          6,
          6,
          12,
          8,
          9,
          6,
          3,
          2,
          8,
          2,
          3
         ],
         "yaxis": "y3"
        },
        {
         "hovertemplate": "player=Blazt<br>year=2018<br>hill time (s)=%{x}<br>hill defends=%{y}<extra></extra>",
         "legendgroup": "Blazt",
         "marker": {
          "color": "#FECB52",
          "symbol": "circle"
         },
         "mode": "markers",
         "name": "Blazt",
         "showlegend": true,
         "type": "scattergl",
         "x": [
          109,
          47,
          18,
          63,
          68,
          38,
          14,
          58,
          40
         ],
         "xaxis": "x2",
         "y": [
          1,
          2,
          1,
          0,
          0,
          0,
          1,
          1,
          2
         ],
         "yaxis": "y2"
        },
        {
         "hovertemplate": "player=Blazt<br>year=2019<br>hill time (s)=%{x}<br>hill defends=%{y}<extra></extra>",
         "legendgroup": "Blazt",
         "marker": {
          "color": "#FECB52",
          "symbol": "circle"
         },
         "mode": "markers",
         "name": "Blazt",
         "showlegend": false,
         "type": "scattergl",
         "x": [
          151,
          13,
          75,
          27,
          45
         ],
         "xaxis": "x3",
         "y": [
          6,
          4,
          6,
          7,
          5
         ],
         "yaxis": "y3"
        },
        {
         "hovertemplate": "player=Censor<br>year=2018<br>hill time (s)=%{x}<br>hill defends=%{y}<extra></extra>",
         "legendgroup": "Censor",
         "marker": {
          "color": "#636efa",
          "symbol": "circle"
         },
         "mode": "markers",
         "name": "Censor",
         "showlegend": true,
         "type": "scattergl",
         "x": [
          90,
          54,
          65,
          79,
          54,
          93,
          102,
          81,
          34
         ],
         "xaxis": "x2",
         "y": [
          0,
          2,
          0,
          1,
          0,
          0,
          0,
          0,
          0
         ],
         "yaxis": "y2"
        },
        {
         "hovertemplate": "player=Zoomaa<br>year=2018<br>hill time (s)=%{x}<br>hill defends=%{y}<extra></extra>",
         "legendgroup": "Zoomaa",
         "marker": {
          "color": "#EF553B",
          "symbol": "circle"
         },
         "mode": "markers",
         "name": "Zoomaa",
         "showlegend": true,
         "type": "scattergl",
         "x": [
          62,
          36,
          72,
          33,
          70,
          65,
          27,
          24,
          37,
          55,
          53,
          35,
          4,
          88,
          100,
          45,
          56
         ],
         "xaxis": "x2",
         "y": [
          2,
          2,
          1,
          1,
          0,
          0,
          0,
          0,
          1,
          1,
          0,
          1,
          0,
          1,
          3,
          1,
          0
         ],
         "yaxis": "y2"
        },
        {
         "hovertemplate": "player=Zoomaa<br>year=2019<br>hill time (s)=%{x}<br>hill defends=%{y}<extra></extra>",
         "legendgroup": "Zoomaa",
         "marker": {
          "color": "#EF553B",
          "symbol": "circle"
         },
         "mode": "markers",
         "name": "Zoomaa",
         "showlegend": false,
         "type": "scattergl",
         "x": [
          76,
          62,
          137,
          56,
          53,
          48,
          47,
          79,
          18
         ],
         "xaxis": "x3",
         "y": [
          6,
          2,
          2,
          3,
          2,
          4,
          8,
          9,
          8
         ],
         "yaxis": "y3"
        },
        {
         "hovertemplate": "player=Abezy<br>year=2018<br>hill time (s)=%{x}<br>hill defends=%{y}<extra></extra>",
         "legendgroup": "Abezy",
         "marker": {
          "color": "#00cc96",
          "symbol": "circle"
         },
         "mode": "markers",
         "name": "Abezy",
         "showlegend": true,
         "type": "scattergl",
         "x": [
          74,
          45,
          47,
          116,
          88
         ],
         "xaxis": "x2",
         "y": [
          1,
          1,
          1,
          1,
          1
         ],
         "yaxis": "y2"
        },
        {
         "hovertemplate": "player=Abezy<br>year=2019<br>hill time (s)=%{x}<br>hill defends=%{y}<extra></extra>",
         "legendgroup": "Abezy",
         "marker": {
          "color": "#00cc96",
          "symbol": "circle"
         },
         "mode": "markers",
         "name": "Abezy",
         "showlegend": false,
         "type": "scattergl",
         "x": [
          41,
          43,
          30,
          53,
          66,
          39,
          81,
          67,
          50,
          100,
          43,
          53,
          37,
          58
         ],
         "xaxis": "x3",
         "y": [
          2,
          4,
          3,
          9,
          5,
          1,
          4,
          7,
          9,
          8,
          4,
          2,
          2,
          8
         ],
         "yaxis": "y3"
        },
        {
         "hovertemplate": "player=Diabolic<br>year=2018<br>hill time (s)=%{x}<br>hill defends=%{y}<extra></extra>",
         "legendgroup": "Diabolic",
         "marker": {
          "color": "#ab63fa",
          "symbol": "circle"
         },
         "mode": "markers",
         "name": "Diabolic",
         "showlegend": true,
         "type": "scattergl",
         "x": [
          45,
          7,
          19,
          95,
          48
         ],
         "xaxis": "x2",
         "y": [
          0,
          1,
          1,
          0,
          0
         ],
         "yaxis": "y2"
        },
        {
         "hovertemplate": "player=Sender<br>year=2018<br>hill time (s)=%{x}<br>hill defends=%{y}<extra></extra>",
         "legendgroup": "Sender",
         "marker": {
          "color": "#FFA15A",
          "symbol": "circle"
         },
         "mode": "markers",
         "name": "Sender",
         "showlegend": true,
         "type": "scattergl",
         "x": [
          66,
          62,
          81,
          43,
          91
         ],
         "xaxis": "x2",
         "y": [
          0,
          1,
          1,
          1,
          1
         ],
         "yaxis": "y2"
        },
        {
         "hovertemplate": "player=Phantomz<br>year=2018<br>hill time (s)=%{x}<br>hill defends=%{y}<extra></extra>",
         "legendgroup": "Phantomz",
         "marker": {
          "color": "#19d3f3",
          "symbol": "circle"
         },
         "mode": "markers",
         "name": "Phantomz",
         "showlegend": true,
         "type": "scattergl",
         "x": [
          7,
          33,
          41,
          75,
          57
         ],
         "xaxis": "x2",
         "y": [
          0,
          0,
          1,
          0,
          0
         ],
         "yaxis": "y2"
        },
        {
         "hovertemplate": "player=Phantomz<br>year=2019<br>hill time (s)=%{x}<br>hill defends=%{y}<extra></extra>",
         "legendgroup": "Phantomz",
         "marker": {
          "color": "#19d3f3",
          "symbol": "circle"
         },
         "mode": "markers",
         "name": "Phantomz",
         "showlegend": false,
         "type": "scattergl",
         "x": [
          47,
          31,
          51,
          53,
          49
         ],
         "xaxis": "x3",
         "y": [
          3,
          2,
          4,
          10,
          7
         ],
         "yaxis": "y3"
        },
        {
         "hovertemplate": "player=Atlas<br>year=2018<br>hill time (s)=%{x}<br>hill defends=%{y}<extra></extra>",
         "legendgroup": "Atlas",
         "marker": {
          "color": "#FF6692",
          "symbol": "circle"
         },
         "mode": "markers",
         "name": "Atlas",
         "showlegend": true,
         "type": "scattergl",
         "x": [
          84,
          47,
          61,
          20
         ],
         "xaxis": "x2",
         "y": [
          1,
          1,
          0,
          0
         ],
         "yaxis": "y2"
        },
        {
         "hovertemplate": "player=Breszy<br>year=2018<br>hill time (s)=%{x}<br>hill defends=%{y}<extra></extra>",
         "legendgroup": "Breszy",
         "marker": {
          "color": "#B6E880",
          "symbol": "circle"
         },
         "mode": "markers",
         "name": "Breszy",
         "showlegend": true,
         "type": "scattergl",
         "x": [
          111,
          39,
          20,
          46
         ],
         "xaxis": "x2",
         "y": [
          2,
          0,
          0,
          1
         ],
         "yaxis": "y2"
        },
        {
         "hovertemplate": "player=Breszy<br>year=2019<br>hill time (s)=%{x}<br>hill defends=%{y}<extra></extra>",
         "legendgroup": "Breszy",
         "marker": {
          "color": "#B6E880",
          "symbol": "circle"
         },
         "mode": "markers",
         "name": "Breszy",
         "showlegend": false,
         "type": "scattergl",
         "x": [
          53,
          48,
          86,
          95,
          62,
          50,
          17,
          11,
          46,
          69,
          24,
          67,
          44
         ],
         "xaxis": "x3",
         "y": [
          6,
          9,
          3,
          6,
          5,
          1,
          3,
          8,
          5,
          9,
          6,
          8,
          8
         ],
         "yaxis": "y3"
        },
        {
         "hovertemplate": "player=Natshay<br>year=2018<br>hill time (s)=%{x}<br>hill defends=%{y}<extra></extra>",
         "legendgroup": "Natshay",
         "marker": {
          "color": "#FF97FF",
          "symbol": "circle"
         },
         "mode": "markers",
         "name": "Natshay",
         "showlegend": true,
         "type": "scattergl",
         "x": [
          61,
          39,
          43,
          22
         ],
         "xaxis": "x2",
         "y": [
          0,
          0,
          1,
          1
         ],
         "yaxis": "y2"
        },
        {
         "hovertemplate": "player=Natshay<br>year=2019<br>hill time (s)=%{x}<br>hill defends=%{y}<extra></extra>",
         "legendgroup": "Natshay",
         "marker": {
          "color": "#FF97FF",
          "symbol": "circle"
         },
         "mode": "markers",
         "name": "Natshay",
         "showlegend": false,
         "type": "scattergl",
         "x": [
          56,
          78,
          39,
          40,
          133
         ],
         "xaxis": "x3",
         "y": [
          3,
          9,
          2,
          4,
          7
         ],
         "yaxis": "y3"
        },
        {
         "hovertemplate": "player=MajorManiak<br>year=2018<br>hill time (s)=%{x}<br>hill defends=%{y}<extra></extra>",
         "legendgroup": "MajorManiak",
         "marker": {
          "color": "#FECB52",
          "symbol": "circle"
         },
         "mode": "markers",
         "name": "MajorManiak",
         "showlegend": true,
         "type": "scattergl",
         "x": [
          10,
          85,
          69,
          40,
          106,
          81,
          8,
          69,
          59
         ],
         "xaxis": "x2",
         "y": [
          0,
          0,
          2,
          0,
          3,
          1,
          1,
          0,
          2
         ],
         "yaxis": "y2"
        },
        {
         "hovertemplate": "player=MajorManiak<br>year=2019<br>hill time (s)=%{x}<br>hill defends=%{y}<extra></extra>",
         "legendgroup": "MajorManiak",
         "marker": {
          "color": "#FECB52",
          "symbol": "circle"
         },
         "mode": "markers",
         "name": "MajorManiak",
         "showlegend": false,
         "type": "scattergl",
         "x": [
          78,
          55,
          25,
          24
         ],
         "xaxis": "x3",
         "y": [
          7,
          6,
          3,
          5
         ],
         "yaxis": "y3"
        },
        {
         "hovertemplate": "player=Beehzy<br>year=2018<br>hill time (s)=%{x}<br>hill defends=%{y}<extra></extra>",
         "legendgroup": "Beehzy",
         "marker": {
          "color": "#636efa",
          "symbol": "circle"
         },
         "mode": "markers",
         "name": "Beehzy",
         "showlegend": true,
         "type": "scattergl",
         "x": [
          110,
          10,
          57
         ],
         "xaxis": "x2",
         "y": [
          1,
          0,
          1
         ],
         "yaxis": "y2"
        },
        {
         "hovertemplate": "player=Beehzy<br>year=2019<br>hill time (s)=%{x}<br>hill defends=%{y}<extra></extra>",
         "legendgroup": "Beehzy",
         "marker": {
          "color": "#636efa",
          "symbol": "circle"
         },
         "mode": "markers",
         "name": "Beehzy",
         "showlegend": false,
         "type": "scattergl",
         "x": [
          38,
          89,
          56,
          77,
          56
         ],
         "xaxis": "x3",
         "y": [
          5,
          10,
          10,
          6,
          4
         ],
         "yaxis": "y3"
        },
        {
         "hovertemplate": "player=Remy<br>year=2018<br>hill time (s)=%{x}<br>hill defends=%{y}<extra></extra>",
         "legendgroup": "Remy",
         "marker": {
          "color": "#EF553B",
          "symbol": "circle"
         },
         "mode": "markers",
         "name": "Remy",
         "showlegend": true,
         "type": "scattergl",
         "x": [
          108,
          65,
          21
         ],
         "xaxis": "x2",
         "y": [
          2,
          0,
          1
         ],
         "yaxis": "y2"
        },
        {
         "hovertemplate": "player=Chain<br>year=2018<br>hill time (s)=%{x}<br>hill defends=%{y}<extra></extra>",
         "legendgroup": "Chain",
         "marker": {
          "color": "#00cc96",
          "symbol": "circle"
         },
         "mode": "markers",
         "name": "Chain",
         "showlegend": true,
         "type": "scattergl",
         "x": [
          71,
          38,
          35,
          0,
          48,
          8,
          81,
          80
         ],
         "xaxis": "x2",
         "y": [
          1,
          4,
          0,
          0,
          0,
          1,
          1,
          0
         ],
         "yaxis": "y2"
        },
        {
         "hovertemplate": "player=Chain<br>year=2019<br>hill time (s)=%{x}<br>hill defends=%{y}<extra></extra>",
         "legendgroup": "Chain",
         "marker": {
          "color": "#00cc96",
          "symbol": "circle"
         },
         "mode": "markers",
         "name": "Chain",
         "showlegend": false,
         "type": "scattergl",
         "x": [
          78,
          74,
          25,
          66,
          34
         ],
         "xaxis": "x3",
         "y": [
          12,
          8,
          2,
          3,
          9
         ],
         "yaxis": "y3"
        },
        {
         "hovertemplate": "player=Denza<br>year=2018<br>hill time (s)=%{x}<br>hill defends=%{y}<extra></extra>",
         "legendgroup": "Denza",
         "marker": {
          "color": "#ab63fa",
          "symbol": "circle"
         },
         "mode": "markers",
         "name": "Denza",
         "showlegend": true,
         "type": "scattergl",
         "x": [
          55,
          20,
          162,
          0,
          9,
          99,
          106,
          33
         ],
         "xaxis": "x2",
         "y": [
          0,
          1,
          2,
          0,
          0,
          1,
          0,
          1
         ],
         "yaxis": "y2"
        },
        {
         "hovertemplate": "player=Maple<br>year=2018<br>hill time (s)=%{x}<br>hill defends=%{y}<extra></extra>",
         "legendgroup": "Maple",
         "marker": {
          "color": "#FFA15A",
          "symbol": "circle"
         },
         "mode": "markers",
         "name": "Maple",
         "showlegend": true,
         "type": "scattergl",
         "x": [
          81,
          17,
          31,
          0,
          25,
          35,
          54,
          59
         ],
         "xaxis": "x2",
         "y": [
          2,
          0,
          1,
          0,
          0,
          1,
          0,
          0
         ],
         "yaxis": "y2"
        },
        {
         "hovertemplate": "player=BBCONor<br>year=2019<br>hill time (s)=%{x}<br>hill defends=%{y}<extra></extra>",
         "legendgroup": "BBCONor",
         "marker": {
          "color": "#19d3f3",
          "symbol": "circle"
         },
         "mode": "markers",
         "name": "BBCONor",
         "showlegend": true,
         "type": "scattergl",
         "x": [
          88
         ],
         "xaxis": "x3",
         "y": [
          7
         ],
         "yaxis": "y3"
        },
        {
         "hovertemplate": "player=Chaaxter<br>year=2019<br>hill time (s)=%{x}<br>hill defends=%{y}<extra></extra>",
         "legendgroup": "Chaaxter",
         "marker": {
          "color": "#FF6692",
          "symbol": "circle"
         },
         "mode": "markers",
         "name": "Chaaxter",
         "showlegend": true,
         "type": "scattergl",
         "x": [
          78,
          92,
          115,
          62,
          69
         ],
         "xaxis": "x3",
         "y": [
          10,
          6,
          6,
          3,
          4
         ],
         "yaxis": "y3"
        },
        {
         "hovertemplate": "player=Harry<br>year=2019<br>hill time (s)=%{x}<br>hill defends=%{y}<extra></extra>",
         "legendgroup": "Harry",
         "marker": {
          "color": "#B6E880",
          "symbol": "circle"
         },
         "mode": "markers",
         "name": "Harry",
         "showlegend": true,
         "type": "scattergl",
         "x": [
          99,
          49,
          102,
          38,
          63
         ],
         "xaxis": "x3",
         "y": [
          10,
          11,
          6,
          2,
          6
         ],
         "yaxis": "y3"
        },
        {
         "hovertemplate": "player=Envoy<br>year=2019<br>hill time (s)=%{x}<br>hill defends=%{y}<extra></extra>",
         "legendgroup": "Envoy",
         "marker": {
          "color": "#FF97FF",
          "symbol": "circle"
         },
         "mode": "markers",
         "name": "Envoy",
         "showlegend": true,
         "type": "scattergl",
         "x": [
          52,
          54,
          23,
          78
         ],
         "xaxis": "x3",
         "y": [
          16,
          13,
          7,
          10
         ],
         "yaxis": "y3"
        },
        {
         "hovertemplate": "player=Nastie<br>year=2019<br>hill time (s)=%{x}<br>hill defends=%{y}<extra></extra>",
         "legendgroup": "Nastie",
         "marker": {
          "color": "#FECB52",
          "symbol": "circle"
         },
         "mode": "markers",
         "name": "Nastie",
         "showlegend": true,
         "type": "scattergl",
         "x": [
          45,
          99,
          31,
          91,
          41
         ],
         "xaxis": "x3",
         "y": [
          6,
          8,
          9,
          4,
          7
         ],
         "yaxis": "y3"
        },
        {
         "hovertemplate": "player=Kismet<br>year=2019<br>hill time (s)=%{x}<br>hill defends=%{y}<extra></extra>",
         "legendgroup": "Kismet",
         "marker": {
          "color": "#636efa",
          "symbol": "circle"
         },
         "mode": "markers",
         "name": "Kismet",
         "showlegend": true,
         "type": "scattergl",
         "x": [
          77,
          32,
          43,
          54,
          94,
          36,
          46,
          31,
          126,
          14,
          88,
          41,
          41
         ],
         "xaxis": "x3",
         "y": [
          6,
          8,
          2,
          7,
          4,
          4,
          2,
          11,
          12,
          7,
          2,
          12,
          7
         ],
         "yaxis": "y3"
        },
        {
         "hovertemplate": "player=Simp<br>year=2019<br>hill time (s)=%{x}<br>hill defends=%{y}<extra></extra>",
         "legendgroup": "Simp",
         "marker": {
          "color": "#EF553B",
          "symbol": "circle"
         },
         "mode": "markers",
         "name": "Simp",
         "showlegend": true,
         "type": "scattergl",
         "x": [
          110,
          106,
          97,
          84,
          119,
          109,
          107,
          70,
          75,
          156,
          34,
          81,
          93,
          81
         ],
         "xaxis": "x3",
         "y": [
          2,
          2,
          6,
          14,
          6,
          2,
          2,
          4,
          10,
          6,
          11,
          2,
          3,
          9
         ],
         "yaxis": "y3"
        },
        {
         "hovertemplate": "player=2ReaL<br>year=2019<br>hill time (s)=%{x}<br>hill defends=%{y}<extra></extra>",
         "legendgroup": "2ReaL",
         "marker": {
          "color": "#00cc96",
          "symbol": "circle"
         },
         "mode": "markers",
         "name": "2ReaL",
         "showlegend": true,
         "type": "scattergl",
         "x": [
          0,
          10,
          26,
          43,
          27,
          54
         ],
         "xaxis": "x3",
         "y": [
          1,
          3,
          9,
          7,
          8,
          6
         ],
         "yaxis": "y3"
        },
        {
         "hovertemplate": "player=Gunshiii<br>year=2019<br>hill time (s)=%{x}<br>hill defends=%{y}<extra></extra>",
         "legendgroup": "Gunshiii",
         "marker": {
          "color": "#ab63fa",
          "symbol": "circle"
         },
         "mode": "markers",
         "name": "Gunshiii",
         "showlegend": true,
         "type": "scattergl",
         "x": [
          36
         ],
         "xaxis": "x3",
         "y": [
          4
         ],
         "yaxis": "y3"
        },
        {
         "hovertemplate": "player=Conor<br>year=2019<br>hill time (s)=%{x}<br>hill defends=%{y}<extra></extra>",
         "legendgroup": "Conor",
         "marker": {
          "color": "#FFA15A",
          "symbol": "circle"
         },
         "mode": "markers",
         "name": "Conor",
         "showlegend": true,
         "type": "scattergl",
         "x": [
          101,
          57,
          17,
          45
         ],
         "xaxis": "x3",
         "y": [
          3,
          6,
          9,
          3
         ],
         "yaxis": "y3"
        },
        {
         "hovertemplate": "player=Gunsiii<br>year=2019<br>hill time (s)=%{x}<br>hill defends=%{y}<extra></extra>",
         "legendgroup": "Gunsiii",
         "marker": {
          "color": "#19d3f3",
          "symbol": "circle"
         },
         "mode": "markers",
         "name": "Gunsiii",
         "showlegend": true,
         "type": "scattergl",
         "x": [
          35,
          53,
          58,
          27,
          90
         ],
         "xaxis": "x3",
         "y": [
          2,
          3,
          9,
          7,
          7
         ],
         "yaxis": "y3"
        },
        {
         "hovertemplate": "player=EFatal<br>year=2019<br>hill time (s)=%{x}<br>hill defends=%{y}<extra></extra>",
         "legendgroup": "EFatal",
         "marker": {
          "color": "#FF6692",
          "symbol": "circle"
         },
         "mode": "markers",
         "name": "EFatal",
         "showlegend": true,
         "type": "scattergl",
         "x": [
          34,
          57,
          28,
          115
         ],
         "xaxis": "x3",
         "y": [
          4,
          4,
          3,
          3
         ],
         "yaxis": "y3"
        },
        {
         "hovertemplate": "player=Foncho<br>year=2019<br>hill time (s)=%{x}<br>hill defends=%{y}<extra></extra>",
         "legendgroup": "Foncho",
         "marker": {
          "color": "#B6E880",
          "symbol": "circle"
         },
         "mode": "markers",
         "name": "Foncho",
         "showlegend": true,
         "type": "scattergl",
         "x": [
          24,
          44,
          52,
          112
         ],
         "xaxis": "x3",
         "y": [
          5,
          5,
          3,
          2
         ],
         "yaxis": "y3"
        },
        {
         "hovertemplate": "player=Phenom<br>year=2019<br>hill time (s)=%{x}<br>hill defends=%{y}<extra></extra>",
         "legendgroup": "Phenom",
         "marker": {
          "color": "#FF97FF",
          "symbol": "circle"
         },
         "mode": "markers",
         "name": "Phenom",
         "showlegend": true,
         "type": "scattergl",
         "x": [
          22,
          64,
          67,
          78
         ],
         "xaxis": "x3",
         "y": [
          5,
          8,
          2,
          5
         ],
         "yaxis": "y3"
        },
        {
         "hovertemplate": "player=Pure<br>year=2019<br>hill time (s)=%{x}<br>hill defends=%{y}<extra></extra>",
         "legendgroup": "Pure",
         "marker": {
          "color": "#FECB52",
          "symbol": "circle"
         },
         "mode": "markers",
         "name": "Pure",
         "showlegend": true,
         "type": "scattergl",
         "x": [
          21,
          40,
          55,
          40
         ],
         "xaxis": "x3",
         "y": [
          4,
          7,
          4,
          0
         ],
         "yaxis": "y3"
        },
        {
         "hovertemplate": "player=Ryza<br>year=2019<br>hill time (s)=%{x}<br>hill defends=%{y}<extra></extra>",
         "legendgroup": "Ryza",
         "marker": {
          "color": "#636efa",
          "symbol": "circle"
         },
         "mode": "markers",
         "name": "Ryza",
         "showlegend": true,
         "type": "scattergl",
         "x": [
          23,
          44,
          27,
          63
         ],
         "xaxis": "x3",
         "y": [
          5,
          8,
          6,
          8
         ],
         "yaxis": "y3"
        },
        {
         "hovertemplate": "player=Dylan<br>year=2019<br>hill time (s)=%{x}<br>hill defends=%{y}<extra></extra>",
         "legendgroup": "Dylan",
         "marker": {
          "color": "#EF553B",
          "symbol": "circle"
         },
         "mode": "markers",
         "name": "Dylan",
         "showlegend": true,
         "type": "scattergl",
         "x": [
          56,
          91,
          89,
          90,
          33,
          73,
          89,
          61,
          81,
          38,
          50,
          10
         ],
         "xaxis": "x3",
         "y": [
          10,
          7,
          15,
          8,
          6,
          3,
          9,
          4,
          5,
          13,
          4,
          11
         ],
         "yaxis": "y3"
        },
        {
         "hovertemplate": "player=Cells<br>year=2019<br>hill time (s)=%{x}<br>hill defends=%{y}<extra></extra>",
         "legendgroup": "Cells",
         "marker": {
          "color": "#00cc96",
          "symbol": "circle"
         },
         "mode": "markers",
         "name": "Cells",
         "showlegend": true,
         "type": "scattergl",
         "x": [
          118,
          113,
          75,
          98
         ],
         "xaxis": "x3",
         "y": [
          12,
          5,
          4,
          11
         ],
         "yaxis": "y3"
        },
        {
         "hovertemplate": "player=Hollow<br>year=2019<br>hill time (s)=%{x}<br>hill defends=%{y}<extra></extra>",
         "legendgroup": "Hollow",
         "marker": {
          "color": "#ab63fa",
          "symbol": "circle"
         },
         "mode": "markers",
         "name": "Hollow",
         "showlegend": true,
         "type": "scattergl",
         "x": [
          50,
          30,
          95,
          55
         ],
         "xaxis": "x3",
         "y": [
          14,
          7,
          6,
          11
         ],
         "yaxis": "y3"
        },
        {
         "hovertemplate": "player=Vivid<br>year=2019<br>hill time (s)=%{x}<br>hill defends=%{y}<extra></extra>",
         "legendgroup": "Vivid",
         "marker": {
          "color": "#FFA15A",
          "symbol": "circle"
         },
         "mode": "markers",
         "name": "Vivid",
         "showlegend": true,
         "type": "scattergl",
         "x": [
          50,
          45,
          32,
          28
         ],
         "xaxis": "x3",
         "y": [
          7,
          10,
          5,
          10
         ],
         "yaxis": "y3"
        },
        {
         "hovertemplate": "player=Wrecks<br>year=2019<br>hill time (s)=%{x}<br>hill defends=%{y}<extra></extra>",
         "legendgroup": "Wrecks",
         "marker": {
          "color": "#19d3f3",
          "symbol": "circle"
         },
         "mode": "markers",
         "name": "Wrecks",
         "showlegend": true,
         "type": "scattergl",
         "x": [
          57,
          85,
          77,
          58
         ],
         "xaxis": "x3",
         "y": [
          8,
          5,
          5,
          11
         ],
         "yaxis": "y3"
        },
        {
         "hovertemplate": "player=Jetli<br>year=2019<br>hill time (s)=%{x}<br>hill defends=%{y}<extra></extra>",
         "legendgroup": "Jetli",
         "marker": {
          "color": "#FF6692",
          "symbol": "circle"
         },
         "mode": "markers",
         "name": "Jetli",
         "showlegend": true,
         "type": "scattergl",
         "x": [
          89,
          58,
          20,
          14,
          36,
          77
         ],
         "xaxis": "x3",
         "y": [
          5,
          8,
          10,
          4,
          5,
          9
         ],
         "yaxis": "y3"
        },
        {
         "hovertemplate": "player=Cookie<br>year=2019<br>hill time (s)=%{x}<br>hill defends=%{y}<extra></extra>",
         "legendgroup": "Cookie",
         "marker": {
          "color": "#B6E880",
          "symbol": "circle"
         },
         "mode": "markers",
         "name": "Cookie",
         "showlegend": true,
         "type": "scattergl",
         "x": [
          51,
          36,
          52,
          48,
          21
         ],
         "xaxis": "x3",
         "y": [
          2,
          4,
          4,
          5,
          7
         ],
         "yaxis": "y3"
        },
        {
         "hovertemplate": "player=Pazy<br>year=2019<br>hill time (s)=%{x}<br>hill defends=%{y}<extra></extra>",
         "legendgroup": "Pazy",
         "marker": {
          "color": "#FF97FF",
          "symbol": "circle"
         },
         "mode": "markers",
         "name": "Pazy",
         "showlegend": true,
         "type": "scattergl",
         "x": [
          44,
          52,
          12,
          97,
          66
         ],
         "xaxis": "x3",
         "y": [
          3,
          9,
          3,
          11,
          6
         ],
         "yaxis": "y3"
        },
        {
         "hovertemplate": "player=Phantom<br>year=2019<br>hill time (s)=%{x}<br>hill defends=%{y}<extra></extra>",
         "legendgroup": "Phantom",
         "marker": {
          "color": "#FECB52",
          "symbol": "circle"
         },
         "mode": "markers",
         "name": "Phantom",
         "showlegend": true,
         "type": "scattergl",
         "x": [
          47,
          35,
          19,
          60,
          14
         ],
         "xaxis": "x3",
         "y": [
          2,
          4,
          4,
          5,
          5
         ],
         "yaxis": "y3"
        },
        {
         "hovertemplate": "player=Piero<br>year=2019<br>hill time (s)=%{x}<br>hill defends=%{y}<extra></extra>",
         "legendgroup": "Piero",
         "marker": {
          "color": "#636efa",
          "symbol": "circle"
         },
         "mode": "markers",
         "name": "Piero",
         "showlegend": true,
         "type": "scattergl",
         "x": [
          10,
          53,
          44,
          115,
          13
         ],
         "xaxis": "x3",
         "y": [
          3,
          4,
          3,
          7,
          3
         ],
         "yaxis": "y3"
        },
        {
         "hovertemplate": "player=Sharko<br>year=2019<br>hill time (s)=%{x}<br>hill defends=%{y}<extra></extra>",
         "legendgroup": "Sharko",
         "marker": {
          "color": "#EF553B",
          "symbol": "circle"
         },
         "mode": "markers",
         "name": "Sharko",
         "showlegend": true,
         "type": "scattergl",
         "x": [
          26,
          28,
          53,
          141,
          55
         ],
         "xaxis": "x3",
         "y": [
          6,
          0,
          4,
          6,
          4
         ],
         "yaxis": "y3"
        },
        {
         "hovertemplate": "player=Asim<br>year=2019<br>hill time (s)=%{x}<br>hill defends=%{y}<extra></extra>",
         "legendgroup": "Asim",
         "marker": {
          "color": "#00cc96",
          "symbol": "circle"
         },
         "mode": "markers",
         "name": "Asim",
         "showlegend": true,
         "type": "scattergl",
         "x": [
          91,
          84,
          59,
          30,
          27,
          54,
          55,
          57,
          66
         ],
         "xaxis": "x3",
         "y": [
          4,
          4,
          11,
          2,
          5,
          7,
          5,
          4,
          2
         ],
         "yaxis": "y3"
        },
        {
         "hovertemplate": "player=Cellium<br>year=2019<br>hill time (s)=%{x}<br>hill defends=%{y}<extra></extra>",
         "legendgroup": "Cellium",
         "marker": {
          "color": "#ab63fa",
          "symbol": "circle"
         },
         "mode": "markers",
         "name": "Cellium",
         "showlegend": true,
         "type": "scattergl",
         "x": [
          97,
          93,
          68,
          79,
          73,
          129,
          60,
          86,
          73
         ],
         "xaxis": "x3",
         "y": [
          7,
          9,
          7,
          3,
          5,
          6,
          7,
          12,
          7
         ],
         "yaxis": "y3"
        },
        {
         "hovertemplate": "player=Deelo<br>year=2019<br>hill time (s)=%{x}<br>hill defends=%{y}<extra></extra>",
         "legendgroup": "Deelo",
         "marker": {
          "color": "#FFA15A",
          "symbol": "circle"
         },
         "mode": "markers",
         "name": "Deelo",
         "showlegend": true,
         "type": "scattergl",
         "x": [
          52,
          62,
          19
         ],
         "xaxis": "x3",
         "y": [
          7,
          9,
          5
         ],
         "yaxis": "y3"
        },
        {
         "hovertemplate": "player=Landxn<br>year=2019<br>hill time (s)=%{x}<br>hill defends=%{y}<extra></extra>",
         "legendgroup": "Landxn",
         "marker": {
          "color": "#19d3f3",
          "symbol": "circle"
         },
         "mode": "markers",
         "name": "Landxn",
         "showlegend": true,
         "type": "scattergl",
         "x": [
          132,
          59,
          17
         ],
         "xaxis": "x3",
         "y": [
          5,
          8,
          3
         ],
         "yaxis": "y3"
        },
        {
         "hovertemplate": "player=Owakening<br>year=2019<br>hill time (s)=%{x}<br>hill defends=%{y}<extra></extra>",
         "legendgroup": "Owakening",
         "marker": {
          "color": "#FF6692",
          "symbol": "circle"
         },
         "mode": "markers",
         "name": "Owakening",
         "showlegend": true,
         "type": "scattergl",
         "x": [
          52,
          63,
          46
         ],
         "xaxis": "x3",
         "y": [
          6,
          6,
          8
         ],
         "yaxis": "y3"
        },
        {
         "hovertemplate": "player=Reaper<br>year=2019<br>hill time (s)=%{x}<br>hill defends=%{y}<extra></extra>",
         "legendgroup": "Reaper",
         "marker": {
          "color": "#B6E880",
          "symbol": "circle"
         },
         "mode": "markers",
         "name": "Reaper",
         "showlegend": true,
         "type": "scattergl",
         "x": [
          17,
          58,
          12
         ],
         "xaxis": "x3",
         "y": [
          5,
          5,
          8
         ],
         "yaxis": "y3"
        },
        {
         "hovertemplate": "player=Willett<br>year=2019<br>hill time (s)=%{x}<br>hill defends=%{y}<extra></extra>",
         "legendgroup": "Willett",
         "marker": {
          "color": "#FF97FF",
          "symbol": "circle"
         },
         "mode": "markers",
         "name": "Willett",
         "showlegend": true,
         "type": "scattergl",
         "x": [
          26,
          64,
          14
         ],
         "xaxis": "x3",
         "y": [
          7,
          8,
          9
         ],
         "yaxis": "y3"
        },
        {
         "hovertemplate": "player=Priestahh<br>year=2019<br>hill time (s)=%{x}<br>hill defends=%{y}<extra></extra>",
         "legendgroup": "Priestahh",
         "marker": {
          "color": "#FECB52",
          "symbol": "circle"
         },
         "mode": "markers",
         "name": "Priestahh",
         "showlegend": true,
         "type": "scattergl",
         "x": [
          38,
          19,
          37,
          55,
          75,
          44,
          80,
          64,
          101,
          104,
          86,
          96,
          62,
          41,
          82,
          35,
          43,
          79
         ],
         "xaxis": "x3",
         "y": [
          1,
          5,
          3,
          3,
          5,
          2,
          10,
          10,
          13,
          14,
          7,
          5,
          6,
          2,
          13,
          2,
          4,
          9
         ],
         "yaxis": "y3"
        },
        {
         "hovertemplate": "player=Exceed<br>year=2019<br>hill time (s)=%{x}<br>hill defends=%{y}<extra></extra>",
         "legendgroup": "Exceed",
         "marker": {
          "color": "#636efa",
          "symbol": "circle"
         },
         "mode": "markers",
         "name": "Exceed",
         "showlegend": true,
         "type": "scattergl",
         "x": [
          73,
          76,
          84,
          31,
          38,
          77,
          34,
          72,
          62,
          34
         ],
         "xaxis": "x3",
         "y": [
          4,
          7,
          10,
          8,
          3,
          5,
          5,
          8,
          11,
          5
         ],
         "yaxis": "y3"
        },
        {
         "hovertemplate": "player=Linney<br>year=2019<br>hill time (s)=%{x}<br>hill defends=%{y}<extra></extra>",
         "legendgroup": "Linney",
         "marker": {
          "color": "#EF553B",
          "symbol": "circle"
         },
         "mode": "markers",
         "name": "Linney",
         "showlegend": true,
         "type": "scattergl",
         "x": [
          24,
          33,
          46,
          66,
          62,
          56,
          47,
          76,
          71,
          17
         ],
         "xaxis": "x3",
         "y": [
          5,
          9,
          8,
          2,
          9,
          6,
          8,
          7,
          5,
          4
         ],
         "yaxis": "y3"
        },
        {
         "hovertemplate": "player=Brack<br>year=2019<br>hill time (s)=%{x}<br>hill defends=%{y}<extra></extra>",
         "legendgroup": "Brack",
         "marker": {
          "color": "#00cc96",
          "symbol": "circle"
         },
         "mode": "markers",
         "name": "Brack",
         "showlegend": true,
         "type": "scattergl",
         "x": [
          46,
          96,
          51,
          133,
          69,
          70,
          72,
          66,
          17,
          96,
          74,
          11
         ],
         "xaxis": "x3",
         "y": [
          6,
          4,
          6,
          2,
          7,
          8,
          6,
          7,
          5,
          6,
          6,
          7
         ],
         "yaxis": "y3"
        },
        {
         "hovertemplate": "player=Skyz<br>year=2019<br>hill time (s)=%{x}<br>hill defends=%{y}<extra></extra>",
         "legendgroup": "Skyz",
         "marker": {
          "color": "#ab63fa",
          "symbol": "circle"
         },
         "mode": "markers",
         "name": "Skyz",
         "showlegend": true,
         "type": "scattergl",
         "x": [
          48,
          103,
          95,
          85,
          69,
          135,
          101,
          65,
          99,
          69,
          104,
          39
         ],
         "xaxis": "x3",
         "y": [
          7,
          2,
          5,
          5,
          9,
          15,
          3,
          2,
          6,
          11,
          6,
          3
         ],
         "yaxis": "y3"
        },
        {
         "hovertemplate": "player=CleanX<br>year=2019<br>hill time (s)=%{x}<br>hill defends=%{y}<extra></extra>",
         "legendgroup": "CleanX",
         "marker": {
          "color": "#FFA15A",
          "symbol": "circle"
         },
         "mode": "markers",
         "name": "CleanX",
         "showlegend": true,
         "type": "scattergl",
         "x": [
          44,
          60,
          28,
          27,
          36,
          92,
          106,
          78,
          57,
          69
         ],
         "xaxis": "x3",
         "y": [
          5,
          16,
          5,
          2,
          3,
          13,
          6,
          4,
          8,
          5
         ],
         "yaxis": "y3"
        },
        {
         "hovertemplate": "player=detain<br>year=2019<br>hill time (s)=%{x}<br>hill defends=%{y}<extra></extra>",
         "legendgroup": "detain",
         "marker": {
          "color": "#19d3f3",
          "symbol": "circle"
         },
         "mode": "markers",
         "name": "detain",
         "showlegend": true,
         "type": "scattergl",
         "x": [
          57,
          93,
          129,
          42,
          56,
          91,
          104,
          95,
          64,
          72
         ],
         "xaxis": "x3",
         "y": [
          1,
          3,
          9,
          4,
          6,
          9,
          3,
          5,
          4,
          6
         ],
         "yaxis": "y3"
        },
        {
         "hovertemplate": "player=Insight<br>year=2019<br>hill time (s)=%{x}<br>hill defends=%{y}<extra></extra>",
         "legendgroup": "Insight",
         "marker": {
          "color": "#FF6692",
          "symbol": "circle"
         },
         "mode": "markers",
         "name": "Insight",
         "showlegend": true,
         "type": "scattergl",
         "x": [
          85,
          99,
          85,
          33,
          61,
          36,
          75,
          117,
          103,
          43
         ],
         "xaxis": "x3",
         "y": [
          1,
          8,
          7,
          3,
          3,
          8,
          6,
          1,
          7,
          5
         ],
         "yaxis": "y3"
        },
        {
         "hovertemplate": "player=Keza<br>year=2019<br>hill time (s)=%{x}<br>hill defends=%{y}<extra></extra>",
         "legendgroup": "Keza",
         "marker": {
          "color": "#B6E880",
          "symbol": "circle"
         },
         "mode": "markers",
         "name": "Keza",
         "showlegend": true,
         "type": "scattergl",
         "x": [
          117,
          64,
          36,
          31,
          49,
          52,
          40,
          50,
          92,
          37
         ],
         "xaxis": "x3",
         "y": [
          2,
          7,
          4,
          1,
          5,
          3,
          5,
          2,
          4,
          3
         ],
         "yaxis": "y3"
        },
        {
         "hovertemplate": "player=GloFrosty<br>year=2019<br>hill time (s)=%{x}<br>hill defends=%{y}<extra></extra>",
         "legendgroup": "GloFrosty",
         "marker": {
          "color": "#FF97FF",
          "symbol": "circle"
         },
         "mode": "markers",
         "name": "GloFrosty",
         "showlegend": true,
         "type": "scattergl",
         "x": [
          64,
          24,
          25,
          44,
          95
         ],
         "xaxis": "x3",
         "y": [
          6,
          3,
          3,
          5,
          6
         ],
         "yaxis": "y3"
        },
        {
         "hovertemplate": "player=Frosty<br>year=2019<br>hill time (s)=%{x}<br>hill defends=%{y}<extra></extra>",
         "legendgroup": "Frosty",
         "marker": {
          "color": "#FECB52",
          "symbol": "circle"
         },
         "mode": "markers",
         "name": "Frosty",
         "showlegend": true,
         "type": "scattergl",
         "x": [
          70,
          85,
          72,
          48,
          85,
          67
         ],
         "xaxis": "x3",
         "y": [
          3,
          4,
          10,
          7,
          7,
          6
         ],
         "yaxis": "y3"
        },
        {
         "hovertemplate": "player=Mettalz<br>year=2019<br>hill time (s)=%{x}<br>hill defends=%{y}<extra></extra>",
         "legendgroup": "Mettalz",
         "marker": {
          "color": "#636efa",
          "symbol": "circle"
         },
         "mode": "markers",
         "name": "Mettalz",
         "showlegend": true,
         "type": "scattergl",
         "x": [
          39,
          54,
          56,
          14,
          20,
          135,
          92
         ],
         "xaxis": "x3",
         "y": [
          2,
          8,
          6,
          5,
          4,
          8,
          8
         ],
         "yaxis": "y3"
        },
        {
         "hovertemplate": "player=Wartex<br>year=2019<br>hill time (s)=%{x}<br>hill defends=%{y}<extra></extra>",
         "legendgroup": "Wartex",
         "marker": {
          "color": "#EF553B",
          "symbol": "circle"
         },
         "mode": "markers",
         "name": "Wartex",
         "showlegend": true,
         "type": "scattergl",
         "x": [
          61,
          85,
          82,
          41,
          37,
          84,
          55
         ],
         "xaxis": "x3",
         "y": [
          4,
          9,
          3,
          4,
          6,
          8,
          3
         ],
         "yaxis": "y3"
        },
        {
         "hovertemplate": "player=Jintroid<br>year=2019<br>hill time (s)=%{x}<br>hill defends=%{y}<extra></extra>",
         "legendgroup": "Jintroid",
         "marker": {
          "color": "#00cc96",
          "symbol": "circle"
         },
         "mode": "markers",
         "name": "Jintroid",
         "showlegend": true,
         "type": "scattergl",
         "x": [
          29,
          61,
          44,
          61,
          87
         ],
         "xaxis": "x3",
         "y": [
          9,
          13,
          8,
          9,
          7
         ],
         "yaxis": "y3"
        },
        {
         "hovertemplate": "player=Creza<br>year=2019<br>hill time (s)=%{x}<br>hill defends=%{y}<extra></extra>",
         "legendgroup": "Creza",
         "marker": {
          "color": "#ab63fa",
          "symbol": "circle"
         },
         "mode": "markers",
         "name": "Creza",
         "showlegend": true,
         "type": "scattergl",
         "x": [
          45,
          77,
          65,
          33,
          72
         ],
         "xaxis": "x3",
         "y": [
          3,
          5,
          3,
          4,
          4
         ],
         "yaxis": "y3"
        },
        {
         "hovertemplate": "player=Rizk<br>year=2019<br>hill time (s)=%{x}<br>hill defends=%{y}<extra></extra>",
         "legendgroup": "Rizk",
         "marker": {
          "color": "#FFA15A",
          "symbol": "circle"
         },
         "mode": "markers",
         "name": "Rizk",
         "showlegend": true,
         "type": "scattergl",
         "x": [
          39,
          60,
          4,
          38,
          52
         ],
         "xaxis": "x3",
         "y": [
          4,
          6,
          4,
          5,
          6
         ],
         "yaxis": "y3"
        },
        {
         "hovertemplate": "player=Yako<br>year=2019<br>hill time (s)=%{x}<br>hill defends=%{y}<extra></extra>",
         "legendgroup": "Yako",
         "marker": {
          "color": "#19d3f3",
          "symbol": "circle"
         },
         "mode": "markers",
         "name": "Yako",
         "showlegend": true,
         "type": "scattergl",
         "x": [
          74,
          29,
          30,
          52,
          36
         ],
         "xaxis": "x3",
         "y": [
          7,
          3,
          7,
          5,
          3
         ],
         "yaxis": "y3"
        },
        {
         "hovertemplate": "player=Zeeked<br>year=2019<br>hill time (s)=%{x}<br>hill defends=%{y}<extra></extra>",
         "legendgroup": "Zeeked",
         "marker": {
          "color": "#FF6692",
          "symbol": "circle"
         },
         "mode": "markers",
         "name": "Zeeked",
         "showlegend": true,
         "type": "scattergl",
         "x": [
          53,
          59,
          46,
          40,
          23
         ],
         "xaxis": "x3",
         "y": [
          3,
          6,
          3,
          9,
          2
         ],
         "yaxis": "y3"
        },
        {
         "hovertemplate": "player=TISCH47<br>year=2019<br>hill time (s)=%{x}<br>hill defends=%{y}<extra></extra>",
         "legendgroup": "TISCH47",
         "marker": {
          "color": "#B6E880",
          "symbol": "circle"
         },
         "mode": "markers",
         "name": "TISCH47",
         "showlegend": true,
         "type": "scattergl",
         "x": [
          50,
          88,
          42,
          64
         ],
         "xaxis": "x3",
         "y": [
          3,
          11,
          2,
          7
         ],
         "yaxis": "y3"
        },
        {
         "hovertemplate": "player=Turnup2ez<br>year=2019<br>hill time (s)=%{x}<br>hill defends=%{y}<extra></extra>",
         "legendgroup": "Turnup2ez",
         "marker": {
          "color": "#FF97FF",
          "symbol": "circle"
         },
         "mode": "markers",
         "name": "Turnup2ez",
         "showlegend": true,
         "type": "scattergl",
         "x": [
          75,
          86,
          79,
          59
         ],
         "xaxis": "x3",
         "y": [
          6,
          8,
          4,
          2
         ],
         "yaxis": "y3"
        },
        {
         "hovertemplate": "player=Charullz<br>year=2019<br>hill time (s)=%{x}<br>hill defends=%{y}<extra></extra>",
         "legendgroup": "Charullz",
         "marker": {
          "color": "#FECB52",
          "symbol": "circle"
         },
         "mode": "markers",
         "name": "Charullz",
         "showlegend": true,
         "type": "scattergl",
         "x": [
          19,
          57,
          69,
          42
         ],
         "xaxis": "x3",
         "y": [
          3,
          12,
          7,
          1
         ],
         "yaxis": "y3"
        },
        {
         "hovertemplate": "player=Destiny<br>year=2019<br>hill time (s)=%{x}<br>hill defends=%{y}<extra></extra>",
         "legendgroup": "Destiny",
         "marker": {
          "color": "#636efa",
          "symbol": "circle"
         },
         "mode": "markers",
         "name": "Destiny",
         "showlegend": true,
         "type": "scattergl",
         "x": [
          25,
          48,
          16,
          75
         ],
         "xaxis": "x3",
         "y": [
          0,
          14,
          6,
          4
         ],
         "yaxis": "y3"
        },
        {
         "hovertemplate": "player=Newbz<br>year=2019<br>hill time (s)=%{x}<br>hill defends=%{y}<extra></extra>",
         "legendgroup": "Newbz",
         "marker": {
          "color": "#EF553B",
          "symbol": "circle"
         },
         "mode": "markers",
         "name": "Newbz",
         "showlegend": true,
         "type": "scattergl",
         "x": [
          34,
          93,
          22,
          32
         ],
         "xaxis": "x3",
         "y": [
          2,
          7,
          6,
          6
         ],
         "yaxis": "y3"
        },
        {
         "hovertemplate": "player=Pentagrxm<br>year=2019<br>hill time (s)=%{x}<br>hill defends=%{y}<extra></extra>",
         "legendgroup": "Pentagrxm",
         "marker": {
          "color": "#00cc96",
          "symbol": "circle"
         },
         "mode": "markers",
         "name": "Pentagrxm",
         "showlegend": true,
         "type": "scattergl",
         "x": [
          17,
          106,
          50,
          75
         ],
         "xaxis": "x3",
         "y": [
          4,
          8,
          9,
          5
         ],
         "yaxis": "y3"
        },
        {
         "hovertemplate": "player=Vicious<br>year=2019<br>hill time (s)=%{x}<br>hill defends=%{y}<extra></extra>",
         "legendgroup": "Vicious",
         "marker": {
          "color": "#ab63fa",
          "symbol": "circle"
         },
         "mode": "markers",
         "name": "Vicious",
         "showlegend": true,
         "type": "scattergl",
         "x": [
          41,
          105,
          40,
          86
         ],
         "xaxis": "x3",
         "y": [
          4,
          21,
          8,
          4
         ],
         "yaxis": "y3"
        }
       ],
       "layout": {
        "annotations": [
         {
          "font": {},
          "showarrow": false,
          "text": "year=2017",
          "x": 0.15999999999999998,
          "xanchor": "center",
          "xref": "paper",
          "y": 1,
          "yanchor": "bottom",
          "yref": "paper"
         },
         {
          "font": {},
          "showarrow": false,
          "text": "year=2018",
          "x": 0.49999999999999994,
          "xanchor": "center",
          "xref": "paper",
          "y": 1,
          "yanchor": "bottom",
          "yref": "paper"
         },
         {
          "font": {},
          "showarrow": false,
          "text": "year=2019",
          "x": 0.8399999999999999,
          "xanchor": "center",
          "xref": "paper",
          "y": 1,
          "yanchor": "bottom",
          "yref": "paper"
         }
        ],
        "height": 900,
        "legend": {
         "title": {
          "text": "player"
         },
         "tracegroupgap": 0
        },
        "template": {
         "data": {
          "bar": [
           {
            "error_x": {
             "color": "#2a3f5f"
            },
            "error_y": {
             "color": "#2a3f5f"
            },
            "marker": {
             "line": {
              "color": "#E5ECF6",
              "width": 0.5
             },
             "pattern": {
              "fillmode": "overlay",
              "size": 10,
              "solidity": 0.2
             }
            },
            "type": "bar"
           }
          ],
          "barpolar": [
           {
            "marker": {
             "line": {
              "color": "#E5ECF6",
              "width": 0.5
             },
             "pattern": {
              "fillmode": "overlay",
              "size": 10,
              "solidity": 0.2
             }
            },
            "type": "barpolar"
           }
          ],
          "carpet": [
           {
            "aaxis": {
             "endlinecolor": "#2a3f5f",
             "gridcolor": "white",
             "linecolor": "white",
             "minorgridcolor": "white",
             "startlinecolor": "#2a3f5f"
            },
            "baxis": {
             "endlinecolor": "#2a3f5f",
             "gridcolor": "white",
             "linecolor": "white",
             "minorgridcolor": "white",
             "startlinecolor": "#2a3f5f"
            },
            "type": "carpet"
           }
          ],
          "choropleth": [
           {
            "colorbar": {
             "outlinewidth": 0,
             "ticks": ""
            },
            "type": "choropleth"
           }
          ],
          "contour": [
           {
            "colorbar": {
             "outlinewidth": 0,
             "ticks": ""
            },
            "colorscale": [
             [
              0,
              "#0d0887"
             ],
             [
              0.1111111111111111,
              "#46039f"
             ],
             [
              0.2222222222222222,
              "#7201a8"
             ],
             [
              0.3333333333333333,
              "#9c179e"
             ],
             [
              0.4444444444444444,
              "#bd3786"
             ],
             [
              0.5555555555555556,
              "#d8576b"
             ],
             [
              0.6666666666666666,
              "#ed7953"
             ],
             [
              0.7777777777777778,
              "#fb9f3a"
             ],
             [
              0.8888888888888888,
              "#fdca26"
             ],
             [
              1,
              "#f0f921"
             ]
            ],
            "type": "contour"
           }
          ],
          "contourcarpet": [
           {
            "colorbar": {
             "outlinewidth": 0,
             "ticks": ""
            },
            "type": "contourcarpet"
           }
          ],
          "heatmap": [
           {
            "colorbar": {
             "outlinewidth": 0,
             "ticks": ""
            },
            "colorscale": [
             [
              0,
              "#0d0887"
             ],
             [
              0.1111111111111111,
              "#46039f"
             ],
             [
              0.2222222222222222,
              "#7201a8"
             ],
             [
              0.3333333333333333,
              "#9c179e"
             ],
             [
              0.4444444444444444,
              "#bd3786"
             ],
             [
              0.5555555555555556,
              "#d8576b"
             ],
             [
              0.6666666666666666,
              "#ed7953"
             ],
             [
              0.7777777777777778,
              "#fb9f3a"
             ],
             [
              0.8888888888888888,
              "#fdca26"
             ],
             [
              1,
              "#f0f921"
             ]
            ],
            "type": "heatmap"
           }
          ],
          "heatmapgl": [
           {
            "colorbar": {
             "outlinewidth": 0,
             "ticks": ""
            },
            "colorscale": [
             [
              0,
              "#0d0887"
             ],
             [
              0.1111111111111111,
              "#46039f"
             ],
             [
              0.2222222222222222,
              "#7201a8"
             ],
             [
              0.3333333333333333,
              "#9c179e"
             ],
             [
              0.4444444444444444,
              "#bd3786"
             ],
             [
              0.5555555555555556,
              "#d8576b"
             ],
             [
              0.6666666666666666,
              "#ed7953"
             ],
             [
              0.7777777777777778,
              "#fb9f3a"
             ],
             [
              0.8888888888888888,
              "#fdca26"
             ],
             [
              1,
              "#f0f921"
             ]
            ],
            "type": "heatmapgl"
           }
          ],
          "histogram": [
           {
            "marker": {
             "pattern": {
              "fillmode": "overlay",
              "size": 10,
              "solidity": 0.2
             }
            },
            "type": "histogram"
           }
          ],
          "histogram2d": [
           {
            "colorbar": {
             "outlinewidth": 0,
             "ticks": ""
            },
            "colorscale": [
             [
              0,
              "#0d0887"
             ],
             [
              0.1111111111111111,
              "#46039f"
             ],
             [
              0.2222222222222222,
              "#7201a8"
             ],
             [
              0.3333333333333333,
              "#9c179e"
             ],
             [
              0.4444444444444444,
              "#bd3786"
             ],
             [
              0.5555555555555556,
              "#d8576b"
             ],
             [
              0.6666666666666666,
              "#ed7953"
             ],
             [
              0.7777777777777778,
              "#fb9f3a"
             ],
             [
              0.8888888888888888,
              "#fdca26"
             ],
             [
              1,
              "#f0f921"
             ]
            ],
            "type": "histogram2d"
           }
          ],
          "histogram2dcontour": [
           {
            "colorbar": {
             "outlinewidth": 0,
             "ticks": ""
            },
            "colorscale": [
             [
              0,
              "#0d0887"
             ],
             [
              0.1111111111111111,
              "#46039f"
             ],
             [
              0.2222222222222222,
              "#7201a8"
             ],
             [
              0.3333333333333333,
              "#9c179e"
             ],
             [
              0.4444444444444444,
              "#bd3786"
             ],
             [
              0.5555555555555556,
              "#d8576b"
             ],
             [
              0.6666666666666666,
              "#ed7953"
             ],
             [
              0.7777777777777778,
              "#fb9f3a"
             ],
             [
              0.8888888888888888,
              "#fdca26"
             ],
             [
              1,
              "#f0f921"
             ]
            ],
            "type": "histogram2dcontour"
           }
          ],
          "mesh3d": [
           {
            "colorbar": {
             "outlinewidth": 0,
             "ticks": ""
            },
            "type": "mesh3d"
           }
          ],
          "parcoords": [
           {
            "line": {
             "colorbar": {
              "outlinewidth": 0,
              "ticks": ""
             }
            },
            "type": "parcoords"
           }
          ],
          "pie": [
           {
            "automargin": true,
            "type": "pie"
           }
          ],
          "scatter": [
           {
            "fillpattern": {
             "fillmode": "overlay",
             "size": 10,
             "solidity": 0.2
            },
            "type": "scatter"
           }
          ],
          "scatter3d": [
           {
            "line": {
             "colorbar": {
              "outlinewidth": 0,
              "ticks": ""
             }
            },
            "marker": {
             "colorbar": {
              "outlinewidth": 0,
              "ticks": ""
             }
            },
            "type": "scatter3d"
           }
          ],
          "scattercarpet": [
           {
            "marker": {
             "colorbar": {
              "outlinewidth": 0,
              "ticks": ""
             }
            },
            "type": "scattercarpet"
           }
          ],
          "scattergeo": [
           {
            "marker": {
             "colorbar": {
              "outlinewidth": 0,
              "ticks": ""
             }
            },
            "type": "scattergeo"
           }
          ],
          "scattergl": [
           {
            "marker": {
             "colorbar": {
              "outlinewidth": 0,
              "ticks": ""
             }
            },
            "type": "scattergl"
           }
          ],
          "scattermapbox": [
           {
            "marker": {
             "colorbar": {
              "outlinewidth": 0,
              "ticks": ""
             }
            },
            "type": "scattermapbox"
           }
          ],
          "scatterpolar": [
           {
            "marker": {
             "colorbar": {
              "outlinewidth": 0,
              "ticks": ""
             }
            },
            "type": "scatterpolar"
           }
          ],
          "scatterpolargl": [
           {
            "marker": {
             "colorbar": {
              "outlinewidth": 0,
              "ticks": ""
             }
            },
            "type": "scatterpolargl"
           }
          ],
          "scatterternary": [
           {
            "marker": {
             "colorbar": {
              "outlinewidth": 0,
              "ticks": ""
             }
            },
            "type": "scatterternary"
           }
          ],
          "surface": [
           {
            "colorbar": {
             "outlinewidth": 0,
             "ticks": ""
            },
            "colorscale": [
             [
              0,
              "#0d0887"
             ],
             [
              0.1111111111111111,
              "#46039f"
             ],
             [
              0.2222222222222222,
              "#7201a8"
             ],
             [
              0.3333333333333333,
              "#9c179e"
             ],
             [
              0.4444444444444444,
              "#bd3786"
             ],
             [
              0.5555555555555556,
              "#d8576b"
             ],
             [
              0.6666666666666666,
              "#ed7953"
             ],
             [
              0.7777777777777778,
              "#fb9f3a"
             ],
             [
              0.8888888888888888,
              "#fdca26"
             ],
             [
              1,
              "#f0f921"
             ]
            ],
            "type": "surface"
           }
          ],
          "table": [
           {
            "cells": {
             "fill": {
              "color": "#EBF0F8"
             },
             "line": {
              "color": "white"
             }
            },
            "header": {
             "fill": {
              "color": "#C8D4E3"
             },
             "line": {
              "color": "white"
             }
            },
            "type": "table"
           }
          ]
         },
         "layout": {
          "annotationdefaults": {
           "arrowcolor": "#2a3f5f",
           "arrowhead": 0,
           "arrowwidth": 1
          },
          "autotypenumbers": "strict",
          "coloraxis": {
           "colorbar": {
            "outlinewidth": 0,
            "ticks": ""
           }
          },
          "colorscale": {
           "diverging": [
            [
             0,
             "#8e0152"
            ],
            [
             0.1,
             "#c51b7d"
            ],
            [
             0.2,
             "#de77ae"
            ],
            [
             0.3,
             "#f1b6da"
            ],
            [
             0.4,
             "#fde0ef"
            ],
            [
             0.5,
             "#f7f7f7"
            ],
            [
             0.6,
             "#e6f5d0"
            ],
            [
             0.7,
             "#b8e186"
            ],
            [
             0.8,
             "#7fbc41"
            ],
            [
             0.9,
             "#4d9221"
            ],
            [
             1,
             "#276419"
            ]
           ],
           "sequential": [
            [
             0,
             "#0d0887"
            ],
            [
             0.1111111111111111,
             "#46039f"
            ],
            [
             0.2222222222222222,
             "#7201a8"
            ],
            [
             0.3333333333333333,
             "#9c179e"
            ],
            [
             0.4444444444444444,
             "#bd3786"
            ],
            [
             0.5555555555555556,
             "#d8576b"
            ],
            [
             0.6666666666666666,
             "#ed7953"
            ],
            [
             0.7777777777777778,
             "#fb9f3a"
            ],
            [
             0.8888888888888888,
             "#fdca26"
            ],
            [
             1,
             "#f0f921"
            ]
           ],
           "sequentialminus": [
            [
             0,
             "#0d0887"
            ],
            [
             0.1111111111111111,
             "#46039f"
            ],
            [
             0.2222222222222222,
             "#7201a8"
            ],
            [
             0.3333333333333333,
             "#9c179e"
            ],
            [
             0.4444444444444444,
             "#bd3786"
            ],
            [
             0.5555555555555556,
             "#d8576b"
            ],
            [
             0.6666666666666666,
             "#ed7953"
            ],
            [
             0.7777777777777778,
             "#fb9f3a"
            ],
            [
             0.8888888888888888,
             "#fdca26"
            ],
            [
             1,
             "#f0f921"
            ]
           ]
          },
          "colorway": [
           "#636efa",
           "#EF553B",
           "#00cc96",
           "#ab63fa",
           "#FFA15A",
           "#19d3f3",
           "#FF6692",
           "#B6E880",
           "#FF97FF",
           "#FECB52"
          ],
          "font": {
           "color": "#2a3f5f"
          },
          "geo": {
           "bgcolor": "white",
           "lakecolor": "white",
           "landcolor": "#E5ECF6",
           "showlakes": true,
           "showland": true,
           "subunitcolor": "white"
          },
          "hoverlabel": {
           "align": "left"
          },
          "hovermode": "closest",
          "mapbox": {
           "style": "light"
          },
          "paper_bgcolor": "white",
          "plot_bgcolor": "#E5ECF6",
          "polar": {
           "angularaxis": {
            "gridcolor": "white",
            "linecolor": "white",
            "ticks": ""
           },
           "bgcolor": "#E5ECF6",
           "radialaxis": {
            "gridcolor": "white",
            "linecolor": "white",
            "ticks": ""
           }
          },
          "scene": {
           "xaxis": {
            "backgroundcolor": "#E5ECF6",
            "gridcolor": "white",
            "gridwidth": 2,
            "linecolor": "white",
            "showbackground": true,
            "ticks": "",
            "zerolinecolor": "white"
           },
           "yaxis": {
            "backgroundcolor": "#E5ECF6",
            "gridcolor": "white",
            "gridwidth": 2,
            "linecolor": "white",
            "showbackground": true,
            "ticks": "",
            "zerolinecolor": "white"
           },
           "zaxis": {
            "backgroundcolor": "#E5ECF6",
            "gridcolor": "white",
            "gridwidth": 2,
            "linecolor": "white",
            "showbackground": true,
            "ticks": "",
            "zerolinecolor": "white"
           }
          },
          "shapedefaults": {
           "line": {
            "color": "#2a3f5f"
           }
          },
          "ternary": {
           "aaxis": {
            "gridcolor": "white",
            "linecolor": "white",
            "ticks": ""
           },
           "baxis": {
            "gridcolor": "white",
            "linecolor": "white",
            "ticks": ""
           },
           "bgcolor": "#E5ECF6",
           "caxis": {
            "gridcolor": "white",
            "linecolor": "white",
            "ticks": ""
           }
          },
          "title": {
           "x": 0.05
          },
          "xaxis": {
           "automargin": true,
           "gridcolor": "white",
           "linecolor": "white",
           "ticks": "",
           "title": {
            "standoff": 15
           },
           "zerolinecolor": "white",
           "zerolinewidth": 2
          },
          "yaxis": {
           "automargin": true,
           "gridcolor": "white",
           "linecolor": "white",
           "ticks": "",
           "title": {
            "standoff": 15
           },
           "zerolinecolor": "white",
           "zerolinewidth": 2
          }
         }
        },
        "title": {
         "text": "Hardpoint: Hill Defends vs Hill time (s)"
        },
        "xaxis": {
         "anchor": "y",
         "domain": [
          0,
          0.31999999999999995
         ],
         "title": {
          "text": "hill time (s)"
         }
        },
        "xaxis2": {
         "anchor": "y2",
         "domain": [
          0.33999999999999997,
          0.6599999999999999
         ],
         "matches": "x",
         "title": {
          "text": "hill time (s)"
         }
        },
        "xaxis3": {
         "anchor": "y3",
         "domain": [
          0.6799999999999999,
          0.9999999999999999
         ],
         "matches": "x",
         "title": {
          "text": "hill time (s)"
         }
        },
        "yaxis": {
         "anchor": "x",
         "domain": [
          0,
          1
         ],
         "title": {
          "text": "hill defends"
         }
        },
        "yaxis2": {
         "anchor": "x2",
         "domain": [
          0,
          1
         ],
         "matches": "y",
         "showticklabels": false
        },
        "yaxis3": {
         "anchor": "x3",
         "domain": [
          0,
          1
         ],
         "matches": "y",
         "showticklabels": false
        }
       }
      }
     },
     "metadata": {},
     "output_type": "display_data"
    }
   ],
   "source": [
    "px.scatter(\n",
    "    hardpoint_df,\n",
    "    x = 'hill time (s)',\n",
    "    y = 'hill defends',\n",
    "    facet_col= 'year',\n",
    "    color='player',\n",
    "    height = 900, \n",
    "    title = \"Hardpoint: Hill Defends vs Hill time (s)\"\n",
    ")"
   ]
  },
  {
   "cell_type": "code",
   "execution_count": 11,
   "metadata": {},
   "outputs": [
    {
     "data": {
      "application/vnd.plotly.v1+json": {
       "config": {
        "plotlyServerURL": "https://plot.ly"
       },
       "data": [
        {
         "hovertemplate": "player=Methodz<br>year=2017<br>hill time (s)=%{x}<br>k/d=%{y}<extra></extra>",
         "legendgroup": "Methodz",
         "marker": {
          "color": "#636efa",
          "symbol": "circle"
         },
         "mode": "markers",
         "name": "Methodz",
         "showlegend": true,
         "type": "scattergl",
         "x": [
          8,
          95,
          71,
          34,
          52
         ],
         "xaxis": "x",
         "y": [
          0.63,
          1.31,
          0.77,
          0.77,
          0.81
         ],
         "yaxis": "y"
        },
        {
         "hovertemplate": "player=Methodz<br>year=2018<br>hill time (s)=%{x}<br>k/d=%{y}<extra></extra>",
         "legendgroup": "Methodz",
         "marker": {
          "color": "#636efa",
          "symbol": "circle"
         },
         "mode": "markers",
         "name": "Methodz",
         "showlegend": false,
         "type": "scattergl",
         "x": [
          55,
          85,
          134,
          29
         ],
         "xaxis": "x2",
         "y": [
          1.6,
          1.71,
          0.7,
          0.96
         ],
         "yaxis": "y2"
        },
        {
         "hovertemplate": "player=Methodz<br>year=2019<br>hill time (s)=%{x}<br>k/d=%{y}<extra></extra>",
         "legendgroup": "Methodz",
         "marker": {
          "color": "#636efa",
          "symbol": "circle"
         },
         "mode": "markers",
         "name": "Methodz",
         "showlegend": false,
         "type": "scattergl",
         "x": [
          55,
          48,
          75,
          53,
          91
         ],
         "xaxis": "x3",
         "y": [
          1.16,
          0.69,
          1.36,
          0.74,
          1.33
         ],
         "yaxis": "y3"
        },
        {
         "hovertemplate": "player=mosh<br>year=2017<br>hill time (s)=%{x}<br>k/d=%{y}<extra></extra>",
         "legendgroup": "mosh",
         "marker": {
          "color": "#EF553B",
          "symbol": "circle"
         },
         "mode": "markers",
         "name": "mosh",
         "showlegend": true,
         "type": "scattergl",
         "x": [
          34,
          78,
          15,
          26,
          72
         ],
         "xaxis": "x",
         "y": [
          0.95,
          1.56,
          0.9,
          0.61,
          0.95
         ],
         "yaxis": "y"
        },
        {
         "hovertemplate": "player=mosh<br>year=2019<br>hill time (s)=%{x}<br>k/d=%{y}<extra></extra>",
         "legendgroup": "mosh",
         "marker": {
          "color": "#EF553B",
          "symbol": "circle"
         },
         "mode": "markers",
         "name": "mosh",
         "showlegend": false,
         "type": "scattergl",
         "x": [
          106,
          58,
          21,
          20,
          30,
          54
         ],
         "xaxis": "x3",
         "y": [
          0.67,
          0.57,
          0.62,
          0.23,
          0.62,
          1.67
         ],
         "yaxis": "y3"
        },
        {
         "hovertemplate": "player=MRuiz<br>year=2017<br>hill time (s)=%{x}<br>k/d=%{y}<extra></extra>",
         "legendgroup": "MRuiz",
         "marker": {
          "color": "#00cc96",
          "symbol": "circle"
         },
         "mode": "markers",
         "name": "MRuiz",
         "showlegend": true,
         "type": "scattergl",
         "x": [
          43,
          94,
          86,
          34,
          59
         ],
         "xaxis": "x",
         "y": [
          0.52,
          1.27,
          1.07,
          0.8,
          1.29
         ],
         "yaxis": "y"
        },
        {
         "hovertemplate": "player=MRuiz<br>year=2018<br>hill time (s)=%{x}<br>k/d=%{y}<extra></extra>",
         "legendgroup": "MRuiz",
         "marker": {
          "color": "#00cc96",
          "symbol": "circle"
         },
         "mode": "markers",
         "name": "MRuiz",
         "showlegend": false,
         "type": "scattergl",
         "x": [
          33,
          13,
          14
         ],
         "xaxis": "x2",
         "y": [
          1.39,
          0.9,
          0.88
         ],
         "yaxis": "y2"
        },
        {
         "hovertemplate": "player=MRuiz<br>year=2019<br>hill time (s)=%{x}<br>k/d=%{y}<extra></extra>",
         "legendgroup": "MRuiz",
         "marker": {
          "color": "#00cc96",
          "symbol": "circle"
         },
         "mode": "markers",
         "name": "MRuiz",
         "showlegend": false,
         "type": "scattergl",
         "x": [
          58,
          76,
          44,
          79,
          49,
          53,
          40,
          71,
          83,
          62
         ],
         "xaxis": "x3",
         "y": [
          0.67,
          1.33,
          0.52,
          1.44,
          0.87,
          0.94,
          0.8,
          0.8,
          0.67,
          0.78
         ],
         "yaxis": "y3"
        },
        {
         "hovertemplate": "player=Replays<br>year=2017<br>hill time (s)=%{x}<br>k/d=%{y}<extra></extra>",
         "legendgroup": "Replays",
         "marker": {
          "color": "#ab63fa",
          "symbol": "circle"
         },
         "mode": "markers",
         "name": "Replays",
         "showlegend": true,
         "type": "scattergl",
         "x": [
          35,
          36,
          71,
          7,
          20
         ],
         "xaxis": "x",
         "y": [
          0.88,
          1.24,
          1.09,
          0.73,
          1.05
         ],
         "yaxis": "y"
        },
        {
         "hovertemplate": "player=Replays<br>year=2018<br>hill time (s)=%{x}<br>k/d=%{y}<extra></extra>",
         "legendgroup": "Replays",
         "marker": {
          "color": "#ab63fa",
          "symbol": "circle"
         },
         "mode": "markers",
         "name": "Replays",
         "showlegend": false,
         "type": "scattergl",
         "x": [
          58,
          123,
          58,
          69,
          30,
          75,
          119,
          74,
          61,
          48,
          144,
          86,
          102,
          79,
          83,
          109,
          87
         ],
         "xaxis": "x2",
         "y": [
          0.9,
          1.1,
          0.73,
          0.88,
          1.03,
          0.88,
          1,
          0.56,
          0.91,
          1.29,
          1.46,
          1.26,
          1.38,
          0.94,
          1.3,
          0.91,
          0.93
         ],
         "yaxis": "y2"
        },
        {
         "hovertemplate": "player=Dqvee<br>year=2017<br>hill time (s)=%{x}<br>k/d=%{y}<extra></extra>",
         "legendgroup": "Dqvee",
         "marker": {
          "color": "#FFA15A",
          "symbol": "circle"
         },
         "mode": "markers",
         "name": "Dqvee",
         "showlegend": true,
         "type": "scattergl",
         "x": [
          33,
          9,
          104,
          38,
          34,
          69,
          93,
          123
         ],
         "xaxis": "x",
         "y": [
          1.2,
          0.6,
          1.1,
          1.1,
          0.63,
          1.63,
          0.96,
          1.67
         ],
         "yaxis": "y"
        },
        {
         "hovertemplate": "player=Dqvee<br>year=2018<br>hill time (s)=%{x}<br>k/d=%{y}<extra></extra>",
         "legendgroup": "Dqvee",
         "marker": {
          "color": "#FFA15A",
          "symbol": "circle"
         },
         "mode": "markers",
         "name": "Dqvee",
         "showlegend": false,
         "type": "scattergl",
         "x": [
          77,
          21,
          52,
          51,
          24
         ],
         "xaxis": "x2",
         "y": [
          0.75,
          0.72,
          1.13,
          0.77,
          0.93
         ],
         "yaxis": "y2"
        },
        {
         "hovertemplate": "player=Dqvee<br>year=2019<br>hill time (s)=%{x}<br>k/d=%{y}<extra></extra>",
         "legendgroup": "Dqvee",
         "marker": {
          "color": "#FFA15A",
          "symbol": "circle"
         },
         "mode": "markers",
         "name": "Dqvee",
         "showlegend": false,
         "type": "scattergl",
         "x": [
          82,
          41,
          50,
          31,
          17,
          97,
          64,
          82,
          91
         ],
         "xaxis": "x3",
         "y": [
          1.22,
          1.45,
          1.53,
          1.67,
          0.76,
          1.06,
          0.83,
          1.04,
          1.6
         ],
         "yaxis": "y3"
        },
        {
         "hovertemplate": "player=Hawqeh<br>year=2017<br>hill time (s)=%{x}<br>k/d=%{y}<extra></extra>",
         "legendgroup": "Hawqeh",
         "marker": {
          "color": "#19d3f3",
          "symbol": "circle"
         },
         "mode": "markers",
         "name": "Hawqeh",
         "showlegend": true,
         "type": "scattergl",
         "x": [
          140,
          15,
          75,
          99,
          38,
          76,
          24,
          70
         ],
         "xaxis": "x",
         "y": [
          2,
          0.84,
          1.26,
          1,
          0.88,
          0.73,
          0.96,
          0.93
         ],
         "yaxis": "y"
        },
        {
         "hovertemplate": "player=Hawqeh<br>year=2018<br>hill time (s)=%{x}<br>k/d=%{y}<extra></extra>",
         "legendgroup": "Hawqeh",
         "marker": {
          "color": "#19d3f3",
          "symbol": "circle"
         },
         "mode": "markers",
         "name": "Hawqeh",
         "showlegend": false,
         "type": "scattergl",
         "x": [
          64,
          10,
          60,
          36,
          36
         ],
         "xaxis": "x2",
         "y": [
          0.56,
          0.64,
          1.2,
          0.7,
          1.1
         ],
         "yaxis": "y2"
        },
        {
         "hovertemplate": "player=Hawqeh<br>year=2019<br>hill time (s)=%{x}<br>k/d=%{y}<extra></extra>",
         "legendgroup": "Hawqeh",
         "marker": {
          "color": "#19d3f3",
          "symbol": "circle"
         },
         "mode": "markers",
         "name": "Hawqeh",
         "showlegend": false,
         "type": "scattergl",
         "x": [
          64,
          52,
          81,
          25,
          54
         ],
         "xaxis": "x3",
         "y": [
          0.86,
          1.56,
          1.33,
          0.6,
          0.78
         ],
         "yaxis": "y3"
        },
        {
         "hovertemplate": "player=Joshh<br>year=2017<br>hill time (s)=%{x}<br>k/d=%{y}<extra></extra>",
         "legendgroup": "Joshh",
         "marker": {
          "color": "#FF6692",
          "symbol": "circle"
         },
         "mode": "markers",
         "name": "Joshh",
         "showlegend": true,
         "type": "scattergl",
         "x": [
          79,
          24,
          46,
          98,
          50,
          67,
          26,
          18
         ],
         "xaxis": "x",
         "y": [
          1.07,
          0.79,
          0.81,
          0.8,
          0.93,
          0.95,
          1.08,
          0.96
         ],
         "yaxis": "y"
        },
        {
         "hovertemplate": "player=Joshh<br>year=2018<br>hill time (s)=%{x}<br>k/d=%{y}<extra></extra>",
         "legendgroup": "Joshh",
         "marker": {
          "color": "#FF6692",
          "symbol": "circle"
         },
         "mode": "markers",
         "name": "Joshh",
         "showlegend": false,
         "type": "scattergl",
         "x": [
          48,
          110,
          32,
          43,
          43
         ],
         "xaxis": "x2",
         "y": [
          1.06,
          1.29,
          0.93,
          0.71,
          0.7
         ],
         "yaxis": "y2"
        },
        {
         "hovertemplate": "player=Joshh<br>year=2019<br>hill time (s)=%{x}<br>k/d=%{y}<extra></extra>",
         "legendgroup": "Joshh",
         "marker": {
          "color": "#FF6692",
          "symbol": "circle"
         },
         "mode": "markers",
         "name": "Joshh",
         "showlegend": false,
         "type": "scattergl",
         "x": [
          25,
          103,
          115,
          28,
          9,
          71,
          15,
          51,
          36
         ],
         "xaxis": "x3",
         "y": [
          0.43,
          2.22,
          1.1,
          0.5,
          1.1,
          1.05,
          0.85,
          0.96,
          0.77
         ],
         "yaxis": "y3"
        },
        {
         "hovertemplate": "player=Vortex<br>year=2017<br>hill time (s)=%{x}<br>k/d=%{y}<extra></extra>",
         "legendgroup": "Vortex",
         "marker": {
          "color": "#B6E880",
          "symbol": "circle"
         },
         "mode": "markers",
         "name": "Vortex",
         "showlegend": true,
         "type": "scattergl",
         "x": [
          37,
          69,
          139,
          57,
          26,
          129,
          39,
          77
         ],
         "xaxis": "x",
         "y": [
          1.19,
          0.3,
          1.33,
          1.44,
          0.85,
          1,
          0.72,
          1.53
         ],
         "yaxis": "y"
        },
        {
         "hovertemplate": "player=Vortex<br>year=2018<br>hill time (s)=%{x}<br>k/d=%{y}<extra></extra>",
         "legendgroup": "Vortex",
         "marker": {
          "color": "#B6E880",
          "symbol": "circle"
         },
         "mode": "markers",
         "name": "Vortex",
         "showlegend": false,
         "type": "scattergl",
         "x": [
          48,
          26,
          13,
          60,
          40
         ],
         "xaxis": "x2",
         "y": [
          1.04,
          0.6,
          0.81,
          0.6,
          0.54
         ],
         "yaxis": "y2"
        },
        {
         "hovertemplate": "player=Vortex<br>year=2019<br>hill time (s)=%{x}<br>k/d=%{y}<extra></extra>",
         "legendgroup": "Vortex",
         "marker": {
          "color": "#B6E880",
          "symbol": "circle"
         },
         "mode": "markers",
         "name": "Vortex",
         "showlegend": false,
         "type": "scattergl",
         "x": [
          56,
          109,
          68,
          60,
          55,
          45,
          79,
          112,
          50
         ],
         "xaxis": "x3",
         "y": [
          1.05,
          1.57,
          0.87,
          1,
          0.65,
          0.88,
          0.69,
          1.46,
          0.91
         ],
         "yaxis": "y3"
        },
        {
         "hovertemplate": "player=Colechan<br>year=2017<br>hill time (s)=%{x}<br>k/d=%{y}<extra></extra>",
         "legendgroup": "Colechan",
         "marker": {
          "color": "#FF97FF",
          "symbol": "circle"
         },
         "mode": "markers",
         "name": "Colechan",
         "showlegend": true,
         "type": "scattergl",
         "x": [
          16,
          65,
          54,
          34
         ],
         "xaxis": "x",
         "y": [
          0.64,
          0.65,
          0.88,
          0.96
         ],
         "yaxis": "y"
        },
        {
         "hovertemplate": "player=DraMa<br>year=2017<br>hill time (s)=%{x}<br>k/d=%{y}<extra></extra>",
         "legendgroup": "DraMa",
         "marker": {
          "color": "#FECB52",
          "symbol": "circle"
         },
         "mode": "markers",
         "name": "DraMa",
         "showlegend": true,
         "type": "scattergl",
         "x": [
          37,
          22,
          43,
          76
         ],
         "xaxis": "x",
         "y": [
          0.62,
          0.65,
          0.91,
          0.71
         ],
         "yaxis": "y"
        },
        {
         "hovertemplate": "player=DraMa<br>year=2019<br>hill time (s)=%{x}<br>k/d=%{y}<extra></extra>",
         "legendgroup": "DraMa",
         "marker": {
          "color": "#FECB52",
          "symbol": "circle"
         },
         "mode": "markers",
         "name": "DraMa",
         "showlegend": false,
         "type": "scattergl",
         "x": [
          37,
          7,
          40,
          16,
          46
         ],
         "xaxis": "x3",
         "y": [
          1.05,
          0.88,
          1.33,
          1.12,
          0.77
         ],
         "yaxis": "y3"
        },
        {
         "hovertemplate": "player=Mochila<br>year=2017<br>hill time (s)=%{x}<br>k/d=%{y}<extra></extra>",
         "legendgroup": "Mochila",
         "marker": {
          "color": "#636efa",
          "symbol": "circle"
         },
         "mode": "markers",
         "name": "Mochila",
         "showlegend": true,
         "type": "scattergl",
         "x": [
          16,
          45,
          45,
          86
         ],
         "xaxis": "x",
         "y": [
          0.48,
          0.61,
          1.11,
          1.45
         ],
         "yaxis": "y"
        },
        {
         "hovertemplate": "player=Swarley<br>year=2017<br>hill time (s)=%{x}<br>k/d=%{y}<extra></extra>",
         "legendgroup": "Swarley",
         "marker": {
          "color": "#EF553B",
          "symbol": "circle"
         },
         "mode": "markers",
         "name": "Swarley",
         "showlegend": true,
         "type": "scattergl",
         "x": [
          32,
          27,
          103,
          66
         ],
         "xaxis": "x",
         "y": [
          0.45,
          1.16,
          1.38,
          0.54
         ],
         "yaxis": "y"
        },
        {
         "hovertemplate": "player=Crimsix<br>year=2017<br>hill time (s)=%{x}<br>k/d=%{y}<extra></extra>",
         "legendgroup": "Crimsix",
         "marker": {
          "color": "#00cc96",
          "symbol": "circle"
         },
         "mode": "markers",
         "name": "Crimsix",
         "showlegend": true,
         "type": "scattergl",
         "x": [
          38,
          75,
          48,
          89,
          32,
          61,
          73,
          127,
          56,
          58,
          89,
          79,
          69,
          51
         ],
         "xaxis": "x",
         "y": [
          1.8,
          2.45,
          0.78,
          1.32,
          1.25,
          1.14,
          0.87,
          2.5,
          0.59,
          0.73,
          0.94,
          0.94,
          1.78,
          0.69
         ],
         "yaxis": "y"
        },
        {
         "hovertemplate": "player=Crimsix<br>year=2018<br>hill time (s)=%{x}<br>k/d=%{y}<extra></extra>",
         "legendgroup": "Crimsix",
         "marker": {
          "color": "#00cc96",
          "symbol": "circle"
         },
         "mode": "markers",
         "name": "Crimsix",
         "showlegend": false,
         "type": "scattergl",
         "x": [
          48,
          47,
          31,
          89
         ],
         "xaxis": "x2",
         "y": [
          1,
          1.05,
          1,
          1
         ],
         "yaxis": "y2"
        },
        {
         "hovertemplate": "player=Crimsix<br>year=2019<br>hill time (s)=%{x}<br>k/d=%{y}<extra></extra>",
         "legendgroup": "Crimsix",
         "marker": {
          "color": "#00cc96",
          "symbol": "circle"
         },
         "mode": "markers",
         "name": "Crimsix",
         "showlegend": false,
         "type": "scattergl",
         "x": [
          45,
          62,
          59,
          65,
          107,
          115,
          85,
          99,
          183,
          110,
          129,
          99,
          89,
          12,
          71
         ],
         "xaxis": "x3",
         "y": [
          1,
          2.31,
          1.04,
          1.69,
          1,
          1.93,
          1.73,
          1.36,
          1.75,
          0.89,
          1.65,
          2,
          1.06,
          0.37,
          0.79
         ],
         "yaxis": "y3"
        },
        {
         "hovertemplate": "player=Formal<br>year=2017<br>hill time (s)=%{x}<br>k/d=%{y}<extra></extra>",
         "legendgroup": "Formal",
         "marker": {
          "color": "#ab63fa",
          "symbol": "circle"
         },
         "mode": "markers",
         "name": "Formal",
         "showlegend": true,
         "type": "scattergl",
         "x": [
          127,
          66,
          93,
          63,
          151,
          92,
          94,
          95,
          38,
          58,
          124,
          100,
          116,
          54
         ],
         "xaxis": "x",
         "y": [
          2.9,
          1.73,
          2.38,
          0.74,
          2.36,
          2,
          1.15,
          1.33,
          1.47,
          0.7,
          1.86,
          1.29,
          0.82,
          1.71
         ],
         "yaxis": "y"
        },
        {
         "hovertemplate": "player=Formal<br>year=2018<br>hill time (s)=%{x}<br>k/d=%{y}<extra></extra>",
         "legendgroup": "Formal",
         "marker": {
          "color": "#ab63fa",
          "symbol": "circle"
         },
         "mode": "markers",
         "name": "Formal",
         "showlegend": false,
         "type": "scattergl",
         "x": [
          106,
          115,
          84,
          55,
          68,
          105,
          104,
          77,
          121,
          146,
          87
         ],
         "xaxis": "x2",
         "y": [
          1.42,
          1.71,
          1.41,
          1.43,
          1.24,
          1.56,
          1.48,
          1.67,
          1.68,
          1.65,
          0.88
         ],
         "yaxis": "y2"
        },
        {
         "hovertemplate": "player=Formal<br>year=2019<br>hill time (s)=%{x}<br>k/d=%{y}<extra></extra>",
         "legendgroup": "Formal",
         "marker": {
          "color": "#ab63fa",
          "symbol": "circle"
         },
         "mode": "markers",
         "name": "Formal",
         "showlegend": false,
         "type": "scattergl",
         "x": [
          56,
          51,
          73,
          53,
          104,
          54,
          106,
          29,
          66,
          61,
          73,
          35
         ],
         "xaxis": "x3",
         "y": [
          1.06,
          1,
          1.05,
          0.9,
          1.41,
          0.94,
          1,
          1.04,
          1.33,
          1.17,
          1.94,
          0.53
         ],
         "yaxis": "y3"
        },
        {
         "hovertemplate": "player=Karma<br>year=2017<br>hill time (s)=%{x}<br>k/d=%{y}<extra></extra>",
         "legendgroup": "Karma",
         "marker": {
          "color": "#FFA15A",
          "symbol": "circle"
         },
         "mode": "markers",
         "name": "Karma",
         "showlegend": true,
         "type": "scattergl",
         "x": [
          24,
          84,
          74,
          96,
          34,
          94,
          58,
          65,
          91,
          49,
          43,
          44,
          78,
          104
         ],
         "xaxis": "x",
         "y": [
          0.81,
          1.14,
          1.05,
          1.63,
          0.95,
          0.67,
          1,
          1.33,
          0.83,
          1.4,
          1.67,
          1.15,
          1.19,
          1.58
         ],
         "yaxis": "y"
        },
        {
         "hovertemplate": "player=Karma<br>year=2019<br>hill time (s)=%{x}<br>k/d=%{y}<extra></extra>",
         "legendgroup": "Karma",
         "marker": {
          "color": "#FFA15A",
          "symbol": "circle"
         },
         "mode": "markers",
         "name": "Karma",
         "showlegend": false,
         "type": "scattergl",
         "x": [
          67,
          127,
          68,
          130,
          79,
          77,
          111,
          63,
          25,
          80,
          72,
          79,
          72,
          11,
          83
         ],
         "xaxis": "x3",
         "y": [
          1.33,
          1.43,
          0.59,
          1.21,
          0.91,
          0.68,
          1.19,
          1.13,
          0.62,
          0.42,
          1.26,
          0.57,
          0.64,
          0.35,
          0.79
         ],
         "yaxis": "y3"
        },
        {
         "hovertemplate": "player=Scump<br>year=2017<br>hill time (s)=%{x}<br>k/d=%{y}<extra></extra>",
         "legendgroup": "Scump",
         "marker": {
          "color": "#19d3f3",
          "symbol": "circle"
         },
         "mode": "markers",
         "name": "Scump",
         "showlegend": true,
         "type": "scattergl",
         "x": [
          79,
          76,
          109,
          21,
          61,
          66,
          93,
          48,
          99,
          24,
          58,
          61,
          44,
          63
         ],
         "xaxis": "x",
         "y": [
          2.4,
          1.15,
          1.57,
          0.44,
          2,
          1.25,
          1.32,
          1.36,
          1.67,
          0.48,
          1.05,
          1,
          0.86,
          0.81
         ],
         "yaxis": "y"
        },
        {
         "hovertemplate": "player=Scump<br>year=2018<br>hill time (s)=%{x}<br>k/d=%{y}<extra></extra>",
         "legendgroup": "Scump",
         "marker": {
          "color": "#19d3f3",
          "symbol": "circle"
         },
         "mode": "markers",
         "name": "Scump",
         "showlegend": false,
         "type": "scattergl",
         "x": [
          61,
          55,
          110,
          23
         ],
         "xaxis": "x2",
         "y": [
          1.04,
          1.09,
          1.35,
          0.55
         ],
         "yaxis": "y2"
        },
        {
         "hovertemplate": "player=Scump<br>year=2019<br>hill time (s)=%{x}<br>k/d=%{y}<extra></extra>",
         "legendgroup": "Scump",
         "marker": {
          "color": "#19d3f3",
          "symbol": "circle"
         },
         "mode": "markers",
         "name": "Scump",
         "showlegend": false,
         "type": "scattergl",
         "x": [
          61,
          38,
          54,
          47,
          64,
          74,
          80,
          71,
          45,
          40,
          51,
          38,
          94,
          30,
          79
         ],
         "xaxis": "x3",
         "y": [
          1,
          0.93,
          1.03,
          1.06,
          1.3,
          1.53,
          1.62,
          2,
          2.18,
          1.4,
          0.87,
          1.17,
          1.58,
          1.14,
          1.18
         ],
         "yaxis": "y3"
        },
        {
         "hovertemplate": "player=Hopey<br>year=2017<br>hill time (s)=%{x}<br>k/d=%{y}<extra></extra>",
         "legendgroup": "Hopey",
         "marker": {
          "color": "#FF6692",
          "symbol": "circle"
         },
         "mode": "markers",
         "name": "Hopey",
         "showlegend": true,
         "type": "scattergl",
         "x": [
          24,
          14,
          55,
          80,
          48,
          9,
          5,
          70
         ],
         "xaxis": "x",
         "y": [
          0.81,
          0.57,
          1,
          1.36,
          0.81,
          0.83,
          0.48,
          0.45
         ],
         "yaxis": "y"
        },
        {
         "hovertemplate": "player=Setzyy<br>year=2017<br>hill time (s)=%{x}<br>k/d=%{y}<extra></extra>",
         "legendgroup": "Setzyy",
         "marker": {
          "color": "#B6E880",
          "symbol": "circle"
         },
         "mode": "markers",
         "name": "Setzyy",
         "showlegend": true,
         "type": "scattergl",
         "x": [
          66,
          34,
          78,
          46,
          78,
          4,
          3,
          58
         ],
         "xaxis": "x",
         "y": [
          0.73,
          0.44,
          1.36,
          1.12,
          0.86,
          0.57,
          0.61,
          1.22
         ],
         "yaxis": "y"
        },
        {
         "hovertemplate": "player=Swiftazor<br>year=2017<br>hill time (s)=%{x}<br>k/d=%{y}<extra></extra>",
         "legendgroup": "Swiftazor",
         "marker": {
          "color": "#FF97FF",
          "symbol": "circle"
         },
         "mode": "markers",
         "name": "Swiftazor",
         "showlegend": true,
         "type": "scattergl",
         "x": [
          63,
          97,
          81,
          47,
          113,
          149,
          64,
          108
         ],
         "xaxis": "x",
         "y": [
          0.64,
          1.14,
          1.53,
          0.89,
          0.95,
          3.4,
          0.68,
          0.88
         ],
         "yaxis": "y"
        },
        {
         "hovertemplate": "player=Swiftazor<br>year=2018<br>hill time (s)=%{x}<br>k/d=%{y}<extra></extra>",
         "legendgroup": "Swiftazor",
         "marker": {
          "color": "#FF97FF",
          "symbol": "circle"
         },
         "mode": "markers",
         "name": "Swiftazor",
         "showlegend": false,
         "type": "scattergl",
         "x": [
          52,
          95,
          89,
          49,
          54,
          89
         ],
         "xaxis": "x2",
         "y": [
          1.07,
          1.1,
          1.26,
          1,
          1.07,
          1.2
         ],
         "yaxis": "y2"
        },
        {
         "hovertemplate": "player=Zepa<br>year=2017<br>hill time (s)=%{x}<br>k/d=%{y}<extra></extra>",
         "legendgroup": "Zepa",
         "marker": {
          "color": "#FECB52",
          "symbol": "circle"
         },
         "mode": "markers",
         "name": "Zepa",
         "showlegend": true,
         "type": "scattergl",
         "x": [
          101,
          38,
          112,
          102,
          117,
          76,
          84,
          51
         ],
         "xaxis": "x",
         "y": [
          0.83,
          0.77,
          1.18,
          1,
          1.21,
          1.67,
          0.9,
          0.86
         ],
         "yaxis": "y"
        },
        {
         "hovertemplate": "player=Apathy<br>year=2017<br>hill time (s)=%{x}<br>k/d=%{y}<extra></extra>",
         "legendgroup": "Apathy",
         "marker": {
          "color": "#636efa",
          "symbol": "circle"
         },
         "mode": "markers",
         "name": "Apathy",
         "showlegend": true,
         "type": "scattergl",
         "x": [
          71,
          83,
          54,
          39,
          27,
          74,
          86,
          24,
          153,
          58,
          47,
          48,
          14,
          79
         ],
         "xaxis": "x",
         "y": [
          1.35,
          1.83,
          1.83,
          1.05,
          0.78,
          1.12,
          0.91,
          0.62,
          1.85,
          0.97,
          1.59,
          0.71,
          0.92,
          1.1
         ],
         "yaxis": "y"
        },
        {
         "hovertemplate": "player=Apathy<br>year=2018<br>hill time (s)=%{x}<br>k/d=%{y}<extra></extra>",
         "legendgroup": "Apathy",
         "marker": {
          "color": "#636efa",
          "symbol": "circle"
         },
         "mode": "markers",
         "name": "Apathy",
         "showlegend": false,
         "type": "scattergl",
         "x": [
          21,
          50,
          62,
          35,
          138,
          38,
          96,
          61,
          49,
          115,
          49,
          145,
          60,
          68
         ],
         "xaxis": "x2",
         "y": [
          1.41,
          1.6,
          0.85,
          0.68,
          1.83,
          1.42,
          1.31,
          0.83,
          1.08,
          1.5,
          1.24,
          1.1,
          0.84,
          0.78
         ],
         "yaxis": "y2"
        },
        {
         "hovertemplate": "player=Apathy<br>year=2019<br>hill time (s)=%{x}<br>k/d=%{y}<extra></extra>",
         "legendgroup": "Apathy",
         "marker": {
          "color": "#636efa",
          "symbol": "circle"
         },
         "mode": "markers",
         "name": "Apathy",
         "showlegend": false,
         "type": "scattergl",
         "x": [
          84,
          46,
          34,
          87,
          51,
          43,
          66,
          89,
          77,
          52,
          34
         ],
         "xaxis": "x3",
         "y": [
          2.36,
          1.31,
          1.33,
          1.09,
          0.54,
          1.12,
          1.14,
          1.21,
          1.89,
          0.65,
          1.1
         ],
         "yaxis": "y3"
        },
        {
         "hovertemplate": "player=JKap<br>year=2017<br>hill time (s)=%{x}<br>k/d=%{y}<extra></extra>",
         "legendgroup": "JKap",
         "marker": {
          "color": "#EF553B",
          "symbol": "circle"
         },
         "mode": "markers",
         "name": "JKap",
         "showlegend": true,
         "type": "scattergl",
         "x": [
          91,
          104,
          43,
          75,
          114,
          146,
          81,
          41,
          26,
          55,
          101,
          65,
          65,
          75
         ],
         "xaxis": "x",
         "y": [
          0.62,
          1.17,
          1.36,
          1.1,
          0.74,
          1,
          0.81,
          0.61,
          1.15,
          0.54,
          0.74,
          1.25,
          0.52,
          0.57
         ],
         "yaxis": "y"
        },
        {
         "hovertemplate": "player=JKap<br>year=2018<br>hill time (s)=%{x}<br>k/d=%{y}<extra></extra>",
         "legendgroup": "JKap",
         "marker": {
          "color": "#EF553B",
          "symbol": "circle"
         },
         "mode": "markers",
         "name": "JKap",
         "showlegend": false,
         "type": "scattergl",
         "x": [
          107,
          55,
          62,
          63,
          7,
          72,
          43,
          101,
          65,
          31,
          63
         ],
         "xaxis": "x2",
         "y": [
          1.31,
          1.94,
          1.32,
          0.72,
          0.43,
          0.92,
          0.83,
          0.91,
          1.32,
          1.03,
          0.68
         ],
         "yaxis": "y2"
        },
        {
         "hovertemplate": "player=JKap<br>year=2019<br>hill time (s)=%{x}<br>k/d=%{y}<extra></extra>",
         "legendgroup": "JKap",
         "marker": {
          "color": "#EF553B",
          "symbol": "circle"
         },
         "mode": "markers",
         "name": "JKap",
         "showlegend": false,
         "type": "scattergl",
         "x": [
          45,
          57,
          63,
          79,
          38,
          92,
          42,
          26,
          31,
          37,
          38
         ],
         "xaxis": "x3",
         "y": [
          1.31,
          2.5,
          1.17,
          0.92,
          0.91,
          0.82,
          0.86,
          0.74,
          0.78,
          0.84,
          0.67
         ],
         "yaxis": "y3"
        },
        {
         "hovertemplate": "player=John<br>year=2017<br>hill time (s)=%{x}<br>k/d=%{y}<extra></extra>",
         "legendgroup": "John",
         "marker": {
          "color": "#00cc96",
          "symbol": "circle"
         },
         "mode": "markers",
         "name": "John",
         "showlegend": true,
         "type": "scattergl",
         "x": [
          41,
          66,
          54,
          84,
          16,
          33,
          101,
          21,
          48,
          43,
          85,
          20,
          41,
          25
         ],
         "xaxis": "x",
         "y": [
          2.07,
          1.2,
          1.73,
          1,
          1,
          1.33,
          1.19,
          0.83,
          1.45,
          0.76,
          0.71,
          0.9,
          0.7,
          0.93
         ],
         "yaxis": "y"
        },
        {
         "hovertemplate": "player=John<br>year=2018<br>hill time (s)=%{x}<br>k/d=%{y}<extra></extra>",
         "legendgroup": "John",
         "marker": {
          "color": "#00cc96",
          "symbol": "circle"
         },
         "mode": "markers",
         "name": "John",
         "showlegend": false,
         "type": "scattergl",
         "x": [
          27,
          39,
          107,
          53,
          23,
          57,
          21,
          59,
          57,
          57,
          22
         ],
         "xaxis": "x2",
         "y": [
          1.42,
          1.29,
          1.18,
          0.7,
          0.73,
          1.03,
          1.31,
          1.07,
          0.67,
          0.76,
          0.86
         ],
         "yaxis": "y2"
        },
        {
         "hovertemplate": "player=John<br>year=2019<br>hill time (s)=%{x}<br>k/d=%{y}<extra></extra>",
         "legendgroup": "John",
         "marker": {
          "color": "#00cc96",
          "symbol": "circle"
         },
         "mode": "markers",
         "name": "John",
         "showlegend": false,
         "type": "scattergl",
         "x": [
          13,
          46,
          48,
          52,
          41,
          69,
          33,
          38,
          55,
          19,
          85,
          8
         ],
         "xaxis": "x3",
         "y": [
          0.95,
          1.14,
          0.63,
          1.23,
          0.95,
          1.4,
          1,
          0.75,
          0.71,
          1.41,
          0.94,
          0.59
         ],
         "yaxis": "y3"
        },
        {
         "hovertemplate": "player=Slasher<br>year=2017<br>hill time (s)=%{x}<br>k/d=%{y}<extra></extra>",
         "legendgroup": "Slasher",
         "marker": {
          "color": "#ab63fa",
          "symbol": "circle"
         },
         "mode": "markers",
         "name": "Slasher",
         "showlegend": true,
         "type": "scattergl",
         "x": [
          75,
          75,
          146,
          99,
          69,
          34,
          83,
          32,
          48,
          66,
          107,
          14,
          131,
          31
         ],
         "xaxis": "x",
         "y": [
          1.5,
          1.44,
          1.62,
          2,
          1.24,
          1.4,
          1.59,
          0.61,
          0.95,
          1.31,
          2.36,
          0.9,
          1.42,
          0.94
         ],
         "yaxis": "y"
        },
        {
         "hovertemplate": "player=Slasher<br>year=2018<br>hill time (s)=%{x}<br>k/d=%{y}<extra></extra>",
         "legendgroup": "Slasher",
         "marker": {
          "color": "#ab63fa",
          "symbol": "circle"
         },
         "mode": "markers",
         "name": "Slasher",
         "showlegend": false,
         "type": "scattergl",
         "x": [
          92,
          60,
          98,
          48,
          41,
          93,
          23,
          47,
          59
         ],
         "xaxis": "x2",
         "y": [
          1.2,
          1.11,
          2.07,
          1,
          1.23,
          0.77,
          1,
          1.76,
          1.17
         ],
         "yaxis": "y2"
        },
        {
         "hovertemplate": "player=Slasher<br>year=2019<br>hill time (s)=%{x}<br>k/d=%{y}<extra></extra>",
         "legendgroup": "Slasher",
         "marker": {
          "color": "#ab63fa",
          "symbol": "circle"
         },
         "mode": "markers",
         "name": "Slasher",
         "showlegend": false,
         "type": "scattergl",
         "x": [
          68,
          51,
          80,
          46,
          119,
          43,
          52,
          66,
          75,
          65,
          94,
          69,
          48,
          140,
          67,
          65,
          43,
          23
         ],
         "xaxis": "x3",
         "y": [
          1.05,
          1,
          1.24,
          0.95,
          0.78,
          1.2,
          0.78,
          0.8,
          1.04,
          1.04,
          1.09,
          1.52,
          0.94,
          2.56,
          0.72,
          1.5,
          1.05,
          0.91
         ],
         "yaxis": "y3"
        },
        {
         "hovertemplate": "player=Desire<br>year=2017<br>hill time (s)=%{x}<br>k/d=%{y}<extra></extra>",
         "legendgroup": "Desire",
         "marker": {
          "color": "#FFA15A",
          "symbol": "circle"
         },
         "mode": "markers",
         "name": "Desire",
         "showlegend": true,
         "type": "scattergl",
         "x": [
          51,
          127,
          37,
          89,
          6
         ],
         "xaxis": "x",
         "y": [
          1.14,
          1.22,
          0.67,
          0.8,
          0.7
         ],
         "yaxis": "y"
        },
        {
         "hovertemplate": "player=Reedy<br>year=2017<br>hill time (s)=%{x}<br>k/d=%{y}<extra></extra>",
         "legendgroup": "Reedy",
         "marker": {
          "color": "#19d3f3",
          "symbol": "circle"
         },
         "mode": "markers",
         "name": "Reedy",
         "showlegend": true,
         "type": "scattergl",
         "x": [
          89,
          76,
          13,
          85,
          26
         ],
         "xaxis": "x",
         "y": [
          1.81,
          0.88,
          0.47,
          1.15,
          0.6
         ],
         "yaxis": "y"
        },
        {
         "hovertemplate": "player=Reedy<br>year=2018<br>hill time (s)=%{x}<br>k/d=%{y}<extra></extra>",
         "legendgroup": "Reedy",
         "marker": {
          "color": "#19d3f3",
          "symbol": "circle"
         },
         "mode": "markers",
         "name": "Reedy",
         "showlegend": false,
         "type": "scattergl",
         "x": [
          59,
          19,
          65,
          8,
          40
         ],
         "xaxis": "x2",
         "y": [
          0.68,
          0.7,
          0.9,
          0.79,
          0.92
         ],
         "yaxis": "y2"
        },
        {
         "hovertemplate": "player=Watson<br>year=2017<br>hill time (s)=%{x}<br>k/d=%{y}<extra></extra>",
         "legendgroup": "Watson",
         "marker": {
          "color": "#FF6692",
          "symbol": "circle"
         },
         "mode": "markers",
         "name": "Watson",
         "showlegend": true,
         "type": "scattergl",
         "x": [
          19,
          70,
          10,
          44,
          35
         ],
         "xaxis": "x",
         "y": [
          1.42,
          1.15,
          0.61,
          1.14,
          1.29
         ],
         "yaxis": "y"
        },
        {
         "hovertemplate": "player=Zed<br>year=2017<br>hill time (s)=%{x}<br>k/d=%{y}<extra></extra>",
         "legendgroup": "Zed",
         "marker": {
          "color": "#B6E880",
          "symbol": "circle"
         },
         "mode": "markers",
         "name": "Zed",
         "showlegend": true,
         "type": "scattergl",
         "x": [
          138,
          52,
          57,
          71,
          0
         ],
         "xaxis": "x",
         "y": [
          1.21,
          1.42,
          0.71,
          1.14,
          0.22
         ],
         "yaxis": "y"
        },
        {
         "hovertemplate": "player=Zed<br>year=2018<br>hill time (s)=%{x}<br>k/d=%{y}<extra></extra>",
         "legendgroup": "Zed",
         "marker": {
          "color": "#B6E880",
          "symbol": "circle"
         },
         "mode": "markers",
         "name": "Zed",
         "showlegend": false,
         "type": "scattergl",
         "x": [
          46,
          109,
          68,
          104,
          70,
          73,
          12
         ],
         "xaxis": "x2",
         "y": [
          1.33,
          1.25,
          0.88,
          1.38,
          1.41,
          1.23,
          0.65
         ],
         "yaxis": "y2"
        },
        {
         "hovertemplate": "player=Zed<br>year=2019<br>hill time (s)=%{x}<br>k/d=%{y}<extra></extra>",
         "legendgroup": "Zed",
         "marker": {
          "color": "#B6E880",
          "symbol": "circle"
         },
         "mode": "markers",
         "name": "Zed",
         "showlegend": false,
         "type": "scattergl",
         "x": [
          73,
          102,
          65,
          108,
          65,
          96,
          53,
          113,
          50,
          57,
          73,
          23
         ],
         "xaxis": "x3",
         "y": [
          1.44,
          1.22,
          0.86,
          1.26,
          1.12,
          1.53,
          0.89,
          0.94,
          0.78,
          0.74,
          0.7,
          0.69
         ],
         "yaxis": "y3"
        },
        {
         "hovertemplate": "player=Fastballa<br>year=2017<br>hill time (s)=%{x}<br>k/d=%{y}<extra></extra>",
         "legendgroup": "Fastballa",
         "marker": {
          "color": "#FF97FF",
          "symbol": "circle"
         },
         "mode": "markers",
         "name": "Fastballa",
         "showlegend": true,
         "type": "scattergl",
         "x": [
          21,
          68,
          46,
          63,
          47
         ],
         "xaxis": "x",
         "y": [
          0.88,
          0.56,
          0.75,
          1.04,
          1
         ],
         "yaxis": "y"
        },
        {
         "hovertemplate": "player=Fastballa<br>year=2018<br>hill time (s)=%{x}<br>k/d=%{y}<extra></extra>",
         "legendgroup": "Fastballa",
         "marker": {
          "color": "#FF97FF",
          "symbol": "circle"
         },
         "mode": "markers",
         "name": "Fastballa",
         "showlegend": false,
         "type": "scattergl",
         "x": [
          60,
          64,
          42
         ],
         "xaxis": "x2",
         "y": [
          1.14,
          0.73,
          0.39
         ],
         "yaxis": "y2"
        },
        {
         "hovertemplate": "player=Fastballa<br>year=2019<br>hill time (s)=%{x}<br>k/d=%{y}<extra></extra>",
         "legendgroup": "Fastballa",
         "marker": {
          "color": "#FF97FF",
          "symbol": "circle"
         },
         "mode": "markers",
         "name": "Fastballa",
         "showlegend": false,
         "type": "scattergl",
         "x": [
          37,
          45,
          41,
          42
         ],
         "xaxis": "x3",
         "y": [
          0.71,
          1.17,
          1,
          0.88
         ],
         "yaxis": "y3"
        },
        {
         "hovertemplate": "player=Glory<br>year=2017<br>hill time (s)=%{x}<br>k/d=%{y}<extra></extra>",
         "legendgroup": "Glory",
         "marker": {
          "color": "#FECB52",
          "symbol": "circle"
         },
         "mode": "markers",
         "name": "Glory",
         "showlegend": true,
         "type": "scattergl",
         "x": [
          71,
          73,
          60,
          37,
          48
         ],
         "xaxis": "x",
         "y": [
          0.85,
          1.24,
          0.78,
          0.85,
          0.85
         ],
         "yaxis": "y"
        },
        {
         "hovertemplate": "player=Glory<br>year=2019<br>hill time (s)=%{x}<br>k/d=%{y}<extra></extra>",
         "legendgroup": "Glory",
         "marker": {
          "color": "#FECB52",
          "symbol": "circle"
         },
         "mode": "markers",
         "name": "Glory",
         "showlegend": false,
         "type": "scattergl",
         "x": [
          9,
          29,
          53,
          82,
          24,
          73
         ],
         "xaxis": "x3",
         "y": [
          0.56,
          0.63,
          0.62,
          0.64,
          0.55,
          0.8
         ],
         "yaxis": "y3"
        },
        {
         "hovertemplate": "player=Profeezy<br>year=2017<br>hill time (s)=%{x}<br>k/d=%{y}<extra></extra>",
         "legendgroup": "Profeezy",
         "marker": {
          "color": "#636efa",
          "symbol": "circle"
         },
         "mode": "markers",
         "name": "Profeezy",
         "showlegend": true,
         "type": "scattergl",
         "x": [
          63,
          98,
          82,
          48,
          46
         ],
         "xaxis": "x",
         "y": [
          0.62,
          0.74,
          1,
          0.8,
          0.62
         ],
         "yaxis": "y"
        },
        {
         "hovertemplate": "player=Profeezy<br>year=2019<br>hill time (s)=%{x}<br>k/d=%{y}<extra></extra>",
         "legendgroup": "Profeezy",
         "marker": {
          "color": "#636efa",
          "symbol": "circle"
         },
         "mode": "markers",
         "name": "Profeezy",
         "showlegend": false,
         "type": "scattergl",
         "x": [
          56,
          70,
          105,
          79,
          110,
          47,
          59,
          107,
          30,
          127
         ],
         "xaxis": "x3",
         "y": [
          0.79,
          1.61,
          1.47,
          1.09,
          1.24,
          0.91,
          0.65,
          1.3,
          1.18,
          1.21
         ],
         "yaxis": "y3"
        },
        {
         "hovertemplate": "player=Prophet<br>year=2017<br>hill time (s)=%{x}<br>k/d=%{y}<extra></extra>",
         "legendgroup": "Prophet",
         "marker": {
          "color": "#EF553B",
          "symbol": "circle"
         },
         "mode": "markers",
         "name": "Prophet",
         "showlegend": true,
         "type": "scattergl",
         "x": [
          88,
          108,
          55,
          40,
          51
         ],
         "xaxis": "x",
         "y": [
          0.54,
          0.94,
          0.68,
          1.04,
          0.75
         ],
         "yaxis": "y"
        },
        {
         "hovertemplate": "player=Classic<br>year=2017<br>hill time (s)=%{x}<br>k/d=%{y}<extra></extra>",
         "legendgroup": "Classic",
         "marker": {
          "color": "#00cc96",
          "symbol": "circle"
         },
         "mode": "markers",
         "name": "Classic",
         "showlegend": true,
         "type": "scattergl",
         "x": [
          64,
          21,
          22,
          72,
          81,
          67,
          48,
          30,
          19,
          94,
          44,
          86,
          50,
          50
         ],
         "xaxis": "x",
         "y": [
          1.83,
          1,
          1,
          1.25,
          1.3,
          0.85,
          1.47,
          1.21,
          1.33,
          0.94,
          1.04,
          0.83,
          1.04,
          1.05
         ],
         "yaxis": "y"
        },
        {
         "hovertemplate": "player=Classic<br>year=2018<br>hill time (s)=%{x}<br>k/d=%{y}<extra></extra>",
         "legendgroup": "Classic",
         "marker": {
          "color": "#00cc96",
          "symbol": "circle"
         },
         "mode": "markers",
         "name": "Classic",
         "showlegend": false,
         "type": "scattergl",
         "x": [
          79,
          41,
          14,
          17,
          50,
          64,
          17,
          39,
          25,
          22,
          81
         ],
         "xaxis": "x2",
         "y": [
          1.62,
          0.72,
          0.93,
          0.7,
          1,
          0.65,
          1.15,
          1.21,
          0.73,
          0.83,
          0.82
         ],
         "yaxis": "y2"
        },
        {
         "hovertemplate": "player=Classic<br>year=2019<br>hill time (s)=%{x}<br>k/d=%{y}<extra></extra>",
         "legendgroup": "Classic",
         "marker": {
          "color": "#00cc96",
          "symbol": "circle"
         },
         "mode": "markers",
         "name": "Classic",
         "showlegend": false,
         "type": "scattergl",
         "x": [
          50,
          13,
          123,
          60,
          87
         ],
         "xaxis": "x3",
         "y": [
          0.61,
          0.81,
          0.75,
          0.65,
          1.53
         ],
         "yaxis": "y3"
        },
        {
         "hovertemplate": "player=Octane<br>year=2017<br>hill time (s)=%{x}<br>k/d=%{y}<extra></extra>",
         "legendgroup": "Octane",
         "marker": {
          "color": "#ab63fa",
          "symbol": "circle"
         },
         "mode": "markers",
         "name": "Octane",
         "showlegend": true,
         "type": "scattergl",
         "x": [
          122,
          113,
          46,
          82,
          74,
          27,
          129,
          46,
          99,
          58,
          110,
          53,
          129,
          37
         ],
         "xaxis": "x",
         "y": [
          1.33,
          1.26,
          1.47,
          1.61,
          1.1,
          1.08,
          1,
          1.18,
          1.77,
          0.75,
          1.08,
          1.13,
          1.42,
          0.52
         ],
         "yaxis": "y"
        },
        {
         "hovertemplate": "player=Octane<br>year=2018<br>hill time (s)=%{x}<br>k/d=%{y}<extra></extra>",
         "legendgroup": "Octane",
         "marker": {
          "color": "#ab63fa",
          "symbol": "circle"
         },
         "mode": "markers",
         "name": "Octane",
         "showlegend": false,
         "type": "scattergl",
         "x": [
          104,
          126,
          107,
          78
         ],
         "xaxis": "x2",
         "y": [
          0.87,
          2.15,
          1.42,
          1.24
         ],
         "yaxis": "y2"
        },
        {
         "hovertemplate": "player=Octane<br>year=2019<br>hill time (s)=%{x}<br>k/d=%{y}<extra></extra>",
         "legendgroup": "Octane",
         "marker": {
          "color": "#ab63fa",
          "symbol": "circle"
         },
         "mode": "markers",
         "name": "Octane",
         "showlegend": false,
         "type": "scattergl",
         "x": [
          76,
          94,
          112,
          181,
          138,
          85,
          124,
          62,
          108,
          77,
          76,
          91,
          132,
          116,
          82,
          137,
          55,
          99
         ],
         "xaxis": "x3",
         "y": [
          1.32,
          3,
          1.07,
          0.7,
          1.82,
          0.94,
          1.78,
          1.08,
          1.2,
          1.09,
          1.54,
          1.24,
          2,
          2.67,
          1.43,
          1.11,
          1.47,
          1.26
         ],
         "yaxis": "y3"
        },
        {
         "hovertemplate": "player=Saints<br>year=2017<br>hill time (s)=%{x}<br>k/d=%{y}<extra></extra>",
         "legendgroup": "Saints",
         "marker": {
          "color": "#FFA15A",
          "symbol": "circle"
         },
         "mode": "markers",
         "name": "Saints",
         "showlegend": true,
         "type": "scattergl",
         "x": [
          87,
          95,
          119,
          94,
          85,
          52,
          31,
          88,
          75,
          118,
          79,
          54,
          88,
          32
         ],
         "xaxis": "x",
         "y": [
          1.12,
          1.2,
          1.22,
          0.83,
          1.32,
          0.72,
          1.54,
          1.25,
          1.14,
          1.27,
          1.45,
          1.36,
          0.84,
          0.71
         ],
         "yaxis": "y"
        },
        {
         "hovertemplate": "player=Saints<br>year=2018<br>hill time (s)=%{x}<br>k/d=%{y}<extra></extra>",
         "legendgroup": "Saints",
         "marker": {
          "color": "#FFA15A",
          "symbol": "circle"
         },
         "mode": "markers",
         "name": "Saints",
         "showlegend": false,
         "type": "scattergl",
         "x": [
          54,
          124,
          22,
          0
         ],
         "xaxis": "x2",
         "y": [
          0.74,
          1.25,
          1,
          0.96
         ],
         "yaxis": "y2"
        },
        {
         "hovertemplate": "player=Saints<br>year=2019<br>hill time (s)=%{x}<br>k/d=%{y}<extra></extra>",
         "legendgroup": "Saints",
         "marker": {
          "color": "#FFA15A",
          "symbol": "circle"
         },
         "mode": "markers",
         "name": "Saints",
         "showlegend": false,
         "type": "scattergl",
         "x": [
          86,
          43,
          44,
          42,
          74
         ],
         "xaxis": "x3",
         "y": [
          1.15,
          1.12,
          0.84,
          0.5,
          3
         ],
         "yaxis": "y3"
        },
        {
         "hovertemplate": "player=Slacked<br>year=2017<br>hill time (s)=%{x}<br>k/d=%{y}<extra></extra>",
         "legendgroup": "Slacked",
         "marker": {
          "color": "#19d3f3",
          "symbol": "circle"
         },
         "mode": "markers",
         "name": "Slacked",
         "showlegend": true,
         "type": "scattergl",
         "x": [
          86,
          88,
          105,
          90,
          57,
          38,
          105,
          115,
          103,
          75,
          49,
          85,
          79,
          23
         ],
         "xaxis": "x",
         "y": [
          1.27,
          0.54,
          1.16,
          0.86,
          0.83,
          0.86,
          2.44,
          0.96,
          1.42,
          1.77,
          0.91,
          2,
          0.9,
          0.73
         ],
         "yaxis": "y"
        },
        {
         "hovertemplate": "player=Slacked<br>year=2018<br>hill time (s)=%{x}<br>k/d=%{y}<extra></extra>",
         "legendgroup": "Slacked",
         "marker": {
          "color": "#19d3f3",
          "symbol": "circle"
         },
         "mode": "markers",
         "name": "Slacked",
         "showlegend": false,
         "type": "scattergl",
         "x": [
          39,
          95,
          32,
          72,
          4,
          43,
          74,
          77,
          72,
          54,
          40
         ],
         "xaxis": "x2",
         "y": [
          1.41,
          1.32,
          1.55,
          0.54,
          1,
          0.81,
          1.15,
          1.35,
          1.5,
          1.19,
          1.03
         ],
         "yaxis": "y2"
        },
        {
         "hovertemplate": "player=Slacked<br>year=2019<br>hill time (s)=%{x}<br>k/d=%{y}<extra></extra>",
         "legendgroup": "Slacked",
         "marker": {
          "color": "#19d3f3",
          "symbol": "circle"
         },
         "mode": "markers",
         "name": "Slacked",
         "showlegend": false,
         "type": "scattergl",
         "x": [
          39,
          85,
          71,
          52,
          61,
          79,
          52,
          59,
          46,
          86,
          87,
          51
         ],
         "xaxis": "x3",
         "y": [
          0.63,
          1.13,
          1.44,
          1.75,
          1.16,
          1.27,
          1.53,
          0.54,
          0.96,
          0.88,
          1,
          0.89
         ],
         "yaxis": "y3"
        },
        {
         "hovertemplate": "player=Eazy<br>year=2017<br>hill time (s)=%{x}<br>k/d=%{y}<extra></extra>",
         "legendgroup": "Eazy",
         "marker": {
          "color": "#FF6692",
          "symbol": "circle"
         },
         "mode": "markers",
         "name": "Eazy",
         "showlegend": true,
         "type": "scattergl",
         "x": [
          25,
          46,
          16,
          47
         ],
         "xaxis": "x",
         "y": [
          0.79,
          0.89,
          0.79,
          0.71
         ],
         "yaxis": "y"
        },
        {
         "hovertemplate": "player=Eazy<br>year=2018<br>hill time (s)=%{x}<br>k/d=%{y}<extra></extra>",
         "legendgroup": "Eazy",
         "marker": {
          "color": "#FF6692",
          "symbol": "circle"
         },
         "mode": "markers",
         "name": "Eazy",
         "showlegend": false,
         "type": "scattergl",
         "x": [
          31,
          56,
          44,
          51
         ],
         "xaxis": "x2",
         "y": [
          0.65,
          0.67,
          0.71,
          0.95
         ],
         "yaxis": "y2"
        },
        {
         "hovertemplate": "player=Malls<br>year=2017<br>hill time (s)=%{x}<br>k/d=%{y}<extra></extra>",
         "legendgroup": "Malls",
         "marker": {
          "color": "#B6E880",
          "symbol": "circle"
         },
         "mode": "markers",
         "name": "Malls",
         "showlegend": true,
         "type": "scattergl",
         "x": [
          24,
          107,
          3,
          17
         ],
         "xaxis": "x",
         "y": [
          0.55,
          2.17,
          1.21,
          0.9
         ],
         "yaxis": "y"
        },
        {
         "hovertemplate": "player=Malls<br>year=2018<br>hill time (s)=%{x}<br>k/d=%{y}<extra></extra>",
         "legendgroup": "Malls",
         "marker": {
          "color": "#B6E880",
          "symbol": "circle"
         },
         "mode": "markers",
         "name": "Malls",
         "showlegend": false,
         "type": "scattergl",
         "x": [
          34,
          13,
          31,
          40
         ],
         "xaxis": "x2",
         "y": [
          0.92,
          0.92,
          0.84,
          0.64
         ],
         "yaxis": "y2"
        },
        {
         "hovertemplate": "player=SyVortex<br>year=2017<br>hill time (s)=%{x}<br>k/d=%{y}<extra></extra>",
         "legendgroup": "SyVortex",
         "marker": {
          "color": "#FF97FF",
          "symbol": "circle"
         },
         "mode": "markers",
         "name": "SyVortex",
         "showlegend": true,
         "type": "scattergl",
         "x": [
          37,
          98,
          94,
          95
         ],
         "xaxis": "x",
         "y": [
          1,
          1.8,
          0.52,
          0.82
         ],
         "yaxis": "y"
        },
        {
         "hovertemplate": "player=TonyJs<br>year=2017<br>hill time (s)=%{x}<br>k/d=%{y}<extra></extra>",
         "legendgroup": "TonyJs",
         "marker": {
          "color": "#FECB52",
          "symbol": "circle"
         },
         "mode": "markers",
         "name": "TonyJs",
         "showlegend": true,
         "type": "scattergl",
         "x": [
          50,
          90,
          44,
          6
         ],
         "xaxis": "x",
         "y": [
          0.59,
          0.93,
          0.83,
          0.74
         ],
         "yaxis": "y"
        },
        {
         "hovertemplate": "player=TonyJs<br>year=2018<br>hill time (s)=%{x}<br>k/d=%{y}<extra></extra>",
         "legendgroup": "TonyJs",
         "marker": {
          "color": "#FECB52",
          "symbol": "circle"
         },
         "mode": "markers",
         "name": "TonyJs",
         "showlegend": false,
         "type": "scattergl",
         "x": [
          49,
          99,
          67,
          41
         ],
         "xaxis": "x2",
         "y": [
          0.6,
          0.95,
          0.79,
          0.78
         ],
         "yaxis": "y2"
        },
        {
         "hovertemplate": "player=Arcitys<br>year=2017<br>hill time (s)=%{x}<br>k/d=%{y}<extra></extra>",
         "legendgroup": "Arcitys",
         "marker": {
          "color": "#636efa",
          "symbol": "circle"
         },
         "mode": "markers",
         "name": "Arcitys",
         "showlegend": true,
         "type": "scattergl",
         "x": [
          103,
          67,
          95,
          85,
          60,
          172,
          46,
          73,
          36,
          53
         ],
         "xaxis": "x",
         "y": [
          1.33,
          0.79,
          1.41,
          0.96,
          1.48,
          1,
          1.5,
          2.4,
          0.6,
          1.25
         ],
         "yaxis": "y"
        },
        {
         "hovertemplate": "player=Arcitys<br>year=2018<br>hill time (s)=%{x}<br>k/d=%{y}<extra></extra>",
         "legendgroup": "Arcitys",
         "marker": {
          "color": "#636efa",
          "symbol": "circle"
         },
         "mode": "markers",
         "name": "Arcitys",
         "showlegend": false,
         "type": "scattergl",
         "x": [
          66,
          63,
          52,
          66,
          88,
          67,
          55,
          13,
          116,
          97,
          93,
          98
         ],
         "xaxis": "x2",
         "y": [
          0.84,
          0.96,
          1.19,
          1.03,
          1.04,
          2.06,
          0.74,
          0.82,
          1.16,
          1.03,
          1.6,
          1.05
         ],
         "yaxis": "y2"
        },
        {
         "hovertemplate": "player=Arcitys<br>year=2019<br>hill time (s)=%{x}<br>k/d=%{y}<extra></extra>",
         "legendgroup": "Arcitys",
         "marker": {
          "color": "#636efa",
          "symbol": "circle"
         },
         "mode": "markers",
         "name": "Arcitys",
         "showlegend": false,
         "type": "scattergl",
         "x": [
          38,
          87,
          76,
          80,
          46,
          64,
          59,
          107,
          130,
          90,
          21,
          158,
          92,
          177
         ],
         "xaxis": "x3",
         "y": [
          3,
          0.91,
          1.92,
          1.48,
          1.29,
          1.45,
          1.53,
          1.32,
          0.8,
          1,
          1.47,
          3.67,
          1.5,
          1.35
         ],
         "yaxis": "y3"
        },
        {
         "hovertemplate": "player=Clayster<br>year=2017<br>hill time (s)=%{x}<br>k/d=%{y}<extra></extra>",
         "legendgroup": "Clayster",
         "marker": {
          "color": "#EF553B",
          "symbol": "circle"
         },
         "mode": "markers",
         "name": "Clayster",
         "showlegend": true,
         "type": "scattergl",
         "x": [
          46,
          40,
          57,
          53,
          16,
          28,
          76,
          56,
          13,
          38
         ],
         "xaxis": "x",
         "y": [
          1.31,
          1.85,
          1.1,
          1.14,
          0.76,
          0.91,
          1.75,
          1,
          0.85,
          0.75
         ],
         "yaxis": "y"
        },
        {
         "hovertemplate": "player=Clayster<br>year=2018<br>hill time (s)=%{x}<br>k/d=%{y}<extra></extra>",
         "legendgroup": "Clayster",
         "marker": {
          "color": "#EF553B",
          "symbol": "circle"
         },
         "mode": "markers",
         "name": "Clayster",
         "showlegend": false,
         "type": "scattergl",
         "x": [
          99,
          70,
          73,
          79,
          40,
          81,
          72,
          53,
          90,
          45,
          96,
          42
         ],
         "xaxis": "x2",
         "y": [
          2.21,
          0.9,
          1.24,
          1.43,
          1.5,
          1,
          1.1,
          1.5,
          1.17,
          0.81,
          1.11,
          0.88
         ],
         "yaxis": "y2"
        },
        {
         "hovertemplate": "player=Clayster<br>year=2019<br>hill time (s)=%{x}<br>k/d=%{y}<extra></extra>",
         "legendgroup": "Clayster",
         "marker": {
          "color": "#EF553B",
          "symbol": "circle"
         },
         "mode": "markers",
         "name": "Clayster",
         "showlegend": false,
         "type": "scattergl",
         "x": [
          57,
          48,
          54,
          30,
          42,
          71,
          67,
          31,
          44,
          45,
          40,
          40,
          65,
          28
         ],
         "xaxis": "x3",
         "y": [
          2.29,
          1,
          1.36,
          1.15,
          0.5,
          1.42,
          1.19,
          0.86,
          0.83,
          0.88,
          0.56,
          1.08,
          1,
          1.04
         ],
         "yaxis": "y3"
        },
        {
         "hovertemplate": "player=Prestinni<br>year=2017<br>hill time (s)=%{x}<br>k/d=%{y}<extra></extra>",
         "legendgroup": "Prestinni",
         "marker": {
          "color": "#00cc96",
          "symbol": "circle"
         },
         "mode": "markers",
         "name": "Prestinni",
         "showlegend": true,
         "type": "scattergl",
         "x": [
          59,
          104,
          77,
          69,
          103,
          66,
          113,
          91,
          66,
          93
         ],
         "xaxis": "x",
         "y": [
          1.2,
          2.08,
          1.05,
          0.55,
          1.42,
          0.64,
          1.08,
          1.53,
          0.57,
          0.68
         ],
         "yaxis": "y"
        },
        {
         "hovertemplate": "player=Prestinni<br>year=2018<br>hill time (s)=%{x}<br>k/d=%{y}<extra></extra>",
         "legendgroup": "Prestinni",
         "marker": {
          "color": "#00cc96",
          "symbol": "circle"
         },
         "mode": "markers",
         "name": "Prestinni",
         "showlegend": false,
         "type": "scattergl",
         "x": [
          45,
          33,
          41,
          77,
          79,
          69,
          74,
          72,
          44,
          61,
          50,
          53
         ],
         "xaxis": "x2",
         "y": [
          1.42,
          0.84,
          1.04,
          1.67,
          0.9,
          1.23,
          1.03,
          0.64,
          0.81,
          1.11,
          0.86,
          0.87
         ],
         "yaxis": "y2"
        },
        {
         "hovertemplate": "player=Prestinni<br>year=2019<br>hill time (s)=%{x}<br>k/d=%{y}<extra></extra>",
         "legendgroup": "Prestinni",
         "marker": {
          "color": "#00cc96",
          "symbol": "circle"
         },
         "mode": "markers",
         "name": "Prestinni",
         "showlegend": false,
         "type": "scattergl",
         "x": [
          106,
          89,
          80,
          55,
          108,
          87,
          61,
          54,
          34,
          78,
          33,
          60,
          104,
          51
         ],
         "xaxis": "x3",
         "y": [
          1.67,
          1.14,
          1.67,
          0.9,
          1.2,
          1.17,
          0.83,
          0.73,
          0.85,
          1,
          0.7,
          3.25,
          1.22,
          0.78
         ],
         "yaxis": "y3"
        },
        {
         "hovertemplate": "player=Silly<br>year=2017<br>hill time (s)=%{x}<br>k/d=%{y}<extra></extra>",
         "legendgroup": "Silly",
         "marker": {
          "color": "#ab63fa",
          "symbol": "circle"
         },
         "mode": "markers",
         "name": "Silly",
         "showlegend": true,
         "type": "scattergl",
         "x": [
          125,
          79,
          92,
          53,
          103,
          96,
          108,
          100,
          149,
          65
         ],
         "xaxis": "x",
         "y": [
          1.15,
          1.45,
          1.77,
          1,
          0.96,
          1.12,
          2.25,
          1.15,
          1.17,
          0.96
         ],
         "yaxis": "y"
        },
        {
         "hovertemplate": "player=Silly<br>year=2018<br>hill time (s)=%{x}<br>k/d=%{y}<extra></extra>",
         "legendgroup": "Silly",
         "marker": {
          "color": "#ab63fa",
          "symbol": "circle"
         },
         "mode": "markers",
         "name": "Silly",
         "showlegend": false,
         "type": "scattergl",
         "x": [
          68,
          116,
          107,
          138,
          82,
          71,
          70,
          55,
          98,
          92,
          153,
          96,
          85,
          62
         ],
         "xaxis": "x2",
         "y": [
          0.89,
          1.28,
          1.5,
          0.78,
          1.15,
          1.71,
          0.94,
          0.96,
          1.79,
          0.85,
          1.5,
          1.08,
          0.92,
          1.17
         ],
         "yaxis": "y2"
        },
        {
         "hovertemplate": "player=Silly<br>year=2019<br>hill time (s)=%{x}<br>k/d=%{y}<extra></extra>",
         "legendgroup": "Silly",
         "marker": {
          "color": "#ab63fa",
          "symbol": "circle"
         },
         "mode": "markers",
         "name": "Silly",
         "showlegend": false,
         "type": "scattergl",
         "x": [
          43,
          77,
          25,
          58,
          109,
          27,
          112,
          30,
          34,
          51
         ],
         "xaxis": "x3",
         "y": [
          1.52,
          0.62,
          0.66,
          0.9,
          1.92,
          0.76,
          1.1,
          0.56,
          0.95,
          0.95
         ],
         "yaxis": "y3"
        },
        {
         "hovertemplate": "player=Buzzo<br>year=2017<br>hill time (s)=%{x}<br>k/d=%{y}<extra></extra>",
         "legendgroup": "Buzzo",
         "marker": {
          "color": "#FFA15A",
          "symbol": "circle"
         },
         "mode": "markers",
         "name": "Buzzo",
         "showlegend": true,
         "type": "scattergl",
         "x": [
          32,
          37,
          66,
          88,
          48
         ],
         "xaxis": "x",
         "y": [
          0.83,
          0.67,
          1,
          1.09,
          0.58
         ],
         "yaxis": "y"
        },
        {
         "hovertemplate": "player=Buzzo<br>year=2018<br>hill time (s)=%{x}<br>k/d=%{y}<extra></extra>",
         "legendgroup": "Buzzo",
         "marker": {
          "color": "#FFA15A",
          "symbol": "circle"
         },
         "mode": "markers",
         "name": "Buzzo",
         "showlegend": false,
         "type": "scattergl",
         "x": [
          89,
          14,
          37,
          110,
          60
         ],
         "xaxis": "x2",
         "y": [
          1.69,
          0.61,
          0.89,
          1.18,
          0.92
         ],
         "yaxis": "y2"
        },
        {
         "hovertemplate": "player=Denz<br>year=2017<br>hill time (s)=%{x}<br>k/d=%{y}<extra></extra>",
         "legendgroup": "Denz",
         "marker": {
          "color": "#19d3f3",
          "symbol": "circle"
         },
         "mode": "markers",
         "name": "Denz",
         "showlegend": true,
         "type": "scattergl",
         "x": [
          29,
          76,
          78,
          42,
          47
         ],
         "xaxis": "x",
         "y": [
          0.7,
          1.67,
          1,
          1.09,
          1
         ],
         "yaxis": "y"
        },
        {
         "hovertemplate": "player=Denz<br>year=2018<br>hill time (s)=%{x}<br>k/d=%{y}<extra></extra>",
         "legendgroup": "Denz",
         "marker": {
          "color": "#19d3f3",
          "symbol": "circle"
         },
         "mode": "markers",
         "name": "Denz",
         "showlegend": false,
         "type": "scattergl",
         "x": [
          85,
          30,
          39,
          47,
          50
         ],
         "xaxis": "x2",
         "y": [
          1.58,
          0.76,
          1.31,
          0.83,
          0.91
         ],
         "yaxis": "y2"
        },
        {
         "hovertemplate": "player=Denz<br>year=2019<br>hill time (s)=%{x}<br>k/d=%{y}<extra></extra>",
         "legendgroup": "Denz",
         "marker": {
          "color": "#19d3f3",
          "symbol": "circle"
         },
         "mode": "markers",
         "name": "Denz",
         "showlegend": false,
         "type": "scattergl",
         "x": [
          125,
          51,
          64,
          56,
          30,
          54,
          44,
          37,
          46,
          22,
          31,
          73
         ],
         "xaxis": "x3",
         "y": [
          3,
          1.37,
          0.73,
          0.95,
          0.71,
          1.25,
          1.28,
          1.71,
          0.85,
          1.28,
          0.95,
          1
         ],
         "yaxis": "y3"
        },
        {
         "hovertemplate": "player=Fighta<br>year=2017<br>hill time (s)=%{x}<br>k/d=%{y}<extra></extra>",
         "legendgroup": "Fighta",
         "marker": {
          "color": "#FF6692",
          "symbol": "circle"
         },
         "mode": "markers",
         "name": "Fighta",
         "showlegend": true,
         "type": "scattergl",
         "x": [
          43,
          70,
          69,
          74,
          69
         ],
         "xaxis": "x",
         "y": [
          0.64,
          1.22,
          1.39,
          1.04,
          0.87
         ],
         "yaxis": "y"
        },
        {
         "hovertemplate": "player=Fighta<br>year=2018<br>hill time (s)=%{x}<br>k/d=%{y}<extra></extra>",
         "legendgroup": "Fighta",
         "marker": {
          "color": "#FF6692",
          "symbol": "circle"
         },
         "mode": "markers",
         "name": "Fighta",
         "showlegend": false,
         "type": "scattergl",
         "x": [
          72,
          41,
          140,
          88,
          132
         ],
         "xaxis": "x2",
         "y": [
          1.04,
          0.7,
          0.71,
          1.24,
          0.71
         ],
         "yaxis": "y2"
        },
        {
         "hovertemplate": "player=Shockz<br>year=2017<br>hill time (s)=%{x}<br>k/d=%{y}<extra></extra>",
         "legendgroup": "Shockz",
         "marker": {
          "color": "#B6E880",
          "symbol": "circle"
         },
         "mode": "markers",
         "name": "Shockz",
         "showlegend": true,
         "type": "scattergl",
         "x": [
          50,
          97,
          109,
          83,
          98
         ],
         "xaxis": "x",
         "y": [
          1.12,
          0.86,
          1.46,
          0.78,
          1.17
         ],
         "yaxis": "y"
        },
        {
         "hovertemplate": "player=Shockz<br>year=2018<br>hill time (s)=%{x}<br>k/d=%{y}<extra></extra>",
         "legendgroup": "Shockz",
         "marker": {
          "color": "#B6E880",
          "symbol": "circle"
         },
         "mode": "markers",
         "name": "Shockz",
         "showlegend": false,
         "type": "scattergl",
         "x": [
          11,
          12,
          32,
          53,
          35
         ],
         "xaxis": "x2",
         "y": [
          1.17,
          1.14,
          1.11,
          1.04,
          0.82
         ],
         "yaxis": "y2"
        },
        {
         "hovertemplate": "player=Hate<br>year=2017<br>hill time (s)=%{x}<br>k/d=%{y}<extra></extra>",
         "legendgroup": "Hate",
         "marker": {
          "color": "#FF97FF",
          "symbol": "circle"
         },
         "mode": "markers",
         "name": "Hate",
         "showlegend": true,
         "type": "scattergl",
         "x": [
          76,
          106,
          18,
          157,
          94
         ],
         "xaxis": "x",
         "y": [
          0.95,
          1,
          0.71,
          1.53,
          1
         ],
         "yaxis": "y"
        },
        {
         "hovertemplate": "player=Hate<br>year=2018<br>hill time (s)=%{x}<br>k/d=%{y}<extra></extra>",
         "legendgroup": "Hate",
         "marker": {
          "color": "#FF97FF",
          "symbol": "circle"
         },
         "mode": "markers",
         "name": "Hate",
         "showlegend": false,
         "type": "scattergl",
         "x": [
          59,
          86,
          63,
          33
         ],
         "xaxis": "x2",
         "y": [
          0.85,
          0.72,
          0.9,
          0.76
         ],
         "yaxis": "y2"
        },
        {
         "hovertemplate": "player=HumanJesus<br>year=2017<br>hill time (s)=%{x}<br>k/d=%{y}<extra></extra>",
         "legendgroup": "HumanJesus",
         "marker": {
          "color": "#FECB52",
          "symbol": "circle"
         },
         "mode": "markers",
         "name": "HumanJesus",
         "showlegend": true,
         "type": "scattergl",
         "x": [
          94,
          41,
          10,
          57,
          24
         ],
         "xaxis": "x",
         "y": [
          1.71,
          0.9,
          0.33,
          0.7,
          1.6
         ],
         "yaxis": "y"
        },
        {
         "hovertemplate": "player=HumanJesus<br>year=2019<br>hill time (s)=%{x}<br>k/d=%{y}<extra></extra>",
         "legendgroup": "HumanJesus",
         "marker": {
          "color": "#FECB52",
          "symbol": "circle"
         },
         "mode": "markers",
         "name": "HumanJesus",
         "showlegend": false,
         "type": "scattergl",
         "x": [
          35,
          46,
          92,
          50,
          42,
          94
         ],
         "xaxis": "x3",
         "y": [
          0.67,
          1.07,
          0.65,
          1.17,
          0.93,
          0.88
         ],
         "yaxis": "y3"
        },
        {
         "hovertemplate": "player=Juju<br>year=2017<br>hill time (s)=%{x}<br>k/d=%{y}<extra></extra>",
         "legendgroup": "Juju",
         "marker": {
          "color": "#636efa",
          "symbol": "circle"
         },
         "mode": "markers",
         "name": "Juju",
         "showlegend": true,
         "type": "scattergl",
         "x": [
          95,
          51,
          39,
          100,
          93
         ],
         "xaxis": "x",
         "y": [
          1,
          1,
          0.67,
          1.25,
          0.92
         ],
         "yaxis": "y"
        },
        {
         "hovertemplate": "player=KlinK<br>year=2017<br>hill time (s)=%{x}<br>k/d=%{y}<extra></extra>",
         "legendgroup": "KlinK",
         "marker": {
          "color": "#EF553B",
          "symbol": "circle"
         },
         "mode": "markers",
         "name": "KlinK",
         "showlegend": true,
         "type": "scattergl",
         "x": [
          82,
          38,
          41,
          44,
          103
         ],
         "xaxis": "x",
         "y": [
          1.11,
          0.62,
          1.05,
          0.8,
          1.09
         ],
         "yaxis": "y"
        },
        {
         "hovertemplate": "player=KlinK<br>year=2019<br>hill time (s)=%{x}<br>k/d=%{y}<extra></extra>",
         "legendgroup": "KlinK",
         "marker": {
          "color": "#EF553B",
          "symbol": "circle"
         },
         "mode": "markers",
         "name": "KlinK",
         "showlegend": false,
         "type": "scattergl",
         "x": [
          9,
          15,
          58,
          57,
          13,
          81
         ],
         "xaxis": "x3",
         "y": [
          0.58,
          0.5,
          1.35,
          0.67,
          0.53,
          1.05
         ],
         "yaxis": "y3"
        },
        {
         "hovertemplate": "player=Alexx<br>year=2017<br>hill time (s)=%{x}<br>k/d=%{y}<extra></extra>",
         "legendgroup": "Alexx",
         "marker": {
          "color": "#00cc96",
          "symbol": "circle"
         },
         "mode": "markers",
         "name": "Alexx",
         "showlegend": true,
         "type": "scattergl",
         "x": [
          25,
          47,
          67,
          48,
          37,
          121,
          56,
          70,
          65,
          17
         ],
         "xaxis": "x",
         "y": [
          1.35,
          1.2,
          0.94,
          1.06,
          0.62,
          1.62,
          1.11,
          0.7,
          0.76,
          0.57
         ],
         "yaxis": "y"
        },
        {
         "hovertemplate": "player=Niall<br>year=2017<br>hill time (s)=%{x}<br>k/d=%{y}<extra></extra>",
         "legendgroup": "Niall",
         "marker": {
          "color": "#ab63fa",
          "symbol": "circle"
         },
         "mode": "markers",
         "name": "Niall",
         "showlegend": true,
         "type": "scattergl",
         "x": [
          59,
          81,
          44,
          34,
          106,
          16,
          67,
          76,
          100,
          17
         ],
         "xaxis": "x",
         "y": [
          0.67,
          1.11,
          1.1,
          0.94,
          0.68,
          0.68,
          0.94,
          0.71,
          0.88,
          0.81
         ],
         "yaxis": "y"
        },
        {
         "hovertemplate": "player=Nolson<br>year=2017<br>hill time (s)=%{x}<br>k/d=%{y}<extra></extra>",
         "legendgroup": "Nolson",
         "marker": {
          "color": "#FFA15A",
          "symbol": "circle"
         },
         "mode": "markers",
         "name": "Nolson",
         "showlegend": true,
         "type": "scattergl",
         "x": [
          107,
          37,
          52,
          14,
          46,
          30,
          69,
          19,
          23,
          32
         ],
         "xaxis": "x",
         "y": [
          0.58,
          1.48,
          0.73,
          0.5,
          0.79,
          0.82,
          1.35,
          1.24,
          0.8,
          1
         ],
         "yaxis": "y"
        },
        {
         "hovertemplate": "player=Nolson<br>year=2019<br>hill time (s)=%{x}<br>k/d=%{y}<extra></extra>",
         "legendgroup": "Nolson",
         "marker": {
          "color": "#FFA15A",
          "symbol": "circle"
         },
         "mode": "markers",
         "name": "Nolson",
         "showlegend": false,
         "type": "scattergl",
         "x": [
          80,
          74,
          69,
          64,
          76,
          84,
          34,
          44,
          30,
          60
         ],
         "xaxis": "x3",
         "y": [
          1.04,
          0.72,
          1.6,
          0.8,
          1.04,
          1.31,
          1.91,
          1.22,
          0.72,
          0.78
         ],
         "yaxis": "y3"
        },
        {
         "hovertemplate": "player=Zerg<br>year=2017<br>hill time (s)=%{x}<br>k/d=%{y}<extra></extra>",
         "legendgroup": "Zerg",
         "marker": {
          "color": "#19d3f3",
          "symbol": "circle"
         },
         "mode": "markers",
         "name": "Zerg",
         "showlegend": true,
         "type": "scattergl",
         "x": [
          74,
          120,
          62,
          59,
          32,
          35,
          97,
          114,
          39,
          37
         ],
         "xaxis": "x",
         "y": [
          0.87,
          0.85,
          1.06,
          0.94,
          0.96,
          0.81,
          0.89,
          1.19,
          1,
          0.52
         ],
         "yaxis": "y"
        },
        {
         "hovertemplate": "player=Aqua<br>year=2017<br>hill time (s)=%{x}<br>k/d=%{y}<extra></extra>",
         "legendgroup": "Aqua",
         "marker": {
          "color": "#FF6692",
          "symbol": "circle"
         },
         "mode": "markers",
         "name": "Aqua",
         "showlegend": true,
         "type": "scattergl",
         "x": [
          70,
          102,
          90,
          93,
          23,
          29,
          36,
          120,
          50,
          70,
          34,
          70,
          26,
          43,
          33,
          95
         ],
         "xaxis": "x",
         "y": [
          1.35,
          1.67,
          1.16,
          2.2,
          1.05,
          0.91,
          1.23,
          1.15,
          1.04,
          1.79,
          0.25,
          0.5,
          0.59,
          0.78,
          0.69,
          1.33
         ],
         "yaxis": "y"
        },
        {
         "hovertemplate": "player=Aqua<br>year=2018<br>hill time (s)=%{x}<br>k/d=%{y}<extra></extra>",
         "legendgroup": "Aqua",
         "marker": {
          "color": "#FF6692",
          "symbol": "circle"
         },
         "mode": "markers",
         "name": "Aqua",
         "showlegend": false,
         "type": "scattergl",
         "x": [
          31,
          83,
          91,
          0
         ],
         "xaxis": "x2",
         "y": [
          0.68,
          0.91,
          1.48,
          0.81
         ],
         "yaxis": "y2"
        },
        {
         "hovertemplate": "player=Aqua<br>year=2019<br>hill time (s)=%{x}<br>k/d=%{y}<extra></extra>",
         "legendgroup": "Aqua",
         "marker": {
          "color": "#FF6692",
          "symbol": "circle"
         },
         "mode": "markers",
         "name": "Aqua",
         "showlegend": false,
         "type": "scattergl",
         "x": [
          78,
          57,
          32,
          91,
          50,
          80,
          59,
          137
         ],
         "xaxis": "x3",
         "y": [
          1.45,
          1.13,
          1,
          1.37,
          1,
          0.92,
          1.11,
          2.38
         ],
         "yaxis": "y3"
        },
        {
         "hovertemplate": "player=Faccento<br>year=2017<br>hill time (s)=%{x}<br>k/d=%{y}<extra></extra>",
         "legendgroup": "Faccento",
         "marker": {
          "color": "#B6E880",
          "symbol": "circle"
         },
         "mode": "markers",
         "name": "Faccento",
         "showlegend": true,
         "type": "scattergl",
         "x": [
          61,
          54,
          88,
          137,
          109,
          127,
          105,
          76,
          33,
          142,
          63,
          109,
          51,
          40,
          64,
          49
         ],
         "xaxis": "x",
         "y": [
          1.42,
          1,
          0.77,
          0.93,
          1.64,
          0.92,
          1,
          1.14,
          0.81,
          1.36,
          1.07,
          1.38,
          0.59,
          0.94,
          0.42,
          1
         ],
         "yaxis": "y"
        },
        {
         "hovertemplate": "player=Faccento<br>year=2018<br>hill time (s)=%{x}<br>k/d=%{y}<extra></extra>",
         "legendgroup": "Faccento",
         "marker": {
          "color": "#B6E880",
          "symbol": "circle"
         },
         "mode": "markers",
         "name": "Faccento",
         "showlegend": false,
         "type": "scattergl",
         "x": [
          34,
          54,
          56,
          0
         ],
         "xaxis": "x2",
         "y": [
          0.67,
          1.07,
          1.15,
          0.96
         ],
         "yaxis": "y2"
        },
        {
         "hovertemplate": "player=Felony<br>year=2017<br>hill time (s)=%{x}<br>k/d=%{y}<extra></extra>",
         "legendgroup": "Felony",
         "marker": {
          "color": "#FF97FF",
          "symbol": "circle"
         },
         "mode": "markers",
         "name": "Felony",
         "showlegend": true,
         "type": "scattergl",
         "x": [
          118,
          56,
          76,
          24,
          52,
          84,
          67,
          70,
          7,
          30,
          60,
          66,
          8,
          21,
          57,
          56
         ],
         "xaxis": "x",
         "y": [
          1.4,
          1.21,
          0.96,
          1.15,
          0.78,
          0.82,
          1.04,
          1.73,
          0.69,
          0.81,
          0.6,
          1.24,
          0.95,
          0.64,
          1.19,
          0.58
         ],
         "yaxis": "y"
        },
        {
         "hovertemplate": "player=Felony<br>year=2018<br>hill time (s)=%{x}<br>k/d=%{y}<extra></extra>",
         "legendgroup": "Felony",
         "marker": {
          "color": "#FF97FF",
          "symbol": "circle"
         },
         "mode": "markers",
         "name": "Felony",
         "showlegend": false,
         "type": "scattergl",
         "x": [
          68,
          40,
          50,
          70,
          109,
          73,
          97,
          47,
          37,
          87,
          53,
          33
         ],
         "xaxis": "x2",
         "y": [
          0.91,
          1.03,
          0.75,
          1.04,
          1.43,
          1.19,
          0.9,
          0.89,
          0.68,
          0.68,
          1.27,
          0.59
         ],
         "yaxis": "y2"
        },
        {
         "hovertemplate": "player=Loony<br>year=2017<br>hill time (s)=%{x}<br>k/d=%{y}<extra></extra>",
         "legendgroup": "Loony",
         "marker": {
          "color": "#FECB52",
          "symbol": "circle"
         },
         "mode": "markers",
         "name": "Loony",
         "showlegend": true,
         "type": "scattergl",
         "x": [
          71,
          45,
          47,
          21,
          94,
          41,
          137,
          27,
          62,
          61,
          33,
          50,
          55,
          18,
          73,
          50
         ],
         "xaxis": "x",
         "y": [
          1.25,
          1.25,
          1.21,
          0.89,
          1,
          1.17,
          1.4,
          1.46,
          0.71,
          1.07,
          0.76,
          1.47,
          0.81,
          0.56,
          0.93,
          0.95
         ],
         "yaxis": "y"
        },
        {
         "hovertemplate": "player=Loony<br>year=2018<br>hill time (s)=%{x}<br>k/d=%{y}<extra></extra>",
         "legendgroup": "Loony",
         "marker": {
          "color": "#FECB52",
          "symbol": "circle"
         },
         "mode": "markers",
         "name": "Loony",
         "showlegend": false,
         "type": "scattergl",
         "x": [
          100,
          66,
          61,
          98,
          21,
          61,
          48,
          84,
          63
         ],
         "xaxis": "x2",
         "y": [
          0.83,
          1,
          0.92,
          1.78,
          1.11,
          1.12,
          0.81,
          0.94,
          0.92
         ],
         "yaxis": "y2"
        },
        {
         "hovertemplate": "player=Loony<br>year=2019<br>hill time (s)=%{x}<br>k/d=%{y}<extra></extra>",
         "legendgroup": "Loony",
         "marker": {
          "color": "#FECB52",
          "symbol": "circle"
         },
         "mode": "markers",
         "name": "Loony",
         "showlegend": false,
         "type": "scattergl",
         "x": [
          29,
          100,
          80,
          47,
          54,
          40,
          59,
          56
         ],
         "xaxis": "x3",
         "y": [
          1.16,
          0.89,
          1.46,
          1.24,
          0.87,
          0.82,
          0.59,
          1.14
         ],
         "yaxis": "y3"
        },
        {
         "hovertemplate": "player=Braaain<br>year=2017<br>hill time (s)=%{x}<br>k/d=%{y}<extra></extra>",
         "legendgroup": "Braaain",
         "marker": {
          "color": "#636efa",
          "symbol": "circle"
         },
         "mode": "markers",
         "name": "Braaain",
         "showlegend": true,
         "type": "scattergl",
         "x": [
          18,
          51,
          21,
          28,
          49,
          62
         ],
         "xaxis": "x",
         "y": [
          0.67,
          0.85,
          0.59,
          1.05,
          1.08,
          0.57
         ],
         "yaxis": "y"
        },
        {
         "hovertemplate": "player=Shane<br>year=2017<br>hill time (s)=%{x}<br>k/d=%{y}<extra></extra>",
         "legendgroup": "Shane",
         "marker": {
          "color": "#EF553B",
          "symbol": "circle"
         },
         "mode": "markers",
         "name": "Shane",
         "showlegend": true,
         "type": "scattergl",
         "x": [
          14,
          26,
          46,
          36,
          55,
          34
         ],
         "xaxis": "x",
         "y": [
          0.59,
          0.48,
          0.7,
          1.26,
          0.86,
          1.16
         ],
         "yaxis": "y"
        },
        {
         "hovertemplate": "player=Wallers<br>year=2017<br>hill time (s)=%{x}<br>k/d=%{y}<extra></extra>",
         "legendgroup": "Wallers",
         "marker": {
          "color": "#00cc96",
          "symbol": "circle"
         },
         "mode": "markers",
         "name": "Wallers",
         "showlegend": true,
         "type": "scattergl",
         "x": [
          95,
          52,
          43,
          65,
          96,
          106
         ],
         "xaxis": "x",
         "y": [
          0.84,
          1.09,
          0.9,
          1.14,
          0.43,
          1.25
         ],
         "yaxis": "y"
        },
        {
         "hovertemplate": "player=Weeman<br>year=2017<br>hill time (s)=%{x}<br>k/d=%{y}<extra></extra>",
         "legendgroup": "Weeman",
         "marker": {
          "color": "#ab63fa",
          "symbol": "circle"
         },
         "mode": "markers",
         "name": "Weeman",
         "showlegend": true,
         "type": "scattergl",
         "x": [
          141,
          46,
          60,
          161,
          45,
          103
         ],
         "xaxis": "x",
         "y": [
          0.91,
          0.71,
          0.67,
          1.45,
          0.88,
          0.64
         ],
         "yaxis": "y"
        },
        {
         "hovertemplate": "player=Weeman<br>year=2018<br>hill time (s)=%{x}<br>k/d=%{y}<extra></extra>",
         "legendgroup": "Weeman",
         "marker": {
          "color": "#ab63fa",
          "symbol": "circle"
         },
         "mode": "markers",
         "name": "Weeman",
         "showlegend": false,
         "type": "scattergl",
         "x": [
          36,
          122,
          92,
          84,
          142,
          62,
          92,
          60,
          27
         ],
         "xaxis": "x2",
         "y": [
          0.55,
          0.88,
          1.27,
          0.93,
          1.16,
          0.74,
          0.5,
          1.15,
          0.89
         ],
         "yaxis": "y2"
        },
        {
         "hovertemplate": "player=Weeman<br>year=2019<br>hill time (s)=%{x}<br>k/d=%{y}<extra></extra>",
         "legendgroup": "Weeman",
         "marker": {
          "color": "#ab63fa",
          "symbol": "circle"
         },
         "mode": "markers",
         "name": "Weeman",
         "showlegend": false,
         "type": "scattergl",
         "x": [
          68,
          109,
          122,
          40,
          54,
          76,
          52,
          79,
          24,
          48
         ],
         "xaxis": "x3",
         "y": [
          0.71,
          1.57,
          1.91,
          1.38,
          0.68,
          1.67,
          2.07,
          1.55,
          0.76,
          0.77
         ],
         "yaxis": "y3"
        },
        {
         "hovertemplate": "player=Attach<br>year=2017<br>hill time (s)=%{x}<br>k/d=%{y}<extra></extra>",
         "legendgroup": "Attach",
         "marker": {
          "color": "#FFA15A",
          "symbol": "circle"
         },
         "mode": "markers",
         "name": "Attach",
         "showlegend": true,
         "type": "scattergl",
         "x": [
          89,
          47,
          33,
          26,
          131,
          70,
          115,
          127,
          7,
          51,
          105
         ],
         "xaxis": "x",
         "y": [
          0.63,
          1.8,
          1.42,
          1.31,
          0.91,
          1.17,
          1.16,
          1.24,
          0.61,
          1.75,
          1.46
         ],
         "yaxis": "y"
        },
        {
         "hovertemplate": "player=Attach<br>year=2018<br>hill time (s)=%{x}<br>k/d=%{y}<extra></extra>",
         "legendgroup": "Attach",
         "marker": {
          "color": "#FFA15A",
          "symbol": "circle"
         },
         "mode": "markers",
         "name": "Attach",
         "showlegend": false,
         "type": "scattergl",
         "x": [
          75,
          81,
          94,
          94,
          61,
          75,
          53,
          4,
          95,
          51,
          41,
          74,
          20,
          81,
          29,
          34,
          42
         ],
         "xaxis": "x2",
         "y": [
          1,
          1,
          1.53,
          0.88,
          0.93,
          0.85,
          1.56,
          0.9,
          1,
          1.92,
          1.36,
          1.05,
          1,
          1.22,
          2,
          1.04,
          1.09
         ],
         "yaxis": "y2"
        },
        {
         "hovertemplate": "player=Attach<br>year=2019<br>hill time (s)=%{x}<br>k/d=%{y}<extra></extra>",
         "legendgroup": "Attach",
         "marker": {
          "color": "#FFA15A",
          "symbol": "circle"
         },
         "mode": "markers",
         "name": "Attach",
         "showlegend": false,
         "type": "scattergl",
         "x": [
          78,
          69,
          74,
          60,
          34,
          87,
          61,
          38,
          48,
          59,
          16
         ],
         "xaxis": "x3",
         "y": [
          1.5,
          1.54,
          2.75,
          0.77,
          0.9,
          1.06,
          1.18,
          1.04,
          1,
          0.65,
          0.7
         ],
         "yaxis": "y3"
        },
        {
         "hovertemplate": "player=Enable<br>year=2017<br>hill time (s)=%{x}<br>k/d=%{y}<extra></extra>",
         "legendgroup": "Enable",
         "marker": {
          "color": "#19d3f3",
          "symbol": "circle"
         },
         "mode": "markers",
         "name": "Enable",
         "showlegend": true,
         "type": "scattergl",
         "x": [
          47,
          88,
          142,
          44,
          49,
          2,
          40,
          65,
          41,
          41,
          87
         ],
         "xaxis": "x",
         "y": [
          0.94,
          1.29,
          2,
          1.4,
          1.63,
          0.71,
          1.36,
          1,
          0.78,
          1.13,
          1.08
         ],
         "yaxis": "y"
        },
        {
         "hovertemplate": "player=Enable<br>year=2018<br>hill time (s)=%{x}<br>k/d=%{y}<extra></extra>",
         "legendgroup": "Enable",
         "marker": {
          "color": "#19d3f3",
          "symbol": "circle"
         },
         "mode": "markers",
         "name": "Enable",
         "showlegend": false,
         "type": "scattergl",
         "x": [
          39,
          37,
          50,
          34,
          110,
          70,
          67,
          72,
          45,
          57,
          46,
          92,
          35,
          49,
          47,
          25,
          20,
          32
         ],
         "xaxis": "x2",
         "y": [
          1.17,
          1.12,
          1.17,
          0.97,
          1.05,
          1.15,
          1.23,
          0.89,
          0.97,
          1.23,
          0.77,
          0.62,
          0.67,
          1.57,
          1.03,
          0.81,
          1.27,
          0.66
         ],
         "yaxis": "y2"
        },
        {
         "hovertemplate": "player=Enable<br>year=2019<br>hill time (s)=%{x}<br>k/d=%{y}<extra></extra>",
         "legendgroup": "Enable",
         "marker": {
          "color": "#19d3f3",
          "symbol": "circle"
         },
         "mode": "markers",
         "name": "Enable",
         "showlegend": false,
         "type": "scattergl",
         "x": [
          47,
          81,
          26,
          79,
          72,
          34,
          85,
          81,
          69,
          85,
          40,
          71,
          71,
          58,
          79,
          63,
          35,
          26
         ],
         "xaxis": "x3",
         "y": [
          1.56,
          1,
          0.55,
          0.73,
          1.42,
          1,
          0.79,
          0.76,
          1.08,
          1.14,
          1.54,
          0.59,
          1.11,
          0.59,
          1.04,
          0.79,
          0.68,
          0.81
         ],
         "yaxis": "y3"
        },
        {
         "hovertemplate": "player=Gunless<br>year=2017<br>hill time (s)=%{x}<br>k/d=%{y}<extra></extra>",
         "legendgroup": "Gunless",
         "marker": {
          "color": "#FF6692",
          "symbol": "circle"
         },
         "mode": "markers",
         "name": "Gunless",
         "showlegend": true,
         "type": "scattergl",
         "x": [
          108,
          53,
          43,
          183,
          51,
          42,
          105,
          58,
          28,
          128,
          78
         ],
         "xaxis": "x",
         "y": [
          2.14,
          0.84,
          1.07,
          2.2,
          1.45,
          1.31,
          1.35,
          1.1,
          0.44,
          1.82,
          1.24
         ],
         "yaxis": "y"
        },
        {
         "hovertemplate": "player=Gunless<br>year=2018<br>hill time (s)=%{x}<br>k/d=%{y}<extra></extra>",
         "legendgroup": "Gunless",
         "marker": {
          "color": "#FF6692",
          "symbol": "circle"
         },
         "mode": "markers",
         "name": "Gunless",
         "showlegend": false,
         "type": "scattergl",
         "x": [
          63,
          81,
          91,
          80,
          78,
          70,
          64,
          121,
          39
         ],
         "xaxis": "x2",
         "y": [
          1.15,
          1.09,
          1.14,
          1.17,
          0.77,
          0.57,
          0.96,
          1.12,
          1.03
         ],
         "yaxis": "y2"
        },
        {
         "hovertemplate": "player=Gunless<br>year=2019<br>hill time (s)=%{x}<br>k/d=%{y}<extra></extra>",
         "legendgroup": "Gunless",
         "marker": {
          "color": "#FF6692",
          "symbol": "circle"
         },
         "mode": "markers",
         "name": "Gunless",
         "showlegend": false,
         "type": "scattergl",
         "x": [
          64,
          54,
          41,
          80,
          43,
          85,
          26,
          3,
          38,
          49
         ],
         "xaxis": "x3",
         "y": [
          0.96,
          0.62,
          0.71,
          1.15,
          1.28,
          1.4,
          1.19,
          0.62,
          1.15,
          1.05
         ],
         "yaxis": "y3"
        },
        {
         "hovertemplate": "player=Zooma<br>year=2017<br>hill time (s)=%{x}<br>k/d=%{y}<extra></extra>",
         "legendgroup": "Zooma",
         "marker": {
          "color": "#B6E880",
          "symbol": "circle"
         },
         "mode": "markers",
         "name": "Zooma",
         "showlegend": true,
         "type": "scattergl",
         "x": [
          90,
          85,
          58,
          17,
          76,
          3,
          46,
          97,
          10,
          58,
          67
         ],
         "xaxis": "x",
         "y": [
          0.94,
          1.28,
          1.58,
          1.19,
          1.74,
          0.17,
          0.88,
          0.89,
          0.71,
          1,
          1.91
         ],
         "yaxis": "y"
        },
        {
         "hovertemplate": "player=Believe<br>year=2017<br>hill time (s)=%{x}<br>k/d=%{y}<extra></extra>",
         "legendgroup": "Believe",
         "marker": {
          "color": "#FF97FF",
          "symbol": "circle"
         },
         "mode": "markers",
         "name": "Believe",
         "showlegend": true,
         "type": "scattergl",
         "x": [
          67,
          32,
          76,
          92,
          56,
          68,
          40,
          33,
          83,
          2,
          75,
          30
         ],
         "xaxis": "x",
         "y": [
          1.06,
          1.06,
          0.71,
          3,
          1.58,
          1.55,
          1.92,
          1.88,
          1.2,
          0.47,
          1.61,
          0.83
         ],
         "yaxis": "y"
        },
        {
         "hovertemplate": "player=Believe<br>year=2019<br>hill time (s)=%{x}<br>k/d=%{y}<extra></extra>",
         "legendgroup": "Believe",
         "marker": {
          "color": "#FF97FF",
          "symbol": "circle"
         },
         "mode": "markers",
         "name": "Believe",
         "showlegend": false,
         "type": "scattergl",
         "x": [
          37,
          72,
          83,
          101,
          105,
          77,
          32,
          110,
          56,
          44
         ],
         "xaxis": "x3",
         "y": [
          0.85,
          0.5,
          1.36,
          1.04,
          0.76,
          1.11,
          0.95,
          0.95,
          1.17,
          1.1
         ],
         "yaxis": "y3"
        },
        {
         "hovertemplate": "player=Mayhem<br>year=2017<br>hill time (s)=%{x}<br>k/d=%{y}<extra></extra>",
         "legendgroup": "Mayhem",
         "marker": {
          "color": "#FECB52",
          "symbol": "circle"
         },
         "mode": "markers",
         "name": "Mayhem",
         "showlegend": true,
         "type": "scattergl",
         "x": [
          26,
          35,
          30,
          58,
          97,
          49,
          37,
          107,
          64,
          14,
          92,
          105
         ],
         "xaxis": "x",
         "y": [
          0.7,
          0.75,
          1.27,
          1.8,
          1.41,
          1.5,
          1,
          1.33,
          1.25,
          0.94,
          0.82,
          0.81
         ],
         "yaxis": "y"
        },
        {
         "hovertemplate": "player=Mayhem<br>year=2018<br>hill time (s)=%{x}<br>k/d=%{y}<extra></extra>",
         "legendgroup": "Mayhem",
         "marker": {
          "color": "#FECB52",
          "symbol": "circle"
         },
         "mode": "markers",
         "name": "Mayhem",
         "showlegend": false,
         "type": "scattergl",
         "x": [
          29,
          76,
          29,
          43,
          40
         ],
         "xaxis": "x2",
         "y": [
          0.64,
          1.5,
          0.9,
          0.89,
          0.67
         ],
         "yaxis": "y2"
        },
        {
         "hovertemplate": "player=Mayhem<br>year=2019<br>hill time (s)=%{x}<br>k/d=%{y}<extra></extra>",
         "legendgroup": "Mayhem",
         "marker": {
          "color": "#FECB52",
          "symbol": "circle"
         },
         "mode": "markers",
         "name": "Mayhem",
         "showlegend": false,
         "type": "scattergl",
         "x": [
          58,
          40,
          42,
          56,
          57,
          42,
          37,
          106,
          31,
          22,
          89,
          57,
          69
         ],
         "xaxis": "x3",
         "y": [
          0.86,
          0.56,
          1.73,
          1.05,
          0.84,
          0.56,
          0.94,
          1.16,
          1.53,
          0.83,
          0.77,
          1.33,
          0.86
         ],
         "yaxis": "y3"
        },
        {
         "hovertemplate": "player=Nova<br>year=2017<br>hill time (s)=%{x}<br>k/d=%{y}<extra></extra>",
         "legendgroup": "Nova",
         "marker": {
          "color": "#636efa",
          "symbol": "circle"
         },
         "mode": "markers",
         "name": "Nova",
         "showlegend": true,
         "type": "scattergl",
         "x": [
          72,
          25,
          78,
          71,
          78,
          42,
          76,
          33,
          80,
          29,
          17,
          39
         ],
         "xaxis": "x",
         "y": [
          0.94,
          0.43,
          1.47,
          2.88,
          1.75,
          1.3,
          0.83,
          1.47,
          1.09,
          0.5,
          1.08,
          0.89
         ],
         "yaxis": "y"
        },
        {
         "hovertemplate": "player=Nova<br>year=2018<br>hill time (s)=%{x}<br>k/d=%{y}<extra></extra>",
         "legendgroup": "Nova",
         "marker": {
          "color": "#636efa",
          "symbol": "circle"
         },
         "mode": "markers",
         "name": "Nova",
         "showlegend": false,
         "type": "scattergl",
         "x": [
          13,
          44,
          66,
          49,
          26
         ],
         "xaxis": "x2",
         "y": [
          0.92,
          0.96,
          1.04,
          1.12,
          0.95
         ],
         "yaxis": "y2"
        },
        {
         "hovertemplate": "player=Spoof<br>year=2017<br>hill time (s)=%{x}<br>k/d=%{y}<extra></extra>",
         "legendgroup": "Spoof",
         "marker": {
          "color": "#EF553B",
          "symbol": "circle"
         },
         "mode": "markers",
         "name": "Spoof",
         "showlegend": true,
         "type": "scattergl",
         "x": [
          25,
          69,
          90,
          85,
          69,
          109,
          128,
          100,
          78,
          17,
          105,
          9
         ],
         "xaxis": "x",
         "y": [
          0.95,
          0.95,
          1.91,
          1.18,
          0.74,
          1.05,
          0.91,
          1.24,
          0.84,
          0.61,
          1.65,
          0.79
         ],
         "yaxis": "y"
        },
        {
         "hovertemplate": "player=Spoof<br>year=2018<br>hill time (s)=%{x}<br>k/d=%{y}<extra></extra>",
         "legendgroup": "Spoof",
         "marker": {
          "color": "#EF553B",
          "symbol": "circle"
         },
         "mode": "markers",
         "name": "Spoof",
         "showlegend": false,
         "type": "scattergl",
         "x": [
          18,
          91,
          36,
          38,
          29
         ],
         "xaxis": "x2",
         "y": [
          0.62,
          0.97,
          0.94,
          0.66,
          1.08
         ],
         "yaxis": "y2"
        },
        {
         "hovertemplate": "player=Spoof<br>year=2019<br>hill time (s)=%{x}<br>k/d=%{y}<extra></extra>",
         "legendgroup": "Spoof",
         "marker": {
          "color": "#EF553B",
          "symbol": "circle"
         },
         "mode": "markers",
         "name": "Spoof",
         "showlegend": false,
         "type": "scattergl",
         "x": [
          19,
          54,
          53,
          81,
          30
         ],
         "xaxis": "x3",
         "y": [
          0.74,
          1,
          1.08,
          1.04,
          0.67
         ],
         "yaxis": "y3"
        },
        {
         "hovertemplate": "player=Havok<br>year=2017<br>hill time (s)=%{x}<br>k/d=%{y}<extra></extra>",
         "legendgroup": "Havok",
         "marker": {
          "color": "#00cc96",
          "symbol": "circle"
         },
         "mode": "markers",
         "name": "Havok",
         "showlegend": true,
         "type": "scattergl",
         "x": [
          12,
          58,
          59,
          117
         ],
         "xaxis": "x",
         "y": [
          1.15,
          1.11,
          1.64,
          1.18
         ],
         "yaxis": "y"
        },
        {
         "hovertemplate": "player=Havok<br>year=2019<br>hill time (s)=%{x}<br>k/d=%{y}<extra></extra>",
         "legendgroup": "Havok",
         "marker": {
          "color": "#00cc96",
          "symbol": "circle"
         },
         "mode": "markers",
         "name": "Havok",
         "showlegend": false,
         "type": "scattergl",
         "x": [
          63,
          68,
          37,
          48
         ],
         "xaxis": "x3",
         "y": [
          0.87,
          0.79,
          0.67,
          1.11
         ],
         "yaxis": "y3"
        },
        {
         "hovertemplate": "player=Nagafen<br>year=2017<br>hill time (s)=%{x}<br>k/d=%{y}<extra></extra>",
         "legendgroup": "Nagafen",
         "marker": {
          "color": "#ab63fa",
          "symbol": "circle"
         },
         "mode": "markers",
         "name": "Nagafen",
         "showlegend": true,
         "type": "scattergl",
         "x": [
          48,
          35,
          97,
          15
         ],
         "xaxis": "x",
         "y": [
          0.5,
          0.73,
          1.56,
          0.75
         ],
         "yaxis": "y"
        },
        {
         "hovertemplate": "player=Nagafen<br>year=2019<br>hill time (s)=%{x}<br>k/d=%{y}<extra></extra>",
         "legendgroup": "Nagafen",
         "marker": {
          "color": "#ab63fa",
          "symbol": "circle"
         },
         "mode": "markers",
         "name": "Nagafen",
         "showlegend": false,
         "type": "scattergl",
         "x": [
          69,
          61,
          9,
          136
         ],
         "xaxis": "x3",
         "y": [
          0.82,
          1.11,
          0.61,
          0.7
         ],
         "yaxis": "y3"
        },
        {
         "hovertemplate": "player=Nameless<br>year=2017<br>hill time (s)=%{x}<br>k/d=%{y}<extra></extra>",
         "legendgroup": "Nameless",
         "marker": {
          "color": "#FFA15A",
          "symbol": "circle"
         },
         "mode": "markers",
         "name": "Nameless",
         "showlegend": true,
         "type": "scattergl",
         "x": [
          13,
          40,
          65,
          113
         ],
         "xaxis": "x",
         "y": [
          0.76,
          0.67,
          0.89,
          1.38
         ],
         "yaxis": "y"
        },
        {
         "hovertemplate": "player=Parasite<br>year=2017<br>hill time (s)=%{x}<br>k/d=%{y}<extra></extra>",
         "legendgroup": "Parasite",
         "marker": {
          "color": "#19d3f3",
          "symbol": "circle"
         },
         "mode": "markers",
         "name": "Parasite",
         "showlegend": true,
         "type": "scattergl",
         "x": [
          78,
          72,
          86,
          28
         ],
         "xaxis": "x",
         "y": [
          0.84,
          1,
          1.35,
          1
         ],
         "yaxis": "y"
        },
        {
         "hovertemplate": "player=Parasite<br>year=2018<br>hill time (s)=%{x}<br>k/d=%{y}<extra></extra>",
         "legendgroup": "Parasite",
         "marker": {
          "color": "#19d3f3",
          "symbol": "circle"
         },
         "mode": "markers",
         "name": "Parasite",
         "showlegend": false,
         "type": "scattergl",
         "x": [
          57,
          39,
          163,
          35,
          45,
          63,
          58,
          74,
          50,
          38
         ],
         "xaxis": "x2",
         "y": [
          0.88,
          0.66,
          1.56,
          1.11,
          1.48,
          1.31,
          0.91,
          1.29,
          1.19,
          0.81
         ],
         "yaxis": "y2"
        },
        {
         "hovertemplate": "player=Parasite<br>year=2019<br>hill time (s)=%{x}<br>k/d=%{y}<extra></extra>",
         "legendgroup": "Parasite",
         "marker": {
          "color": "#19d3f3",
          "symbol": "circle"
         },
         "mode": "markers",
         "name": "Parasite",
         "showlegend": false,
         "type": "scattergl",
         "x": [
          152,
          89,
          50,
          69,
          52,
          44
         ],
         "xaxis": "x3",
         "y": [
          1.93,
          1.93,
          1.24,
          0.87,
          0.95,
          0.81
         ],
         "yaxis": "y3"
        },
        {
         "hovertemplate": "player=Dashy<br>year=2017<br>hill time (s)=%{x}<br>k/d=%{y}<extra></extra>",
         "legendgroup": "Dashy",
         "marker": {
          "color": "#FF6692",
          "symbol": "circle"
         },
         "mode": "markers",
         "name": "Dashy",
         "showlegend": true,
         "type": "scattergl",
         "x": [
          57,
          32,
          90,
          109,
          46,
          50,
          44,
          59
         ],
         "xaxis": "x",
         "y": [
          0.94,
          1.14,
          1.08,
          1.14,
          1.67,
          0.76,
          0.78,
          0.95
         ],
         "yaxis": "y"
        },
        {
         "hovertemplate": "player=Dashy<br>year=2018<br>hill time (s)=%{x}<br>k/d=%{y}<extra></extra>",
         "legendgroup": "Dashy",
         "marker": {
          "color": "#FF6692",
          "symbol": "circle"
         },
         "mode": "markers",
         "name": "Dashy",
         "showlegend": false,
         "type": "scattergl",
         "x": [
          45,
          39,
          73,
          120,
          117,
          66,
          40,
          47,
          67
         ],
         "xaxis": "x2",
         "y": [
          1,
          1.13,
          1.24,
          2,
          1.44,
          1.76,
          0.94,
          1,
          1.08
         ],
         "yaxis": "y2"
        },
        {
         "hovertemplate": "player=Dashy<br>year=2019<br>hill time (s)=%{x}<br>k/d=%{y}<extra></extra>",
         "legendgroup": "Dashy",
         "marker": {
          "color": "#FF6692",
          "symbol": "circle"
         },
         "mode": "markers",
         "name": "Dashy",
         "showlegend": false,
         "type": "scattergl",
         "x": [
          68,
          75,
          101,
          51,
          60,
          99,
          95,
          111,
          37,
          83,
          86,
          103,
          95,
          15,
          28
         ],
         "xaxis": "x3",
         "y": [
          1.33,
          1.38,
          1.38,
          1.88,
          1.43,
          1.6,
          1.43,
          1.57,
          1.73,
          1.57,
          1.43,
          1.41,
          1.47,
          0.44,
          0.85
         ],
         "yaxis": "y3"
        },
        {
         "hovertemplate": "player=Ricky<br>year=2017<br>hill time (s)=%{x}<br>k/d=%{y}<extra></extra>",
         "legendgroup": "Ricky",
         "marker": {
          "color": "#B6E880",
          "symbol": "circle"
         },
         "mode": "markers",
         "name": "Ricky",
         "showlegend": true,
         "type": "scattergl",
         "x": [
          47,
          89,
          123,
          53,
          129,
          59,
          88,
          45
         ],
         "xaxis": "x",
         "y": [
          1.56,
          0.82,
          0.68,
          0.72,
          1,
          0.77,
          0.63,
          0.61
         ],
         "yaxis": "y"
        },
        {
         "hovertemplate": "player=Ricky<br>year=2018<br>hill time (s)=%{x}<br>k/d=%{y}<extra></extra>",
         "legendgroup": "Ricky",
         "marker": {
          "color": "#B6E880",
          "symbol": "circle"
         },
         "mode": "markers",
         "name": "Ricky",
         "showlegend": false,
         "type": "scattergl",
         "x": [
          78,
          69,
          106,
          59,
          81,
          111,
          48,
          78,
          120
         ],
         "xaxis": "x2",
         "y": [
          0.97,
          0.84,
          1.88,
          1.29,
          1.04,
          1.64,
          1,
          1.03,
          0.95
         ],
         "yaxis": "y2"
        },
        {
         "hovertemplate": "player=Study<br>year=2017<br>hill time (s)=%{x}<br>k/d=%{y}<extra></extra>",
         "legendgroup": "Study",
         "marker": {
          "color": "#FF97FF",
          "symbol": "circle"
         },
         "mode": "markers",
         "name": "Study",
         "showlegend": true,
         "type": "scattergl",
         "x": [
          92,
          64,
          71,
          47,
          52,
          55,
          47,
          14
         ],
         "xaxis": "x",
         "y": [
          0.89,
          1.05,
          1.11,
          0.68,
          0.8,
          1.08,
          1,
          0.55
         ],
         "yaxis": "y"
        },
        {
         "hovertemplate": "player=Temp<br>year=2017<br>hill time (s)=%{x}<br>k/d=%{y}<extra></extra>",
         "legendgroup": "Temp",
         "marker": {
          "color": "#FECB52",
          "symbol": "circle"
         },
         "mode": "markers",
         "name": "Temp",
         "showlegend": true,
         "type": "scattergl",
         "x": [
          91,
          115,
          36,
          45,
          68,
          37,
          124,
          48
         ],
         "xaxis": "x",
         "y": [
          1.57,
          1.58,
          1.14,
          1.04,
          2,
          0.81,
          1.18,
          0.71
         ],
         "yaxis": "y"
        },
        {
         "hovertemplate": "player=Temp<br>year=2018<br>hill time (s)=%{x}<br>k/d=%{y}<extra></extra>",
         "legendgroup": "Temp",
         "marker": {
          "color": "#FECB52",
          "symbol": "circle"
         },
         "mode": "markers",
         "name": "Temp",
         "showlegend": false,
         "type": "scattergl",
         "x": [
          9,
          73,
          45,
          0
         ],
         "xaxis": "x2",
         "y": [
          0.81,
          1.44,
          1.08,
          0.76
         ],
         "yaxis": "y2"
        },
        {
         "hovertemplate": "player=Temp<br>year=2019<br>hill time (s)=%{x}<br>k/d=%{y}<extra></extra>",
         "legendgroup": "Temp",
         "marker": {
          "color": "#FECB52",
          "symbol": "circle"
         },
         "mode": "markers",
         "name": "Temp",
         "showlegend": false,
         "type": "scattergl",
         "x": [
          72,
          68,
          85,
          111,
          40,
          55,
          5,
          41
         ],
         "xaxis": "x3",
         "y": [
          1.04,
          1.5,
          1.39,
          1.59,
          1.1,
          0.84,
          1.55,
          1
         ],
         "yaxis": "y3"
        },
        {
         "hovertemplate": "player=Carbines<br>year=2017<br>hill time (s)=%{x}<br>k/d=%{y}<extra></extra>",
         "legendgroup": "Carbines",
         "marker": {
          "color": "#636efa",
          "symbol": "circle"
         },
         "mode": "markers",
         "name": "Carbines",
         "showlegend": true,
         "type": "scattergl",
         "x": [
          35,
          35,
          49,
          30
         ],
         "xaxis": "x",
         "y": [
          0.65,
          0.72,
          0.57,
          0.81
         ],
         "yaxis": "y"
        },
        {
         "hovertemplate": "player=DREEALL<br>year=2017<br>hill time (s)=%{x}<br>k/d=%{y}<extra></extra>",
         "legendgroup": "DREEALL",
         "marker": {
          "color": "#EF553B",
          "symbol": "circle"
         },
         "mode": "markers",
         "name": "DREEALL",
         "showlegend": true,
         "type": "scattergl",
         "x": [
          30,
          44,
          26,
          23
         ],
         "xaxis": "x",
         "y": [
          1,
          0.94,
          1.06,
          0.66
         ],
         "yaxis": "y"
        },
        {
         "hovertemplate": "player=Verdict<br>year=2017<br>hill time (s)=%{x}<br>k/d=%{y}<extra></extra>",
         "legendgroup": "Verdict",
         "marker": {
          "color": "#00cc96",
          "symbol": "circle"
         },
         "mode": "markers",
         "name": "Verdict",
         "showlegend": true,
         "type": "scattergl",
         "x": [
          89,
          20,
          68,
          26
         ],
         "xaxis": "x",
         "y": [
          1.19,
          0.88,
          0.83,
          0.71
         ],
         "yaxis": "y"
        },
        {
         "hovertemplate": "player=Zayrox<br>year=2017<br>hill time (s)=%{x}<br>k/d=%{y}<extra></extra>",
         "legendgroup": "Zayrox",
         "marker": {
          "color": "#ab63fa",
          "symbol": "circle"
         },
         "mode": "markers",
         "name": "Zayrox",
         "showlegend": true,
         "type": "scattergl",
         "x": [
          78,
          10,
          21,
          65
         ],
         "xaxis": "x",
         "y": [
          1.32,
          0.29,
          0.68,
          0.79
         ],
         "yaxis": "y"
        },
        {
         "hovertemplate": "player=Zayrox<br>year=2018<br>hill time (s)=%{x}<br>k/d=%{y}<extra></extra>",
         "legendgroup": "Zayrox",
         "marker": {
          "color": "#ab63fa",
          "symbol": "circle"
         },
         "mode": "markers",
         "name": "Zayrox",
         "showlegend": false,
         "type": "scattergl",
         "x": [
          20,
          116,
          48,
          35
         ],
         "xaxis": "x2",
         "y": [
          0.91,
          1.5,
          0.83,
          0.88
         ],
         "yaxis": "y2"
        },
        {
         "hovertemplate": "player=Joee<br>year=2017<br>hill time (s)=%{x}<br>k/d=%{y}<extra></extra>",
         "legendgroup": "Joee",
         "marker": {
          "color": "#FFA15A",
          "symbol": "circle"
         },
         "mode": "markers",
         "name": "Joee",
         "showlegend": true,
         "type": "scattergl",
         "x": [
          73,
          18,
          61,
          46,
          57
         ],
         "xaxis": "x",
         "y": [
          0.74,
          0.52,
          0.45,
          0.57,
          0.54
         ],
         "yaxis": "y"
        },
        {
         "hovertemplate": "player=Joee<br>year=2018<br>hill time (s)=%{x}<br>k/d=%{y}<extra></extra>",
         "legendgroup": "Joee",
         "marker": {
          "color": "#FFA15A",
          "symbol": "circle"
         },
         "mode": "markers",
         "name": "Joee",
         "showlegend": false,
         "type": "scattergl",
         "x": [
          65,
          69,
          93,
          71,
          72,
          88,
          51,
          29,
          56,
          63,
          48
         ],
         "xaxis": "x2",
         "y": [
          0.79,
          1,
          1.56,
          0.79,
          0.81,
          0.76,
          0.48,
          1.02,
          1.1,
          0.63,
          1
         ],
         "yaxis": "y2"
        },
        {
         "hovertemplate": "player=Joee<br>year=2019<br>hill time (s)=%{x}<br>k/d=%{y}<extra></extra>",
         "legendgroup": "Joee",
         "marker": {
          "color": "#FFA15A",
          "symbol": "circle"
         },
         "mode": "markers",
         "name": "Joee",
         "showlegend": false,
         "type": "scattergl",
         "x": [
          27,
          55,
          46,
          58,
          72,
          57,
          149,
          93,
          31,
          52
         ],
         "xaxis": "x3",
         "y": [
          1.04,
          1.5,
          0.68,
          0.71,
          1,
          1.62,
          1.46,
          1.21,
          0.54,
          0.78
         ],
         "yaxis": "y3"
        },
        {
         "hovertemplate": "player=Rated<br>year=2017<br>hill time (s)=%{x}<br>k/d=%{y}<extra></extra>",
         "legendgroup": "Rated",
         "marker": {
          "color": "#19d3f3",
          "symbol": "circle"
         },
         "mode": "markers",
         "name": "Rated",
         "showlegend": true,
         "type": "scattergl",
         "x": [
          55,
          41,
          52,
          72,
          26
         ],
         "xaxis": "x",
         "y": [
          1.05,
          0.89,
          0.44,
          0.72,
          1
         ],
         "yaxis": "y"
        },
        {
         "hovertemplate": "player=Rated<br>year=2018<br>hill time (s)=%{x}<br>k/d=%{y}<extra></extra>",
         "legendgroup": "Rated",
         "marker": {
          "color": "#19d3f3",
          "symbol": "circle"
         },
         "mode": "markers",
         "name": "Rated",
         "showlegend": false,
         "type": "scattergl",
         "x": [
          71,
          69,
          79,
          106,
          77,
          104,
          39,
          87,
          126,
          120,
          114
         ],
         "xaxis": "x2",
         "y": [
          0.77,
          1.5,
          2.58,
          1.5,
          1.26,
          1.36,
          0.74,
          1.1,
          1.33,
          0.8,
          0.5
         ],
         "yaxis": "y2"
        },
        {
         "hovertemplate": "player=Rated<br>year=2019<br>hill time (s)=%{x}<br>k/d=%{y}<extra></extra>",
         "legendgroup": "Rated",
         "marker": {
          "color": "#19d3f3",
          "symbol": "circle"
         },
         "mode": "markers",
         "name": "Rated",
         "showlegend": false,
         "type": "scattergl",
         "x": [
          103,
          48,
          99,
          44,
          64,
          69,
          37,
          92,
          17,
          20
         ],
         "xaxis": "x3",
         "y": [
          1.37,
          1.5,
          2.7,
          1.09,
          1.17,
          1.12,
          0.63,
          1.35,
          0.83,
          1.08
         ],
         "yaxis": "y3"
        },
        {
         "hovertemplate": "player=Seany<br>year=2017<br>hill time (s)=%{x}<br>k/d=%{y}<extra></extra>",
         "legendgroup": "Seany",
         "marker": {
          "color": "#FF6692",
          "symbol": "circle"
         },
         "mode": "markers",
         "name": "Seany",
         "showlegend": true,
         "type": "scattergl",
         "x": [
          135,
          27,
          38,
          37,
          72
         ],
         "xaxis": "x",
         "y": [
          1.06,
          0.6,
          0.38,
          0.67,
          0.53
         ],
         "yaxis": "y"
        },
        {
         "hovertemplate": "player=Seany<br>year=2018<br>hill time (s)=%{x}<br>k/d=%{y}<extra></extra>",
         "legendgroup": "Seany",
         "marker": {
          "color": "#FF6692",
          "symbol": "circle"
         },
         "mode": "markers",
         "name": "Seany",
         "showlegend": false,
         "type": "scattergl",
         "x": [
          92,
          41,
          43,
          43,
          53,
          104,
          56
         ],
         "xaxis": "x2",
         "y": [
          0.95,
          2.06,
          2,
          1.03,
          0.76,
          1.14,
          0.74
         ],
         "yaxis": "y2"
        },
        {
         "hovertemplate": "player=Seany<br>year=2019<br>hill time (s)=%{x}<br>k/d=%{y}<extra></extra>",
         "legendgroup": "Seany",
         "marker": {
          "color": "#FF6692",
          "symbol": "circle"
         },
         "mode": "markers",
         "name": "Seany",
         "showlegend": false,
         "type": "scattergl",
         "x": [
          84,
          83,
          29,
          85,
          45
         ],
         "xaxis": "x3",
         "y": [
          1.4,
          0.81,
          0.76,
          1.77,
          0.73
         ],
         "yaxis": "y3"
        },
        {
         "hovertemplate": "player=Urban<br>year=2017<br>hill time (s)=%{x}<br>k/d=%{y}<extra></extra>",
         "legendgroup": "Urban",
         "marker": {
          "color": "#B6E880",
          "symbol": "circle"
         },
         "mode": "markers",
         "name": "Urban",
         "showlegend": true,
         "type": "scattergl",
         "x": [
          83,
          102,
          32,
          67,
          36
         ],
         "xaxis": "x",
         "y": [
          1.05,
          1.27,
          0.63,
          0.81,
          0.81
         ],
         "yaxis": "y"
        },
        {
         "hovertemplate": "player=Skrapz<br>year=2017<br>hill time (s)=%{x}<br>k/d=%{y}<extra></extra>",
         "legendgroup": "Skrapz",
         "marker": {
          "color": "#FF97FF",
          "symbol": "circle"
         },
         "mode": "markers",
         "name": "Skrapz",
         "showlegend": true,
         "type": "scattergl",
         "x": [
          84,
          47,
          82,
          98,
          60,
          61,
          45,
          40
         ],
         "xaxis": "x",
         "y": [
          1.29,
          0.9,
          1.06,
          0.96,
          1.13,
          0.83,
          0.73,
          0.52
         ],
         "yaxis": "y"
        },
        {
         "hovertemplate": "player=Skrapz<br>year=2018<br>hill time (s)=%{x}<br>k/d=%{y}<extra></extra>",
         "legendgroup": "Skrapz",
         "marker": {
          "color": "#FF97FF",
          "symbol": "circle"
         },
         "mode": "markers",
         "name": "Skrapz",
         "showlegend": false,
         "type": "scattergl",
         "x": [
          87,
          90,
          58,
          40,
          103,
          73,
          5,
          61,
          107,
          39,
          71
         ],
         "xaxis": "x2",
         "y": [
          1.33,
          1.26,
          1.14,
          0.64,
          1.69,
          1.24,
          0.83,
          1.05,
          1.06,
          1.05,
          1
         ],
         "yaxis": "y2"
        },
        {
         "hovertemplate": "player=Skrapz<br>year=2019<br>hill time (s)=%{x}<br>k/d=%{y}<extra></extra>",
         "legendgroup": "Skrapz",
         "marker": {
          "color": "#FF97FF",
          "symbol": "circle"
         },
         "mode": "markers",
         "name": "Skrapz",
         "showlegend": false,
         "type": "scattergl",
         "x": [
          130,
          102,
          100,
          96,
          170,
          98,
          30,
          118,
          130
         ],
         "xaxis": "x3",
         "y": [
          2.09,
          1.4,
          1.35,
          1.8,
          1.69,
          0.64,
          0.7,
          1.09,
          1.25
         ],
         "yaxis": "y3"
        },
        {
         "hovertemplate": "player=SunnyB<br>year=2017<br>hill time (s)=%{x}<br>k/d=%{y}<extra></extra>",
         "legendgroup": "SunnyB",
         "marker": {
          "color": "#FECB52",
          "symbol": "circle"
         },
         "mode": "markers",
         "name": "SunnyB",
         "showlegend": true,
         "type": "scattergl",
         "x": [
          39,
          19,
          95,
          49,
          84,
          88,
          7,
          43
         ],
         "xaxis": "x",
         "y": [
          1.06,
          0.71,
          1.77,
          0.88,
          1.06,
          1.11,
          0.42,
          0.65
         ],
         "yaxis": "y"
        },
        {
         "hovertemplate": "player=Tommey<br>year=2017<br>hill time (s)=%{x}<br>k/d=%{y}<extra></extra>",
         "legendgroup": "Tommey",
         "marker": {
          "color": "#636efa",
          "symbol": "circle"
         },
         "mode": "markers",
         "name": "Tommey",
         "showlegend": true,
         "type": "scattergl",
         "x": [
          67,
          91,
          71,
          54,
          48,
          95,
          22,
          81
         ],
         "xaxis": "x",
         "y": [
          1.17,
          0.74,
          0.65,
          0.96,
          1.33,
          1.08,
          0.93,
          0.53
         ],
         "yaxis": "y"
        },
        {
         "hovertemplate": "player=Tommey<br>year=2018<br>hill time (s)=%{x}<br>k/d=%{y}<extra></extra>",
         "legendgroup": "Tommey",
         "marker": {
          "color": "#636efa",
          "symbol": "circle"
         },
         "mode": "markers",
         "name": "Tommey",
         "showlegend": false,
         "type": "scattergl",
         "x": [
          78,
          42,
          38,
          0,
          28,
          89,
          48,
          27
         ],
         "xaxis": "x2",
         "y": [
          0.68,
          0.74,
          0.84,
          1.28,
          0.41,
          0.91,
          1,
          0.71
         ],
         "yaxis": "y2"
        },
        {
         "hovertemplate": "player=Tommey<br>year=2019<br>hill time (s)=%{x}<br>k/d=%{y}<extra></extra>",
         "legendgroup": "Tommey",
         "marker": {
          "color": "#636efa",
          "symbol": "circle"
         },
         "mode": "markers",
         "name": "Tommey",
         "showlegend": false,
         "type": "scattergl",
         "x": [
          32,
          77,
          59,
          81,
          109,
          106,
          7,
          48,
          39,
          26
         ],
         "xaxis": "x3",
         "y": [
          0.64,
          1.04,
          1.05,
          1.44,
          1.83,
          1.29,
          0.52,
          0.62,
          0.55,
          1.27
         ],
         "yaxis": "y3"
        },
        {
         "hovertemplate": "player=Wuskin<br>year=2017<br>hill time (s)=%{x}<br>k/d=%{y}<extra></extra>",
         "legendgroup": "Wuskin",
         "marker": {
          "color": "#EF553B",
          "symbol": "circle"
         },
         "mode": "markers",
         "name": "Wuskin",
         "showlegend": true,
         "type": "scattergl",
         "x": [
          85,
          44,
          90,
          69,
          115,
          33,
          41,
          8
         ],
         "xaxis": "x",
         "y": [
          1.27,
          0.7,
          1.53,
          1.19,
          0.95,
          0.74,
          0.68,
          0.89
         ],
         "yaxis": "y"
        },
        {
         "hovertemplate": "player=Wuskin<br>year=2018<br>hill time (s)=%{x}<br>k/d=%{y}<extra></extra>",
         "legendgroup": "Wuskin",
         "marker": {
          "color": "#EF553B",
          "symbol": "circle"
         },
         "mode": "markers",
         "name": "Wuskin",
         "showlegend": false,
         "type": "scattergl",
         "x": [
          105,
          80,
          71,
          101,
          90,
          26,
          31
         ],
         "xaxis": "x2",
         "y": [
          0.93,
          0.95,
          1,
          1.26,
          0.9,
          0.96,
          0.76
         ],
         "yaxis": "y2"
        },
        {
         "hovertemplate": "player=Wuskin<br>year=2019<br>hill time (s)=%{x}<br>k/d=%{y}<extra></extra>",
         "legendgroup": "Wuskin",
         "marker": {
          "color": "#EF553B",
          "symbol": "circle"
         },
         "mode": "markers",
         "name": "Wuskin",
         "showlegend": false,
         "type": "scattergl",
         "x": [
          85,
          60,
          77,
          66,
          57,
          100,
          47,
          80,
          83,
          70,
          15,
          15
         ],
         "xaxis": "x3",
         "y": [
          1.77,
          1.19,
          0.86,
          1.21,
          0.89,
          1.31,
          0.29,
          1.11,
          0.59,
          0.81,
          0.48,
          0.5
         ],
         "yaxis": "y3"
        },
        {
         "hovertemplate": "player=Damage<br>year=2017<br>hill time (s)=%{x}<br>k/d=%{y}<extra></extra>",
         "legendgroup": "Damage",
         "marker": {
          "color": "#00cc96",
          "symbol": "circle"
         },
         "mode": "markers",
         "name": "Damage",
         "showlegend": true,
         "type": "scattergl",
         "x": [
          91,
          83,
          79,
          24,
          77
         ],
         "xaxis": "x",
         "y": [
          0.59,
          1.46,
          1.25,
          0.57,
          0.83
         ],
         "yaxis": "y"
        },
        {
         "hovertemplate": "player=Damage<br>year=2018<br>hill time (s)=%{x}<br>k/d=%{y}<extra></extra>",
         "legendgroup": "Damage",
         "marker": {
          "color": "#00cc96",
          "symbol": "circle"
         },
         "mode": "markers",
         "name": "Damage",
         "showlegend": false,
         "type": "scattergl",
         "x": [
          79,
          97,
          56,
          81,
          45,
          115
         ],
         "xaxis": "x2",
         "y": [
          1.15,
          1.22,
          1.2,
          1.09,
          1.11,
          0.62
         ],
         "yaxis": "y2"
        },
        {
         "hovertemplate": "player=Excite<br>year=2017<br>hill time (s)=%{x}<br>k/d=%{y}<extra></extra>",
         "legendgroup": "Excite",
         "marker": {
          "color": "#ab63fa",
          "symbol": "circle"
         },
         "mode": "markers",
         "name": "Excite",
         "showlegend": true,
         "type": "scattergl",
         "x": [
          56,
          38,
          29,
          81,
          71
         ],
         "xaxis": "x",
         "y": [
          1.2,
          1.47,
          0.72,
          1.17,
          1.45
         ],
         "yaxis": "y"
        },
        {
         "hovertemplate": "player=Nimble<br>year=2017<br>hill time (s)=%{x}<br>k/d=%{y}<extra></extra>",
         "legendgroup": "Nimble",
         "marker": {
          "color": "#FFA15A",
          "symbol": "circle"
         },
         "mode": "markers",
         "name": "Nimble",
         "showlegend": true,
         "type": "scattergl",
         "x": [
          19,
          89,
          59,
          71,
          28
         ],
         "xaxis": "x",
         "y": [
          0.91,
          1.31,
          0.65,
          0.82,
          0.77
         ],
         "yaxis": "y"
        },
        {
         "hovertemplate": "player=Nimble<br>year=2018<br>hill time (s)=%{x}<br>k/d=%{y}<extra></extra>",
         "legendgroup": "Nimble",
         "marker": {
          "color": "#FFA15A",
          "symbol": "circle"
         },
         "mode": "markers",
         "name": "Nimble",
         "showlegend": false,
         "type": "scattergl",
         "x": [
          99,
          39,
          72,
          28,
          52,
          31
         ],
         "xaxis": "x2",
         "y": [
          1.23,
          0.86,
          0.95,
          0.8,
          1.26,
          0.93
         ],
         "yaxis": "y2"
        },
        {
         "hovertemplate": "player=Swifty<br>year=2017<br>hill time (s)=%{x}<br>k/d=%{y}<extra></extra>",
         "legendgroup": "Swifty",
         "marker": {
          "color": "#19d3f3",
          "symbol": "circle"
         },
         "mode": "markers",
         "name": "Swifty",
         "showlegend": true,
         "type": "scattergl",
         "x": [
          67,
          70,
          48,
          47,
          86
         ],
         "xaxis": "x",
         "y": [
          0.57,
          1,
          1,
          0.54,
          0.76
         ],
         "yaxis": "y"
        },
        {
         "hovertemplate": "player=Swifty<br>year=2018<br>hill time (s)=%{x}<br>k/d=%{y}<extra></extra>",
         "legendgroup": "Swifty",
         "marker": {
          "color": "#19d3f3",
          "symbol": "circle"
         },
         "mode": "markers",
         "name": "Swifty",
         "showlegend": false,
         "type": "scattergl",
         "x": [
          58,
          76,
          30,
          17,
          136,
          57
         ],
         "xaxis": "x2",
         "y": [
          0.81,
          1.23,
          0.61,
          0.57,
          1.46,
          1.46
         ],
         "yaxis": "y2"
        },
        {
         "hovertemplate": "player=Aches<br>year=2017<br>hill time (s)=%{x}<br>k/d=%{y}<extra></extra>",
         "legendgroup": "Aches",
         "marker": {
          "color": "#FF6692",
          "symbol": "circle"
         },
         "mode": "markers",
         "name": "Aches",
         "showlegend": true,
         "type": "scattergl",
         "x": [
          92,
          57,
          123,
          5,
          19,
          27,
          89,
          53
         ],
         "xaxis": "x",
         "y": [
          1.09,
          1.47,
          2.67,
          0.68,
          0.62,
          0.54,
          0.82,
          0.83
         ],
         "yaxis": "y"
        },
        {
         "hovertemplate": "player=Aches<br>year=2018<br>hill time (s)=%{x}<br>k/d=%{y}<extra></extra>",
         "legendgroup": "Aches",
         "marker": {
          "color": "#FF6692",
          "symbol": "circle"
         },
         "mode": "markers",
         "name": "Aches",
         "showlegend": false,
         "type": "scattergl",
         "x": [
          73,
          34,
          63,
          33,
          21,
          89,
          52,
          17,
          72,
          21,
          63,
          37,
          110,
          83
         ],
         "xaxis": "x2",
         "y": [
          0.78,
          1.13,
          0.78,
          0.86,
          0.77,
          2.17,
          1,
          1.04,
          1.65,
          1.16,
          1.18,
          0.76,
          0.67,
          0.77
         ],
         "yaxis": "y2"
        },
        {
         "hovertemplate": "player=Aches<br>year=2019<br>hill time (s)=%{x}<br>k/d=%{y}<extra></extra>",
         "legendgroup": "Aches",
         "marker": {
          "color": "#FF6692",
          "symbol": "circle"
         },
         "mode": "markers",
         "name": "Aches",
         "showlegend": false,
         "type": "scattergl",
         "x": [
          118,
          36,
          30,
          55,
          53,
          35,
          54,
          5,
          67,
          13
         ],
         "xaxis": "x3",
         "y": [
          0.73,
          1.12,
          0.38,
          0.67,
          1.11,
          0.74,
          0.76,
          0.5,
          0.52,
          0.42
         ],
         "yaxis": "y3"
        },
        {
         "hovertemplate": "player=Assault<br>year=2017<br>hill time (s)=%{x}<br>k/d=%{y}<extra></extra>",
         "legendgroup": "Assault",
         "marker": {
          "color": "#B6E880",
          "symbol": "circle"
         },
         "mode": "markers",
         "name": "Assault",
         "showlegend": true,
         "type": "scattergl",
         "x": [
          74,
          74,
          72,
          59,
          26,
          98,
          41,
          77
         ],
         "xaxis": "x",
         "y": [
          1.4,
          1.5,
          1.2,
          0.95,
          0.72,
          0.9,
          1.13,
          1.53
         ],
         "yaxis": "y"
        },
        {
         "hovertemplate": "player=Assault<br>year=2018<br>hill time (s)=%{x}<br>k/d=%{y}<extra></extra>",
         "legendgroup": "Assault",
         "marker": {
          "color": "#B6E880",
          "symbol": "circle"
         },
         "mode": "markers",
         "name": "Assault",
         "showlegend": false,
         "type": "scattergl",
         "x": [
          85,
          84,
          86,
          31,
          28,
          91,
          92,
          116,
          52,
          51,
          9,
          23,
          34,
          90
         ],
         "xaxis": "x2",
         "y": [
          1.16,
          1.19,
          1.27,
          1.1,
          0.91,
          1.53,
          1.41,
          0.76,
          1,
          0.69,
          1.25,
          1.55,
          0.76,
          1.43
         ],
         "yaxis": "y2"
        },
        {
         "hovertemplate": "player=Assault<br>year=2019<br>hill time (s)=%{x}<br>k/d=%{y}<extra></extra>",
         "legendgroup": "Assault",
         "marker": {
          "color": "#B6E880",
          "symbol": "circle"
         },
         "mode": "markers",
         "name": "Assault",
         "showlegend": false,
         "type": "scattergl",
         "x": [
          120,
          48,
          71,
          59,
          94,
          83,
          80,
          15,
          71,
          29
         ],
         "xaxis": "x3",
         "y": [
          1.45,
          1.08,
          0.92,
          0.92,
          1,
          0.5,
          1.23,
          1,
          1.11,
          0.56
         ],
         "yaxis": "y3"
        },
        {
         "hovertemplate": "player=Priestah<br>year=2017<br>hill time (s)=%{x}<br>k/d=%{y}<extra></extra>",
         "legendgroup": "Priestah",
         "marker": {
          "color": "#FF97FF",
          "symbol": "circle"
         },
         "mode": "markers",
         "name": "Priestah",
         "showlegend": true,
         "type": "scattergl",
         "x": [
          67,
          71,
          29,
          27,
          34,
          64,
          50,
          62
         ],
         "xaxis": "x",
         "y": [
          1,
          0.92,
          2.3,
          0.54,
          0.56,
          0.88,
          1.29,
          0.76
         ],
         "yaxis": "y"
        },
        {
         "hovertemplate": "player=Priestah<br>year=2018<br>hill time (s)=%{x}<br>k/d=%{y}<extra></extra>",
         "legendgroup": "Priestah",
         "marker": {
          "color": "#FF97FF",
          "symbol": "circle"
         },
         "mode": "markers",
         "name": "Priestah",
         "showlegend": false,
         "type": "scattergl",
         "x": [
          103,
          62,
          40,
          100,
          103,
          86,
          115,
          60,
          115,
          115,
          57,
          83,
          141,
          42,
          84,
          97,
          65
         ],
         "xaxis": "x2",
         "y": [
          0.93,
          1.47,
          0.67,
          1.43,
          1.08,
          1.1,
          1.33,
          0.85,
          1.26,
          1.47,
          1.69,
          1.47,
          1.04,
          1.19,
          0.77,
          1.54,
          0.76
         ],
         "yaxis": "y2"
        },
        {
         "hovertemplate": "player=Xotic<br>year=2017<br>hill time (s)=%{x}<br>k/d=%{y}<extra></extra>",
         "legendgroup": "Xotic",
         "marker": {
          "color": "#FECB52",
          "symbol": "circle"
         },
         "mode": "markers",
         "name": "Xotic",
         "showlegend": true,
         "type": "scattergl",
         "x": [
          134,
          85,
          65,
          72,
          83,
          54,
          69,
          81
         ],
         "xaxis": "x",
         "y": [
          0.86,
          1,
          2.75,
          0.71,
          1,
          0.5,
          0.73,
          0.81
         ],
         "yaxis": "y"
        },
        {
         "hovertemplate": "player=Xotic<br>year=2018<br>hill time (s)=%{x}<br>k/d=%{y}<extra></extra>",
         "legendgroup": "Xotic",
         "marker": {
          "color": "#FECB52",
          "symbol": "circle"
         },
         "mode": "markers",
         "name": "Xotic",
         "showlegend": false,
         "type": "scattergl",
         "x": [
          61,
          83,
          49,
          34,
          72,
          25,
          71,
          35
         ],
         "xaxis": "x2",
         "y": [
          1,
          1.03,
          1.12,
          1.43,
          1.4,
          1.95,
          0.89,
          0.83
         ],
         "yaxis": "y2"
        },
        {
         "hovertemplate": "player=Xotic<br>year=2019<br>hill time (s)=%{x}<br>k/d=%{y}<extra></extra>",
         "legendgroup": "Xotic",
         "marker": {
          "color": "#FECB52",
          "symbol": "circle"
         },
         "mode": "markers",
         "name": "Xotic",
         "showlegend": false,
         "type": "scattergl",
         "x": [
          76,
          79,
          41,
          68,
          31,
          76,
          76,
          68,
          117,
          82,
          68
         ],
         "xaxis": "x3",
         "y": [
          1.38,
          1.25,
          1.31,
          0.65,
          0.72,
          1.38,
          0.88,
          0.86,
          0.68,
          1.19,
          0.92
         ],
         "yaxis": "y3"
        },
        {
         "hovertemplate": "player=GodRx<br>year=2017<br>hill time (s)=%{x}<br>k/d=%{y}<extra></extra>",
         "legendgroup": "GodRx",
         "marker": {
          "color": "#636efa",
          "symbol": "circle"
         },
         "mode": "markers",
         "name": "GodRx",
         "showlegend": true,
         "type": "scattergl",
         "x": [
          58,
          27,
          54,
          40,
          68,
          59
         ],
         "xaxis": "x",
         "y": [
          1.22,
          0.75,
          1,
          0.96,
          0.91,
          1.38
         ],
         "yaxis": "y"
        },
        {
         "hovertemplate": "player=GodRx<br>year=2018<br>hill time (s)=%{x}<br>k/d=%{y}<extra></extra>",
         "legendgroup": "GodRx",
         "marker": {
          "color": "#636efa",
          "symbol": "circle"
         },
         "mode": "markers",
         "name": "GodRx",
         "showlegend": false,
         "type": "scattergl",
         "x": [
          76,
          25,
          59,
          79,
          25,
          76,
          55,
          87,
          60,
          40
         ],
         "xaxis": "x2",
         "y": [
          1.15,
          0.89,
          1.23,
          0.7,
          0.97,
          1.87,
          1.55,
          1.09,
          0.58,
          1.06
         ],
         "yaxis": "y2"
        },
        {
         "hovertemplate": "player=GodRx<br>year=2019<br>hill time (s)=%{x}<br>k/d=%{y}<extra></extra>",
         "legendgroup": "GodRx",
         "marker": {
          "color": "#636efa",
          "symbol": "circle"
         },
         "mode": "markers",
         "name": "GodRx",
         "showlegend": false,
         "type": "scattergl",
         "x": [
          68,
          74,
          98,
          59,
          87,
          27,
          45,
          59,
          96,
          21,
          56,
          51,
          66
         ],
         "xaxis": "x3",
         "y": [
          1,
          1.05,
          3.44,
          1.22,
          1.24,
          0.56,
          1.22,
          1.16,
          1.47,
          0.58,
          1.14,
          0.88,
          0.96
         ],
         "yaxis": "y3"
        },
        {
         "hovertemplate": "player=Johnny<br>year=2017<br>hill time (s)=%{x}<br>k/d=%{y}<extra></extra>",
         "legendgroup": "Johnny",
         "marker": {
          "color": "#EF553B",
          "symbol": "circle"
         },
         "mode": "markers",
         "name": "Johnny",
         "showlegend": true,
         "type": "scattergl",
         "x": [
          81,
          58,
          140,
          76,
          25,
          70
         ],
         "xaxis": "x",
         "y": [
          0.61,
          0.54,
          1.44,
          0.74,
          0.58,
          1.04
         ],
         "yaxis": "y"
        },
        {
         "hovertemplate": "player=Pandur<br>year=2017<br>hill time (s)=%{x}<br>k/d=%{y}<extra></extra>",
         "legendgroup": "Pandur",
         "marker": {
          "color": "#00cc96",
          "symbol": "circle"
         },
         "mode": "markers",
         "name": "Pandur",
         "showlegend": true,
         "type": "scattergl",
         "x": [
          66,
          85,
          29,
          46,
          78,
          63
         ],
         "xaxis": "x",
         "y": [
          1,
          1.17,
          1,
          0.81,
          0.75,
          0.88
         ],
         "yaxis": "y"
        },
        {
         "hovertemplate": "player=Pandur<br>year=2018<br>hill time (s)=%{x}<br>k/d=%{y}<extra></extra>",
         "legendgroup": "Pandur",
         "marker": {
          "color": "#00cc96",
          "symbol": "circle"
         },
         "mode": "markers",
         "name": "Pandur",
         "showlegend": false,
         "type": "scattergl",
         "x": [
          113,
          58,
          41,
          124,
          82,
          84,
          125,
          26,
          48,
          25
         ],
         "xaxis": "x2",
         "y": [
          1.21,
          1.12,
          0.78,
          0.89,
          0.88,
          1.12,
          1.94,
          0.7,
          1.19,
          0.76
         ],
         "yaxis": "y2"
        },
        {
         "hovertemplate": "player=Pandur<br>year=2019<br>hill time (s)=%{x}<br>k/d=%{y}<extra></extra>",
         "legendgroup": "Pandur",
         "marker": {
          "color": "#00cc96",
          "symbol": "circle"
         },
         "mode": "markers",
         "name": "Pandur",
         "showlegend": false,
         "type": "scattergl",
         "x": [
          74,
          119,
          75,
          67,
          80
         ],
         "xaxis": "x3",
         "y": [
          0.72,
          0.92,
          1.39,
          0.91,
          1.1
         ],
         "yaxis": "y3"
        },
        {
         "hovertemplate": "player=Stamino<br>year=2017<br>hill time (s)=%{x}<br>k/d=%{y}<extra></extra>",
         "legendgroup": "Stamino",
         "marker": {
          "color": "#ab63fa",
          "symbol": "circle"
         },
         "mode": "markers",
         "name": "Stamino",
         "showlegend": true,
         "type": "scattergl",
         "x": [
          68,
          86,
          53,
          131,
          123,
          118
         ],
         "xaxis": "x",
         "y": [
          0.89,
          0.88,
          1.16,
          1.04,
          0.86,
          1.18
         ],
         "yaxis": "y"
        },
        {
         "hovertemplate": "player=Stamino<br>year=2019<br>hill time (s)=%{x}<br>k/d=%{y}<extra></extra>",
         "legendgroup": "Stamino",
         "marker": {
          "color": "#ab63fa",
          "symbol": "circle"
         },
         "mode": "markers",
         "name": "Stamino",
         "showlegend": false,
         "type": "scattergl",
         "x": [
          15,
          50,
          50,
          100,
          97
         ],
         "xaxis": "x3",
         "y": [
          0.65,
          0.73,
          0.76,
          0.77,
          0.77
         ],
         "yaxis": "y3"
        },
        {
         "hovertemplate": "player=Bance<br>year=2017<br>hill time (s)=%{x}<br>k/d=%{y}<extra></extra>",
         "legendgroup": "Bance",
         "marker": {
          "color": "#FFA15A",
          "symbol": "circle"
         },
         "mode": "markers",
         "name": "Bance",
         "showlegend": true,
         "type": "scattergl",
         "x": [
          75,
          53,
          138,
          65,
          57,
          125,
          46,
          50,
          83,
          35,
          95
         ],
         "xaxis": "x",
         "y": [
          1.15,
          0.7,
          1.24,
          0.7,
          0.77,
          1.32,
          0.7,
          1.18,
          1.12,
          0.76,
          0.9
         ],
         "yaxis": "y"
        },
        {
         "hovertemplate": "player=Bance<br>year=2018<br>hill time (s)=%{x}<br>k/d=%{y}<extra></extra>",
         "legendgroup": "Bance",
         "marker": {
          "color": "#FFA15A",
          "symbol": "circle"
         },
         "mode": "markers",
         "name": "Bance",
         "showlegend": false,
         "type": "scattergl",
         "x": [
          114,
          18,
          92,
          59,
          50
         ],
         "xaxis": "x2",
         "y": [
          2.78,
          1.2,
          1.6,
          0.71,
          1.08
         ],
         "yaxis": "y2"
        },
        {
         "hovertemplate": "player=Bance<br>year=2019<br>hill time (s)=%{x}<br>k/d=%{y}<extra></extra>",
         "legendgroup": "Bance",
         "marker": {
          "color": "#FFA15A",
          "symbol": "circle"
         },
         "mode": "markers",
         "name": "Bance",
         "showlegend": false,
         "type": "scattergl",
         "x": [
          91,
          87,
          20,
          66,
          20
         ],
         "xaxis": "x3",
         "y": [
          0.86,
          1.04,
          0.64,
          0.94,
          0.62
         ],
         "yaxis": "y3"
        },
        {
         "hovertemplate": "player=Jurd<br>year=2017<br>hill time (s)=%{x}<br>k/d=%{y}<extra></extra>",
         "legendgroup": "Jurd",
         "marker": {
          "color": "#19d3f3",
          "symbol": "circle"
         },
         "mode": "markers",
         "name": "Jurd",
         "showlegend": true,
         "type": "scattergl",
         "x": [
          33,
          69,
          99,
          61,
          83,
          34,
          77,
          38,
          104,
          27,
          70
         ],
         "xaxis": "x",
         "y": [
          1.15,
          0.68,
          1.12,
          1.09,
          0.79,
          1.04,
          1.05,
          0.84,
          0.81,
          0.74,
          0.95
         ],
         "yaxis": "y"
        },
        {
         "hovertemplate": "player=Jurd<br>year=2018<br>hill time (s)=%{x}<br>k/d=%{y}<extra></extra>",
         "legendgroup": "Jurd",
         "marker": {
          "color": "#19d3f3",
          "symbol": "circle"
         },
         "mode": "markers",
         "name": "Jurd",
         "showlegend": false,
         "type": "scattergl",
         "x": [
          31,
          51,
          91,
          16,
          31
         ],
         "xaxis": "x2",
         "y": [
          1.73,
          0.77,
          1.43,
          0.83,
          0.81
         ],
         "yaxis": "y2"
        },
        {
         "hovertemplate": "player=Jurd<br>year=2019<br>hill time (s)=%{x}<br>k/d=%{y}<extra></extra>",
         "legendgroup": "Jurd",
         "marker": {
          "color": "#19d3f3",
          "symbol": "circle"
         },
         "mode": "markers",
         "name": "Jurd",
         "showlegend": false,
         "type": "scattergl",
         "x": [
          82,
          63,
          87,
          49,
          18,
          55,
          55,
          57
         ],
         "xaxis": "x3",
         "y": [
          1.36,
          0.92,
          0.97,
          1.05,
          0.52,
          0.95,
          0.83,
          1.4
         ],
         "yaxis": "y3"
        },
        {
         "hovertemplate": "player=MadCat<br>year=2017<br>hill time (s)=%{x}<br>k/d=%{y}<extra></extra>",
         "legendgroup": "MadCat",
         "marker": {
          "color": "#FF6692",
          "symbol": "circle"
         },
         "mode": "markers",
         "name": "MadCat",
         "showlegend": true,
         "type": "scattergl",
         "x": [
          17,
          69,
          58,
          24,
          73,
          78,
          57,
          148,
          70,
          76,
          58
         ],
         "xaxis": "x",
         "y": [
          0.68,
          1.64,
          1.75,
          0.82,
          1.18,
          0.79,
          0.86,
          1.11,
          1.3,
          1.17,
          1
         ],
         "yaxis": "y"
        },
        {
         "hovertemplate": "player=MadCat<br>year=2018<br>hill time (s)=%{x}<br>k/d=%{y}<extra></extra>",
         "legendgroup": "MadCat",
         "marker": {
          "color": "#FF6692",
          "symbol": "circle"
         },
         "mode": "markers",
         "name": "MadCat",
         "showlegend": false,
         "type": "scattergl",
         "x": [
          116,
          44,
          72,
          29,
          92
         ],
         "xaxis": "x2",
         "y": [
          1.15,
          0.68,
          0.64,
          0.9,
          0.83
         ],
         "yaxis": "y2"
        },
        {
         "hovertemplate": "player=MadCat<br>year=2019<br>hill time (s)=%{x}<br>k/d=%{y}<extra></extra>",
         "legendgroup": "MadCat",
         "marker": {
          "color": "#FF6692",
          "symbol": "circle"
         },
         "mode": "markers",
         "name": "MadCat",
         "showlegend": false,
         "type": "scattergl",
         "x": [
          61,
          74,
          84,
          6,
          31
         ],
         "xaxis": "x3",
         "y": [
          1.12,
          1.32,
          1,
          1,
          0.71
         ],
         "yaxis": "y3"
        },
        {
         "hovertemplate": "player=Zero<br>year=2017<br>hill time (s)=%{x}<br>k/d=%{y}<extra></extra>",
         "legendgroup": "Zero",
         "marker": {
          "color": "#B6E880",
          "symbol": "circle"
         },
         "mode": "markers",
         "name": "Zero",
         "showlegend": true,
         "type": "scattergl",
         "x": [
          55,
          45,
          47,
          58,
          24,
          41,
          52,
          87,
          40,
          48,
          85
         ],
         "xaxis": "x",
         "y": [
          0.57,
          0.81,
          0.91,
          0.8,
          1.13,
          1,
          0.9,
          0.61,
          1.05,
          0.65,
          0.74
         ],
         "yaxis": "y"
        },
        {
         "hovertemplate": "player=Accuracy<br>year=2017<br>hill time (s)=%{x}<br>k/d=%{y}<extra></extra>",
         "legendgroup": "Accuracy",
         "marker": {
          "color": "#FF97FF",
          "symbol": "circle"
         },
         "mode": "markers",
         "name": "Accuracy",
         "showlegend": true,
         "type": "scattergl",
         "x": [
          77,
          125,
          95,
          89,
          78,
          26
         ],
         "xaxis": "x",
         "y": [
          2.07,
          0.61,
          0.83,
          0.91,
          1,
          0.94
         ],
         "yaxis": "y"
        },
        {
         "hovertemplate": "player=Accuracy<br>year=2018<br>hill time (s)=%{x}<br>k/d=%{y}<extra></extra>",
         "legendgroup": "Accuracy",
         "marker": {
          "color": "#FF97FF",
          "symbol": "circle"
         },
         "mode": "markers",
         "name": "Accuracy",
         "showlegend": false,
         "type": "scattergl",
         "x": [
          101,
          81,
          82,
          118,
          149,
          86,
          95,
          42,
          106,
          30,
          94,
          70,
          91,
          50,
          146,
          121,
          154,
          125
         ],
         "xaxis": "x2",
         "y": [
          0.85,
          1.03,
          1.33,
          1.36,
          2.12,
          0.8,
          1.09,
          1.15,
          0.88,
          0.66,
          1.64,
          1,
          0.68,
          0.66,
          0.71,
          0.81,
          1.37,
          1.5
         ],
         "yaxis": "y2"
        },
        {
         "hovertemplate": "player=Accuracy<br>year=2019<br>hill time (s)=%{x}<br>k/d=%{y}<extra></extra>",
         "legendgroup": "Accuracy",
         "marker": {
          "color": "#FF97FF",
          "symbol": "circle"
         },
         "mode": "markers",
         "name": "Accuracy",
         "showlegend": false,
         "type": "scattergl",
         "x": [
          104,
          91,
          158,
          64,
          89,
          92,
          140,
          61,
          79,
          110,
          72
         ],
         "xaxis": "x3",
         "y": [
          1.64,
          1,
          1.23,
          1.36,
          0.81,
          1.42,
          1.39,
          1,
          1.1,
          1.12,
          0.83
         ],
         "yaxis": "y3"
        },
        {
         "hovertemplate": "player=Goonjar<br>year=2017<br>hill time (s)=%{x}<br>k/d=%{y}<extra></extra>",
         "legendgroup": "Goonjar",
         "marker": {
          "color": "#FECB52",
          "symbol": "circle"
         },
         "mode": "markers",
         "name": "Goonjar",
         "showlegend": true,
         "type": "scattergl",
         "x": [
          18,
          21,
          56,
          23,
          21,
          61
         ],
         "xaxis": "x",
         "y": [
          0.62,
          1.5,
          0.69,
          0.81,
          0.73,
          0.83
         ],
         "yaxis": "y"
        },
        {
         "hovertemplate": "player=Goonjar<br>year=2018<br>hill time (s)=%{x}<br>k/d=%{y}<extra></extra>",
         "legendgroup": "Goonjar",
         "marker": {
          "color": "#FECB52",
          "symbol": "circle"
         },
         "mode": "markers",
         "name": "Goonjar",
         "showlegend": false,
         "type": "scattergl",
         "x": [
          83,
          49,
          115,
          70,
          113,
          70,
          35,
          67
         ],
         "xaxis": "x2",
         "y": [
          0.93,
          1.06,
          1.47,
          0.5,
          0.95,
          1.24,
          0.9,
          0.81
         ],
         "yaxis": "y2"
        },
        {
         "hovertemplate": "player=Happy<br>year=2017<br>hill time (s)=%{x}<br>k/d=%{y}<extra></extra>",
         "legendgroup": "Happy",
         "marker": {
          "color": "#636efa",
          "symbol": "circle"
         },
         "mode": "markers",
         "name": "Happy",
         "showlegend": true,
         "type": "scattergl",
         "x": [
          39,
          70,
          100,
          76,
          67,
          61
         ],
         "xaxis": "x",
         "y": [
          1,
          0.85,
          0.85,
          1.1,
          1.05,
          1
         ],
         "yaxis": "y"
        },
        {
         "hovertemplate": "player=Theory<br>year=2017<br>hill time (s)=%{x}<br>k/d=%{y}<extra></extra>",
         "legendgroup": "Theory",
         "marker": {
          "color": "#EF553B",
          "symbol": "circle"
         },
         "mode": "markers",
         "name": "Theory",
         "showlegend": true,
         "type": "scattergl",
         "x": [
          134,
          101,
          54,
          65,
          126,
          36
         ],
         "xaxis": "x",
         "y": [
          1.16,
          1.67,
          0.7,
          1.04,
          0.62,
          0.82
         ],
         "yaxis": "y"
        },
        {
         "hovertemplate": "player=Theory<br>year=2018<br>hill time (s)=%{x}<br>k/d=%{y}<extra></extra>",
         "legendgroup": "Theory",
         "marker": {
          "color": "#EF553B",
          "symbol": "circle"
         },
         "mode": "markers",
         "name": "Theory",
         "showlegend": false,
         "type": "scattergl",
         "x": [
          62,
          44,
          44,
          13,
          53,
          36,
          54,
          64
         ],
         "xaxis": "x2",
         "y": [
          1,
          0.74,
          0.71,
          0.67,
          1.31,
          0.69,
          0.82,
          0.77
         ],
         "yaxis": "y2"
        },
        {
         "hovertemplate": "player=Lacefield<br>year=2017<br>hill time (s)=%{x}<br>k/d=%{y}<extra></extra>",
         "legendgroup": "Lacefield",
         "marker": {
          "color": "#00cc96",
          "symbol": "circle"
         },
         "mode": "markers",
         "name": "Lacefield",
         "showlegend": true,
         "type": "scattergl",
         "x": [
          29,
          65,
          83,
          64,
          64,
          99,
          140,
          44,
          91,
          69,
          117,
          94,
          68
         ],
         "xaxis": "x",
         "y": [
          0.68,
          0.81,
          1.12,
          1.35,
          1.39,
          1.23,
          2.17,
          1.3,
          0.82,
          0.95,
          1.05,
          1.78,
          1.12
         ],
         "yaxis": "y"
        },
        {
         "hovertemplate": "player=Lacefield<br>year=2018<br>hill time (s)=%{x}<br>k/d=%{y}<extra></extra>",
         "legendgroup": "Lacefield",
         "marker": {
          "color": "#00cc96",
          "symbol": "circle"
         },
         "mode": "markers",
         "name": "Lacefield",
         "showlegend": false,
         "type": "scattergl",
         "x": [
          60,
          12,
          32,
          88,
          103,
          57,
          45,
          97,
          38,
          8
         ],
         "xaxis": "x2",
         "y": [
          1.13,
          0.8,
          1.32,
          1.23,
          1.64,
          1.53,
          2,
          1.71,
          0.72,
          0.95
         ],
         "yaxis": "y2"
        },
        {
         "hovertemplate": "player=Lacefield<br>year=2019<br>hill time (s)=%{x}<br>k/d=%{y}<extra></extra>",
         "legendgroup": "Lacefield",
         "marker": {
          "color": "#00cc96",
          "symbol": "circle"
         },
         "mode": "markers",
         "name": "Lacefield",
         "showlegend": false,
         "type": "scattergl",
         "x": [
          50,
          61,
          75,
          93,
          43,
          69,
          32,
          94,
          117,
          74
         ],
         "xaxis": "x3",
         "y": [
          1.23,
          1.16,
          1.15,
          2,
          0.97,
          1.1,
          1.14,
          0.89,
          1.5,
          1.19
         ],
         "yaxis": "y3"
        },
        {
         "hovertemplate": "player=LlamaGod<br>year=2017<br>hill time (s)=%{x}<br>k/d=%{y}<extra></extra>",
         "legendgroup": "LlamaGod",
         "marker": {
          "color": "#ab63fa",
          "symbol": "circle"
         },
         "mode": "markers",
         "name": "LlamaGod",
         "showlegend": true,
         "type": "scattergl",
         "x": [
          31,
          87,
          56,
          81,
          97,
          79,
          50,
          71,
          73,
          42,
          99,
          125,
          77
         ],
         "xaxis": "x",
         "y": [
          0.72,
          1.53,
          1.05,
          0.96,
          1.79,
          1.03,
          1.29,
          0.87,
          1.1,
          1.5,
          1.24,
          2.88,
          0.89
         ],
         "yaxis": "y"
        },
        {
         "hovertemplate": "player=LlamaGod<br>year=2019<br>hill time (s)=%{x}<br>k/d=%{y}<extra></extra>",
         "legendgroup": "LlamaGod",
         "marker": {
          "color": "#ab63fa",
          "symbol": "circle"
         },
         "mode": "markers",
         "name": "LlamaGod",
         "showlegend": false,
         "type": "scattergl",
         "x": [
          78,
          100,
          110,
          37,
          74,
          89
         ],
         "xaxis": "x3",
         "y": [
          0.88,
          2.67,
          1.22,
          0.87,
          1,
          0.71
         ],
         "yaxis": "y3"
        },
        {
         "hovertemplate": "player=Maux<br>year=2017<br>hill time (s)=%{x}<br>k/d=%{y}<extra></extra>",
         "legendgroup": "Maux",
         "marker": {
          "color": "#FFA15A",
          "symbol": "circle"
         },
         "mode": "markers",
         "name": "Maux",
         "showlegend": true,
         "type": "scattergl",
         "x": [
          70,
          78,
          138,
          55,
          84,
          59,
          44,
          55,
          57,
          112,
          54,
          82,
          59
         ],
         "xaxis": "x",
         "y": [
          0.77,
          0.79,
          1.32,
          1.05,
          1.16,
          1.17,
          1.44,
          1.22,
          0.8,
          1.29,
          1.05,
          1,
          0.83
         ],
         "yaxis": "y"
        },
        {
         "hovertemplate": "player=Maux<br>year=2018<br>hill time (s)=%{x}<br>k/d=%{y}<extra></extra>",
         "legendgroup": "Maux",
         "marker": {
          "color": "#FFA15A",
          "symbol": "circle"
         },
         "mode": "markers",
         "name": "Maux",
         "showlegend": false,
         "type": "scattergl",
         "x": [
          64,
          39,
          64,
          58,
          88,
          106,
          99,
          117,
          72
         ],
         "xaxis": "x2",
         "y": [
          0.96,
          0.84,
          1.55,
          1.71,
          0.81,
          1.25,
          1.16,
          1.1,
          1
         ],
         "yaxis": "y2"
        },
        {
         "hovertemplate": "player=Maux<br>year=2019<br>hill time (s)=%{x}<br>k/d=%{y}<extra></extra>",
         "legendgroup": "Maux",
         "marker": {
          "color": "#FFA15A",
          "symbol": "circle"
         },
         "mode": "markers",
         "name": "Maux",
         "showlegend": false,
         "type": "scattergl",
         "x": [
          65,
          42,
          17,
          38
         ],
         "xaxis": "x3",
         "y": [
          1.06,
          0.91,
          0.86,
          0.39
         ],
         "yaxis": "y3"
        },
        {
         "hovertemplate": "player=SpaceLy<br>year=2017<br>hill time (s)=%{x}<br>k/d=%{y}<extra></extra>",
         "legendgroup": "SpaceLy",
         "marker": {
          "color": "#19d3f3",
          "symbol": "circle"
         },
         "mode": "markers",
         "name": "SpaceLy",
         "showlegend": true,
         "type": "scattergl",
         "x": [
          77,
          50,
          61,
          98,
          38,
          57,
          44,
          94,
          94,
          54,
          34,
          45,
          82
         ],
         "xaxis": "x",
         "y": [
          1,
          0.95,
          1.78,
          0.87,
          0.62,
          0.78,
          1.15,
          0.74,
          0.96,
          0.88,
          0.88,
          1.21,
          0.87
         ],
         "yaxis": "y"
        },
        {
         "hovertemplate": "player=SpaceLy<br>year=2018<br>hill time (s)=%{x}<br>k/d=%{y}<extra></extra>",
         "legendgroup": "SpaceLy",
         "marker": {
          "color": "#19d3f3",
          "symbol": "circle"
         },
         "mode": "markers",
         "name": "SpaceLy",
         "showlegend": false,
         "type": "scattergl",
         "x": [
          25,
          31,
          55,
          46,
          31,
          69,
          29,
          27,
          38
         ],
         "xaxis": "x2",
         "y": [
          0.9,
          0.84,
          0.76,
          1.48,
          1.56,
          1.08,
          1.09,
          1.36,
          1
         ],
         "yaxis": "y2"
        },
        {
         "hovertemplate": "player=SpaceLy<br>year=2019<br>hill time (s)=%{x}<br>k/d=%{y}<extra></extra>",
         "legendgroup": "SpaceLy",
         "marker": {
          "color": "#19d3f3",
          "symbol": "circle"
         },
         "mode": "markers",
         "name": "SpaceLy",
         "showlegend": false,
         "type": "scattergl",
         "x": [
          79,
          28,
          20,
          3,
          25,
          112
         ],
         "xaxis": "x3",
         "y": [
          1.14,
          1.05,
          1,
          0.52,
          1,
          2.36
         ],
         "yaxis": "y3"
        },
        {
         "hovertemplate": "player=MarkyB<br>year=2017<br>hill time (s)=%{x}<br>k/d=%{y}<extra></extra>",
         "legendgroup": "MarkyB",
         "marker": {
          "color": "#FF6692",
          "symbol": "circle"
         },
         "mode": "markers",
         "name": "MarkyB",
         "showlegend": true,
         "type": "scattergl",
         "x": [
          109,
          21,
          37,
          60,
          33
         ],
         "xaxis": "x",
         "y": [
          1.56,
          0.77,
          0.86,
          0.78,
          1
         ],
         "yaxis": "y"
        },
        {
         "hovertemplate": "player=Moose<br>year=2017<br>hill time (s)=%{x}<br>k/d=%{y}<extra></extra>",
         "legendgroup": "Moose",
         "marker": {
          "color": "#B6E880",
          "symbol": "circle"
         },
         "mode": "markers",
         "name": "Moose",
         "showlegend": true,
         "type": "scattergl",
         "x": [
          35,
          136,
          101,
          85,
          130
         ],
         "xaxis": "x",
         "y": [
          1.18,
          1.07,
          0.59,
          1.61,
          1.43
         ],
         "yaxis": "y"
        },
        {
         "hovertemplate": "player=Moose<br>year=2018<br>hill time (s)=%{x}<br>k/d=%{y}<extra></extra>",
         "legendgroup": "Moose",
         "marker": {
          "color": "#B6E880",
          "symbol": "circle"
         },
         "mode": "markers",
         "name": "Moose",
         "showlegend": false,
         "type": "scattergl",
         "x": [
          24,
          63,
          77,
          4,
          55,
          64,
          76,
          89,
          40
         ],
         "xaxis": "x2",
         "y": [
          0.82,
          1,
          0.9,
          0.87,
          1.33,
          0.75,
          1.08,
          1.14,
          0.57
         ],
         "yaxis": "y2"
        },
        {
         "hovertemplate": "player=Peatie<br>year=2017<br>hill time (s)=%{x}<br>k/d=%{y}<extra></extra>",
         "legendgroup": "Peatie",
         "marker": {
          "color": "#FF97FF",
          "symbol": "circle"
         },
         "mode": "markers",
         "name": "Peatie",
         "showlegend": true,
         "type": "scattergl",
         "x": [
          73,
          95,
          54,
          102,
          56
         ],
         "xaxis": "x",
         "y": [
          1.1,
          1.13,
          1.1,
          0.88,
          0.91
         ],
         "yaxis": "y"
        },
        {
         "hovertemplate": "player=Peatie<br>year=2018<br>hill time (s)=%{x}<br>k/d=%{y}<extra></extra>",
         "legendgroup": "Peatie",
         "marker": {
          "color": "#FF97FF",
          "symbol": "circle"
         },
         "mode": "markers",
         "name": "Peatie",
         "showlegend": false,
         "type": "scattergl",
         "x": [
          19,
          69,
          72,
          94,
          63,
          20,
          38,
          70,
          41
         ],
         "xaxis": "x2",
         "y": [
          0.7,
          1.2,
          1.09,
          0.97,
          0.66,
          0.62,
          0.55,
          0.9,
          0.54
         ],
         "yaxis": "y2"
        },
        {
         "hovertemplate": "player=Peatie<br>year=2019<br>hill time (s)=%{x}<br>k/d=%{y}<extra></extra>",
         "legendgroup": "Peatie",
         "marker": {
          "color": "#FF97FF",
          "symbol": "circle"
         },
         "mode": "markers",
         "name": "Peatie",
         "showlegend": false,
         "type": "scattergl",
         "x": [
          76,
          50,
          84,
          37,
          15,
          43,
          37,
          62,
          57
         ],
         "xaxis": "x3",
         "y": [
          1,
          0.69,
          1.33,
          0.47,
          0.43,
          0.6,
          0.73,
          0.69,
          0.64
         ],
         "yaxis": "y3"
        },
        {
         "hovertemplate": "player=QwiKeR<br>year=2017<br>hill time (s)=%{x}<br>k/d=%{y}<extra></extra>",
         "legendgroup": "QwiKeR",
         "marker": {
          "color": "#FECB52",
          "symbol": "circle"
         },
         "mode": "markers",
         "name": "QwiKeR",
         "showlegend": true,
         "type": "scattergl",
         "x": [
          73,
          73,
          53,
          92,
          76
         ],
         "xaxis": "x",
         "y": [
          1.29,
          1.06,
          0.71,
          1.72,
          1.26
         ],
         "yaxis": "y"
        },
        {
         "hovertemplate": "player=QwiKeR<br>year=2018<br>hill time (s)=%{x}<br>k/d=%{y}<extra></extra>",
         "legendgroup": "QwiKeR",
         "marker": {
          "color": "#FECB52",
          "symbol": "circle"
         },
         "mode": "markers",
         "name": "QwiKeR",
         "showlegend": false,
         "type": "scattergl",
         "x": [
          6,
          60,
          42,
          105,
          37,
          18,
          50,
          60,
          55
         ],
         "xaxis": "x2",
         "y": [
          0.52,
          1.03,
          1.06,
          1.08,
          1.88,
          0.68,
          0.55,
          0.45,
          0.61
         ],
         "yaxis": "y2"
        },
        {
         "hovertemplate": "player=QwiKeR<br>year=2019<br>hill time (s)=%{x}<br>k/d=%{y}<extra></extra>",
         "legendgroup": "QwiKeR",
         "marker": {
          "color": "#FECB52",
          "symbol": "circle"
         },
         "mode": "markers",
         "name": "QwiKeR",
         "showlegend": false,
         "type": "scattergl",
         "x": [
          90,
          24,
          33,
          28,
          17
         ],
         "xaxis": "x3",
         "y": [
          1.27,
          0.67,
          0.64,
          2.09,
          0.67
         ],
         "yaxis": "y3"
        },
        {
         "hovertemplate": "player=General<br>year=2017<br>hill time (s)=%{x}<br>k/d=%{y}<extra></extra>",
         "legendgroup": "General",
         "marker": {
          "color": "#636efa",
          "symbol": "circle"
         },
         "mode": "markers",
         "name": "General",
         "showlegend": true,
         "type": "scattergl",
         "x": [
          62,
          48,
          61,
          56,
          15,
          31,
          113,
          27,
          28
         ],
         "xaxis": "x",
         "y": [
          2.25,
          0.87,
          1.23,
          1.5,
          1.21,
          0.96,
          1.67,
          0.96,
          1.36
         ],
         "yaxis": "y"
        },
        {
         "hovertemplate": "player=General<br>year=2018<br>hill time (s)=%{x}<br>k/d=%{y}<extra></extra>",
         "legendgroup": "General",
         "marker": {
          "color": "#636efa",
          "symbol": "circle"
         },
         "mode": "markers",
         "name": "General",
         "showlegend": false,
         "type": "scattergl",
         "x": [
          78,
          55,
          64,
          34,
          73
         ],
         "xaxis": "x2",
         "y": [
          2.9,
          0.62,
          0.87,
          1,
          1
         ],
         "yaxis": "y2"
        },
        {
         "hovertemplate": "player=General<br>year=2019<br>hill time (s)=%{x}<br>k/d=%{y}<extra></extra>",
         "legendgroup": "General",
         "marker": {
          "color": "#636efa",
          "symbol": "circle"
         },
         "mode": "markers",
         "name": "General",
         "showlegend": false,
         "type": "scattergl",
         "x": [
          87,
          65,
          79,
          98,
          80,
          27,
          41,
          122,
          62,
          32,
          46,
          152,
          67
         ],
         "xaxis": "x3",
         "y": [
          1.8,
          1.26,
          1.07,
          1.17,
          0.89,
          0.47,
          0.89,
          0.91,
          1.06,
          0.55,
          2.18,
          1,
          1.28
         ],
         "yaxis": "y3"
        },
        {
         "hovertemplate": "player=Kade<br>year=2017<br>hill time (s)=%{x}<br>k/d=%{y}<extra></extra>",
         "legendgroup": "Kade",
         "marker": {
          "color": "#EF553B",
          "symbol": "circle"
         },
         "mode": "markers",
         "name": "Kade",
         "showlegend": true,
         "type": "scattergl",
         "x": [
          73,
          92,
          56,
          144,
          54,
          70,
          116,
          11,
          85
         ],
         "xaxis": "x",
         "y": [
          2,
          0.58,
          0.88,
          1.28,
          1.17,
          0.96,
          1.14,
          0.57,
          0.83
         ],
         "yaxis": "y"
        },
        {
         "hovertemplate": "player=Proto<br>year=2017<br>hill time (s)=%{x}<br>k/d=%{y}<extra></extra>",
         "legendgroup": "Proto",
         "marker": {
          "color": "#00cc96",
          "symbol": "circle"
         },
         "mode": "markers",
         "name": "Proto",
         "showlegend": true,
         "type": "scattergl",
         "x": [
          96,
          35,
          90,
          44,
          99,
          93,
          55,
          65,
          70
         ],
         "xaxis": "x",
         "y": [
          1,
          0.84,
          1.22,
          1.11,
          1.12,
          0.71,
          1.16,
          0.89,
          0.91
         ],
         "yaxis": "y"
        },
        {
         "hovertemplate": "player=Proto<br>year=2018<br>hill time (s)=%{x}<br>k/d=%{y}<extra></extra>",
         "legendgroup": "Proto",
         "marker": {
          "color": "#00cc96",
          "symbol": "circle"
         },
         "mode": "markers",
         "name": "Proto",
         "showlegend": false,
         "type": "scattergl",
         "x": [
          107,
          44,
          22,
          82,
          87,
          65,
          39,
          56,
          15
         ],
         "xaxis": "x2",
         "y": [
          1,
          0.72,
          0.74,
          0.54,
          0.67,
          1.24,
          0.93,
          1.03,
          0.74
         ],
         "yaxis": "y2"
        },
        {
         "hovertemplate": "player=Proto<br>year=2019<br>hill time (s)=%{x}<br>k/d=%{y}<extra></extra>",
         "legendgroup": "Proto",
         "marker": {
          "color": "#00cc96",
          "symbol": "circle"
         },
         "mode": "markers",
         "name": "Proto",
         "showlegend": false,
         "type": "scattergl",
         "x": [
          38,
          48,
          64,
          46,
          80,
          76,
          42,
          50,
          25,
          3
         ],
         "xaxis": "x3",
         "y": [
          1.1,
          0.62,
          1.4,
          1.43,
          1.18,
          0.9,
          0.75,
          0.8,
          0.93,
          0.42
         ],
         "yaxis": "y3"
        },
        {
         "hovertemplate": "player=Royalty<br>year=2017<br>hill time (s)=%{x}<br>k/d=%{y}<extra></extra>",
         "legendgroup": "Royalty",
         "marker": {
          "color": "#ab63fa",
          "symbol": "circle"
         },
         "mode": "markers",
         "name": "Royalty",
         "showlegend": true,
         "type": "scattergl",
         "x": [
          134,
          37,
          102,
          106,
          103,
          35,
          27,
          62,
          54
         ],
         "xaxis": "x",
         "y": [
          2.57,
          1.3,
          1.22,
          2,
          2.44,
          1.2,
          0.96,
          1.09,
          0.73
         ],
         "yaxis": "y"
        },
        {
         "hovertemplate": "player=Royalty<br>year=2018<br>hill time (s)=%{x}<br>k/d=%{y}<extra></extra>",
         "legendgroup": "Royalty",
         "marker": {
          "color": "#ab63fa",
          "symbol": "circle"
         },
         "mode": "markers",
         "name": "Royalty",
         "showlegend": false,
         "type": "scattergl",
         "x": [
          71,
          76,
          93,
          62,
          74,
          131,
          76,
          26
         ],
         "xaxis": "x2",
         "y": [
          0.72,
          1.03,
          0.86,
          0.81,
          0.91,
          1.39,
          0.91,
          0.94
         ],
         "yaxis": "y2"
        },
        {
         "hovertemplate": "player=Royalty<br>year=2019<br>hill time (s)=%{x}<br>k/d=%{y}<extra></extra>",
         "legendgroup": "Royalty",
         "marker": {
          "color": "#ab63fa",
          "symbol": "circle"
         },
         "mode": "markers",
         "name": "Royalty",
         "showlegend": false,
         "type": "scattergl",
         "x": [
          45,
          56,
          88,
          34,
          100,
          42
         ],
         "xaxis": "x3",
         "y": [
          0.7,
          1.29,
          1.04,
          1.08,
          0.92,
          0.93
         ],
         "yaxis": "y3"
        },
        {
         "hovertemplate": "player=Benji<br>year=2017<br>hill time (s)=%{x}<br>k/d=%{y}<extra></extra>",
         "legendgroup": "Benji",
         "marker": {
          "color": "#FFA15A",
          "symbol": "circle"
         },
         "mode": "markers",
         "name": "Benji",
         "showlegend": true,
         "type": "scattergl",
         "x": [
          18,
          17,
          95,
          11
         ],
         "xaxis": "x",
         "y": [
          0.53,
          0.33,
          1.56,
          1.22
         ],
         "yaxis": "y"
        },
        {
         "hovertemplate": "player=Benji<br>year=2018<br>hill time (s)=%{x}<br>k/d=%{y}<extra></extra>",
         "legendgroup": "Benji",
         "marker": {
          "color": "#FFA15A",
          "symbol": "circle"
         },
         "mode": "markers",
         "name": "Benji",
         "showlegend": false,
         "type": "scattergl",
         "x": [
          63,
          130,
          65,
          81,
          105
         ],
         "xaxis": "x2",
         "y": [
          0.96,
          0.65,
          0.52,
          0.65,
          1.36
         ],
         "yaxis": "y2"
        },
        {
         "hovertemplate": "player=GefKid<br>year=2017<br>hill time (s)=%{x}<br>k/d=%{y}<extra></extra>",
         "legendgroup": "GefKid",
         "marker": {
          "color": "#19d3f3",
          "symbol": "circle"
         },
         "mode": "markers",
         "name": "GefKid",
         "showlegend": true,
         "type": "scattergl",
         "x": [
          25,
          7,
          106,
          37
         ],
         "xaxis": "x",
         "y": [
          0.71,
          0.38,
          1.65,
          0.56
         ],
         "yaxis": "y"
        },
        {
         "hovertemplate": "player=Subsist<br>year=2017<br>hill time (s)=%{x}<br>k/d=%{y}<extra></extra>",
         "legendgroup": "Subsist",
         "marker": {
          "color": "#FF6692",
          "symbol": "circle"
         },
         "mode": "markers",
         "name": "Subsist",
         "showlegend": true,
         "type": "scattergl",
         "x": [
          27,
          23,
          53,
          52
         ],
         "xaxis": "x",
         "y": [
          0.47,
          0.71,
          0.78,
          0.92
         ],
         "yaxis": "y"
        },
        {
         "hovertemplate": "player=Yohanson<br>year=2017<br>hill time (s)=%{x}<br>k/d=%{y}<extra></extra>",
         "legendgroup": "Yohanson",
         "marker": {
          "color": "#B6E880",
          "symbol": "circle"
         },
         "mode": "markers",
         "name": "Yohanson",
         "showlegend": true,
         "type": "scattergl",
         "x": [
          25,
          5,
          79,
          37
         ],
         "xaxis": "x",
         "y": [
          0.53,
          0.5,
          1.18,
          0.97
         ],
         "yaxis": "y"
        },
        {
         "hovertemplate": "player=JurNii<br>year=2018<br>hill time (s)=%{x}<br>k/d=%{y}<extra></extra>",
         "legendgroup": "JurNii",
         "marker": {
          "color": "#FF97FF",
          "symbol": "circle"
         },
         "mode": "markers",
         "name": "JurNii",
         "showlegend": true,
         "type": "scattergl",
         "x": [
          43,
          36,
          11,
          62,
          60,
          57
         ],
         "xaxis": "x2",
         "y": [
          1.26,
          1,
          0.58,
          0.9,
          1.38,
          0.88
         ],
         "yaxis": "y2"
        },
        {
         "hovertemplate": "player=JurNii<br>year=2019<br>hill time (s)=%{x}<br>k/d=%{y}<extra></extra>",
         "legendgroup": "JurNii",
         "marker": {
          "color": "#FF97FF",
          "symbol": "circle"
         },
         "mode": "markers",
         "name": "JurNii",
         "showlegend": false,
         "type": "scattergl",
         "x": [
          119,
          56,
          79,
          34,
          46,
          26,
          44
         ],
         "xaxis": "x3",
         "y": [
          1.19,
          0.71,
          1.13,
          1,
          0.58,
          0.72,
          0.92
         ],
         "yaxis": "y3"
        },
        {
         "hovertemplate": "player=Lucky<br>year=2018<br>hill time (s)=%{x}<br>k/d=%{y}<extra></extra>",
         "legendgroup": "Lucky",
         "marker": {
          "color": "#FECB52",
          "symbol": "circle"
         },
         "mode": "markers",
         "name": "Lucky",
         "showlegend": true,
         "type": "scattergl",
         "x": [
          54,
          131,
          25,
          108,
          117,
          51
         ],
         "xaxis": "x2",
         "y": [
          1.37,
          1.85,
          0.73,
          0.85,
          1.25,
          1.04
         ],
         "yaxis": "y2"
        },
        {
         "hovertemplate": "player=Lucky<br>year=2019<br>hill time (s)=%{x}<br>k/d=%{y}<extra></extra>",
         "legendgroup": "Lucky",
         "marker": {
          "color": "#FECB52",
          "symbol": "circle"
         },
         "mode": "markers",
         "name": "Lucky",
         "showlegend": false,
         "type": "scattergl",
         "x": [
          57,
          41,
          87,
          15,
          40,
          58,
          110
         ],
         "xaxis": "x3",
         "y": [
          1.4,
          0.7,
          1.81,
          0.56,
          0.79,
          0.91,
          1.2
         ],
         "yaxis": "y3"
        },
        {
         "hovertemplate": "player=MethodZsick<br>year=2018<br>hill time (s)=%{x}<br>k/d=%{y}<extra></extra>",
         "legendgroup": "MethodZsick",
         "marker": {
          "color": "#636efa",
          "symbol": "circle"
         },
         "mode": "markers",
         "name": "MethodZsick",
         "showlegend": true,
         "type": "scattergl",
         "x": [
          124,
          49,
          24,
          48,
          145,
          50
         ],
         "xaxis": "x2",
         "y": [
          1.06,
          1.53,
          0.73,
          0.73,
          1.61,
          0.64
         ],
         "yaxis": "y2"
        },
        {
         "hovertemplate": "player=MethodZsick<br>year=2019<br>hill time (s)=%{x}<br>k/d=%{y}<extra></extra>",
         "legendgroup": "MethodZsick",
         "marker": {
          "color": "#636efa",
          "symbol": "circle"
         },
         "mode": "markers",
         "name": "MethodZsick",
         "showlegend": false,
         "type": "scattergl",
         "x": [
          116,
          91,
          44,
          30,
          66,
          35,
          29
         ],
         "xaxis": "x3",
         "y": [
          1.57,
          0.9,
          0.76,
          0.76,
          0.81,
          0.88,
          1.24
         ],
         "yaxis": "y3"
        },
        {
         "hovertemplate": "player=Sukry<br>year=2018<br>hill time (s)=%{x}<br>k/d=%{y}<extra></extra>",
         "legendgroup": "Sukry",
         "marker": {
          "color": "#EF553B",
          "symbol": "circle"
         },
         "mode": "markers",
         "name": "Sukry",
         "showlegend": true,
         "type": "scattergl",
         "x": [
          75,
          66,
          33,
          40,
          50,
          48
         ],
         "xaxis": "x2",
         "y": [
          1.61,
          1.88,
          0.8,
          1.16,
          0.85,
          0.96
         ],
         "yaxis": "y2"
        },
        {
         "hovertemplate": "player=Fero<br>year=2018<br>hill time (s)=%{x}<br>k/d=%{y}<extra></extra>",
         "legendgroup": "Fero",
         "marker": {
          "color": "#00cc96",
          "symbol": "circle"
         },
         "mode": "markers",
         "name": "Fero",
         "showlegend": true,
         "type": "scattergl",
         "x": [
          112,
          77,
          124,
          99,
          36,
          92,
          91,
          93,
          61,
          145,
          80,
          37,
          72,
          55,
          38,
          54,
          42,
          53
         ],
         "xaxis": "x2",
         "y": [
          1.23,
          1.06,
          2.38,
          1,
          1,
          1.37,
          0.66,
          1.32,
          1.13,
          1.6,
          1.08,
          1.38,
          0.92,
          0.66,
          1.15,
          1.09,
          1.42,
          0.85
         ],
         "yaxis": "y2"
        },
        {
         "hovertemplate": "player=Kenny<br>year=2018<br>hill time (s)=%{x}<br>k/d=%{y}<extra></extra>",
         "legendgroup": "Kenny",
         "marker": {
          "color": "#ab63fa",
          "symbol": "circle"
         },
         "mode": "markers",
         "name": "Kenny",
         "showlegend": true,
         "type": "scattergl",
         "x": [
          15,
          39,
          8,
          28,
          21,
          59,
          49,
          75,
          31,
          1,
          43,
          54,
          18,
          17,
          46,
          34,
          57,
          74
         ],
         "xaxis": "x2",
         "y": [
          1.18,
          0.98,
          1.19,
          1.16,
          1.52,
          1.48,
          1.24,
          1.22,
          1.06,
          1,
          0.97,
          1,
          0.86,
          0.7,
          1.46,
          0.96,
          1,
          1.16
         ],
         "yaxis": "y2"
        },
        {
         "hovertemplate": "player=Kenny<br>year=2019<br>hill time (s)=%{x}<br>k/d=%{y}<extra></extra>",
         "legendgroup": "Kenny",
         "marker": {
          "color": "#ab63fa",
          "symbol": "circle"
         },
         "mode": "markers",
         "name": "Kenny",
         "showlegend": false,
         "type": "scattergl",
         "x": [
          78,
          58,
          67,
          15,
          69,
          17,
          57,
          82,
          49,
          40,
          40,
          80,
          17,
          36,
          71,
          65,
          20,
          82
         ],
         "xaxis": "x3",
         "y": [
          1.17,
          1.55,
          1.5,
          0.83,
          1,
          0.68,
          0.63,
          0.81,
          0.7,
          1.36,
          1.92,
          1.08,
          1.35,
          1.15,
          1.35,
          1.26,
          0.68,
          0.81
         ],
         "yaxis": "y3"
        },
        {
         "hovertemplate": "player=Ramby<br>year=2018<br>hill time (s)=%{x}<br>k/d=%{y}<extra></extra>",
         "legendgroup": "Ramby",
         "marker": {
          "color": "#FFA15A",
          "symbol": "circle"
         },
         "mode": "markers",
         "name": "Ramby",
         "showlegend": true,
         "type": "scattergl",
         "x": [
          39,
          49,
          52,
          58,
          50,
          109,
          40,
          73,
          25
         ],
         "xaxis": "x2",
         "y": [
          0.77,
          0.83,
          0.65,
          0.67,
          0.7,
          0.92,
          1.24,
          0.79,
          1.15
         ],
         "yaxis": "y2"
        },
        {
         "hovertemplate": "player=Ramby<br>year=2019<br>hill time (s)=%{x}<br>k/d=%{y}<extra></extra>",
         "legendgroup": "Ramby",
         "marker": {
          "color": "#FFA15A",
          "symbol": "circle"
         },
         "mode": "markers",
         "name": "Ramby",
         "showlegend": false,
         "type": "scattergl",
         "x": [
          49,
          13,
          40,
          26,
          30
         ],
         "xaxis": "x3",
         "y": [
          0.79,
          0.52,
          0.56,
          0.81,
          0.96
         ],
         "yaxis": "y3"
        },
        {
         "hovertemplate": "player=Super<br>year=2018<br>hill time (s)=%{x}<br>k/d=%{y}<extra></extra>",
         "legendgroup": "Super",
         "marker": {
          "color": "#19d3f3",
          "symbol": "circle"
         },
         "mode": "markers",
         "name": "Super",
         "showlegend": true,
         "type": "scattergl",
         "x": [
          123,
          103,
          29,
          114,
          65,
          70,
          24,
          53,
          37
         ],
         "xaxis": "x2",
         "y": [
          1.19,
          1.14,
          0.69,
          1.88,
          1.24,
          1.12,
          0.96,
          0.97,
          0.72
         ],
         "yaxis": "y2"
        },
        {
         "hovertemplate": "player=Super<br>year=2019<br>hill time (s)=%{x}<br>k/d=%{y}<extra></extra>",
         "legendgroup": "Super",
         "marker": {
          "color": "#19d3f3",
          "symbol": "circle"
         },
         "mode": "markers",
         "name": "Super",
         "showlegend": false,
         "type": "scattergl",
         "x": [
          89,
          70,
          83,
          35
         ],
         "xaxis": "x3",
         "y": [
          0.77,
          0.84,
          1.38,
          0.59
         ],
         "yaxis": "y3"
        },
        {
         "hovertemplate": "player=Teddyrecks<br>year=2018<br>hill time (s)=%{x}<br>k/d=%{y}<extra></extra>",
         "legendgroup": "Teddyrecks",
         "marker": {
          "color": "#FF6692",
          "symbol": "circle"
         },
         "mode": "markers",
         "name": "Teddyrecks",
         "showlegend": true,
         "type": "scattergl",
         "x": [
          98,
          48,
          98,
          87,
          38,
          32,
          3,
          71,
          47
         ],
         "xaxis": "x2",
         "y": [
          0.67,
          0.86,
          0.92,
          1.09,
          0.67,
          1,
          0.53,
          1.11,
          0.61
         ],
         "yaxis": "y2"
        },
        {
         "hovertemplate": "player=Teddyrecks<br>year=2019<br>hill time (s)=%{x}<br>k/d=%{y}<extra></extra>",
         "legendgroup": "Teddyrecks",
         "marker": {
          "color": "#FF6692",
          "symbol": "circle"
         },
         "mode": "markers",
         "name": "Teddyrecks",
         "showlegend": false,
         "type": "scattergl",
         "x": [
          36,
          66,
          56,
          9,
          14
         ],
         "xaxis": "x3",
         "y": [
          0.63,
          0.5,
          0.56,
          0.58,
          0.64
         ],
         "yaxis": "y3"
        },
        {
         "hovertemplate": "player=Zaptius<br>year=2018<br>hill time (s)=%{x}<br>k/d=%{y}<extra></extra>",
         "legendgroup": "Zaptius",
         "marker": {
          "color": "#B6E880",
          "symbol": "circle"
         },
         "mode": "markers",
         "name": "Zaptius",
         "showlegend": true,
         "type": "scattergl",
         "x": [
          85,
          30,
          39,
          22,
          53,
          98,
          48,
          106,
          80
         ],
         "xaxis": "x2",
         "y": [
          1.32,
          0.83,
          1.08,
          0.91,
          0.64,
          1.07,
          0.5,
          0.97,
          1.03
         ],
         "yaxis": "y2"
        },
        {
         "hovertemplate": "player=Zaptius<br>year=2019<br>hill time (s)=%{x}<br>k/d=%{y}<extra></extra>",
         "legendgroup": "Zaptius",
         "marker": {
          "color": "#B6E880",
          "symbol": "circle"
         },
         "mode": "markers",
         "name": "Zaptius",
         "showlegend": false,
         "type": "scattergl",
         "x": [
          47,
          48,
          49,
          102,
          22,
          43
         ],
         "xaxis": "x3",
         "y": [
          1.5,
          1.3,
          1.21,
          0.92,
          1.09,
          0.67
         ],
         "yaxis": "y3"
        },
        {
         "hovertemplate": "player=dReal<br>year=2018<br>hill time (s)=%{x}<br>k/d=%{y}<extra></extra>",
         "legendgroup": "dReal",
         "marker": {
          "color": "#FF97FF",
          "symbol": "circle"
         },
         "mode": "markers",
         "name": "dReal",
         "showlegend": true,
         "type": "scattergl",
         "x": [
          99,
          92,
          58,
          52,
          66
         ],
         "xaxis": "x2",
         "y": [
          1.3,
          1.47,
          1.19,
          1.03,
          1.24
         ],
         "yaxis": "y2"
        },
        {
         "hovertemplate": "player=Nevo<br>year=2018<br>hill time (s)=%{x}<br>k/d=%{y}<extra></extra>",
         "legendgroup": "Nevo",
         "marker": {
          "color": "#FECB52",
          "symbol": "circle"
         },
         "mode": "markers",
         "name": "Nevo",
         "showlegend": true,
         "type": "scattergl",
         "x": [
          84,
          40,
          28,
          55,
          41
         ],
         "xaxis": "x2",
         "y": [
          1,
          1.26,
          0.96,
          0.5,
          0.46
         ],
         "yaxis": "y2"
        },
        {
         "hovertemplate": "player=TDylan<br>year=2018<br>hill time (s)=%{x}<br>k/d=%{y}<extra></extra>",
         "legendgroup": "TDylan",
         "marker": {
          "color": "#636efa",
          "symbol": "circle"
         },
         "mode": "markers",
         "name": "TDylan",
         "showlegend": true,
         "type": "scattergl",
         "x": [
          32,
          36,
          79,
          43,
          91
         ],
         "xaxis": "x2",
         "y": [
          0.85,
          1.54,
          1.13,
          1.16,
          1.04
         ],
         "yaxis": "y2"
        },
        {
         "hovertemplate": "player=TJHaly<br>year=2018<br>hill time (s)=%{x}<br>k/d=%{y}<extra></extra>",
         "legendgroup": "TJHaly",
         "marker": {
          "color": "#EF553B",
          "symbol": "circle"
         },
         "mode": "markers",
         "name": "TJHaly",
         "showlegend": true,
         "type": "scattergl",
         "x": [
          87,
          97,
          74,
          63,
          122,
          62,
          10,
          63,
          35
         ],
         "xaxis": "x2",
         "y": [
          0.85,
          0.95,
          0.96,
          1.16,
          0.82,
          1.49,
          0.76,
          1.06,
          0.74
         ],
         "yaxis": "y2"
        },
        {
         "hovertemplate": "player=TJHaly<br>year=2019<br>hill time (s)=%{x}<br>k/d=%{y}<extra></extra>",
         "legendgroup": "TJHaly",
         "marker": {
          "color": "#EF553B",
          "symbol": "circle"
         },
         "mode": "markers",
         "name": "TJHaly",
         "showlegend": false,
         "type": "scattergl",
         "x": [
          83,
          42,
          41,
          83,
          51,
          81,
          57,
          36,
          70,
          86,
          73,
          61,
          69,
          12,
          41
         ],
         "xaxis": "x3",
         "y": [
          1.94,
          0.96,
          0.59,
          1,
          0.73,
          1.11,
          1.4,
          0.72,
          1.64,
          1.35,
          0.88,
          1.48,
          1.12,
          0.43,
          0.67
         ],
         "yaxis": "y3"
        },
        {
         "hovertemplate": "player=Apox<br>year=2018<br>hill time (s)=%{x}<br>k/d=%{y}<extra></extra>",
         "legendgroup": "Apox",
         "marker": {
          "color": "#00cc96",
          "symbol": "circle"
         },
         "mode": "markers",
         "name": "Apox",
         "showlegend": true,
         "type": "scattergl",
         "x": [
          20,
          43,
          51
         ],
         "xaxis": "x2",
         "y": [
          0.79,
          0.79,
          0.96
         ],
         "yaxis": "y2"
        },
        {
         "hovertemplate": "player=Apox<br>year=2019<br>hill time (s)=%{x}<br>k/d=%{y}<extra></extra>",
         "legendgroup": "Apox",
         "marker": {
          "color": "#00cc96",
          "symbol": "circle"
         },
         "mode": "markers",
         "name": "Apox",
         "showlegend": false,
         "type": "scattergl",
         "x": [
          122,
          58,
          42,
          42,
          94,
          55
         ],
         "xaxis": "x3",
         "y": [
          1.26,
          0.67,
          0.9,
          0.39,
          1.33,
          0.69
         ],
         "yaxis": "y3"
        },
        {
         "hovertemplate": "player=Atura<br>year=2018<br>hill time (s)=%{x}<br>k/d=%{y}<extra></extra>",
         "legendgroup": "Atura",
         "marker": {
          "color": "#ab63fa",
          "symbol": "circle"
         },
         "mode": "markers",
         "name": "Atura",
         "showlegend": true,
         "type": "scattergl",
         "x": [
          33,
          39,
          76
         ],
         "xaxis": "x2",
         "y": [
          0.48,
          0.76,
          0.67
         ],
         "yaxis": "y2"
        },
        {
         "hovertemplate": "player=Parzelion<br>year=2018<br>hill time (s)=%{x}<br>k/d=%{y}<extra></extra>",
         "legendgroup": "Parzelion",
         "marker": {
          "color": "#FFA15A",
          "symbol": "circle"
         },
         "mode": "markers",
         "name": "Parzelion",
         "showlegend": true,
         "type": "scattergl",
         "x": [
          22,
          81,
          58
         ],
         "xaxis": "x2",
         "y": [
          0.85,
          0.88,
          1.08
         ],
         "yaxis": "y2"
        },
        {
         "hovertemplate": "player=Parzelion<br>year=2019<br>hill time (s)=%{x}<br>k/d=%{y}<extra></extra>",
         "legendgroup": "Parzelion",
         "marker": {
          "color": "#FFA15A",
          "symbol": "circle"
         },
         "mode": "markers",
         "name": "Parzelion",
         "showlegend": false,
         "type": "scattergl",
         "x": [
          40,
          16,
          18,
          33,
          69,
          61
         ],
         "xaxis": "x3",
         "y": [
          0.88,
          0.57,
          0.65,
          0.76,
          0.71,
          1.38
         ],
         "yaxis": "y3"
        },
        {
         "hovertemplate": "player=RobbieB3319<br>year=2018<br>hill time (s)=%{x}<br>k/d=%{y}<extra></extra>",
         "legendgroup": "RobbieB3319",
         "marker": {
          "color": "#19d3f3",
          "symbol": "circle"
         },
         "mode": "markers",
         "name": "RobbieB3319",
         "showlegend": true,
         "type": "scattergl",
         "x": [
          6,
          57,
          24
         ],
         "xaxis": "x2",
         "y": [
          1.14,
          1.23,
          0.73
         ],
         "yaxis": "y2"
        },
        {
         "hovertemplate": "player=RobbieB3319<br>year=2019<br>hill time (s)=%{x}<br>k/d=%{y}<extra></extra>",
         "legendgroup": "RobbieB3319",
         "marker": {
          "color": "#19d3f3",
          "symbol": "circle"
         },
         "mode": "markers",
         "name": "RobbieB3319",
         "showlegend": false,
         "type": "scattergl",
         "x": [
          80,
          65,
          99,
          33
         ],
         "xaxis": "x3",
         "y": [
          1.08,
          0.9,
          1.05,
          1.1
         ],
         "yaxis": "y3"
        },
        {
         "hovertemplate": "player=Zer0<br>year=2018<br>hill time (s)=%{x}<br>k/d=%{y}<extra></extra>",
         "legendgroup": "Zer0",
         "marker": {
          "color": "#FF6692",
          "symbol": "circle"
         },
         "mode": "markers",
         "name": "Zer0",
         "showlegend": true,
         "type": "scattergl",
         "x": [
          109,
          48,
          47,
          72,
          30,
          29,
          5,
          102,
          30,
          62,
          42
         ],
         "xaxis": "x2",
         "y": [
          0.85,
          1.03,
          0.59,
          1.21,
          1.13,
          1.35,
          1,
          1.03,
          1.06,
          0.83,
          0.79
         ],
         "yaxis": "y2"
        },
        {
         "hovertemplate": "player=Zer0<br>year=2019<br>hill time (s)=%{x}<br>k/d=%{y}<extra></extra>",
         "legendgroup": "Zer0",
         "marker": {
          "color": "#FF6692",
          "symbol": "circle"
         },
         "mode": "markers",
         "name": "Zer0",
         "showlegend": false,
         "type": "scattergl",
         "x": [
          40,
          52,
          40,
          85,
          4,
          48,
          39,
          54,
          45
         ],
         "xaxis": "x3",
         "y": [
          1.47,
          2,
          1.69,
          5.5,
          1.17,
          1.73,
          0.83,
          1.29,
          0.85
         ],
         "yaxis": "y3"
        },
        {
         "hovertemplate": "player=Bidz<br>year=2018<br>hill time (s)=%{x}<br>k/d=%{y}<extra></extra>",
         "legendgroup": "Bidz",
         "marker": {
          "color": "#B6E880",
          "symbol": "circle"
         },
         "mode": "markers",
         "name": "Bidz",
         "showlegend": true,
         "type": "scattergl",
         "x": [
          54,
          92,
          43,
          97
         ],
         "xaxis": "x2",
         "y": [
          0.74,
          0.7,
          0.75,
          0.72
         ],
         "yaxis": "y2"
        },
        {
         "hovertemplate": "player=Bidz<br>year=2019<br>hill time (s)=%{x}<br>k/d=%{y}<extra></extra>",
         "legendgroup": "Bidz",
         "marker": {
          "color": "#B6E880",
          "symbol": "circle"
         },
         "mode": "markers",
         "name": "Bidz",
         "showlegend": false,
         "type": "scattergl",
         "x": [
          123,
          58,
          53,
          18,
          36,
          72,
          70,
          27,
          65,
          12
         ],
         "xaxis": "x3",
         "y": [
          1.29,
          0.64,
          0.67,
          0.82,
          0.95,
          0.92,
          0.85,
          1.42,
          1.14,
          0.76
         ],
         "yaxis": "y3"
        },
        {
         "hovertemplate": "player=Cammy<br>year=2018<br>hill time (s)=%{x}<br>k/d=%{y}<extra></extra>",
         "legendgroup": "Cammy",
         "marker": {
          "color": "#FF97FF",
          "symbol": "circle"
         },
         "mode": "markers",
         "name": "Cammy",
         "showlegend": true,
         "type": "scattergl",
         "x": [
          52,
          61,
          26,
          50
         ],
         "xaxis": "x2",
         "y": [
          0.8,
          1.1,
          1.16,
          1.05
         ],
         "yaxis": "y2"
        },
        {
         "hovertemplate": "player=Cammy<br>year=2019<br>hill time (s)=%{x}<br>k/d=%{y}<extra></extra>",
         "legendgroup": "Cammy",
         "marker": {
          "color": "#FF97FF",
          "symbol": "circle"
         },
         "mode": "markers",
         "name": "Cammy",
         "showlegend": false,
         "type": "scattergl",
         "x": [
          51,
          68,
          67,
          58,
          62,
          94,
          53,
          78,
          63,
          55
         ],
         "xaxis": "x3",
         "y": [
          0.88,
          1.29,
          0.89,
          0.46,
          0.81,
          1.43,
          1.69,
          0.83,
          0.82,
          0.96
         ],
         "yaxis": "y3"
        },
        {
         "hovertemplate": "player=Defrag<br>year=2018<br>hill time (s)=%{x}<br>k/d=%{y}<extra></extra>",
         "legendgroup": "Defrag",
         "marker": {
          "color": "#FECB52",
          "symbol": "circle"
         },
         "mode": "markers",
         "name": "Defrag",
         "showlegend": true,
         "type": "scattergl",
         "x": [
          13,
          64,
          72,
          30
         ],
         "xaxis": "x2",
         "y": [
          0.52,
          0.93,
          0.58,
          0.72
         ],
         "yaxis": "y2"
        },
        {
         "hovertemplate": "player=Defrag<br>year=2019<br>hill time (s)=%{x}<br>k/d=%{y}<extra></extra>",
         "legendgroup": "Defrag",
         "marker": {
          "color": "#FECB52",
          "symbol": "circle"
         },
         "mode": "markers",
         "name": "Defrag",
         "showlegend": false,
         "type": "scattergl",
         "x": [
          10,
          59,
          97,
          18,
          39,
          104,
          30,
          68,
          38
         ],
         "xaxis": "x3",
         "y": [
          0.67,
          1.31,
          1.26,
          0.56,
          0.76,
          1.16,
          0.62,
          1,
          0.59
         ],
         "yaxis": "y3"
        },
        {
         "hovertemplate": "player=Enduraaa<br>year=2018<br>hill time (s)=%{x}<br>k/d=%{y}<extra></extra>",
         "legendgroup": "Enduraaa",
         "marker": {
          "color": "#636efa",
          "symbol": "circle"
         },
         "mode": "markers",
         "name": "Enduraaa",
         "showlegend": true,
         "type": "scattergl",
         "x": [
          82,
          19,
          37,
          29
         ],
         "xaxis": "x2",
         "y": [
          1,
          0.62,
          0.95,
          0.94
         ],
         "yaxis": "y2"
        },
        {
         "hovertemplate": "player=Demise<br>year=2018<br>hill time (s)=%{x}<br>k/d=%{y}<extra></extra>",
         "legendgroup": "Demise",
         "marker": {
          "color": "#EF553B",
          "symbol": "circle"
         },
         "mode": "markers",
         "name": "Demise",
         "showlegend": true,
         "type": "scattergl",
         "x": [
          23,
          24,
          59,
          30
         ],
         "xaxis": "x2",
         "y": [
          0.71,
          0.72,
          0.72,
          1.08
         ],
         "yaxis": "y2"
        },
        {
         "hovertemplate": "player=Demise<br>year=2019<br>hill time (s)=%{x}<br>k/d=%{y}<extra></extra>",
         "legendgroup": "Demise",
         "marker": {
          "color": "#EF553B",
          "symbol": "circle"
         },
         "mode": "markers",
         "name": "Demise",
         "showlegend": false,
         "type": "scattergl",
         "x": [
          37,
          57,
          4,
          57,
          13
         ],
         "xaxis": "x3",
         "y": [
          0.61,
          0.61,
          0.38,
          1.4,
          0.68
         ],
         "yaxis": "y3"
        },
        {
         "hovertemplate": "player=GRVTY<br>year=2018<br>hill time (s)=%{x}<br>k/d=%{y}<extra></extra>",
         "legendgroup": "GRVTY",
         "marker": {
          "color": "#00cc96",
          "symbol": "circle"
         },
         "mode": "markers",
         "name": "GRVTY",
         "showlegend": true,
         "type": "scattergl",
         "x": [
          36,
          38,
          79,
          54
         ],
         "xaxis": "x2",
         "y": [
          1,
          0.88,
          1.36,
          0.71
         ],
         "yaxis": "y2"
        },
        {
         "hovertemplate": "player=GRVTY<br>year=2019<br>hill time (s)=%{x}<br>k/d=%{y}<extra></extra>",
         "legendgroup": "GRVTY",
         "marker": {
          "color": "#00cc96",
          "symbol": "circle"
         },
         "mode": "markers",
         "name": "GRVTY",
         "showlegend": false,
         "type": "scattergl",
         "x": [
          54,
          80,
          72,
          37
         ],
         "xaxis": "x3",
         "y": [
          0.91,
          1.56,
          2.15,
          0.91
         ],
         "yaxis": "y3"
        },
        {
         "hovertemplate": "player=Tisch<br>year=2018<br>hill time (s)=%{x}<br>k/d=%{y}<extra></extra>",
         "legendgroup": "Tisch",
         "marker": {
          "color": "#ab63fa",
          "symbol": "circle"
         },
         "mode": "markers",
         "name": "Tisch",
         "showlegend": true,
         "type": "scattergl",
         "x": [
          39,
          123,
          107,
          43
         ],
         "xaxis": "x2",
         "y": [
          0.75,
          1.24,
          1.61,
          0.64
         ],
         "yaxis": "y2"
        },
        {
         "hovertemplate": "player=Chino<br>year=2018<br>hill time (s)=%{x}<br>k/d=%{y}<extra></extra>",
         "legendgroup": "Chino",
         "marker": {
          "color": "#FFA15A",
          "symbol": "circle"
         },
         "mode": "markers",
         "name": "Chino",
         "showlegend": true,
         "type": "scattergl",
         "x": [
          103,
          17,
          160,
          97,
          103,
          37,
          52,
          57,
          77,
          125,
          48
         ],
         "xaxis": "x2",
         "y": [
          1.2,
          0.79,
          3.2,
          1.22,
          1.5,
          1.15,
          1.29,
          1.16,
          0.64,
          1,
          1.03
         ],
         "yaxis": "y2"
        },
        {
         "hovertemplate": "player=Chino<br>year=2019<br>hill time (s)=%{x}<br>k/d=%{y}<extra></extra>",
         "legendgroup": "Chino",
         "marker": {
          "color": "#FFA15A",
          "symbol": "circle"
         },
         "mode": "markers",
         "name": "Chino",
         "showlegend": false,
         "type": "scattergl",
         "x": [
          111,
          81,
          109,
          97,
          93,
          73,
          60,
          149,
          54,
          4
         ],
         "xaxis": "x3",
         "y": [
          1.43,
          0.74,
          1,
          1.5,
          1.5,
          1.04,
          0.41,
          0.93,
          1.19,
          0.53
         ],
         "yaxis": "y3"
        },
        {
         "hovertemplate": "player=Decemate<br>year=2018<br>hill time (s)=%{x}<br>k/d=%{y}<extra></extra>",
         "legendgroup": "Decemate",
         "marker": {
          "color": "#19d3f3",
          "symbol": "circle"
         },
         "mode": "markers",
         "name": "Decemate",
         "showlegend": true,
         "type": "scattergl",
         "x": [
          88,
          31,
          48,
          5,
          48,
          110,
          179,
          121,
          42,
          98,
          108
         ],
         "xaxis": "x2",
         "y": [
          1.1,
          0.43,
          1.35,
          0.64,
          1.19,
          0.71,
          0.82,
          0.9,
          0.57,
          0.86,
          0.65
         ],
         "yaxis": "y2"
        },
        {
         "hovertemplate": "player=Decemate<br>year=2019<br>hill time (s)=%{x}<br>k/d=%{y}<extra></extra>",
         "legendgroup": "Decemate",
         "marker": {
          "color": "#19d3f3",
          "symbol": "circle"
         },
         "mode": "markers",
         "name": "Decemate",
         "showlegend": false,
         "type": "scattergl",
         "x": [
          23,
          29,
          13,
          95,
          47,
          21,
          75,
          20,
          20,
          32
         ],
         "xaxis": "x3",
         "y": [
          1,
          0.92,
          0.65,
          1.54,
          1.35,
          0.96,
          1.14,
          1,
          0.75,
          1.16
         ],
         "yaxis": "y3"
        },
        {
         "hovertemplate": "player=Huke<br>year=2018<br>hill time (s)=%{x}<br>k/d=%{y}<extra></extra>",
         "legendgroup": "Huke",
         "marker": {
          "color": "#FF6692",
          "symbol": "circle"
         },
         "mode": "markers",
         "name": "Huke",
         "showlegend": true,
         "type": "scattergl",
         "x": [
          35,
          27,
          84,
          54,
          75,
          30,
          52,
          94,
          48,
          39,
          28
         ],
         "xaxis": "x2",
         "y": [
          1,
          1,
          1.44,
          0.6,
          1.38,
          0.97,
          1.14,
          1.14,
          1.04,
          1.09,
          1.29
         ],
         "yaxis": "y2"
        },
        {
         "hovertemplate": "player=Huke<br>year=2019<br>hill time (s)=%{x}<br>k/d=%{y}<extra></extra>",
         "legendgroup": "Huke",
         "marker": {
          "color": "#FF6692",
          "symbol": "circle"
         },
         "mode": "markers",
         "name": "Huke",
         "showlegend": false,
         "type": "scattergl",
         "x": [
          73,
          76,
          104,
          66,
          63,
          98,
          126,
          56
         ],
         "xaxis": "x3",
         "y": [
          1.32,
          1.53,
          1.4,
          1,
          0.82,
          1.12,
          1.33,
          1.19
         ],
         "yaxis": "y3"
        },
        {
         "hovertemplate": "player=Wailers<br>year=2018<br>hill time (s)=%{x}<br>k/d=%{y}<extra></extra>",
         "legendgroup": "Wailers",
         "marker": {
          "color": "#B6E880",
          "symbol": "circle"
         },
         "mode": "markers",
         "name": "Wailers",
         "showlegend": true,
         "type": "scattergl",
         "x": [
          41,
          46,
          74,
          25
         ],
         "xaxis": "x2",
         "y": [
          0.7,
          1.26,
          1.24,
          0.48
         ],
         "yaxis": "y2"
        },
        {
         "hovertemplate": "player=Wailers<br>year=2019<br>hill time (s)=%{x}<br>k/d=%{y}<extra></extra>",
         "legendgroup": "Wailers",
         "marker": {
          "color": "#B6E880",
          "symbol": "circle"
         },
         "mode": "markers",
         "name": "Wailers",
         "showlegend": false,
         "type": "scattergl",
         "x": [
          19,
          50,
          85,
          60,
          45,
          29,
          68,
          66,
          52,
          51
         ],
         "xaxis": "x3",
         "y": [
          1.18,
          1.24,
          1.82,
          1.12,
          1.05,
          1,
          1.2,
          1.45,
          0.74,
          1.5
         ],
         "yaxis": "y3"
        },
        {
         "hovertemplate": "player=Alex<br>year=2018<br>hill time (s)=%{x}<br>k/d=%{y}<extra></extra>",
         "legendgroup": "Alex",
         "marker": {
          "color": "#FF97FF",
          "symbol": "circle"
         },
         "mode": "markers",
         "name": "Alex",
         "showlegend": true,
         "type": "scattergl",
         "x": [
          45,
          58,
          91,
          18,
          75,
          26,
          56
         ],
         "xaxis": "x2",
         "y": [
          1.88,
          1.24,
          1.39,
          1.12,
          1.36,
          0.92,
          0.85
         ],
         "yaxis": "y2"
        },
        {
         "hovertemplate": "player=Alex<br>year=2019<br>hill time (s)=%{x}<br>k/d=%{y}<extra></extra>",
         "legendgroup": "Alex",
         "marker": {
          "color": "#FF97FF",
          "symbol": "circle"
         },
         "mode": "markers",
         "name": "Alex",
         "showlegend": false,
         "type": "scattergl",
         "x": [
          44,
          65,
          59,
          82,
          50,
          54,
          35,
          33,
          48,
          66,
          38,
          24
         ],
         "xaxis": "x3",
         "y": [
          1.26,
          2.4,
          1.12,
          1.22,
          1,
          1.82,
          0.96,
          1.05,
          1.18,
          0.69,
          0.87,
          0.71
         ],
         "yaxis": "y3"
        },
        {
         "hovertemplate": "player=Blazt<br>year=2018<br>hill time (s)=%{x}<br>k/d=%{y}<extra></extra>",
         "legendgroup": "Blazt",
         "marker": {
          "color": "#FECB52",
          "symbol": "circle"
         },
         "mode": "markers",
         "name": "Blazt",
         "showlegend": true,
         "type": "scattergl",
         "x": [
          109,
          47,
          18,
          63,
          68,
          38,
          14,
          58,
          40
         ],
         "xaxis": "x2",
         "y": [
          1.3,
          0.91,
          0.93,
          0.81,
          0.91,
          0.68,
          0.64,
          1,
          1
         ],
         "yaxis": "y2"
        },
        {
         "hovertemplate": "player=Blazt<br>year=2019<br>hill time (s)=%{x}<br>k/d=%{y}<extra></extra>",
         "legendgroup": "Blazt",
         "marker": {
          "color": "#FECB52",
          "symbol": "circle"
         },
         "mode": "markers",
         "name": "Blazt",
         "showlegend": false,
         "type": "scattergl",
         "x": [
          151,
          13,
          75,
          27,
          45
         ],
         "xaxis": "x3",
         "y": [
          1.6,
          0.61,
          1.5,
          1,
          1.11
         ],
         "yaxis": "y3"
        },
        {
         "hovertemplate": "player=Censor<br>year=2018<br>hill time (s)=%{x}<br>k/d=%{y}<extra></extra>",
         "legendgroup": "Censor",
         "marker": {
          "color": "#636efa",
          "symbol": "circle"
         },
         "mode": "markers",
         "name": "Censor",
         "showlegend": true,
         "type": "scattergl",
         "x": [
          90,
          54,
          65,
          79,
          54,
          93,
          102,
          81,
          34
         ],
         "xaxis": "x2",
         "y": [
          0.59,
          0.72,
          0.96,
          0.88,
          0.78,
          1,
          0.84,
          0.68,
          0.82
         ],
         "yaxis": "y2"
        },
        {
         "hovertemplate": "player=Zoomaa<br>year=2018<br>hill time (s)=%{x}<br>k/d=%{y}<extra></extra>",
         "legendgroup": "Zoomaa",
         "marker": {
          "color": "#EF553B",
          "symbol": "circle"
         },
         "mode": "markers",
         "name": "Zoomaa",
         "showlegend": true,
         "type": "scattergl",
         "x": [
          62,
          36,
          72,
          33,
          70,
          65,
          27,
          24,
          37,
          55,
          53,
          35,
          4,
          88,
          100,
          45,
          56
         ],
         "xaxis": "x2",
         "y": [
          1.54,
          0.96,
          1.04,
          0.97,
          0.88,
          1,
          1.37,
          0.9,
          1.31,
          1.62,
          1,
          1.04,
          0.91,
          0.86,
          0.96,
          1.24,
          0.95
         ],
         "yaxis": "y2"
        },
        {
         "hovertemplate": "player=Zoomaa<br>year=2019<br>hill time (s)=%{x}<br>k/d=%{y}<extra></extra>",
         "legendgroup": "Zoomaa",
         "marker": {
          "color": "#EF553B",
          "symbol": "circle"
         },
         "mode": "markers",
         "name": "Zoomaa",
         "showlegend": false,
         "type": "scattergl",
         "x": [
          76,
          62,
          137,
          56,
          53,
          48,
          47,
          79,
          18
         ],
         "xaxis": "x3",
         "y": [
          1.93,
          0.89,
          1.82,
          2.11,
          1,
          0.8,
          0.65,
          1.2,
          0.62
         ],
         "yaxis": "y3"
        },
        {
         "hovertemplate": "player=Abezy<br>year=2018<br>hill time (s)=%{x}<br>k/d=%{y}<extra></extra>",
         "legendgroup": "Abezy",
         "marker": {
          "color": "#00cc96",
          "symbol": "circle"
         },
         "mode": "markers",
         "name": "Abezy",
         "showlegend": true,
         "type": "scattergl",
         "x": [
          74,
          45,
          47,
          116,
          88
         ],
         "xaxis": "x2",
         "y": [
          1.67,
          0.65,
          0.73,
          1.22,
          1.15
         ],
         "yaxis": "y2"
        },
        {
         "hovertemplate": "player=Abezy<br>year=2019<br>hill time (s)=%{x}<br>k/d=%{y}<extra></extra>",
         "legendgroup": "Abezy",
         "marker": {
          "color": "#00cc96",
          "symbol": "circle"
         },
         "mode": "markers",
         "name": "Abezy",
         "showlegend": false,
         "type": "scattergl",
         "x": [
          41,
          43,
          30,
          53,
          66,
          39,
          81,
          67,
          50,
          100,
          43,
          53,
          37,
          58
         ],
         "xaxis": "x3",
         "y": [
          1.64,
          2.78,
          1,
          0.71,
          0.91,
          0.67,
          2.08,
          1.5,
          0.76,
          1.65,
          0.96,
          1.2,
          1.05,
          1.5
         ],
         "yaxis": "y3"
        },
        {
         "hovertemplate": "player=Diabolic<br>year=2018<br>hill time (s)=%{x}<br>k/d=%{y}<extra></extra>",
         "legendgroup": "Diabolic",
         "marker": {
          "color": "#ab63fa",
          "symbol": "circle"
         },
         "mode": "markers",
         "name": "Diabolic",
         "showlegend": true,
         "type": "scattergl",
         "x": [
          45,
          7,
          19,
          95,
          48
         ],
         "xaxis": "x2",
         "y": [
          0.77,
          1.12,
          0.73,
          1.35,
          1.26
         ],
         "yaxis": "y2"
        },
        {
         "hovertemplate": "player=Sender<br>year=2018<br>hill time (s)=%{x}<br>k/d=%{y}<extra></extra>",
         "legendgroup": "Sender",
         "marker": {
          "color": "#FFA15A",
          "symbol": "circle"
         },
         "mode": "markers",
         "name": "Sender",
         "showlegend": true,
         "type": "scattergl",
         "x": [
          66,
          62,
          81,
          43,
          91
         ],
         "xaxis": "x2",
         "y": [
          1.24,
          1,
          1.17,
          0.66,
          0.79
         ],
         "yaxis": "y2"
        },
        {
         "hovertemplate": "player=Phantomz<br>year=2018<br>hill time (s)=%{x}<br>k/d=%{y}<extra></extra>",
         "legendgroup": "Phantomz",
         "marker": {
          "color": "#19d3f3",
          "symbol": "circle"
         },
         "mode": "markers",
         "name": "Phantomz",
         "showlegend": true,
         "type": "scattergl",
         "x": [
          7,
          33,
          41,
          75,
          57
         ],
         "xaxis": "x2",
         "y": [
          0.59,
          1.05,
          1.05,
          1.42,
          0.62
         ],
         "yaxis": "y2"
        },
        {
         "hovertemplate": "player=Phantomz<br>year=2019<br>hill time (s)=%{x}<br>k/d=%{y}<extra></extra>",
         "legendgroup": "Phantomz",
         "marker": {
          "color": "#19d3f3",
          "symbol": "circle"
         },
         "mode": "markers",
         "name": "Phantomz",
         "showlegend": false,
         "type": "scattergl",
         "x": [
          47,
          31,
          51,
          53,
          49
         ],
         "xaxis": "x3",
         "y": [
          1.47,
          0.71,
          1.06,
          1.53,
          1.8
         ],
         "yaxis": "y3"
        },
        {
         "hovertemplate": "player=Atlas<br>year=2018<br>hill time (s)=%{x}<br>k/d=%{y}<extra></extra>",
         "legendgroup": "Atlas",
         "marker": {
          "color": "#FF6692",
          "symbol": "circle"
         },
         "mode": "markers",
         "name": "Atlas",
         "showlegend": true,
         "type": "scattergl",
         "x": [
          84,
          47,
          61,
          20
         ],
         "xaxis": "x2",
         "y": [
          0.89,
          0.88,
          0.77,
          0.76
         ],
         "yaxis": "y2"
        },
        {
         "hovertemplate": "player=Breszy<br>year=2018<br>hill time (s)=%{x}<br>k/d=%{y}<extra></extra>",
         "legendgroup": "Breszy",
         "marker": {
          "color": "#B6E880",
          "symbol": "circle"
         },
         "mode": "markers",
         "name": "Breszy",
         "showlegend": true,
         "type": "scattergl",
         "x": [
          111,
          39,
          20,
          46
         ],
         "xaxis": "x2",
         "y": [
          1.35,
          0.86,
          1.32,
          0.71
         ],
         "yaxis": "y2"
        },
        {
         "hovertemplate": "player=Breszy<br>year=2019<br>hill time (s)=%{x}<br>k/d=%{y}<extra></extra>",
         "legendgroup": "Breszy",
         "marker": {
          "color": "#B6E880",
          "symbol": "circle"
         },
         "mode": "markers",
         "name": "Breszy",
         "showlegend": false,
         "type": "scattergl",
         "x": [
          53,
          48,
          86,
          95,
          62,
          50,
          17,
          11,
          46,
          69,
          24,
          67,
          44
         ],
         "xaxis": "x3",
         "y": [
          1.45,
          1.05,
          1.33,
          1.89,
          1.11,
          0.88,
          0.76,
          0.81,
          1,
          1.11,
          1.62,
          1.1,
          0.75
         ],
         "yaxis": "y3"
        },
        {
         "hovertemplate": "player=Natshay<br>year=2018<br>hill time (s)=%{x}<br>k/d=%{y}<extra></extra>",
         "legendgroup": "Natshay",
         "marker": {
          "color": "#FF97FF",
          "symbol": "circle"
         },
         "mode": "markers",
         "name": "Natshay",
         "showlegend": true,
         "type": "scattergl",
         "x": [
          61,
          39,
          43,
          22
         ],
         "xaxis": "x2",
         "y": [
          1,
          0.71,
          0.92,
          0.73
         ],
         "yaxis": "y2"
        },
        {
         "hovertemplate": "player=Natshay<br>year=2019<br>hill time (s)=%{x}<br>k/d=%{y}<extra></extra>",
         "legendgroup": "Natshay",
         "marker": {
          "color": "#FF97FF",
          "symbol": "circle"
         },
         "mode": "markers",
         "name": "Natshay",
         "showlegend": false,
         "type": "scattergl",
         "x": [
          56,
          78,
          39,
          40,
          133
         ],
         "xaxis": "x3",
         "y": [
          0.52,
          0.74,
          0.64,
          0.36,
          1.11
         ],
         "yaxis": "y3"
        },
        {
         "hovertemplate": "player=MajorManiak<br>year=2018<br>hill time (s)=%{x}<br>k/d=%{y}<extra></extra>",
         "legendgroup": "MajorManiak",
         "marker": {
          "color": "#FECB52",
          "symbol": "circle"
         },
         "mode": "markers",
         "name": "MajorManiak",
         "showlegend": true,
         "type": "scattergl",
         "x": [
          10,
          85,
          69,
          40,
          106,
          81,
          8,
          69,
          59
         ],
         "xaxis": "x2",
         "y": [
          0.79,
          0.43,
          0.87,
          1.21,
          2.46,
          1.35,
          0.78,
          1.36,
          0.68
         ],
         "yaxis": "y2"
        },
        {
         "hovertemplate": "player=MajorManiak<br>year=2019<br>hill time (s)=%{x}<br>k/d=%{y}<extra></extra>",
         "legendgroup": "MajorManiak",
         "marker": {
          "color": "#FECB52",
          "symbol": "circle"
         },
         "mode": "markers",
         "name": "MajorManiak",
         "showlegend": false,
         "type": "scattergl",
         "x": [
          78,
          55,
          25,
          24
         ],
         "xaxis": "x3",
         "y": [
          1.05,
          0.57,
          0.88,
          0.68
         ],
         "yaxis": "y3"
        },
        {
         "hovertemplate": "player=Beehzy<br>year=2018<br>hill time (s)=%{x}<br>k/d=%{y}<extra></extra>",
         "legendgroup": "Beehzy",
         "marker": {
          "color": "#636efa",
          "symbol": "circle"
         },
         "mode": "markers",
         "name": "Beehzy",
         "showlegend": true,
         "type": "scattergl",
         "x": [
          110,
          10,
          57
         ],
         "xaxis": "x2",
         "y": [
          0.96,
          0.87,
          0.95
         ],
         "yaxis": "y2"
        },
        {
         "hovertemplate": "player=Beehzy<br>year=2019<br>hill time (s)=%{x}<br>k/d=%{y}<extra></extra>",
         "legendgroup": "Beehzy",
         "marker": {
          "color": "#636efa",
          "symbol": "circle"
         },
         "mode": "markers",
         "name": "Beehzy",
         "showlegend": false,
         "type": "scattergl",
         "x": [
          38,
          89,
          56,
          77,
          56
         ],
         "xaxis": "x3",
         "y": [
          0.84,
          0.69,
          0.86,
          0.79,
          0.83
         ],
         "yaxis": "y3"
        },
        {
         "hovertemplate": "player=Remy<br>year=2018<br>hill time (s)=%{x}<br>k/d=%{y}<extra></extra>",
         "legendgroup": "Remy",
         "marker": {
          "color": "#EF553B",
          "symbol": "circle"
         },
         "mode": "markers",
         "name": "Remy",
         "showlegend": true,
         "type": "scattergl",
         "x": [
          108,
          65,
          21
         ],
         "xaxis": "x2",
         "y": [
          1.04,
          1,
          0.86
         ],
         "yaxis": "y2"
        },
        {
         "hovertemplate": "player=Chain<br>year=2018<br>hill time (s)=%{x}<br>k/d=%{y}<extra></extra>",
         "legendgroup": "Chain",
         "marker": {
          "color": "#00cc96",
          "symbol": "circle"
         },
         "mode": "markers",
         "name": "Chain",
         "showlegend": true,
         "type": "scattergl",
         "x": [
          71,
          38,
          35,
          0,
          48,
          8,
          81,
          80
         ],
         "xaxis": "x2",
         "y": [
          0.86,
          0.6,
          1.07,
          0.95,
          0.59,
          1.03,
          1.11,
          0.73
         ],
         "yaxis": "y2"
        },
        {
         "hovertemplate": "player=Chain<br>year=2019<br>hill time (s)=%{x}<br>k/d=%{y}<extra></extra>",
         "legendgroup": "Chain",
         "marker": {
          "color": "#00cc96",
          "symbol": "circle"
         },
         "mode": "markers",
         "name": "Chain",
         "showlegend": false,
         "type": "scattergl",
         "x": [
          78,
          74,
          25,
          66,
          34
         ],
         "xaxis": "x3",
         "y": [
          1.29,
          0.88,
          0.55,
          0.92,
          0.82
         ],
         "yaxis": "y3"
        },
        {
         "hovertemplate": "player=Denza<br>year=2018<br>hill time (s)=%{x}<br>k/d=%{y}<extra></extra>",
         "legendgroup": "Denza",
         "marker": {
          "color": "#ab63fa",
          "symbol": "circle"
         },
         "mode": "markers",
         "name": "Denza",
         "showlegend": true,
         "type": "scattergl",
         "x": [
          55,
          20,
          162,
          0,
          9,
          99,
          106,
          33
         ],
         "xaxis": "x2",
         "y": [
          0.91,
          0.73,
          0.96,
          1.19,
          0.65,
          1.09,
          1.37,
          0.94
         ],
         "yaxis": "y2"
        },
        {
         "hovertemplate": "player=Maple<br>year=2018<br>hill time (s)=%{x}<br>k/d=%{y}<extra></extra>",
         "legendgroup": "Maple",
         "marker": {
          "color": "#FFA15A",
          "symbol": "circle"
         },
         "mode": "markers",
         "name": "Maple",
         "showlegend": true,
         "type": "scattergl",
         "x": [
          81,
          17,
          31,
          0,
          25,
          35,
          54,
          59
         ],
         "xaxis": "x2",
         "y": [
          1.07,
          0.54,
          0.59,
          1.09,
          0.76,
          1.22,
          1.11,
          0.92
         ],
         "yaxis": "y2"
        },
        {
         "hovertemplate": "player=BBCONor<br>year=2019<br>hill time (s)=%{x}<br>k/d=%{y}<extra></extra>",
         "legendgroup": "BBCONor",
         "marker": {
          "color": "#19d3f3",
          "symbol": "circle"
         },
         "mode": "markers",
         "name": "BBCONor",
         "showlegend": true,
         "type": "scattergl",
         "x": [
          88
         ],
         "xaxis": "x3",
         "y": [
          0.95
         ],
         "yaxis": "y3"
        },
        {
         "hovertemplate": "player=Chaaxter<br>year=2019<br>hill time (s)=%{x}<br>k/d=%{y}<extra></extra>",
         "legendgroup": "Chaaxter",
         "marker": {
          "color": "#FF6692",
          "symbol": "circle"
         },
         "mode": "markers",
         "name": "Chaaxter",
         "showlegend": true,
         "type": "scattergl",
         "x": [
          78,
          92,
          115,
          62,
          69
         ],
         "xaxis": "x3",
         "y": [
          0.92,
          0.93,
          1.53,
          0.3,
          1
         ],
         "yaxis": "y3"
        },
        {
         "hovertemplate": "player=Harry<br>year=2019<br>hill time (s)=%{x}<br>k/d=%{y}<extra></extra>",
         "legendgroup": "Harry",
         "marker": {
          "color": "#B6E880",
          "symbol": "circle"
         },
         "mode": "markers",
         "name": "Harry",
         "showlegend": true,
         "type": "scattergl",
         "x": [
          99,
          49,
          102,
          38,
          63
         ],
         "xaxis": "x3",
         "y": [
          1.36,
          1.23,
          1.29,
          0.5,
          0.91
         ],
         "yaxis": "y3"
        },
        {
         "hovertemplate": "player=Envoy<br>year=2019<br>hill time (s)=%{x}<br>k/d=%{y}<extra></extra>",
         "legendgroup": "Envoy",
         "marker": {
          "color": "#FF97FF",
          "symbol": "circle"
         },
         "mode": "markers",
         "name": "Envoy",
         "showlegend": true,
         "type": "scattergl",
         "x": [
          52,
          54,
          23,
          78
         ],
         "xaxis": "x3",
         "y": [
          1.04,
          0.75,
          0.74,
          1.2
         ],
         "yaxis": "y3"
        },
        {
         "hovertemplate": "player=Nastie<br>year=2019<br>hill time (s)=%{x}<br>k/d=%{y}<extra></extra>",
         "legendgroup": "Nastie",
         "marker": {
          "color": "#FECB52",
          "symbol": "circle"
         },
         "mode": "markers",
         "name": "Nastie",
         "showlegend": true,
         "type": "scattergl",
         "x": [
          45,
          99,
          31,
          91,
          41
         ],
         "xaxis": "x3",
         "y": [
          0.68,
          1.18,
          0.81,
          1.57,
          1.04
         ],
         "yaxis": "y3"
        },
        {
         "hovertemplate": "player=Kismet<br>year=2019<br>hill time (s)=%{x}<br>k/d=%{y}<extra></extra>",
         "legendgroup": "Kismet",
         "marker": {
          "color": "#636efa",
          "symbol": "circle"
         },
         "mode": "markers",
         "name": "Kismet",
         "showlegend": true,
         "type": "scattergl",
         "x": [
          77,
          32,
          43,
          54,
          94,
          36,
          46,
          31,
          126,
          14,
          88,
          41,
          41
         ],
         "xaxis": "x3",
         "y": [
          1.1,
          0.52,
          1.54,
          1.04,
          1.35,
          0.89,
          0.76,
          0.88,
          0.9,
          0.86,
          0.8,
          1.44,
          0.69
         ],
         "yaxis": "y3"
        },
        {
         "hovertemplate": "player=Simp<br>year=2019<br>hill time (s)=%{x}<br>k/d=%{y}<extra></extra>",
         "legendgroup": "Simp",
         "marker": {
          "color": "#EF553B",
          "symbol": "circle"
         },
         "mode": "markers",
         "name": "Simp",
         "showlegend": true,
         "type": "scattergl",
         "x": [
          110,
          106,
          97,
          84,
          119,
          109,
          107,
          70,
          75,
          156,
          34,
          81,
          93,
          81
         ],
         "xaxis": "x3",
         "y": [
          1.56,
          1.5,
          1.67,
          1.04,
          1.16,
          1.92,
          1.36,
          0.88,
          1.45,
          2.71,
          0.95,
          1.91,
          1.26,
          0.85
         ],
         "yaxis": "y3"
        },
        {
         "hovertemplate": "player=2ReaL<br>year=2019<br>hill time (s)=%{x}<br>k/d=%{y}<extra></extra>",
         "legendgroup": "2ReaL",
         "marker": {
          "color": "#00cc96",
          "symbol": "circle"
         },
         "mode": "markers",
         "name": "2ReaL",
         "showlegend": true,
         "type": "scattergl",
         "x": [
          0,
          10,
          26,
          43,
          27,
          54
         ],
         "xaxis": "x3",
         "y": [
          0.38,
          0.48,
          1.21,
          0.64,
          0.74,
          2.64
         ],
         "yaxis": "y3"
        },
        {
         "hovertemplate": "player=Gunshiii<br>year=2019<br>hill time (s)=%{x}<br>k/d=%{y}<extra></extra>",
         "legendgroup": "Gunshiii",
         "marker": {
          "color": "#ab63fa",
          "symbol": "circle"
         },
         "mode": "markers",
         "name": "Gunshiii",
         "showlegend": true,
         "type": "scattergl",
         "x": [
          36
         ],
         "xaxis": "x3",
         "y": [
          0.47
         ],
         "yaxis": "y3"
        },
        {
         "hovertemplate": "player=Conor<br>year=2019<br>hill time (s)=%{x}<br>k/d=%{y}<extra></extra>",
         "legendgroup": "Conor",
         "marker": {
          "color": "#FFA15A",
          "symbol": "circle"
         },
         "mode": "markers",
         "name": "Conor",
         "showlegend": true,
         "type": "scattergl",
         "x": [
          101,
          57,
          17,
          45
         ],
         "xaxis": "x3",
         "y": [
          1.14,
          0.81,
          0.55,
          0.76
         ],
         "yaxis": "y3"
        },
        {
         "hovertemplate": "player=Gunsiii<br>year=2019<br>hill time (s)=%{x}<br>k/d=%{y}<extra></extra>",
         "legendgroup": "Gunsiii",
         "marker": {
          "color": "#19d3f3",
          "symbol": "circle"
         },
         "mode": "markers",
         "name": "Gunsiii",
         "showlegend": true,
         "type": "scattergl",
         "x": [
          35,
          53,
          58,
          27,
          90
         ],
         "xaxis": "x3",
         "y": [
          1.14,
          0.54,
          0.85,
          0.84,
          1.35
         ],
         "yaxis": "y3"
        },
        {
         "hovertemplate": "player=EFatal<br>year=2019<br>hill time (s)=%{x}<br>k/d=%{y}<extra></extra>",
         "legendgroup": "EFatal",
         "marker": {
          "color": "#FF6692",
          "symbol": "circle"
         },
         "mode": "markers",
         "name": "EFatal",
         "showlegend": true,
         "type": "scattergl",
         "x": [
          34,
          57,
          28,
          115
         ],
         "xaxis": "x3",
         "y": [
          0.83,
          0.75,
          0.85,
          1.41
         ],
         "yaxis": "y3"
        },
        {
         "hovertemplate": "player=Foncho<br>year=2019<br>hill time (s)=%{x}<br>k/d=%{y}<extra></extra>",
         "legendgroup": "Foncho",
         "marker": {
          "color": "#B6E880",
          "symbol": "circle"
         },
         "mode": "markers",
         "name": "Foncho",
         "showlegend": true,
         "type": "scattergl",
         "x": [
          24,
          44,
          52,
          112
         ],
         "xaxis": "x3",
         "y": [
          0.68,
          0.85,
          0.52,
          1.32
         ],
         "yaxis": "y3"
        },
        {
         "hovertemplate": "player=Phenom<br>year=2019<br>hill time (s)=%{x}<br>k/d=%{y}<extra></extra>",
         "legendgroup": "Phenom",
         "marker": {
          "color": "#FF97FF",
          "symbol": "circle"
         },
         "mode": "markers",
         "name": "Phenom",
         "showlegend": true,
         "type": "scattergl",
         "x": [
          22,
          64,
          67,
          78
         ],
         "xaxis": "x3",
         "y": [
          0.71,
          1.1,
          0.57,
          0.91
         ],
         "yaxis": "y3"
        },
        {
         "hovertemplate": "player=Pure<br>year=2019<br>hill time (s)=%{x}<br>k/d=%{y}<extra></extra>",
         "legendgroup": "Pure",
         "marker": {
          "color": "#FECB52",
          "symbol": "circle"
         },
         "mode": "markers",
         "name": "Pure",
         "showlegend": true,
         "type": "scattergl",
         "x": [
          21,
          40,
          55,
          40
         ],
         "xaxis": "x3",
         "y": [
          0.61,
          0.8,
          0.86,
          0.95
         ],
         "yaxis": "y3"
        },
        {
         "hovertemplate": "player=Ryza<br>year=2019<br>hill time (s)=%{x}<br>k/d=%{y}<extra></extra>",
         "legendgroup": "Ryza",
         "marker": {
          "color": "#636efa",
          "symbol": "circle"
         },
         "mode": "markers",
         "name": "Ryza",
         "showlegend": true,
         "type": "scattergl",
         "x": [
          23,
          44,
          27,
          63
         ],
         "xaxis": "x3",
         "y": [
          0.83,
          1.05,
          1.05,
          1.29
         ],
         "yaxis": "y3"
        },
        {
         "hovertemplate": "player=Dylan<br>year=2019<br>hill time (s)=%{x}<br>k/d=%{y}<extra></extra>",
         "legendgroup": "Dylan",
         "marker": {
          "color": "#EF553B",
          "symbol": "circle"
         },
         "mode": "markers",
         "name": "Dylan",
         "showlegend": true,
         "type": "scattergl",
         "x": [
          56,
          91,
          89,
          90,
          33,
          73,
          89,
          61,
          81,
          38,
          50,
          10
         ],
         "xaxis": "x3",
         "y": [
          0.73,
          1.57,
          1.34,
          1.68,
          0.77,
          1.43,
          1.32,
          1.08,
          0.89,
          0.62,
          0.86,
          0.76
         ],
         "yaxis": "y3"
        },
        {
         "hovertemplate": "player=Cells<br>year=2019<br>hill time (s)=%{x}<br>k/d=%{y}<extra></extra>",
         "legendgroup": "Cells",
         "marker": {
          "color": "#00cc96",
          "symbol": "circle"
         },
         "mode": "markers",
         "name": "Cells",
         "showlegend": true,
         "type": "scattergl",
         "x": [
          118,
          113,
          75,
          98
         ],
         "xaxis": "x3",
         "y": [
          1,
          1.2,
          0.71,
          0.83
         ],
         "yaxis": "y3"
        },
        {
         "hovertemplate": "player=Hollow<br>year=2019<br>hill time (s)=%{x}<br>k/d=%{y}<extra></extra>",
         "legendgroup": "Hollow",
         "marker": {
          "color": "#ab63fa",
          "symbol": "circle"
         },
         "mode": "markers",
         "name": "Hollow",
         "showlegend": true,
         "type": "scattergl",
         "x": [
          50,
          30,
          95,
          55
         ],
         "xaxis": "x3",
         "y": [
          1,
          0.7,
          0.94,
          0.8
         ],
         "yaxis": "y3"
        },
        {
         "hovertemplate": "player=Vivid<br>year=2019<br>hill time (s)=%{x}<br>k/d=%{y}<extra></extra>",
         "legendgroup": "Vivid",
         "marker": {
          "color": "#FFA15A",
          "symbol": "circle"
         },
         "mode": "markers",
         "name": "Vivid",
         "showlegend": true,
         "type": "scattergl",
         "x": [
          50,
          45,
          32,
          28
         ],
         "xaxis": "x3",
         "y": [
          0.84,
          1.25,
          0.79,
          0.59
         ],
         "yaxis": "y3"
        },
        {
         "hovertemplate": "player=Wrecks<br>year=2019<br>hill time (s)=%{x}<br>k/d=%{y}<extra></extra>",
         "legendgroup": "Wrecks",
         "marker": {
          "color": "#19d3f3",
          "symbol": "circle"
         },
         "mode": "markers",
         "name": "Wrecks",
         "showlegend": true,
         "type": "scattergl",
         "x": [
          57,
          85,
          77,
          58
         ],
         "xaxis": "x3",
         "y": [
          0.75,
          1.24,
          1.38,
          0.91
         ],
         "yaxis": "y3"
        },
        {
         "hovertemplate": "player=Jetli<br>year=2019<br>hill time (s)=%{x}<br>k/d=%{y}<extra></extra>",
         "legendgroup": "Jetli",
         "marker": {
          "color": "#FF6692",
          "symbol": "circle"
         },
         "mode": "markers",
         "name": "Jetli",
         "showlegend": true,
         "type": "scattergl",
         "x": [
          89,
          58,
          20,
          14,
          36,
          77
         ],
         "xaxis": "x3",
         "y": [
          1.12,
          1,
          0.7,
          0.78,
          0.75,
          1.71
         ],
         "yaxis": "y3"
        },
        {
         "hovertemplate": "player=Cookie<br>year=2019<br>hill time (s)=%{x}<br>k/d=%{y}<extra></extra>",
         "legendgroup": "Cookie",
         "marker": {
          "color": "#B6E880",
          "symbol": "circle"
         },
         "mode": "markers",
         "name": "Cookie",
         "showlegend": true,
         "type": "scattergl",
         "x": [
          51,
          36,
          52,
          48,
          21
         ],
         "xaxis": "x3",
         "y": [
          0.64,
          0.95,
          1.31,
          1.22,
          0.86
         ],
         "yaxis": "y3"
        },
        {
         "hovertemplate": "player=Pazy<br>year=2019<br>hill time (s)=%{x}<br>k/d=%{y}<extra></extra>",
         "legendgroup": "Pazy",
         "marker": {
          "color": "#FF97FF",
          "symbol": "circle"
         },
         "mode": "markers",
         "name": "Pazy",
         "showlegend": true,
         "type": "scattergl",
         "x": [
          44,
          52,
          12,
          97,
          66
         ],
         "xaxis": "x3",
         "y": [
          0.71,
          0.88,
          0.95,
          1.13,
          0.9
         ],
         "yaxis": "y3"
        },
        {
         "hovertemplate": "player=Phantom<br>year=2019<br>hill time (s)=%{x}<br>k/d=%{y}<extra></extra>",
         "legendgroup": "Phantom",
         "marker": {
          "color": "#FECB52",
          "symbol": "circle"
         },
         "mode": "markers",
         "name": "Phantom",
         "showlegend": true,
         "type": "scattergl",
         "x": [
          47,
          35,
          19,
          60,
          14
         ],
         "xaxis": "x3",
         "y": [
          0.42,
          0.67,
          0.67,
          0.76,
          0.46
         ],
         "yaxis": "y3"
        },
        {
         "hovertemplate": "player=Piero<br>year=2019<br>hill time (s)=%{x}<br>k/d=%{y}<extra></extra>",
         "legendgroup": "Piero",
         "marker": {
          "color": "#636efa",
          "symbol": "circle"
         },
         "mode": "markers",
         "name": "Piero",
         "showlegend": true,
         "type": "scattergl",
         "x": [
          10,
          53,
          44,
          115,
          13
         ],
         "xaxis": "x3",
         "y": [
          0.29,
          0.5,
          0.48,
          1.67,
          0.5
         ],
         "yaxis": "y3"
        },
        {
         "hovertemplate": "player=Sharko<br>year=2019<br>hill time (s)=%{x}<br>k/d=%{y}<extra></extra>",
         "legendgroup": "Sharko",
         "marker": {
          "color": "#EF553B",
          "symbol": "circle"
         },
         "mode": "markers",
         "name": "Sharko",
         "showlegend": true,
         "type": "scattergl",
         "x": [
          26,
          28,
          53,
          141,
          55
         ],
         "xaxis": "x3",
         "y": [
          0.75,
          0.44,
          0.38,
          1.24,
          0.57
         ],
         "yaxis": "y3"
        },
        {
         "hovertemplate": "player=Asim<br>year=2019<br>hill time (s)=%{x}<br>k/d=%{y}<extra></extra>",
         "legendgroup": "Asim",
         "marker": {
          "color": "#00cc96",
          "symbol": "circle"
         },
         "mode": "markers",
         "name": "Asim",
         "showlegend": true,
         "type": "scattergl",
         "x": [
          91,
          84,
          59,
          30,
          27,
          54,
          55,
          57,
          66
         ],
         "xaxis": "x3",
         "y": [
          1.53,
          1.22,
          1,
          1,
          0.76,
          1.78,
          0.57,
          1,
          0.49
         ],
         "yaxis": "y3"
        },
        {
         "hovertemplate": "player=Cellium<br>year=2019<br>hill time (s)=%{x}<br>k/d=%{y}<extra></extra>",
         "legendgroup": "Cellium",
         "marker": {
          "color": "#ab63fa",
          "symbol": "circle"
         },
         "mode": "markers",
         "name": "Cellium",
         "showlegend": true,
         "type": "scattergl",
         "x": [
          97,
          93,
          68,
          79,
          73,
          129,
          60,
          86,
          73
         ],
         "xaxis": "x3",
         "y": [
          2.23,
          2.07,
          0.94,
          2,
          1.65,
          1,
          0.65,
          1.23,
          2.04
         ],
         "yaxis": "y3"
        },
        {
         "hovertemplate": "player=Deelo<br>year=2019<br>hill time (s)=%{x}<br>k/d=%{y}<extra></extra>",
         "legendgroup": "Deelo",
         "marker": {
          "color": "#FFA15A",
          "symbol": "circle"
         },
         "mode": "markers",
         "name": "Deelo",
         "showlegend": true,
         "type": "scattergl",
         "x": [
          52,
          62,
          19
         ],
         "xaxis": "x3",
         "y": [
          1.05,
          0.81,
          0.67
         ],
         "yaxis": "y3"
        },
        {
         "hovertemplate": "player=Landxn<br>year=2019<br>hill time (s)=%{x}<br>k/d=%{y}<extra></extra>",
         "legendgroup": "Landxn",
         "marker": {
          "color": "#19d3f3",
          "symbol": "circle"
         },
         "mode": "markers",
         "name": "Landxn",
         "showlegend": true,
         "type": "scattergl",
         "x": [
          132,
          59,
          17
         ],
         "xaxis": "x3",
         "y": [
          0.94,
          0.85,
          0.57
         ],
         "yaxis": "y3"
        },
        {
         "hovertemplate": "player=Owakening<br>year=2019<br>hill time (s)=%{x}<br>k/d=%{y}<extra></extra>",
         "legendgroup": "Owakening",
         "marker": {
          "color": "#FF6692",
          "symbol": "circle"
         },
         "mode": "markers",
         "name": "Owakening",
         "showlegend": true,
         "type": "scattergl",
         "x": [
          52,
          63,
          46
         ],
         "xaxis": "x3",
         "y": [
          0.59,
          0.87,
          1.05
         ],
         "yaxis": "y3"
        },
        {
         "hovertemplate": "player=Reaper<br>year=2019<br>hill time (s)=%{x}<br>k/d=%{y}<extra></extra>",
         "legendgroup": "Reaper",
         "marker": {
          "color": "#B6E880",
          "symbol": "circle"
         },
         "mode": "markers",
         "name": "Reaper",
         "showlegend": true,
         "type": "scattergl",
         "x": [
          17,
          58,
          12
         ],
         "xaxis": "x3",
         "y": [
          1,
          0.78,
          0.65
         ],
         "yaxis": "y3"
        },
        {
         "hovertemplate": "player=Willett<br>year=2019<br>hill time (s)=%{x}<br>k/d=%{y}<extra></extra>",
         "legendgroup": "Willett",
         "marker": {
          "color": "#FF97FF",
          "symbol": "circle"
         },
         "mode": "markers",
         "name": "Willett",
         "showlegend": true,
         "type": "scattergl",
         "x": [
          26,
          64,
          14
         ],
         "xaxis": "x3",
         "y": [
          0.9,
          1.23,
          0.62
         ],
         "yaxis": "y3"
        },
        {
         "hovertemplate": "player=Priestahh<br>year=2019<br>hill time (s)=%{x}<br>k/d=%{y}<extra></extra>",
         "legendgroup": "Priestahh",
         "marker": {
          "color": "#FECB52",
          "symbol": "circle"
         },
         "mode": "markers",
         "name": "Priestahh",
         "showlegend": true,
         "type": "scattergl",
         "x": [
          38,
          19,
          37,
          55,
          75,
          44,
          80,
          64,
          101,
          104,
          86,
          96,
          62,
          41,
          82,
          35,
          43,
          79
         ],
         "xaxis": "x3",
         "y": [
          0.86,
          1.5,
          1.19,
          1.38,
          1.23,
          0.29,
          0.9,
          0.93,
          1.18,
          1.24,
          1.08,
          1.7,
          1.35,
          1.23,
          1.26,
          1.3,
          0.46,
          0.9
         ],
         "yaxis": "y3"
        },
        {
         "hovertemplate": "player=Exceed<br>year=2019<br>hill time (s)=%{x}<br>k/d=%{y}<extra></extra>",
         "legendgroup": "Exceed",
         "marker": {
          "color": "#636efa",
          "symbol": "circle"
         },
         "mode": "markers",
         "name": "Exceed",
         "showlegend": true,
         "type": "scattergl",
         "x": [
          73,
          76,
          84,
          31,
          38,
          77,
          34,
          72,
          62,
          34
         ],
         "xaxis": "x3",
         "y": [
          0.68,
          1.03,
          0.96,
          1,
          0.85,
          1.04,
          0.67,
          0.92,
          1,
          0.83
         ],
         "yaxis": "y3"
        },
        {
         "hovertemplate": "player=Linney<br>year=2019<br>hill time (s)=%{x}<br>k/d=%{y}<extra></extra>",
         "legendgroup": "Linney",
         "marker": {
          "color": "#EF553B",
          "symbol": "circle"
         },
         "mode": "markers",
         "name": "Linney",
         "showlegend": true,
         "type": "scattergl",
         "x": [
          24,
          33,
          46,
          66,
          62,
          56,
          47,
          76,
          71,
          17
         ],
         "xaxis": "x3",
         "y": [
          0.54,
          0.81,
          0.8,
          0.95,
          0.63,
          0.84,
          1.11,
          0.9,
          0.65,
          0.56
         ],
         "yaxis": "y3"
        },
        {
         "hovertemplate": "player=Brack<br>year=2019<br>hill time (s)=%{x}<br>k/d=%{y}<extra></extra>",
         "legendgroup": "Brack",
         "marker": {
          "color": "#00cc96",
          "symbol": "circle"
         },
         "mode": "markers",
         "name": "Brack",
         "showlegend": true,
         "type": "scattergl",
         "x": [
          46,
          96,
          51,
          133,
          69,
          70,
          72,
          66,
          17,
          96,
          74,
          11
         ],
         "xaxis": "x3",
         "y": [
          0.95,
          1.38,
          0.83,
          2,
          1.64,
          0.73,
          1.47,
          1.22,
          0.58,
          1.73,
          1.12,
          1.11
         ],
         "yaxis": "y3"
        },
        {
         "hovertemplate": "player=Skyz<br>year=2019<br>hill time (s)=%{x}<br>k/d=%{y}<extra></extra>",
         "legendgroup": "Skyz",
         "marker": {
          "color": "#ab63fa",
          "symbol": "circle"
         },
         "mode": "markers",
         "name": "Skyz",
         "showlegend": true,
         "type": "scattergl",
         "x": [
          48,
          103,
          95,
          85,
          69,
          135,
          101,
          65,
          99,
          69,
          104,
          39
         ],
         "xaxis": "x3",
         "y": [
          0.7,
          2.11,
          0.89,
          1.33,
          1.27,
          1.35,
          0.4,
          0.87,
          1.25,
          1.36,
          1.55,
          0.8
         ],
         "yaxis": "y3"
        },
        {
         "hovertemplate": "player=CleanX<br>year=2019<br>hill time (s)=%{x}<br>k/d=%{y}<extra></extra>",
         "legendgroup": "CleanX",
         "marker": {
          "color": "#FFA15A",
          "symbol": "circle"
         },
         "mode": "markers",
         "name": "CleanX",
         "showlegend": true,
         "type": "scattergl",
         "x": [
          44,
          60,
          28,
          27,
          36,
          92,
          106,
          78,
          57,
          69
         ],
         "xaxis": "x3",
         "y": [
          1.28,
          1.71,
          0.84,
          0.5,
          1.05,
          1.15,
          2.12,
          1.67,
          1.04,
          0.89
         ],
         "yaxis": "y3"
        },
        {
         "hovertemplate": "player=detain<br>year=2019<br>hill time (s)=%{x}<br>k/d=%{y}<extra></extra>",
         "legendgroup": "detain",
         "marker": {
          "color": "#19d3f3",
          "symbol": "circle"
         },
         "mode": "markers",
         "name": "detain",
         "showlegend": true,
         "type": "scattergl",
         "x": [
          57,
          93,
          129,
          42,
          56,
          91,
          104,
          95,
          64,
          72
         ],
         "xaxis": "x3",
         "y": [
          1.38,
          0.76,
          2.36,
          0.52,
          0.68,
          1.15,
          0.9,
          1.73,
          1.19,
          0.74
         ],
         "yaxis": "y3"
        },
        {
         "hovertemplate": "player=Insight<br>year=2019<br>hill time (s)=%{x}<br>k/d=%{y}<extra></extra>",
         "legendgroup": "Insight",
         "marker": {
          "color": "#FF6692",
          "symbol": "circle"
         },
         "mode": "markers",
         "name": "Insight",
         "showlegend": true,
         "type": "scattergl",
         "x": [
          85,
          99,
          85,
          33,
          61,
          36,
          75,
          117,
          103,
          43
         ],
         "xaxis": "x3",
         "y": [
          0.75,
          1.54,
          1.54,
          0.56,
          0.75,
          0.88,
          0.82,
          1.13,
          1.6,
          0.73
         ],
         "yaxis": "y3"
        },
        {
         "hovertemplate": "player=Keza<br>year=2019<br>hill time (s)=%{x}<br>k/d=%{y}<extra></extra>",
         "legendgroup": "Keza",
         "marker": {
          "color": "#B6E880",
          "symbol": "circle"
         },
         "mode": "markers",
         "name": "Keza",
         "showlegend": true,
         "type": "scattergl",
         "x": [
          117,
          64,
          36,
          31,
          49,
          52,
          40,
          50,
          92,
          37
         ],
         "xaxis": "x3",
         "y": [
          1.13,
          1.11,
          1.26,
          0.54,
          1.06,
          0.85,
          1.06,
          0.29,
          0.45,
          0.81
         ],
         "yaxis": "y3"
        },
        {
         "hovertemplate": "player=GloFrosty<br>year=2019<br>hill time (s)=%{x}<br>k/d=%{y}<extra></extra>",
         "legendgroup": "GloFrosty",
         "marker": {
          "color": "#FF97FF",
          "symbol": "circle"
         },
         "mode": "markers",
         "name": "GloFrosty",
         "showlegend": true,
         "type": "scattergl",
         "x": [
          64,
          24,
          25,
          44,
          95
         ],
         "xaxis": "x3",
         "y": [
          0.8,
          0.54,
          0.64,
          0.94,
          1.05
         ],
         "yaxis": "y3"
        },
        {
         "hovertemplate": "player=Frosty<br>year=2019<br>hill time (s)=%{x}<br>k/d=%{y}<extra></extra>",
         "legendgroup": "Frosty",
         "marker": {
          "color": "#FECB52",
          "symbol": "circle"
         },
         "mode": "markers",
         "name": "Frosty",
         "showlegend": true,
         "type": "scattergl",
         "x": [
          70,
          85,
          72,
          48,
          85,
          67
         ],
         "xaxis": "x3",
         "y": [
          1.87,
          1.79,
          1.22,
          1.09,
          1.41,
          0.96
         ],
         "yaxis": "y3"
        },
        {
         "hovertemplate": "player=Mettalz<br>year=2019<br>hill time (s)=%{x}<br>k/d=%{y}<extra></extra>",
         "legendgroup": "Mettalz",
         "marker": {
          "color": "#636efa",
          "symbol": "circle"
         },
         "mode": "markers",
         "name": "Mettalz",
         "showlegend": true,
         "type": "scattergl",
         "x": [
          39,
          54,
          56,
          14,
          20,
          135,
          92
         ],
         "xaxis": "x3",
         "y": [
          1,
          1,
          1.33,
          0.52,
          0.67,
          0.75,
          1.11
         ],
         "yaxis": "y3"
        },
        {
         "hovertemplate": "player=Wartex<br>year=2019<br>hill time (s)=%{x}<br>k/d=%{y}<extra></extra>",
         "legendgroup": "Wartex",
         "marker": {
          "color": "#EF553B",
          "symbol": "circle"
         },
         "mode": "markers",
         "name": "Wartex",
         "showlegend": true,
         "type": "scattergl",
         "x": [
          61,
          85,
          82,
          41,
          37,
          84,
          55
         ],
         "xaxis": "x3",
         "y": [
          1.44,
          1,
          1.79,
          0.62,
          1,
          1.58,
          0.44
         ],
         "yaxis": "y3"
        },
        {
         "hovertemplate": "player=Jintroid<br>year=2019<br>hill time (s)=%{x}<br>k/d=%{y}<extra></extra>",
         "legendgroup": "Jintroid",
         "marker": {
          "color": "#00cc96",
          "symbol": "circle"
         },
         "mode": "markers",
         "name": "Jintroid",
         "showlegend": true,
         "type": "scattergl",
         "x": [
          29,
          61,
          44,
          61,
          87
         ],
         "xaxis": "x3",
         "y": [
          0.9,
          1.04,
          0.96,
          0.6,
          0.79
         ],
         "yaxis": "y3"
        },
        {
         "hovertemplate": "player=Creza<br>year=2019<br>hill time (s)=%{x}<br>k/d=%{y}<extra></extra>",
         "legendgroup": "Creza",
         "marker": {
          "color": "#ab63fa",
          "symbol": "circle"
         },
         "mode": "markers",
         "name": "Creza",
         "showlegend": true,
         "type": "scattergl",
         "x": [
          45,
          77,
          65,
          33,
          72
         ],
         "xaxis": "x3",
         "y": [
          0.44,
          0.67,
          0.53,
          0.73,
          0.95
         ],
         "yaxis": "y3"
        },
        {
         "hovertemplate": "player=Rizk<br>year=2019<br>hill time (s)=%{x}<br>k/d=%{y}<extra></extra>",
         "legendgroup": "Rizk",
         "marker": {
          "color": "#FFA15A",
          "symbol": "circle"
         },
         "mode": "markers",
         "name": "Rizk",
         "showlegend": true,
         "type": "scattergl",
         "x": [
          39,
          60,
          4,
          38,
          52
         ],
         "xaxis": "x3",
         "y": [
          0.88,
          0.88,
          0.95,
          0.61,
          1.56
         ],
         "yaxis": "y3"
        },
        {
         "hovertemplate": "player=Yako<br>year=2019<br>hill time (s)=%{x}<br>k/d=%{y}<extra></extra>",
         "legendgroup": "Yako",
         "marker": {
          "color": "#19d3f3",
          "symbol": "circle"
         },
         "mode": "markers",
         "name": "Yako",
         "showlegend": true,
         "type": "scattergl",
         "x": [
          74,
          29,
          30,
          52,
          36
         ],
         "xaxis": "x3",
         "y": [
          0.89,
          0.74,
          0.77,
          0.86,
          1.52
         ],
         "yaxis": "y3"
        },
        {
         "hovertemplate": "player=Zeeked<br>year=2019<br>hill time (s)=%{x}<br>k/d=%{y}<extra></extra>",
         "legendgroup": "Zeeked",
         "marker": {
          "color": "#FF6692",
          "symbol": "circle"
         },
         "mode": "markers",
         "name": "Zeeked",
         "showlegend": true,
         "type": "scattergl",
         "x": [
          53,
          59,
          46,
          40,
          23
         ],
         "xaxis": "x3",
         "y": [
          1.08,
          0.88,
          0.53,
          0.85,
          0.56
         ],
         "yaxis": "y3"
        },
        {
         "hovertemplate": "player=TISCH47<br>year=2019<br>hill time (s)=%{x}<br>k/d=%{y}<extra></extra>",
         "legendgroup": "TISCH47",
         "marker": {
          "color": "#B6E880",
          "symbol": "circle"
         },
         "mode": "markers",
         "name": "TISCH47",
         "showlegend": true,
         "type": "scattergl",
         "x": [
          50,
          88,
          42,
          64
         ],
         "xaxis": "x3",
         "y": [
          0.48,
          1.2,
          0.67,
          0.43
         ],
         "yaxis": "y3"
        },
        {
         "hovertemplate": "player=Turnup2ez<br>year=2019<br>hill time (s)=%{x}<br>k/d=%{y}<extra></extra>",
         "legendgroup": "Turnup2ez",
         "marker": {
          "color": "#FF97FF",
          "symbol": "circle"
         },
         "mode": "markers",
         "name": "Turnup2ez",
         "showlegend": true,
         "type": "scattergl",
         "x": [
          75,
          86,
          79,
          59
         ],
         "xaxis": "x3",
         "y": [
          1.09,
          2,
          1,
          0.65
         ],
         "yaxis": "y3"
        },
        {
         "hovertemplate": "player=Charullz<br>year=2019<br>hill time (s)=%{x}<br>k/d=%{y}<extra></extra>",
         "legendgroup": "Charullz",
         "marker": {
          "color": "#FECB52",
          "symbol": "circle"
         },
         "mode": "markers",
         "name": "Charullz",
         "showlegend": true,
         "type": "scattergl",
         "x": [
          19,
          57,
          69,
          42
         ],
         "xaxis": "x3",
         "y": [
          0.83,
          1.39,
          0.9,
          1.04
         ],
         "yaxis": "y3"
        },
        {
         "hovertemplate": "player=Destiny<br>year=2019<br>hill time (s)=%{x}<br>k/d=%{y}<extra></extra>",
         "legendgroup": "Destiny",
         "marker": {
          "color": "#636efa",
          "symbol": "circle"
         },
         "mode": "markers",
         "name": "Destiny",
         "showlegend": true,
         "type": "scattergl",
         "x": [
          25,
          48,
          16,
          75
         ],
         "xaxis": "x3",
         "y": [
          0.61,
          0.85,
          0.6,
          0.53
         ],
         "yaxis": "y3"
        },
        {
         "hovertemplate": "player=Newbz<br>year=2019<br>hill time (s)=%{x}<br>k/d=%{y}<extra></extra>",
         "legendgroup": "Newbz",
         "marker": {
          "color": "#EF553B",
          "symbol": "circle"
         },
         "mode": "markers",
         "name": "Newbz",
         "showlegend": true,
         "type": "scattergl",
         "x": [
          34,
          93,
          22,
          32
         ],
         "xaxis": "x3",
         "y": [
          0.52,
          0.83,
          0.62,
          0.71
         ],
         "yaxis": "y3"
        },
        {
         "hovertemplate": "player=Pentagrxm<br>year=2019<br>hill time (s)=%{x}<br>k/d=%{y}<extra></extra>",
         "legendgroup": "Pentagrxm",
         "marker": {
          "color": "#00cc96",
          "symbol": "circle"
         },
         "mode": "markers",
         "name": "Pentagrxm",
         "showlegend": true,
         "type": "scattergl",
         "x": [
          17,
          106,
          50,
          75
         ],
         "xaxis": "x3",
         "y": [
          0.65,
          1.21,
          0.57,
          0.86
         ],
         "yaxis": "y3"
        },
        {
         "hovertemplate": "player=Vicious<br>year=2019<br>hill time (s)=%{x}<br>k/d=%{y}<extra></extra>",
         "legendgroup": "Vicious",
         "marker": {
          "color": "#ab63fa",
          "symbol": "circle"
         },
         "mode": "markers",
         "name": "Vicious",
         "showlegend": true,
         "type": "scattergl",
         "x": [
          41,
          105,
          40,
          86
         ],
         "xaxis": "x3",
         "y": [
          0.44,
          1.42,
          1,
          1.15
         ],
         "yaxis": "y3"
        }
       ],
       "layout": {
        "annotations": [
         {
          "font": {},
          "showarrow": false,
          "text": "year=2017",
          "x": 0.15999999999999998,
          "xanchor": "center",
          "xref": "paper",
          "y": 1,
          "yanchor": "bottom",
          "yref": "paper"
         },
         {
          "font": {},
          "showarrow": false,
          "text": "year=2018",
          "x": 0.49999999999999994,
          "xanchor": "center",
          "xref": "paper",
          "y": 1,
          "yanchor": "bottom",
          "yref": "paper"
         },
         {
          "font": {},
          "showarrow": false,
          "text": "year=2019",
          "x": 0.8399999999999999,
          "xanchor": "center",
          "xref": "paper",
          "y": 1,
          "yanchor": "bottom",
          "yref": "paper"
         }
        ],
        "height": 900,
        "legend": {
         "title": {
          "text": "player"
         },
         "tracegroupgap": 0
        },
        "template": {
         "data": {
          "bar": [
           {
            "error_x": {
             "color": "#2a3f5f"
            },
            "error_y": {
             "color": "#2a3f5f"
            },
            "marker": {
             "line": {
              "color": "#E5ECF6",
              "width": 0.5
             },
             "pattern": {
              "fillmode": "overlay",
              "size": 10,
              "solidity": 0.2
             }
            },
            "type": "bar"
           }
          ],
          "barpolar": [
           {
            "marker": {
             "line": {
              "color": "#E5ECF6",
              "width": 0.5
             },
             "pattern": {
              "fillmode": "overlay",
              "size": 10,
              "solidity": 0.2
             }
            },
            "type": "barpolar"
           }
          ],
          "carpet": [
           {
            "aaxis": {
             "endlinecolor": "#2a3f5f",
             "gridcolor": "white",
             "linecolor": "white",
             "minorgridcolor": "white",
             "startlinecolor": "#2a3f5f"
            },
            "baxis": {
             "endlinecolor": "#2a3f5f",
             "gridcolor": "white",
             "linecolor": "white",
             "minorgridcolor": "white",
             "startlinecolor": "#2a3f5f"
            },
            "type": "carpet"
           }
          ],
          "choropleth": [
           {
            "colorbar": {
             "outlinewidth": 0,
             "ticks": ""
            },
            "type": "choropleth"
           }
          ],
          "contour": [
           {
            "colorbar": {
             "outlinewidth": 0,
             "ticks": ""
            },
            "colorscale": [
             [
              0,
              "#0d0887"
             ],
             [
              0.1111111111111111,
              "#46039f"
             ],
             [
              0.2222222222222222,
              "#7201a8"
             ],
             [
              0.3333333333333333,
              "#9c179e"
             ],
             [
              0.4444444444444444,
              "#bd3786"
             ],
             [
              0.5555555555555556,
              "#d8576b"
             ],
             [
              0.6666666666666666,
              "#ed7953"
             ],
             [
              0.7777777777777778,
              "#fb9f3a"
             ],
             [
              0.8888888888888888,
              "#fdca26"
             ],
             [
              1,
              "#f0f921"
             ]
            ],
            "type": "contour"
           }
          ],
          "contourcarpet": [
           {
            "colorbar": {
             "outlinewidth": 0,
             "ticks": ""
            },
            "type": "contourcarpet"
           }
          ],
          "heatmap": [
           {
            "colorbar": {
             "outlinewidth": 0,
             "ticks": ""
            },
            "colorscale": [
             [
              0,
              "#0d0887"
             ],
             [
              0.1111111111111111,
              "#46039f"
             ],
             [
              0.2222222222222222,
              "#7201a8"
             ],
             [
              0.3333333333333333,
              "#9c179e"
             ],
             [
              0.4444444444444444,
              "#bd3786"
             ],
             [
              0.5555555555555556,
              "#d8576b"
             ],
             [
              0.6666666666666666,
              "#ed7953"
             ],
             [
              0.7777777777777778,
              "#fb9f3a"
             ],
             [
              0.8888888888888888,
              "#fdca26"
             ],
             [
              1,
              "#f0f921"
             ]
            ],
            "type": "heatmap"
           }
          ],
          "heatmapgl": [
           {
            "colorbar": {
             "outlinewidth": 0,
             "ticks": ""
            },
            "colorscale": [
             [
              0,
              "#0d0887"
             ],
             [
              0.1111111111111111,
              "#46039f"
             ],
             [
              0.2222222222222222,
              "#7201a8"
             ],
             [
              0.3333333333333333,
              "#9c179e"
             ],
             [
              0.4444444444444444,
              "#bd3786"
             ],
             [
              0.5555555555555556,
              "#d8576b"
             ],
             [
              0.6666666666666666,
              "#ed7953"
             ],
             [
              0.7777777777777778,
              "#fb9f3a"
             ],
             [
              0.8888888888888888,
              "#fdca26"
             ],
             [
              1,
              "#f0f921"
             ]
            ],
            "type": "heatmapgl"
           }
          ],
          "histogram": [
           {
            "marker": {
             "pattern": {
              "fillmode": "overlay",
              "size": 10,
              "solidity": 0.2
             }
            },
            "type": "histogram"
           }
          ],
          "histogram2d": [
           {
            "colorbar": {
             "outlinewidth": 0,
             "ticks": ""
            },
            "colorscale": [
             [
              0,
              "#0d0887"
             ],
             [
              0.1111111111111111,
              "#46039f"
             ],
             [
              0.2222222222222222,
              "#7201a8"
             ],
             [
              0.3333333333333333,
              "#9c179e"
             ],
             [
              0.4444444444444444,
              "#bd3786"
             ],
             [
              0.5555555555555556,
              "#d8576b"
             ],
             [
              0.6666666666666666,
              "#ed7953"
             ],
             [
              0.7777777777777778,
              "#fb9f3a"
             ],
             [
              0.8888888888888888,
              "#fdca26"
             ],
             [
              1,
              "#f0f921"
             ]
            ],
            "type": "histogram2d"
           }
          ],
          "histogram2dcontour": [
           {
            "colorbar": {
             "outlinewidth": 0,
             "ticks": ""
            },
            "colorscale": [
             [
              0,
              "#0d0887"
             ],
             [
              0.1111111111111111,
              "#46039f"
             ],
             [
              0.2222222222222222,
              "#7201a8"
             ],
             [
              0.3333333333333333,
              "#9c179e"
             ],
             [
              0.4444444444444444,
              "#bd3786"
             ],
             [
              0.5555555555555556,
              "#d8576b"
             ],
             [
              0.6666666666666666,
              "#ed7953"
             ],
             [
              0.7777777777777778,
              "#fb9f3a"
             ],
             [
              0.8888888888888888,
              "#fdca26"
             ],
             [
              1,
              "#f0f921"
             ]
            ],
            "type": "histogram2dcontour"
           }
          ],
          "mesh3d": [
           {
            "colorbar": {
             "outlinewidth": 0,
             "ticks": ""
            },
            "type": "mesh3d"
           }
          ],
          "parcoords": [
           {
            "line": {
             "colorbar": {
              "outlinewidth": 0,
              "ticks": ""
             }
            },
            "type": "parcoords"
           }
          ],
          "pie": [
           {
            "automargin": true,
            "type": "pie"
           }
          ],
          "scatter": [
           {
            "fillpattern": {
             "fillmode": "overlay",
             "size": 10,
             "solidity": 0.2
            },
            "type": "scatter"
           }
          ],
          "scatter3d": [
           {
            "line": {
             "colorbar": {
              "outlinewidth": 0,
              "ticks": ""
             }
            },
            "marker": {
             "colorbar": {
              "outlinewidth": 0,
              "ticks": ""
             }
            },
            "type": "scatter3d"
           }
          ],
          "scattercarpet": [
           {
            "marker": {
             "colorbar": {
              "outlinewidth": 0,
              "ticks": ""
             }
            },
            "type": "scattercarpet"
           }
          ],
          "scattergeo": [
           {
            "marker": {
             "colorbar": {
              "outlinewidth": 0,
              "ticks": ""
             }
            },
            "type": "scattergeo"
           }
          ],
          "scattergl": [
           {
            "marker": {
             "colorbar": {
              "outlinewidth": 0,
              "ticks": ""
             }
            },
            "type": "scattergl"
           }
          ],
          "scattermapbox": [
           {
            "marker": {
             "colorbar": {
              "outlinewidth": 0,
              "ticks": ""
             }
            },
            "type": "scattermapbox"
           }
          ],
          "scatterpolar": [
           {
            "marker": {
             "colorbar": {
              "outlinewidth": 0,
              "ticks": ""
             }
            },
            "type": "scatterpolar"
           }
          ],
          "scatterpolargl": [
           {
            "marker": {
             "colorbar": {
              "outlinewidth": 0,
              "ticks": ""
             }
            },
            "type": "scatterpolargl"
           }
          ],
          "scatterternary": [
           {
            "marker": {
             "colorbar": {
              "outlinewidth": 0,
              "ticks": ""
             }
            },
            "type": "scatterternary"
           }
          ],
          "surface": [
           {
            "colorbar": {
             "outlinewidth": 0,
             "ticks": ""
            },
            "colorscale": [
             [
              0,
              "#0d0887"
             ],
             [
              0.1111111111111111,
              "#46039f"
             ],
             [
              0.2222222222222222,
              "#7201a8"
             ],
             [
              0.3333333333333333,
              "#9c179e"
             ],
             [
              0.4444444444444444,
              "#bd3786"
             ],
             [
              0.5555555555555556,
              "#d8576b"
             ],
             [
              0.6666666666666666,
              "#ed7953"
             ],
             [
              0.7777777777777778,
              "#fb9f3a"
             ],
             [
              0.8888888888888888,
              "#fdca26"
             ],
             [
              1,
              "#f0f921"
             ]
            ],
            "type": "surface"
           }
          ],
          "table": [
           {
            "cells": {
             "fill": {
              "color": "#EBF0F8"
             },
             "line": {
              "color": "white"
             }
            },
            "header": {
             "fill": {
              "color": "#C8D4E3"
             },
             "line": {
              "color": "white"
             }
            },
            "type": "table"
           }
          ]
         },
         "layout": {
          "annotationdefaults": {
           "arrowcolor": "#2a3f5f",
           "arrowhead": 0,
           "arrowwidth": 1
          },
          "autotypenumbers": "strict",
          "coloraxis": {
           "colorbar": {
            "outlinewidth": 0,
            "ticks": ""
           }
          },
          "colorscale": {
           "diverging": [
            [
             0,
             "#8e0152"
            ],
            [
             0.1,
             "#c51b7d"
            ],
            [
             0.2,
             "#de77ae"
            ],
            [
             0.3,
             "#f1b6da"
            ],
            [
             0.4,
             "#fde0ef"
            ],
            [
             0.5,
             "#f7f7f7"
            ],
            [
             0.6,
             "#e6f5d0"
            ],
            [
             0.7,
             "#b8e186"
            ],
            [
             0.8,
             "#7fbc41"
            ],
            [
             0.9,
             "#4d9221"
            ],
            [
             1,
             "#276419"
            ]
           ],
           "sequential": [
            [
             0,
             "#0d0887"
            ],
            [
             0.1111111111111111,
             "#46039f"
            ],
            [
             0.2222222222222222,
             "#7201a8"
            ],
            [
             0.3333333333333333,
             "#9c179e"
            ],
            [
             0.4444444444444444,
             "#bd3786"
            ],
            [
             0.5555555555555556,
             "#d8576b"
            ],
            [
             0.6666666666666666,
             "#ed7953"
            ],
            [
             0.7777777777777778,
             "#fb9f3a"
            ],
            [
             0.8888888888888888,
             "#fdca26"
            ],
            [
             1,
             "#f0f921"
            ]
           ],
           "sequentialminus": [
            [
             0,
             "#0d0887"
            ],
            [
             0.1111111111111111,
             "#46039f"
            ],
            [
             0.2222222222222222,
             "#7201a8"
            ],
            [
             0.3333333333333333,
             "#9c179e"
            ],
            [
             0.4444444444444444,
             "#bd3786"
            ],
            [
             0.5555555555555556,
             "#d8576b"
            ],
            [
             0.6666666666666666,
             "#ed7953"
            ],
            [
             0.7777777777777778,
             "#fb9f3a"
            ],
            [
             0.8888888888888888,
             "#fdca26"
            ],
            [
             1,
             "#f0f921"
            ]
           ]
          },
          "colorway": [
           "#636efa",
           "#EF553B",
           "#00cc96",
           "#ab63fa",
           "#FFA15A",
           "#19d3f3",
           "#FF6692",
           "#B6E880",
           "#FF97FF",
           "#FECB52"
          ],
          "font": {
           "color": "#2a3f5f"
          },
          "geo": {
           "bgcolor": "white",
           "lakecolor": "white",
           "landcolor": "#E5ECF6",
           "showlakes": true,
           "showland": true,
           "subunitcolor": "white"
          },
          "hoverlabel": {
           "align": "left"
          },
          "hovermode": "closest",
          "mapbox": {
           "style": "light"
          },
          "paper_bgcolor": "white",
          "plot_bgcolor": "#E5ECF6",
          "polar": {
           "angularaxis": {
            "gridcolor": "white",
            "linecolor": "white",
            "ticks": ""
           },
           "bgcolor": "#E5ECF6",
           "radialaxis": {
            "gridcolor": "white",
            "linecolor": "white",
            "ticks": ""
           }
          },
          "scene": {
           "xaxis": {
            "backgroundcolor": "#E5ECF6",
            "gridcolor": "white",
            "gridwidth": 2,
            "linecolor": "white",
            "showbackground": true,
            "ticks": "",
            "zerolinecolor": "white"
           },
           "yaxis": {
            "backgroundcolor": "#E5ECF6",
            "gridcolor": "white",
            "gridwidth": 2,
            "linecolor": "white",
            "showbackground": true,
            "ticks": "",
            "zerolinecolor": "white"
           },
           "zaxis": {
            "backgroundcolor": "#E5ECF6",
            "gridcolor": "white",
            "gridwidth": 2,
            "linecolor": "white",
            "showbackground": true,
            "ticks": "",
            "zerolinecolor": "white"
           }
          },
          "shapedefaults": {
           "line": {
            "color": "#2a3f5f"
           }
          },
          "ternary": {
           "aaxis": {
            "gridcolor": "white",
            "linecolor": "white",
            "ticks": ""
           },
           "baxis": {
            "gridcolor": "white",
            "linecolor": "white",
            "ticks": ""
           },
           "bgcolor": "#E5ECF6",
           "caxis": {
            "gridcolor": "white",
            "linecolor": "white",
            "ticks": ""
           }
          },
          "title": {
           "x": 0.05
          },
          "xaxis": {
           "automargin": true,
           "gridcolor": "white",
           "linecolor": "white",
           "ticks": "",
           "title": {
            "standoff": 15
           },
           "zerolinecolor": "white",
           "zerolinewidth": 2
          },
          "yaxis": {
           "automargin": true,
           "gridcolor": "white",
           "linecolor": "white",
           "ticks": "",
           "title": {
            "standoff": 15
           },
           "zerolinecolor": "white",
           "zerolinewidth": 2
          }
         }
        },
        "title": {
         "text": "Hardpoint: k/d vs Hill time (s)"
        },
        "xaxis": {
         "anchor": "y",
         "domain": [
          0,
          0.31999999999999995
         ],
         "title": {
          "text": "hill time (s)"
         }
        },
        "xaxis2": {
         "anchor": "y2",
         "domain": [
          0.33999999999999997,
          0.6599999999999999
         ],
         "matches": "x",
         "title": {
          "text": "hill time (s)"
         }
        },
        "xaxis3": {
         "anchor": "y3",
         "domain": [
          0.6799999999999999,
          0.9999999999999999
         ],
         "matches": "x",
         "title": {
          "text": "hill time (s)"
         }
        },
        "yaxis": {
         "anchor": "x",
         "domain": [
          0,
          1
         ],
         "title": {
          "text": "k/d"
         }
        },
        "yaxis2": {
         "anchor": "x2",
         "domain": [
          0,
          1
         ],
         "matches": "y",
         "showticklabels": false
        },
        "yaxis3": {
         "anchor": "x3",
         "domain": [
          0,
          1
         ],
         "matches": "y",
         "showticklabels": false
        }
       }
      }
     },
     "metadata": {},
     "output_type": "display_data"
    }
   ],
   "source": [
    "px.scatter(\n",
    "    hardpoint_df,\n",
    "    x = 'hill time (s)',\n",
    "    y = 'k/d',\n",
    "    facet_col= 'year',\n",
    "    color='player',\n",
    "    height = 900, \n",
    "    title = \"Hardpoint: k/d vs Hill time (s)\"\n",
    ")"
   ]
  },
  {
   "cell_type": "code",
   "execution_count": 15,
   "metadata": {},
   "outputs": [
    {
     "data": {
      "text/html": [
       "<div>\n",
       "<style scoped>\n",
       "    .dataframe tbody tr th:only-of-type {\n",
       "        vertical-align: middle;\n",
       "    }\n",
       "\n",
       "    .dataframe tbody tr th {\n",
       "        vertical-align: top;\n",
       "    }\n",
       "\n",
       "    .dataframe thead th {\n",
       "        text-align: right;\n",
       "    }\n",
       "</style>\n",
       "<table border=\"1\" class=\"dataframe\">\n",
       "  <thead>\n",
       "    <tr style=\"text-align: right;\">\n",
       "      <th></th>\n",
       "      <th>win?</th>\n",
       "      <th>3-piece</th>\n",
       "      <th>duration (s)</th>\n",
       "      <th>team</th>\n",
       "      <th>fave scorestreaks</th>\n",
       "      <th>+/-</th>\n",
       "      <th>bomb plants</th>\n",
       "      <th>mode</th>\n",
       "      <th>hill time (s)</th>\n",
       "      <th>accuracy (%)</th>\n",
       "      <th>hill defends</th>\n",
       "      <th>snd rounds</th>\n",
       "      <th>k/d</th>\n",
       "      <th>map</th>\n",
       "      <th>snd firstbloods</th>\n",
       "      <th>5-streak</th>\n",
       "      <th>4-piece</th>\n",
       "      <th>suicides</th>\n",
       "      <th>shots</th>\n",
       "      <th>bomb sneak defuses</th>\n",
       "      <th>deaths per 10min</th>\n",
       "      <th>4-streak</th>\n",
       "      <th>headshots</th>\n",
       "      <th>6-streak</th>\n",
       "      <th>deaths</th>\n",
       "      <th>series id</th>\n",
       "      <th>bomb pickups</th>\n",
       "      <th>7-streak</th>\n",
       "      <th>kills per 10min</th>\n",
       "      <th>year</th>\n",
       "      <th>hill captures</th>\n",
       "      <th>kills</th>\n",
       "      <th>team kills</th>\n",
       "      <th>bomb defuses</th>\n",
       "      <th>2-piece</th>\n",
       "      <th>hits</th>\n",
       "      <th>match id</th>\n",
       "      <th>player</th>\n",
       "      <th>assists</th>\n",
       "      <th>fave weapon</th>\n",
       "      <th>8+-streak</th>\n",
       "      <th>end time</th>\n",
       "      <th>score</th>\n",
       "    </tr>\n",
       "  </thead>\n",
       "  <tbody>\n",
       "    <tr>\n",
       "      <th>32</th>\n",
       "      <td>L</td>\n",
       "      <td>0</td>\n",
       "      <td>444.0</td>\n",
       "      <td>3sUp</td>\n",
       "      <td>Scarab, Trinity Rocket, Bombardment</td>\n",
       "      <td>-4</td>\n",
       "      <td>0</td>\n",
       "      <td>Search &amp; Destroy</td>\n",
       "      <td>0</td>\n",
       "      <td>14.4%</td>\n",
       "      <td>0</td>\n",
       "      <td>8</td>\n",
       "      <td>0.50</td>\n",
       "      <td>Throwback</td>\n",
       "      <td>2</td>\n",
       "      <td>0</td>\n",
       "      <td>0</td>\n",
       "      <td>0</td>\n",
       "      <td>111</td>\n",
       "      <td>0</td>\n",
       "      <td>10.8</td>\n",
       "      <td>0</td>\n",
       "      <td>1</td>\n",
       "      <td>0</td>\n",
       "      <td>8</td>\n",
       "      <td>champs-pool-A-2</td>\n",
       "      <td>0</td>\n",
       "      <td>0</td>\n",
       "      <td>5.4</td>\n",
       "      <td>2017</td>\n",
       "      <td>0</td>\n",
       "      <td>4</td>\n",
       "      <td>0</td>\n",
       "      <td>0</td>\n",
       "      <td>0</td>\n",
       "      <td>16</td>\n",
       "      <td>4061ACB6-111A-11D3-3BCD-00D9D1A0B6BB</td>\n",
       "      <td>Colechan</td>\n",
       "      <td>0</td>\n",
       "      <td>KBS Longbow</td>\n",
       "      <td>0</td>\n",
       "      <td>2017-08-09 14:25:42 UTC</td>\n",
       "      <td>2</td>\n",
       "    </tr>\n",
       "    <tr>\n",
       "      <th>33</th>\n",
       "      <td>L</td>\n",
       "      <td>0</td>\n",
       "      <td>444.0</td>\n",
       "      <td>3sUp</td>\n",
       "      <td>Scarab, Trinity Rocket, Bombardment</td>\n",
       "      <td>-1</td>\n",
       "      <td>1</td>\n",
       "      <td>Search &amp; Destroy</td>\n",
       "      <td>0</td>\n",
       "      <td>21.8%</td>\n",
       "      <td>0</td>\n",
       "      <td>8</td>\n",
       "      <td>0.86</td>\n",
       "      <td>Throwback</td>\n",
       "      <td>0</td>\n",
       "      <td>0</td>\n",
       "      <td>0</td>\n",
       "      <td>0</td>\n",
       "      <td>142</td>\n",
       "      <td>0</td>\n",
       "      <td>9.5</td>\n",
       "      <td>0</td>\n",
       "      <td>1</td>\n",
       "      <td>0</td>\n",
       "      <td>7</td>\n",
       "      <td>champs-pool-A-2</td>\n",
       "      <td>4</td>\n",
       "      <td>0</td>\n",
       "      <td>8.1</td>\n",
       "      <td>2017</td>\n",
       "      <td>0</td>\n",
       "      <td>6</td>\n",
       "      <td>0</td>\n",
       "      <td>0</td>\n",
       "      <td>1</td>\n",
       "      <td>31</td>\n",
       "      <td>4061ACB6-111A-11D3-3BCD-00D9D1A0B6BB</td>\n",
       "      <td>DraMa</td>\n",
       "      <td>2</td>\n",
       "      <td>KBAR-32</td>\n",
       "      <td>0</td>\n",
       "      <td>2017-08-09 14:25:42 UTC</td>\n",
       "      <td>2</td>\n",
       "    </tr>\n",
       "    <tr>\n",
       "      <th>34</th>\n",
       "      <td>L</td>\n",
       "      <td>0</td>\n",
       "      <td>444.0</td>\n",
       "      <td>3sUp</td>\n",
       "      <td>Scarab, Trinity Rocket, Bombardment</td>\n",
       "      <td>-1</td>\n",
       "      <td>0</td>\n",
       "      <td>Search &amp; Destroy</td>\n",
       "      <td>0</td>\n",
       "      <td>17.1%</td>\n",
       "      <td>0</td>\n",
       "      <td>8</td>\n",
       "      <td>0.83</td>\n",
       "      <td>Throwback</td>\n",
       "      <td>1</td>\n",
       "      <td>0</td>\n",
       "      <td>0</td>\n",
       "      <td>0</td>\n",
       "      <td>211</td>\n",
       "      <td>0</td>\n",
       "      <td>8.1</td>\n",
       "      <td>0</td>\n",
       "      <td>1</td>\n",
       "      <td>0</td>\n",
       "      <td>6</td>\n",
       "      <td>champs-pool-A-2</td>\n",
       "      <td>0</td>\n",
       "      <td>0</td>\n",
       "      <td>6.8</td>\n",
       "      <td>2017</td>\n",
       "      <td>0</td>\n",
       "      <td>5</td>\n",
       "      <td>0</td>\n",
       "      <td>0</td>\n",
       "      <td>0</td>\n",
       "      <td>36</td>\n",
       "      <td>4061ACB6-111A-11D3-3BCD-00D9D1A0B6BB</td>\n",
       "      <td>Mochila</td>\n",
       "      <td>1</td>\n",
       "      <td>NV4</td>\n",
       "      <td>0</td>\n",
       "      <td>2017-08-09 14:25:42 UTC</td>\n",
       "      <td>2</td>\n",
       "    </tr>\n",
       "    <tr>\n",
       "      <th>35</th>\n",
       "      <td>L</td>\n",
       "      <td>0</td>\n",
       "      <td>444.0</td>\n",
       "      <td>3sUp</td>\n",
       "      <td>Scarab, Trinity Rocket, Bombardment</td>\n",
       "      <td>-3</td>\n",
       "      <td>0</td>\n",
       "      <td>Search &amp; Destroy</td>\n",
       "      <td>0</td>\n",
       "      <td>28.4%</td>\n",
       "      <td>0</td>\n",
       "      <td>8</td>\n",
       "      <td>0.62</td>\n",
       "      <td>Throwback</td>\n",
       "      <td>1</td>\n",
       "      <td>0</td>\n",
       "      <td>0</td>\n",
       "      <td>0</td>\n",
       "      <td>102</td>\n",
       "      <td>0</td>\n",
       "      <td>10.8</td>\n",
       "      <td>0</td>\n",
       "      <td>0</td>\n",
       "      <td>0</td>\n",
       "      <td>8</td>\n",
       "      <td>champs-pool-A-2</td>\n",
       "      <td>0</td>\n",
       "      <td>0</td>\n",
       "      <td>6.8</td>\n",
       "      <td>2017</td>\n",
       "      <td>0</td>\n",
       "      <td>5</td>\n",
       "      <td>0</td>\n",
       "      <td>0</td>\n",
       "      <td>1</td>\n",
       "      <td>29</td>\n",
       "      <td>4061ACB6-111A-11D3-3BCD-00D9D1A0B6BB</td>\n",
       "      <td>Swarley</td>\n",
       "      <td>0</td>\n",
       "      <td>KBAR-32</td>\n",
       "      <td>0</td>\n",
       "      <td>2017-08-09 14:25:42 UTC</td>\n",
       "      <td>2</td>\n",
       "    </tr>\n",
       "    <tr>\n",
       "      <th>36</th>\n",
       "      <td>W</td>\n",
       "      <td>0</td>\n",
       "      <td>444.0</td>\n",
       "      <td>OpTic Gaming</td>\n",
       "      <td>Scarab, Trinity Rocket, Bombardment</td>\n",
       "      <td>+2</td>\n",
       "      <td>0</td>\n",
       "      <td>Search &amp; Destroy</td>\n",
       "      <td>0</td>\n",
       "      <td>27.9%</td>\n",
       "      <td>0</td>\n",
       "      <td>8</td>\n",
       "      <td>1.40</td>\n",
       "      <td>Throwback</td>\n",
       "      <td>1</td>\n",
       "      <td>0</td>\n",
       "      <td>0</td>\n",
       "      <td>0</td>\n",
       "      <td>111</td>\n",
       "      <td>0</td>\n",
       "      <td>6.8</td>\n",
       "      <td>1</td>\n",
       "      <td>0</td>\n",
       "      <td>0</td>\n",
       "      <td>5</td>\n",
       "      <td>champs-pool-A-2</td>\n",
       "      <td>0</td>\n",
       "      <td>0</td>\n",
       "      <td>9.5</td>\n",
       "      <td>2017</td>\n",
       "      <td>0</td>\n",
       "      <td>7</td>\n",
       "      <td>0</td>\n",
       "      <td>0</td>\n",
       "      <td>2</td>\n",
       "      <td>31</td>\n",
       "      <td>4061ACB6-111A-11D3-3BCD-00D9D1A0B6BB</td>\n",
       "      <td>Crimsix</td>\n",
       "      <td>3</td>\n",
       "      <td>Erad</td>\n",
       "      <td>0</td>\n",
       "      <td>2017-08-09 14:25:42 UTC</td>\n",
       "      <td>6</td>\n",
       "    </tr>\n",
       "  </tbody>\n",
       "</table>\n",
       "</div>"
      ],
      "text/plain": [
       "   win? 3-piece duration (s)          team  \\\n",
       "32    L       0        444.0          3sUp   \n",
       "33    L       0        444.0          3sUp   \n",
       "34    L       0        444.0          3sUp   \n",
       "35    L       0        444.0          3sUp   \n",
       "36    W       0        444.0  OpTic Gaming   \n",
       "\n",
       "                      fave scorestreaks +/- bomb plants              mode  \\\n",
       "32  Scarab, Trinity Rocket, Bombardment  -4           0  Search & Destroy   \n",
       "33  Scarab, Trinity Rocket, Bombardment  -1           1  Search & Destroy   \n",
       "34  Scarab, Trinity Rocket, Bombardment  -1           0  Search & Destroy   \n",
       "35  Scarab, Trinity Rocket, Bombardment  -3           0  Search & Destroy   \n",
       "36  Scarab, Trinity Rocket, Bombardment  +2           0  Search & Destroy   \n",
       "\n",
       "   hill time (s) accuracy (%) hill defends snd rounds   k/d        map  \\\n",
       "32             0        14.4%            0          8  0.50  Throwback   \n",
       "33             0        21.8%            0          8  0.86  Throwback   \n",
       "34             0        17.1%            0          8  0.83  Throwback   \n",
       "35             0        28.4%            0          8  0.62  Throwback   \n",
       "36             0        27.9%            0          8  1.40  Throwback   \n",
       "\n",
       "   snd firstbloods 5-streak 4-piece suicides shots bomb sneak defuses  \\\n",
       "32               2        0       0        0   111                  0   \n",
       "33               0        0       0        0   142                  0   \n",
       "34               1        0       0        0   211                  0   \n",
       "35               1        0       0        0   102                  0   \n",
       "36               1        0       0        0   111                  0   \n",
       "\n",
       "   deaths per 10min 4-streak headshots 6-streak deaths        series id  \\\n",
       "32             10.8        0         1        0      8  champs-pool-A-2   \n",
       "33              9.5        0         1        0      7  champs-pool-A-2   \n",
       "34              8.1        0         1        0      6  champs-pool-A-2   \n",
       "35             10.8        0         0        0      8  champs-pool-A-2   \n",
       "36              6.8        1         0        0      5  champs-pool-A-2   \n",
       "\n",
       "   bomb pickups 7-streak kills per 10min  year hill captures kills team kills  \\\n",
       "32            0        0             5.4  2017             0     4          0   \n",
       "33            4        0             8.1  2017             0     6          0   \n",
       "34            0        0             6.8  2017             0     5          0   \n",
       "35            0        0             6.8  2017             0     5          0   \n",
       "36            0        0             9.5  2017             0     7          0   \n",
       "\n",
       "   bomb defuses 2-piece hits                              match id    player  \\\n",
       "32            0       0   16  4061ACB6-111A-11D3-3BCD-00D9D1A0B6BB  Colechan   \n",
       "33            0       1   31  4061ACB6-111A-11D3-3BCD-00D9D1A0B6BB     DraMa   \n",
       "34            0       0   36  4061ACB6-111A-11D3-3BCD-00D9D1A0B6BB   Mochila   \n",
       "35            0       1   29  4061ACB6-111A-11D3-3BCD-00D9D1A0B6BB   Swarley   \n",
       "36            0       2   31  4061ACB6-111A-11D3-3BCD-00D9D1A0B6BB   Crimsix   \n",
       "\n",
       "   assists  fave weapon 8+-streak                 end time score  \n",
       "32       0  KBS Longbow         0  2017-08-09 14:25:42 UTC     2  \n",
       "33       2      KBAR-32         0  2017-08-09 14:25:42 UTC     2  \n",
       "34       1          NV4         0  2017-08-09 14:25:42 UTC     2  \n",
       "35       0      KBAR-32         0  2017-08-09 14:25:42 UTC     2  \n",
       "36       3         Erad         0  2017-08-09 14:25:42 UTC     6  "
      ]
     },
     "execution_count": 15,
     "metadata": {},
     "output_type": "execute_result"
    }
   ],
   "source": [
    "snd_df = champs_df.loc[champs_df['mode'] == 'Search & Destroy']\n",
    "snd_df.head()"
   ]
  },
  {
   "cell_type": "code",
   "execution_count": null,
   "metadata": {},
   "outputs": [],
   "source": []
  }
 ],
 "metadata": {
  "interpreter": {
   "hash": "388c027497905a7d9f640591e90f6a65c5dac9160c11ce636ddefa0e687d7dc0"
  },
  "kernelspec": {
   "display_name": "Python 3.10.6 ('venv': venv)",
   "language": "python",
   "name": "python3"
  },
  "language_info": {
   "codemirror_mode": {
    "name": "ipython",
    "version": 3
   },
   "file_extension": ".py",
   "mimetype": "text/x-python",
   "name": "python",
   "nbconvert_exporter": "python",
   "pygments_lexer": "ipython3",
   "version": "3.10.6"
  },
  "orig_nbformat": 4
 },
 "nbformat": 4,
 "nbformat_minor": 2
}
